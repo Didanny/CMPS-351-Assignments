{
 "cells": [
  {
   "cell_type": "markdown",
   "metadata": {},
   "source": [
    "Danny Abraham\n",
    "<center><h1>CMPS 351</h1></center>\n",
    "<center><h2>Assignment 3</h2></center>"
   ]
  },
  {
   "cell_type": "code",
   "execution_count": 1,
   "metadata": {},
   "outputs": [],
   "source": [
    "import numpy as np\n",
    "from numpy import linalg as la\n",
    "import matplotlib.pyplot as plt"
   ]
  },
  {
   "cell_type": "markdown",
   "metadata": {},
   "source": [
    "## Minimal Surface\n",
    "---\n",
    "#### Surface Area"
   ]
  },
  {
   "cell_type": "code",
   "execution_count": 2,
   "metadata": {},
   "outputs": [],
   "source": [
    "def surface_area(x, n = 20, r0 = 1, l = 0.75):\n",
    "    # compute the distance between radii h\n",
    "    h = l / (n + 1)\n",
    "    \n",
    "    # initialize the vectors used\n",
    "    a = np.append(x, r0)\n",
    "    b = np.append(r0, x)\n",
    "    c = np.append(x[0], x)\n",
    "    \n",
    "    f = 2*np.pi*h*c*(1 + ((a - b) / h)**2)**0.5\n",
    "    return np.sum(f)"
   ]
  },
  {
   "cell_type": "markdown",
   "metadata": {},
   "source": [
    "#### Gradient"
   ]
  },
  {
   "cell_type": "code",
   "execution_count": 3,
   "metadata": {},
   "outputs": [],
   "source": [
    "def surface_area_gradient(x, n = 20, r0 = 1, l = 0.75):\n",
    "    # compute the distance between radii h\n",
    "    h = l / (n + 1)\n",
    "    \n",
    "    # initialize the vectors used\n",
    "    a = np.append(r0, x[:-1])\n",
    "    c = np.append(x[1:], r0)\n",
    "    \n",
    "    t1 = 2*np.pi*h*a*( ((x - a) / h**2) / ((1 + ((x - a) / h)**2)**0.5) )\n",
    "    t2 = 2*np.pi*h*((1 + ((c - x) / h)**2)**0.5)\n",
    "    t3 = 2*np.pi*h*x*( ((c - x) / h**2) / ((1 + ((c - x) / h)**2)**0.5) )\n",
    "    \n",
    "    t = t1 + t2 - t3\n",
    "    t[0] += 2*h*np.pi*((r0 - x[0])**2/h**2 + 1)**(1/2)\n",
    "    return t"
   ]
  },
  {
   "cell_type": "markdown",
   "metadata": {},
   "source": [
    "#### Hessian"
   ]
  },
  {
   "cell_type": "code",
   "execution_count": 4,
   "metadata": {},
   "outputs": [],
   "source": [
    "def tridiag(a, b, c, k1 = -1, k2 = 0, k3 = 1):\n",
    "    return np.diag(b, k2) + np.diag(a, k1) + np.diag(c, k3)"
   ]
  },
  {
   "cell_type": "code",
   "execution_count": 5,
   "metadata": {},
   "outputs": [],
   "source": [
    "def surface_area_hessian(x, n = 20, r0 = 1, l = 0.75):\n",
    "    # compute the distance between radii h\n",
    "    h = l / (n + 1)\n",
    "    \n",
    "    # initialize the vectors used\n",
    "    k = np.append(x[0],x[0:-1])\n",
    "    y = np.append(x[1:],r0)\n",
    "    z = np.append(r0,x[0:-1])\n",
    "    \n",
    "    diag  = 4*np.pi*(x - y)/(h*(((x-y)/h)**2+1)**0.5)\n",
    "    diag += 2*np.pi*k/(h*(((z-x)/h)**2+1)**0.5)\n",
    "    diag += 2*np.pi*x/(h*(((x-y)/h)**2+1)**0.5)\n",
    "    diag -= 2*np.pi*k*(z-x)**2/(h**3*(((z-x)/h)**2+1)**1.5)\n",
    "    diag -= 2*np.pi*x*(x-y)**2/(h**3*(((x-y)/h)**2+1)**1.5)\n",
    "    diag[0] += 4*np.pi*(x[0]-r0)/(h*(1+((x[0]-r0)/h)**2)**0.5)\n",
    "    \n",
    "    temp = 2*np.pi*x[0:-1]*(x[0:-1]-y[0:-1])**2/(h**3*(((x[0:-1]-y[0:-1])/h)**2+1)**1.5)\n",
    "    temp -= 2*np.pi*x[0:-1]/(h*(((x[0:-1]-y[0:-1])/h)**2+1)**0.5)\n",
    "    temp += 2*np.pi*(y[0:-1]-x[0:-1])/(h*(((x[0:-1]-y[0:-1])/h)**2+1)**0.5)\n",
    "    \n",
    "    hess = tridiag(temp, diag, temp)\n",
    "    return hess"
   ]
  },
  {
   "cell_type": "markdown",
   "metadata": {},
   "source": [
    "####  Backtrack Line Search"
   ]
  },
  {
   "cell_type": "code",
   "execution_count": 6,
   "metadata": {},
   "outputs": [],
   "source": [
    "def backtrack_linesearch(f, gk, pk, xk, alpha = 0.01, beta = 0.6):\n",
    "    t = 1\n",
    "    while ( f(xk + t*pk) > f(xk) + alpha*t*gk@pk):\n",
    "        t *= beta\n",
    "    return t"
   ]
  },
  {
   "cell_type": "markdown",
   "metadata": {},
   "source": [
    "#### Newton Backtrack"
   ]
  },
  {
   "cell_type": "code",
   "execution_count": 7,
   "metadata": {},
   "outputs": [],
   "source": [
    "def newton_backtrack(f, grad, hess, x0, tol = 1e-5):\n",
    "    x = x0\n",
    "    history = np.array([x0])\n",
    "    while (la.norm(grad(x)) > tol):\n",
    "        #print(la.norm(grad(x)))\n",
    "        p = la.solve(hess(x), -grad(x))\n",
    "        t = backtrack_linesearch(f, grad(x), p, x)\n",
    "        x += t * p\n",
    "        history = np.vstack((history, x))\n",
    "    return x, history"
   ]
  },
  {
   "cell_type": "markdown",
   "metadata": {},
   "source": [
    "#### Plotting the Performance"
   ]
  },
  {
   "cell_type": "code",
   "execution_count": 8,
   "metadata": {},
   "outputs": [],
   "source": [
    "x0 = np.ones(20)\n",
    "xstar, history = newton_backtrack(surface_area, \n",
    "                                  surface_area_gradient, \n",
    "                                  surface_area_hessian, \n",
    "                                  x0)"
   ]
  },
  {
   "cell_type": "code",
   "execution_count": 9,
   "metadata": {},
   "outputs": [
    {
     "data": {
      "image/png": "[encoded data removed]",
      "text/plain": [
       "<Figure size 432x288 with 1 Axes>"
      ]
     },
     "metadata": {},
     "output_type": "display_data"
    }
   ],
   "source": [
    "nsteps = history.shape[0]\n",
    "fhist = np.zeros(nsteps)\n",
    "fstar = surface_area(xstar)\n",
    "\n",
    "for i in range(nsteps):\n",
    "    fhist[i] = surface_area(history[i,:])\n",
    "    \n",
    "plt.figure()\n",
    "plt.autoscale(enable=True, axis='x', tight=True)\n",
    "plt.semilogy(np.arange(0, nsteps), abs(fhist - fstar), linewidth=1)\n",
    "plt.xlabel('Iterations')\n",
    "plt.ylabel(r'$|f^k - f^|$')\n",
    "plt.show()"
   ]
  },
  {
   "cell_type": "markdown",
   "metadata": {},
   "source": [
    "## Gauss-Newton\n",
    "---\n",
    "#### Visualizing the distribution"
   ]
  },
  {
   "cell_type": "code",
   "execution_count": 10,
   "metadata": {},
   "outputs": [
    {
     "data": {
      "image/png": "[encoded data removed]",
      "text/plain": [
       "<Figure size 432x288 with 1 Axes>"
      ]
     },
     "metadata": {},
     "output_type": "display_data"
    }
   ],
   "source": [
    "m = 200\n",
    "t = np.linspace(0, np.pi / 2, m)\n",
    "p = lambda t: 0.8*np.sin(2*np.pi*1.15*t) + 1.2*np.sin(2*np.pi*0.9*t)\n",
    "noise = 0.2*np.random.uniform(-0.5, 0.5, m)\n",
    "y= p(t) + noise\n",
    "plt.scatter(t, y, s = 3)\n",
    "plt.title('Synthetic data set with noise')\n",
    "plt.show()"
   ]
  },
  {
   "cell_type": "markdown",
   "metadata": {},
   "source": [
    "#### Phi function"
   ]
  },
  {
   "cell_type": "code",
   "execution_count": 11,
   "metadata": {},
   "outputs": [],
   "source": [
    "def phi(a, t):\n",
    "    f = a[0]*np.sin(2*np.pi*a[1]*t) + a[2]*np.sin(2*np.pi*a[3]*t)\n",
    "    return f"
   ]
  },
  {
   "cell_type": "markdown",
   "metadata": {},
   "source": [
    "#### Residual function"
   ]
  },
  {
   "cell_type": "code",
   "execution_count": 12,
   "metadata": {},
   "outputs": [],
   "source": [
    "def residual_function(a, t, y):\n",
    "    o = phi(a, t) - y\n",
    "    return o"
   ]
  },
  {
   "cell_type": "markdown",
   "metadata": {},
   "source": [
    "#### Sum of Squares"
   ]
  },
  {
   "cell_type": "code",
   "execution_count": 13,
   "metadata": {},
   "outputs": [],
   "source": [
    "def sum_squares(a, t, y):\n",
    "    r = residual_function(a, t, y)\n",
    "    return 0.5*r@r"
   ]
  },
  {
   "cell_type": "markdown",
   "metadata": {},
   "source": [
    "#### Jacobian of Objective function"
   ]
  },
  {
   "cell_type": "code",
   "execution_count": 14,
   "metadata": {},
   "outputs": [],
   "source": [
    "def obj_jacobian(a, t):\n",
    "    v1 = np.sin(2*np.pi*a[1]*t)\n",
    "    v2 = 2*np.pi*t*a[0]*np.cos(2*np.pi*a[1]*t)\n",
    "    v3 = np.sin(2*np.pi*a[3]*t)\n",
    "    v4 = 2*np.pi*t*a[2]*np.cos(2*np.pi*a[3]*t)   \n",
    "    return np.array([v1, v2, v3, v4]).transpose()"
   ]
  },
  {
   "cell_type": "markdown",
   "metadata": {},
   "source": [
    "#### Gradient of Objective function"
   ]
  },
  {
   "cell_type": "code",
   "execution_count": 15,
   "metadata": {},
   "outputs": [],
   "source": [
    "def obj_gradient(a, t, y):\n",
    "    return np.dot(obj_jacobian(a, t).transpose(), residual_function(a, t, y))"
   ]
  },
  {
   "cell_type": "markdown",
   "metadata": {},
   "source": [
    "#### Hessian Approximation\n",
    "Newton Gauss approximation of Hessian"
   ]
  },
  {
   "cell_type": "code",
   "execution_count": 16,
   "metadata": {},
   "outputs": [],
   "source": [
    "def hessian_approx(a, t):\n",
    "    return np.dot(obj_jacobian(a, t).transpose(), obj_jacobian(a,t))"
   ]
  },
  {
   "cell_type": "markdown",
   "metadata": {},
   "source": [
    "#### Backrack Line Search"
   ]
  },
  {
   "cell_type": "code",
   "execution_count": 17,
   "metadata": {},
   "outputs": [],
   "source": [
    "def backtrack_linesearch(f, gk, pk, xk, t, y, alpha = 0.01, beta = 0.6):\n",
    "    t2 = 1\n",
    "    while ( f(xk + t2*pk, t, y) > f(xk, t, y) + alpha*t2*gk@pk):\n",
    "        t2 *= beta\n",
    "    return t2"
   ]
  },
  {
   "cell_type": "markdown",
   "metadata": {},
   "source": [
    "#### Newton Backtrack"
   ]
  },
  {
   "cell_type": "code",
   "execution_count": 18,
   "metadata": {},
   "outputs": [],
   "source": [
    "def newton_backtrack(f, grad, hess, a0, t, y, tol = 1e-5):\n",
    "    a = a0\n",
    "    history = np.array([a0])\n",
    "    while (la.norm(grad(a, t, y)) > tol):\n",
    "        p = la.solve(hess(a, t), -grad(a, t, y))\n",
    "        t2 = backtrack_linesearch(f, grad(a, t, y), p, a, t, y)\n",
    "        a += t2 * p\n",
    "        history = np.vstack((history, a))\n",
    "    return a, history"
   ]
  },
  {
   "cell_type": "markdown",
   "metadata": {},
   "source": [
    "#### Plotting the Performance"
   ]
  },
  {
   "cell_type": "code",
   "execution_count": 19,
   "metadata": {
    "scrolled": true
   },
   "outputs": [],
   "source": [
    "a0 = np.array([1.1, 0.9, 0.9, 1.1])\n",
    "astar, history = newton_backtrack(sum_squares,\n",
    "                                  obj_gradient,\n",
    "                                  hessian_approx,\n",
    "                                  a0,\n",
    "                                  t, \n",
    "                                  y)"
   ]
  },
  {
   "cell_type": "code",
   "execution_count": 20,
   "metadata": {},
   "outputs": [
    {
     "data": {
      "image/png": "[encoded data removed]",
      "text/plain": [
       "<Figure size 432x288 with 1 Axes>"
      ]
     },
     "metadata": {},
     "output_type": "display_data"
    }
   ],
   "source": [
    "nsteps = history.shape[0]\n",
    "fhist = np.zeros(nsteps)\n",
    "fstar = sum_squares(astar, t, y)\n",
    "\n",
    "for i in range(nsteps):\n",
    "    fhist[i] = sum_squares(history[i,:], t, y)\n",
    "    #print(fhist[i])\n",
    "    \n",
    "plt.figure()\n",
    "plt.autoscale(enable=True, axis='x', tight=True)\n",
    "plt.semilogy(np.arange(0, nsteps), abs(fhist - fstar), linewidth=1)\n",
    "plt.xlabel('Iterations')\n",
    "plt.ylabel(r'$|f^k - f^|$')\n",
    "plt.show()"
   ]
  },
  {
   "cell_type": "code",
   "execution_count": 21,
   "metadata": {},
   "outputs": [
    {
     "data": {
      "image/png": "[encoded data removed]",
      "text/plain": [
       "<Figure size 432x288 with 1 Axes>"
      ]
     },
     "metadata": {},
     "output_type": "display_data"
    }
   ],
   "source": [
    "z = phi(astar, t)\n",
    "plt.plot(t, z, color='green')\n",
    "plt.scatter(t, y, s = 3, color = 'red')\n",
    "plt.title('Fitted Function')\n",
    "plt.show()"
   ]
  },
  {
   "cell_type": "markdown",
   "metadata": {},
   "source": [
    "## Quasi-Newton Methods\n",
    "---\n",
    "The objective of this formula is to mitigate the drawbacks of Newton's method. The largest computation cost of Newton's method is the decomposition of the Hessian. With the BFGS method, the hessian is computed once, and then low cost updates are made to it using the information gained about the hessian from the variations of the gradients."
   ]
  },
  {
   "cell_type": "markdown",
   "metadata": {},
   "source": [
    "#### Rosenbrock"
   ]
  },
  {
   "cell_type": "code",
   "execution_count": 22,
   "metadata": {},
   "outputs": [],
   "source": [
    "def rosenbrock(x):\n",
    "    f = 10 * (x[1] - x[0]**2)**2 + (1 - x[0])**2\n",
    "    return f"
   ]
  },
  {
   "cell_type": "markdown",
   "metadata": {},
   "source": [
    "#### Rosenbrock Gradient"
   ]
  },
  {
   "cell_type": "code",
   "execution_count": 23,
   "metadata": {},
   "outputs": [],
   "source": [
    "def rosenbrock_gradient(x):\n",
    "    g = np.zeros(2)\n",
    "    g[0] = -40*x[0]*(x[1] - x[0]**2) + 2*x[0] - 2\n",
    "    g[1] = 20*x[1] - 20*x[0]**2\n",
    "    return g"
   ]
  },
  {
   "cell_type": "markdown",
   "metadata": {},
   "source": [
    "#### Rosenbrock Hessian"
   ]
  },
  {
   "cell_type": "code",
   "execution_count": 24,
   "metadata": {},
   "outputs": [],
   "source": [
    "def rosenbrock_hessian(x):\n",
    "    h = np.array([np.zeros(2), np.zeros(2)])\n",
    "    h[0, 0] = 120*x[0]**2 - 40*x[1] + 2\n",
    "    h[0, 1] = -40*x[0]\n",
    "    h[1, 0] = -40*x[0]\n",
    "    h[1, 1] = 20\n",
    "    return h"
   ]
  },
  {
   "cell_type": "markdown",
   "metadata": {},
   "source": [
    "#### Backtrack Line Search"
   ]
  },
  {
   "cell_type": "code",
   "execution_count": 25,
   "metadata": {},
   "outputs": [],
   "source": [
    "def backtrack_linesearch(f, gk, pk, xk, alpha = 0.01, beta = 0.6):\n",
    "    t = 1\n",
    "    while ( f(xk + t*pk) > f(xk) + alpha*t*gk@pk):\n",
    "        t *= beta\n",
    "    return t"
   ]
  },
  {
   "cell_type": "markdown",
   "metadata": {},
   "source": [
    "#### Quasi Newton Backtrack"
   ]
  },
  {
   "cell_type": "code",
   "execution_count": 26,
   "metadata": {},
   "outputs": [],
   "source": [
    "def bfgs(B, sk, yk):\n",
    "    B_new = B + (np.dot(sk, yk) + np.dot(np.dot(yk, B), yk))*np.outer(sk, sk)/(sk@yk)**2\n",
    "    B_new -= ( B@np.outer(yk, sk)+np.outer(sk, yk)@B ) / (sk@yk)\n",
    "    return B_new"
   ]
  },
  {
   "cell_type": "code",
   "execution_count": 27,
   "metadata": {},
   "outputs": [],
   "source": [
    "def quasi_newton_backtrack(f, grad, hess, x0, tol = 1e-5):\n",
    "    x = x0\n",
    "    gk = grad(x)\n",
    "    Bk_inv = la.inv(hess(x0))\n",
    "    history = np.array([x0])\n",
    "    while (la.norm(grad(x)) > tol):\n",
    "        g = grad(x)\n",
    "        #print(Bk_inv)\n",
    "        p = np.dot(Bk_inv, -g)\n",
    "        t = backtrack_linesearch(f, g, p, x)\n",
    "        Bk_inv = bfgs(Bk_inv, t*p, grad(x + t*p) - g)\n",
    "        x += t * p\n",
    "        history = np.vstack((history, x))\n",
    "    return x, history"
   ]
  },
  {
   "cell_type": "markdown",
   "metadata": {},
   "source": [
    "#### Plotting the Performance"
   ]
  },
  {
   "cell_type": "code",
   "execution_count": 28,
   "metadata": {
    "scrolled": true
   },
   "outputs": [
    {
     "data": {
      "image/png": "[encoded data removed]",
      "text/plain": [
       "<Figure size 432x288 with 1 Axes>"
      ]
     },
     "metadata": {},
     "output_type": "display_data"
    }
   ],
   "source": [
    "x0 = np.array([-1.2, 1.0])\n",
    "xstar, history = quasi_newton_backtrack(rosenbrock, rosenbrock_gradient, rosenbrock_hessian, x0)\n",
    "\n",
    "nsteps = history.shape[0]\n",
    "fhist = np.zeros(nsteps)\n",
    "\n",
    "for i in range(nsteps):\n",
    "    fhist[i] = rosenbrock(history[i,:])\n",
    "    \n",
    "plt.figure()\n",
    "plt.autoscale(enable=True, axis='x', tight=True)\n",
    "plt.semilogy(np.arange(0, nsteps), fhist, linewidth=1)\n",
    "plt.xlabel('Iterations')\n",
    "plt.ylabel(r'$|f^k - f^|$')\n",
    "plt.show()"
   ]
  },
  {
   "cell_type": "markdown",
   "metadata": {},
   "source": [
    "This Quasi-Newton BFGS method converged in just under 20 iterations. This is far closer to the Newton method's 10 than it is to the Steepest Descent's 1000. As expected getting the exact hessian is not critical to the convergence of the algorithm"
   ]
  }
 ],
 "metadata": {
  "kernelspec": {
   "display_name": "Python 3",
   "language": "python",
   "name": "python3"
  },
  "language_info": {
   "codemirror_mode": {
    "name": "ipython",
    "version": 3
   },
   "file_extension": ".py",
   "mimetype": "text/x-python",
   "name": "python",
   "nbconvert_exporter": "python",
   "pygments_lexer": "ipython3",
   "version": "3.6.5"
  }
 },
 "nbformat": 4,
 "nbformat_minor": 2
}
