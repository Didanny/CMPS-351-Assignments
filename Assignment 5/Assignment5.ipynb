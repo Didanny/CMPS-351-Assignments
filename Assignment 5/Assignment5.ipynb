{
 "cells": [
  {
   "cell_type": "markdown",
   "metadata": {},
   "source": [
    "Danny Abraham\n",
    "<center><h1>CMPS 351</h1></center>\n",
    "<center><h2>Assignment 5</h2></center>"
   ]
  },
  {
   "cell_type": "code",
   "execution_count": 1,
   "metadata": {},
   "outputs": [],
   "source": [
    "import numpy as np\n",
    "from numpy import linalg as la\n",
    "import matplotlib.pyplot as plt\n",
    "from scipy.optimize import linprog as lp"
   ]
  },
  {
   "cell_type": "markdown",
   "metadata": {},
   "source": [
    "## Exercise in R^3\n",
    "---\n",
    "#### Lagrangian"
   ]
  },
  {
   "cell_type": "code",
   "execution_count": 2,
   "metadata": {},
   "outputs": [],
   "source": [
    "def lagrangian(x, l):\n",
    "    f = x[0]*x[1] + x[1]*x[2]\n",
    "    h1 = l[0]*(x[0]**2 + x[1]**2 - 2)\n",
    "    h2 = l[1]*(x[0]**2 + x[2]**2 - 2) \n",
    "    return f + h1 + h2"
   ]
  },
  {
   "cell_type": "markdown",
   "metadata": {},
   "source": [
    "#### Objective Function"
   ]
  },
  {
   "cell_type": "code",
   "execution_count": 3,
   "metadata": {},
   "outputs": [],
   "source": [
    "def lagrangian_grad(x, l):\n",
    "    g = np.zeros(5)\n",
    "    g[0] = x[1] + 2*l[0]*x[0] + 2*l[1]*x[0]\n",
    "    g[1] = x[0] + x[2] + 2*l[0]*x[1]\n",
    "    g[2] = x[1] + 2*l[1]*x[2]\n",
    "    g[3] = x[0]**2 + x[1]**2 -2\n",
    "    g[4] = x[0]**2 + x[2]**2 -2\n",
    "    return g"
   ]
  },
  {
   "cell_type": "markdown",
   "metadata": {},
   "source": [
    "#### Gradient"
   ]
  },
  {
   "cell_type": "code",
   "execution_count": 4,
   "metadata": {},
   "outputs": [],
   "source": [
    "def lagrangian_hess(x, l):\n",
    "    h = np.zeros([5, 5])\n",
    "    h[0] = np.array([2*l[0] + 2*l[1], 1, 0, 2*x[0], 2*x[0]])\n",
    "    h[1] = np.array([1, 2*l[0], 1, 2*x[1], 0])\n",
    "    h[2] = np.array([0, 1, 2*l[1], 0, 2*x[2]])\n",
    "    h[3] = np.array([2*x[0], 2*x[1], 0, 0, 0])\n",
    "    h[4] = np.array([2*x[0], 0, 2*x[2], 0, 0])\n",
    "    return h"
   ]
  },
  {
   "cell_type": "markdown",
   "metadata": {},
   "source": [
    "#### Globally Convergent Newton"
   ]
  },
  {
   "cell_type": "code",
   "execution_count": 5,
   "metadata": {},
   "outputs": [],
   "source": [
    "def backtrack_linesearch(f, gk, pk, xk, alpha = 0.01, beta = 0.6):\n",
    "    t = 1\n",
    "    while ( la.norm(f((xk + t*pk)[:-2], (xk + t*pk)[3:]))/2 > la.norm(f(xk[:-2], xk[3:]))/2 + alpha*t*gk@pk):\n",
    "        t *= beta\n",
    "    return t"
   ]
  },
  {
   "cell_type": "code",
   "execution_count": 6,
   "metadata": {},
   "outputs": [],
   "source": [
    "def newton_method(x0, tol = 1e-6):\n",
    "    x = x0\n",
    "    history = np.array([x0])\n",
    "    while (la.norm(lagrangian_grad(x[:-2], x[3:])) >= tol):\n",
    "        p = la.solve(lagrangian_hess(x[:-2], x[3:]), -lagrangian_grad(x[:-2], x[3:]))\n",
    "        t = backtrack_linesearch(lagrangian_grad, lagrangian_grad(x[:-2], x[3:]), p, x)\n",
    "        x += t * p\n",
    "        history = np.append(history, [x])\n",
    "        #print(la.norm(lagrangian_grad(x[:-2], x[3:])))\n",
    "    return x, history"
   ]
  },
  {
   "cell_type": "code",
   "execution_count": 7,
   "metadata": {},
   "outputs": [
    {
     "name": "stdout",
     "output_type": "stream",
     "text": [
      "[ 1.30656297 -0.5411961  -0.5411961   0.70710679 -0.50000001]\n"
     ]
    }
   ],
   "source": [
    "x0 = np.array([0.1, 0.0000001, 0.0000001, 1, 1])\n",
    "xstar, history = newton_method(x0)\n",
    "print(xstar)"
   ]
  },
  {
   "cell_type": "markdown",
   "metadata": {},
   "source": [
    "## Significance of the Lagrange Multipliers\n",
    "---"
   ]
  },
  {
   "cell_type": "markdown",
   "metadata": {},
   "source": [
    "The Taylor series of the constraint gives us\n",
    "<img src='1.png'>\n",
    "\n",
    "The modified constraint h\\[i\\] is shifted by e\n",
    "<img src='2.png'>\n",
    "<img src='3.png'>\n",
    "<img src='4.png'>\n",
    "\n",
    "For a feasible direction, we need to move on the surface perpendicular to the gradients of the constraints\n",
    "<img src='5.png'>\n",
    "\n",
    "Taylor series of the objective function\n",
    "<img src='6.png'>\n",
    "\n",
    "But the graient of the bjective function can be written as\n",
    "<img src='7.png'>\n",
    "<img src='8.png'>"
   ]
  },
  {
   "cell_type": "markdown",
   "metadata": {},
   "source": [
    "## Nonnegativity of the Lagrange Multipliers\n",
    "---"
   ]
  },
  {
   "cell_type": "code",
   "execution_count": 8,
   "metadata": {},
   "outputs": [
    {
     "data": {
      "text/plain": [
       "[<matplotlib.lines.Line2D at 0x1eb4fc95e48>]"
      ]
     },
     "execution_count": 8,
     "metadata": {},
     "output_type": "execute_result"
    },
    {
     "data": {
      "image/png": "[encoded data removed]",
      "text/plain": [
       "<Figure size 432x288 with 1 Axes>"
      ]
     },
     "metadata": {},
     "output_type": "display_data"
    }
   ],
   "source": [
    "f1 = lambda x : 1 - x**2\n",
    "f2 = lambda x : 1 + x**2\n",
    "\n",
    "x = np.arange(-5., 5., 0.1)\n",
    "plt.plot(x, f1(x), color='red')\n",
    "plt.plot(x, f2(x), color='blue')\n",
    "plt.plot(f1(0), marker='x', color='green', ms=20)"
   ]
  },
  {
   "cell_type": "markdown",
   "metadata": {},
   "source": [
    "When the inequality contraint is inactive, lambda = 0\n",
    "\n",
    "When the inequality constraint is active, the gradient of the objective function and the gradient of the constraint are aligned but have opposite directions. This is demonstrated in the example above with f1 and f2.\n",
    "\n",
    "\n",
    "<img src='this.png'>\n",
    "\n",
    "Because the gradients are aligned and opposite, lambda must be positive"
   ]
  },
  {
   "cell_type": "markdown",
   "metadata": {},
   "source": [
    " "
   ]
  },
  {
   "cell_type": "markdown",
   "metadata": {},
   "source": [
    "## Necessary but not Sufficient Conditions\n",
    "---\n",
    "#### Lagrangian"
   ]
  },
  {
   "cell_type": "code",
   "execution_count": 9,
   "metadata": {},
   "outputs": [],
   "source": [
    "def lag(x, l):\n",
    "    return x[0] - x[1] + l*(x[0]*x[1] + 4)"
   ]
  },
  {
   "cell_type": "markdown",
   "metadata": {},
   "source": [
    "#### Lagrangian Gradient"
   ]
  },
  {
   "cell_type": "code",
   "execution_count": 10,
   "metadata": {},
   "outputs": [],
   "source": [
    "def lag_grad(x, l):\n",
    "    g = np.zeros(3)\n",
    "    g[0] = l*x[1] + 1\n",
    "    g[1] = l*x[0] - 1\n",
    "    g[2] = x[0]*x[1] + 4\n",
    "    return g"
   ]
  },
  {
   "cell_type": "code",
   "execution_count": 11,
   "metadata": {},
   "outputs": [
    {
     "name": "stdout",
     "output_type": "stream",
     "text": [
      "[0. 0. 0.]\n",
      "[0. 0. 0.]\n"
     ]
    }
   ],
   "source": [
    "x = np.array([2, -2])\n",
    "l = 0.5\n",
    "print(lag_grad(x, l))\n",
    "x = np.array([-2, 2])\n",
    "l = -0.5\n",
    "print(lag_grad(x, l))"
   ]
  },
  {
   "cell_type": "markdown",
   "metadata": {},
   "source": [
    "For x = \\[2, -2\\] and for x = \\[-2, 2\\] the first order optimality conditions are satisfied, however neither are the optimal points because x = \\[-4, 1\\] achieves a smaller value for the primal problem at f(x) = -5 and it satisfies the constraint"
   ]
  },
  {
   "cell_type": "markdown",
   "metadata": {},
   "source": [
    "## Healthy Snack \n",
    "---"
   ]
  },
  {
   "cell_type": "code",
   "execution_count": 12,
   "metadata": {},
   "outputs": [
    {
     "name": "stdout",
     "output_type": "stream",
     "text": [
      "Optimization terminated successfully.\n",
      "         Current function value: 220.000000  \n",
      "         Iterations: 2\n"
     ]
    }
   ],
   "source": [
    "c = [50, 80]\n",
    "A = [[-3, 0], \n",
    "     [-2, -4], \n",
    "     [-2,-5]]\n",
    "b = [-6, -10, -8]\n",
    "res = lp(c, A_ub=A, b_ub=b, options = { \"disp\" : True } )"
   ]
  },
  {
   "cell_type": "code",
   "execution_count": 13,
   "metadata": {},
   "outputs": [
    {
     "name": "stdout",
     "output_type": "stream",
     "text": [
      "     con: array([], dtype=float64)\n",
      "     fun: 220.0\n",
      " message: 'Optimization terminated successfully.'\n",
      "     nit: 2\n",
      "   slack: array([0. , 0. , 3.5])\n",
      "  status: 0\n",
      " success: True\n",
      "       x: array([2. , 1.5])\n"
     ]
    }
   ],
   "source": [
    "print(res)"
   ]
  },
  {
   "cell_type": "markdown",
   "metadata": {},
   "source": [
    "Lagrangian:\n",
    "<img src='10.png'>\n",
    "\n",
    "Optimality conditions:\n",
    "<img src='11.png'>\n",
    "<img src='12.png'>"
   ]
  },
  {
   "cell_type": "markdown",
   "metadata": {},
   "source": [
    "Since the third consraint is not active lambda3 is equal to 0. \n",
    "\n",
    "Solving for lambda1 and lambda2 we get 10/3 and 20 respectively.\n",
    "\n",
    "The lagrange multipliers represent the sensitivity towards a certain constraint. For example here we know optimality will more if we change the second constraint than if we change the third constraint. Also the changing teh first constraint wont change optimality. This is of course for small changes.\n",
    "\n"
   ]
  }
 ],
 "metadata": {
  "kernelspec": {
   "display_name": "Python 3",
   "language": "python",
   "name": "python3"
  },
  "language_info": {
   "codemirror_mode": {
    "name": "ipython",
    "version": 3
   },
   "file_extension": ".py",
   "mimetype": "text/x-python",
   "name": "python",
   "nbconvert_exporter": "python",
   "pygments_lexer": "ipython3",
   "version": "3.6.5"
  }
 },
 "nbformat": 4,
 "nbformat_minor": 2
}
