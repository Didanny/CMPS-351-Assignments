{
 "cells": [
  {
   "cell_type": "markdown",
   "metadata": {},
   "source": [
    "Danny Abraham & Jad Abi Zaki\n",
    "<center><h1>CMPS 351</h1></center>\n",
    "<center><h2>Assignment 10</h2></center>"
   ]
  },
  {
   "cell_type": "code",
   "execution_count": 1,
   "metadata": {},
   "outputs": [],
   "source": [
    "import numpy as np"
   ]
  },
  {
   "cell_type": "markdown",
   "metadata": {},
   "source": [
    "## Interior Point Method for LP\n",
    "---"
   ]
  },
  {
   "cell_type": "code",
   "execution_count": 13,
   "metadata": {},
   "outputs": [
    {
     "name": "stdout",
     "output_type": "stream",
     "text": [
      "(100, 150)\n",
      "(100, 1)\n",
      "(100, 1)\n",
      "(150, 1)\n",
      "(150, 1)\n"
     ]
    }
   ],
   "source": [
    "A = np.ones([100, 150])\n",
    "print(A.shape)\n",
    "\n",
    "b = np.ones([100, 1])\n",
    "print(b.shape)\n",
    "\n",
    "nu = np.ones([100, 1])\n",
    "print(nu.shape)\n",
    "\n",
    "lam = np.ones([150, 1])\n",
    "print(lam.shape)\n",
    "\n",
    "p = np.ones([150, 1])\n",
    "print(p.shape)\n",
    "\n",
    "tau = 1\n",
    "\n",
    "x = np.ones([150, 1])"
   ]
  },
  {
   "cell_type": "markdown",
   "metadata": {},
   "source": [
    "#### Residual"
   ]
  },
  {
   "cell_type": "code",
   "execution_count": 33,
   "metadata": {},
   "outputs": [],
   "source": [
    "def residual(x, nu, lam):\n",
    "    r1 = p + A.T@nu + (-np.ones(150)).T@lam\n",
    "    r2 = A@x - b\n",
    "    r3 = -np.diag(lam[:, 0])@(-x) - tau*np.ones([150, 1])\n",
    "    r = np.vstack([r1, r2, r3])\n",
    "    return r"
   ]
  },
  {
   "cell_type": "code",
   "execution_count": 35,
   "metadata": {},
   "outputs": [
    {
     "name": "stdout",
     "output_type": "stream",
     "text": [
      "(400, 1)\n"
     ]
    }
   ],
   "source": [
    "res = residual(x, nu, lam)\n",
    "print(res.shape)"
   ]
  }
 ],
 "metadata": {
  "kernelspec": {
   "display_name": "Python 3",
   "language": "python",
   "name": "python3"
  },
  "language_info": {
   "codemirror_mode": {
    "name": "ipython",
    "version": 3
   },
   "file_extension": ".py",
   "mimetype": "text/x-python",
   "name": "python",
   "nbconvert_exporter": "python",
   "pygments_lexer": "ipython3",
   "version": "3.6.5"
  }
 },
 "nbformat": 4,
 "nbformat_minor": 2
}
