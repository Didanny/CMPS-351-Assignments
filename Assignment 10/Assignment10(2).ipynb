{
 "cells": [
  {
   "cell_type": "markdown",
   "metadata": {},
   "source": [
    "Danny Abraham & Jad Abi Zaki\n",
    "<center><h1>CMPS 351</h1></center>\n",
    "<center><h2>Assignment 10</h2></center>"
   ]
  },
  {
   "cell_type": "code",
   "execution_count": 143,
   "metadata": {},
   "outputs": [],
   "source": [
    "import numpy as np\n",
    "import numpy.linalg as la\n",
    "from bunch import Bunch\n",
    "import scipy.optimize\n",
    "import matplotlib.pyplot as plt\n",
    "from scipy.optimize import linprog as lp"
   ]
  },
  {
   "cell_type": "markdown",
   "metadata": {},
   "source": [
    "## Central Path \n",
    "---"
   ]
  },
  {
   "cell_type": "markdown",
   "metadata": {},
   "source": [
    "#### The convex problem: \n",
    "$$ \\underset{ x}min \\qquad\\qquad f_0(x) $$\n",
    "$$ \\textit{subject to}\\qquad Ax = b$$\n",
    "$$\\qquad\\qquad\\qquad f_i(x)\\le 0$$\n",
    "\n",
    "\n"
   ]
  },
  {
   "cell_type": "markdown",
   "metadata": {},
   "source": [
    "#### Log Barrier Problem\n",
    "\n",
    "$$ \\;\\underset{x}min\\qquad f_0(x) - \\tau\\sum_{i=1}^{m} log(-f_i(x))$$\n",
    "$$ \\textit{subject to}\\qquad Ax = b\\qquad\\qquad$$"
   ]
  },
  {
   "cell_type": "markdown",
   "metadata": {},
   "source": [
    "#### KKT Conditions:\n",
    "\n",
    "$$ \\nabla f_0(x) - A^t\\nu - Df(x)^t\\lambda= 0  $$\n",
    "\n",
    "$$ Ax - b = 0 $$\n",
    "\n",
    "$$  -\\lambda f(x) - \\tau\\textbf{1} = 0$$\n",
    "\n",
    "$$ -f(x) \\ge 0 $$\n",
    "\n",
    "$$ \\lambda \\ge 0 $$\n",
    "\n",
    "The general form of the KKT conditions of a point on the central path can be expressed as \n",
    "\n",
    "$$ \\nabla f_0(x) - A^t\\nu - \\sum_{i=1}^{m}\\lambda_i\\nabla f_i(x) = 0  $$\n",
    "\n",
    "$$ Ax - b = 0 $$\n",
    "\n",
    "$$  -\\lambda_i f_i(x) - \\tau = 0 $$\n",
    "\n",
    "$$ -f_i(x) \\ge 0 $$\n",
    "\n",
    "$$ \\lambda \\ge 0 $$\n",
    "\n",
    "We see here that they are identical to the KKT conditions written above"
   ]
  },
  {
   "cell_type": "markdown",
   "metadata": {},
   "source": [
    "## Interior Point Method for LP\n",
    "---"
   ]
  },
  {
   "cell_type": "code",
   "execution_count": 144,
   "metadata": {},
   "outputs": [
    {
     "name": "stdout",
     "output_type": "stream",
     "text": [
      "(100, 150)\n",
      "(100, 1)\n",
      "(100, 1)\n",
      "(150, 1)\n",
      "(150, 1)\n"
     ]
    }
   ],
   "source": [
    "A = np.ones([100, 150])\n",
    "print(A.shape)\n",
    "\n",
    "b = np.ones([100, 1])\n",
    "print(b.shape)\n",
    "\n",
    "nu = np.ones([100, 1])\n",
    "print(nu.shape)\n",
    "\n",
    "lam = np.zeros([150, 1]) + 0.5\n",
    "print(lam.shape)\n",
    "\n",
    "p = np.ones([150, 1])\n",
    "print(p.shape)\n",
    "\n",
    "tau = 1\n",
    "\n",
    "x = np.ones([150, 1])"
   ]
  },
  {
   "cell_type": "code",
   "execution_count": 145,
   "metadata": {},
   "outputs": [
    {
     "name": "stdout",
     "output_type": "stream",
     "text": [
      "     con: array([-3.48965301e-12, -1.10311760e-11,  1.28297373e-12,  2.14557261e-11,\n",
      "        2.78532752e-11, -4.83801887e-12,  8.16458012e-12, -2.17603713e-11,\n",
      "       -1.15454313e-11, -2.25746088e-11, -3.43982620e-11,  1.91597849e-11,\n",
      "       -2.72137868e-11,  3.59445806e-12,  1.05748743e-11, -7.90656429e-12,\n",
      "       -7.04112324e-11, -2.84021695e-11, -1.53148605e-11,  1.05426778e-11,\n",
      "        1.67865721e-13, -1.57056590e-11, -2.04636308e-11, -9.17088627e-12,\n",
      "       -2.31876740e-11, -1.46211931e-11,  2.60222954e-11, -3.05782066e-11,\n",
      "        2.69695377e-12,  1.13766774e-11, -1.47419854e-11, -2.73399081e-11,\n",
      "       -2.14628315e-11,  2.00524042e-11,  3.15512061e-11, -5.92736971e-12,\n",
      "        2.03164152e-11,  4.91902075e-11,  1.45181644e-11,  8.34110558e-12,\n",
      "        1.40891743e-11,  1.32092115e-11, -7.83906273e-12,  4.38160619e-12,\n",
      "        1.10857989e-11, -4.21795932e-11, -2.13007390e-11, -3.69211328e-11,\n",
      "       -5.48339152e-12, -5.77760062e-13, -1.84536830e-11, -3.96589428e-11,\n",
      "        3.49564822e-11, -4.55746552e-12, -1.93542959e-11, -3.48885365e-11,\n",
      "       -1.34221523e-11, -1.20360388e-11, -3.79190013e-11, -3.83892917e-11,\n",
      "       -2.10382822e-11,  2.42730280e-11, -2.89290814e-12, -1.90993887e-11,\n",
      "        1.92286187e-11, -3.04760661e-11,  1.11759491e-11, -2.97504243e-11,\n",
      "        1.24611432e-11,  2.39879228e-11,  1.01898490e-11,  2.03792538e-11,\n",
      "        3.98081568e-12,  2.16470175e-11,  9.96980276e-12,  1.22790667e-11,\n",
      "        1.80513382e-11, -7.71427366e-12, -5.35216316e-12, -4.12399004e-11,\n",
      "        6.73638922e-12,  5.80513415e-12, -5.22693000e-12,  4.13225010e-12,\n",
      "       -2.46971332e-11, -5.12763165e-11,  1.14777077e-11,  3.10720338e-11,\n",
      "       -6.97220059e-12, -1.45855550e-11, -1.78888016e-11, -2.26112462e-11,\n",
      "       -1.87647675e-11,  1.03450581e-11, -5.39408518e-11, -4.44488890e-11,\n",
      "        2.67528222e-11, -1.52926560e-11, -3.83870713e-11, -1.60849112e-12])\n",
      "     fun: -3.7186319504597276\n",
      " message: 'Optimization terminated successfully.'\n",
      "     nit: 10\n",
      "   slack: array([], dtype=float64)\n",
      "  status: 0\n",
      " success: True\n",
      "       x: array([3.19113347e-01, 1.23790061e-12, 1.40267652e+00, 1.02711427e+00,\n",
      "       1.07991208e-02, 1.06453868e+00, 1.91100942e-01, 1.42157824e+00,\n",
      "       1.24133754e-02, 9.41924038e-01, 4.40352987e-01, 1.86271954e-01,\n",
      "       3.57248774e-01, 5.60421394e-01, 2.89119813e-01, 1.98969969e-01,\n",
      "       5.32761763e-01, 5.65638861e-01, 5.33224765e-01, 7.79170816e-01,\n",
      "       2.01684002e-01, 8.36668858e-01, 3.85641927e-01, 3.75520296e-01,\n",
      "       2.74166282e-01, 1.81482834e-01, 1.03364873e-01, 1.11404813e+00,\n",
      "       1.18672117e-11, 5.63656412e-01, 6.88530511e-01, 9.22901410e-01,\n",
      "       9.56819641e-01, 2.79526544e-12, 1.42491419e-01, 2.83386018e-01,\n",
      "       7.12063344e-02, 7.83780739e-01, 7.39582721e-01, 1.40928269e-12,\n",
      "       3.80660211e-01, 9.07770805e-01, 4.18934003e-01, 6.46374204e-01,\n",
      "       4.48985120e-01, 1.15137908e-11, 4.23639135e-12, 1.91466336e-01,\n",
      "       4.26491666e-12, 7.85892033e-01, 1.10150544e-11, 2.37730052e-10,\n",
      "       6.31784556e-02, 6.32968813e-12, 2.16038955e-11, 9.41847342e-12,\n",
      "       1.76866003e-01, 9.44341368e-01, 2.39234283e+00, 9.54346374e-01,\n",
      "       2.24974913e-10, 6.09755149e-11, 2.53179874e-01, 4.18265557e-01,\n",
      "       3.79830536e-11, 1.27970749e-11, 4.39190264e-11, 2.95147598e-11,\n",
      "       2.85545987e+00, 2.88123413e-11, 7.65994462e-11, 2.17292993e-11,\n",
      "       3.29098912e-01, 1.39026619e+00, 1.35856876e+00, 3.43503939e+00,\n",
      "       7.53624050e-02, 2.45898654e+00, 3.84191798e-01, 6.41670025e-01,\n",
      "       4.05868444e-01, 3.05949954e-11, 3.47630935e-11, 1.14478020e-11,\n",
      "       1.66063484e-11, 2.66151201e-01, 5.53946228e-01, 2.87824264e-11,\n",
      "       1.94898950e+00, 2.46698962e-11, 1.27034765e+00, 2.01069657e+00,\n",
      "       6.78453527e-12, 2.41147101e+00, 1.06870665e+00, 2.56804863e-01,\n",
      "       1.69867297e+00, 1.40961345e-11, 2.10105934e-11, 1.28933734e-01,\n",
      "       1.89491902e+00, 2.71736587e-09, 1.82424236e-11, 1.04830875e-11,\n",
      "       3.76216366e-01, 2.36386727e-11, 1.22447144e+00, 1.61419494e-11,\n",
      "       2.49067371e-11, 4.18462976e-11, 1.26683216e+00, 2.71140293e-10,\n",
      "       1.38065399e+00, 2.63441604e+00, 7.17426309e-01, 1.09579461e-11,\n",
      "       2.58379962e+00, 1.12275322e-11, 2.25323968e-10, 3.11387426e-01,\n",
      "       1.03029228e-10, 1.46378084e-11, 2.95946524e-01, 3.79554509e-11,\n",
      "       2.02289440e-11, 1.94389975e-01, 1.15797702e+00, 3.74514153e+00,\n",
      "       1.36915447e+00, 1.23546513e+00, 1.60478248e+00, 1.23773068e-01,\n",
      "       4.18734998e+00, 1.82757378e+00, 1.21647721e-11, 9.86892052e-01,\n",
      "       1.63842866e+00, 1.62422063e+00, 7.92650874e-01, 2.43614098e-11,\n",
      "       7.10520367e-11, 2.19489497e+00, 2.38795239e+00, 8.51659025e-01,\n",
      "       7.28238235e-01, 3.50935123e+00, 5.34367068e-11, 2.21632426e+00,\n",
      "       3.98243742e-01, 7.46570797e-11])\n"
     ]
    }
   ],
   "source": [
    "np.random.seed(9727)            # seed the random number generator\n",
    "n = 150 \n",
    "p = 100\n",
    "\n",
    "# Generate random data\n",
    "A = np.hstack( (np.random.randn(p, n-p), np.eye(p)) ) \n",
    "b = A @ np.random.rand(n)\n",
    "pobj = np.concatenate( (np.random.randn(n-p), np.zeros(p)) ) \n",
    "\n",
    "\n",
    "\n",
    "# Solution may be compared to the one generated by linprog\n",
    "# https://docs.scipy.org/doc/scipy/reference/generated/scipy.optimize.linprog.html\n",
    "solution = scipy.optimize.linprog(pobj, method='interior-point', A_eq = A, b_eq = b)\n",
    "print(solution)"
   ]
  },
  {
   "cell_type": "code",
   "execution_count": 146,
   "metadata": {},
   "outputs": [],
   "source": [
    "#b = b.reshape([100, 1])"
   ]
  },
  {
   "cell_type": "markdown",
   "metadata": {},
   "source": [
    "#### Feasible Starting Point\n",
    "\n",
    "The equality-constrained problem in the last assignment was\n",
    "\n",
    "$$ - \\sum_{i=1}^{n} logx_i$$\n",
    "$$ \\textit{subject to}\\qquad Ax = b\\qquad\\qquad$$\n",
    "\n",
    "Given a solution to this problem, it will satisfy the equality constraints $Ax = b$. It will also satisfy the inequality constraints $x \\ge 0$ because otherwise $logx_i$ is undefined.\n",
    "\n",
    "This means a solution to this problem will satisfy the constraints of the new problem, making it a feasible starting point"
   ]
  },
  {
   "cell_type": "markdown",
   "metadata": {},
   "source": [
    "#### The Equality-Constrained Problem Solved at Every Step\n",
    "\n",
    "The equality constrained problem we are solving at every step is\n",
    "\n",
    "\n",
    "$$ \\;\\underset{x}min\\qquad p^tx - \\tau\\sum_{i=1}^{m} log(-x)$$\n",
    "$$ \\textit{subject to}\\qquad Ax = b\\qquad\\qquad$$\n",
    "\n",
    "Its KKT conditions can be expressed as\n",
    "\n",
    "$$ p - A^t\\nu - \\lambda = 0  $$\n",
    "\n",
    "$$ Ax - b = 0 $$\n",
    "\n",
    "$$  X\\Lambda \\textbf{1} - \\tau\\textbf{1} = 0$$\n",
    "\n",
    "$$ -x \\ge 0 $$\n",
    "\n",
    "$$ \\lambda \\ge 0 $$\n",
    "\n",
    "The general form of the KKT conditions of a point on the central path can be expressed as \n",
    "\n",
    "$$ \\nabla f_0(x) - A^t\\nu - \\sum_{i=1}^{m}\\lambda_i\\nabla f_i(x) = 0  $$\n",
    "\n",
    "$$ Ax - b = 0 $$\n",
    "\n",
    "$$  -\\lambda_i f_i(x) - \\tau = 0 $$\n",
    "\n",
    "$$ f_i(x) \\ge 0 $$\n",
    "\n",
    "$$ \\lambda \\ge 0 $$\n",
    "\n",
    "However, $f_i(x) = -x$ and $\\nabla f_i(x) = -1$ this transforms the KKT conditions to be the exact same as the equality-constrained problem above"
   ]
  },
  {
   "cell_type": "markdown",
   "metadata": {},
   "source": [
    "#### Finding a  Feasible Starting Point"
   ]
  },
  {
   "cell_type": "code",
   "execution_count": 147,
   "metadata": {},
   "outputs": [],
   "source": [
    "def func(x):\n",
    "    return - np.sum(np.log(x))"
   ]
  },
  {
   "cell_type": "code",
   "execution_count": 148,
   "metadata": {},
   "outputs": [],
   "source": [
    "def res(x, nu):\n",
    "    r1 = -(1/x) + A.T@nu\n",
    "    r2 = A@x - b\n",
    "    r = np.hstack([r1, r2])\n",
    "    r = r.T\n",
    "    return r"
   ]
  },
  {
   "cell_type": "code",
   "execution_count": 149,
   "metadata": {},
   "outputs": [],
   "source": [
    "def jacobian(x):\n",
    "    h = (1/(x**2))\n",
    "    h = np.diag(h)\n",
    "    j1 = np.hstack([h, A.T])\n",
    "    j2 = np.hstack([A, np.zeros([p, p])])\n",
    "    j = np.vstack([j1, j2])\n",
    "    return j"
   ]
  },
  {
   "cell_type": "code",
   "execution_count": 150,
   "metadata": {},
   "outputs": [],
   "source": [
    "def btLineSearch(x, nu, t, p, alpha = 0.01, beta = 0.8):\n",
    "    while (x + t*p[:n]<0).any():\n",
    "        t=t*beta\n",
    "    while (la.norm(res(x + t*p[:n], nu + t*p[n:])) >= (1 - alpha*t)*la.norm(res(x,nu))):\n",
    "        t *= beta\n",
    "    return t"
   ]
  },
  {
   "cell_type": "code",
   "execution_count": 151,
   "metadata": {},
   "outputs": [],
   "source": [
    "def infeasible_newton(x0, nu0, tol = 2e-6):\n",
    "    x = x0\n",
    "    nu= nu0\n",
    "    histx  = np.array([x0])\n",
    "    histnu = np.array([nu0])\n",
    "    while(la.norm(res(x, nu)) > tol):\n",
    "        print(la.norm(res(x,nu)), end='\\r')\n",
    "        p = la.solve(jacobian(x), - res(x, nu))\n",
    "        t = btLineSearch(x,nu,1,p)\n",
    "        x = x + t*p[:n]\n",
    "        nu = nu + t*p[n:]\n",
    "        histx = np.vstack([histx , x])\n",
    "        histnu = np.vstack([histnu , nu])\n",
    "    return histx, histnu , x, nu "
   ]
  },
  {
   "cell_type": "code",
   "execution_count": 152,
   "metadata": {},
   "outputs": [
    {
     "name": "stdout",
     "output_type": "stream",
     "text": [
      "45.217167801858814\r",
      "28.387256265621133\r",
      "27.63647536300265\r",
      "10.159248745408949\r",
      "2.0126957007711863\r",
      "0.25524092271385945\r",
      "0.0058076170924908676\r",
      "2.9924609283971342e-06\r"
     ]
    }
   ],
   "source": [
    "x = np.ones(n)\n",
    "nu = np.zeros(p)\n",
    "histx, histnu, xstar, nustar = infeasible_newton(x, nu)"
   ]
  },
  {
   "cell_type": "code",
   "execution_count": 153,
   "metadata": {},
   "outputs": [
    {
     "data": {
      "text/plain": [
       "True"
      ]
     },
     "execution_count": 153,
     "metadata": {},
     "output_type": "execute_result"
    }
   ],
   "source": [
    "(xstar>=0).all()"
   ]
  },
  {
   "cell_type": "code",
   "execution_count": 154,
   "metadata": {},
   "outputs": [
    {
     "data": {
      "text/plain": [
       "True"
      ]
     },
     "execution_count": 154,
     "metadata": {},
     "output_type": "execute_result"
    }
   ],
   "source": [
    "(abs(A@xstar-b)<0.00000000000001).all()"
   ]
  },
  {
   "cell_type": "markdown",
   "metadata": {},
   "source": [
    "#### Residual"
   ]
  },
  {
   "cell_type": "code",
   "execution_count": 155,
   "metadata": {},
   "outputs": [],
   "source": [
    "xstar = xstar.reshape([150, 1])\n",
    "nustar = nustar.reshape([100, 1])\n",
    "b = b.reshape([100, 1])"
   ]
  },
  {
   "cell_type": "code",
   "execution_count": 156,
   "metadata": {},
   "outputs": [],
   "source": [
    "def residual(x, nu, lam, tau):\n",
    "    r1 = pobj.reshape([150, 1]) + A.T@nu - lam #p + A.T@nu + (-np.ones(150)).T@lam\n",
    "    r2 = A@x - b\n",
    "    r3 = np.diag(lam[:, 0])@x - tau*np.ones([150, 1])\n",
    "    r = np.vstack([r1, r2, r3])\n",
    "    return r"
   ]
  },
  {
   "cell_type": "markdown",
   "metadata": {},
   "source": [
    "#### Jacobian"
   ]
  },
  {
   "cell_type": "code",
   "execution_count": 157,
   "metadata": {},
   "outputs": [],
   "source": [
    "def jacobian(x, nu, lam):\n",
    "    j11 = np.zeros([150, 150])\n",
    "    j12 = A.T\n",
    "    j13 = -np.identity(150)\n",
    "    j1 = np.hstack([j11, j12, j13])\n",
    "    \n",
    "    j21 = A\n",
    "    j22 = np.zeros([100, 100])\n",
    "    j23 = np.zeros([100, 150])\n",
    "    j2  = np.hstack([j21, j22, j23])\n",
    "    \n",
    "    j31 = np.diag(lam[:, 0])\n",
    "    j32 = np.zeros([150, 100])\n",
    "    j33 = np.diag(x[:, 0])\n",
    "    j3  = np.hstack([j31, j32, j33])\n",
    "    \n",
    "    j   = np.vstack([j1, j2, j3])\n",
    "    return j"
   ]
  },
  {
   "cell_type": "code",
   "execution_count": 158,
   "metadata": {},
   "outputs": [
    {
     "data": {
      "text/plain": [
       "(400, 400)"
      ]
     },
     "execution_count": 158,
     "metadata": {},
     "output_type": "execute_result"
    }
   ],
   "source": [
    "jacobian(xstar, nustar, lam).shape"
   ]
  },
  {
   "cell_type": "markdown",
   "metadata": {},
   "source": [
    "#### Path Following Method"
   ]
  },
  {
   "cell_type": "code",
   "execution_count": 159,
   "metadata": {},
   "outputs": [],
   "source": [
    "def backtrack(x, nu, lam, t, p,tau, alpha=0.01, beta=0.8):\n",
    "    delta_x = p[:150].reshape([150, 1])\n",
    "    delta_nu = p[150:250].reshape([100, 1])\n",
    "    delta_lam = p[250:].reshape([150, 1])\n",
    "        \n",
    "    while (-(x + t*delta_x)).any() <0:\n",
    "        #print(\"Stuck Second\")\n",
    "        t *= beta    \n",
    "    while la.norm(residual(x + t*delta_x, nu + t*delta_nu, lam + t*delta_lam,tau)) >= (1 - alpha*t)*la.norm(residual(x, nu, lam, tau)):\n",
    "        #print(\"Stuck First\")\n",
    "        t *= beta\n",
    "\n",
    "    return t"
   ]
  },
  {
   "cell_type": "code",
   "execution_count": 160,
   "metadata": {},
   "outputs": [],
   "source": [
    "def interior_LP(x0, nu0, lam0, tau, mu = 2, tol1 = 1e-6, tol2=1e-6):\n",
    "    \n",
    "    iterations = 0\n",
    "    x_star = None\n",
    "    nu_star = None\n",
    "    lam_star = None\n",
    "    dual_gap = None\n",
    "    \n",
    "    x = x0\n",
    "    nu = nu0\n",
    "    lam = lam0\n",
    "    \n",
    "    history = [la.norm(residual(x, nu, lam, tau))]\n",
    "    \n",
    "    while 150 * tau >= tol1:\n",
    "        while la.norm(residual(x, nu, lam, tau)) >= tol2:\n",
    "            \n",
    "            #print(la.norm(residual(x, nu, lam, tau)))\n",
    "            \n",
    "            p = la.solve(jacobian(x, nu, lam), - residual(x, nu, lam, tau))\n",
    "\n",
    "            delta_x = p[:150].reshape([150, 1])\n",
    "            delta_nu = p[150:250].reshape([100, 1])\n",
    "            delta_lam = p[250:].reshape([150, 1])\n",
    "            \n",
    "            s_max = np.amin(np.abs(np.divide(lam , delta_lam)))\n",
    "            t = min(1, 0.99*s_max)\n",
    "            \n",
    "            t = backtrack(x, nu, lam, t, p,tau)\n",
    "            \n",
    "            x = x + t*delta_x\n",
    "            nu = nu + t*delta_nu\n",
    "            lam = lam + t* delta_lam\n",
    "            \n",
    "            iterations += 1\n",
    "            history.append(la.norm(residual(x, nu, lam, tau)))\n",
    "            \n",
    "        x_star = x\n",
    "        nu_star = nu\n",
    "        lam_star = lam\n",
    "            \n",
    "        tau = tau / mu\n",
    "    \n",
    "    solution = Bunch()\n",
    "    solution.x_star = x_star\n",
    "    solution.nu_star = nu_star\n",
    "    solution.lam_star = lam_star\n",
    "    solution.dual_gap = 150 * tau\n",
    "    solution.iterations = iterations\n",
    "    solution.history = history\n",
    "    \n",
    "    return solution"
   ]
  },
  {
   "cell_type": "code",
   "execution_count": 161,
   "metadata": {
    "scrolled": false
   },
   "outputs": [],
   "source": [
    "my_solution = interior_LP(xstar, nustar, lam, tau)"
   ]
  },
  {
   "cell_type": "code",
   "execution_count": 162,
   "metadata": {},
   "outputs": [
    {
     "data": {
      "text/plain": [
       "-3.718630460431812"
      ]
     },
     "execution_count": 162,
     "metadata": {},
     "output_type": "execute_result"
    }
   ],
   "source": [
    "(pobj@my_solution.x_star)[0]"
   ]
  },
  {
   "cell_type": "code",
   "execution_count": 163,
   "metadata": {},
   "outputs": [
    {
     "data": {
      "text/plain": [
       "-3.7186319504597276"
      ]
     },
     "execution_count": 163,
     "metadata": {},
     "output_type": "execute_result"
    }
   ],
   "source": [
    "solution.fun"
   ]
  },
  {
   "cell_type": "markdown",
   "metadata": {},
   "source": [
    "### $\\mu = 2$"
   ]
  },
  {
   "cell_type": "code",
   "execution_count": 164,
   "metadata": {},
   "outputs": [],
   "source": [
    "my_solution = interior_LP(xstar, nustar, lam, tau)"
   ]
  },
  {
   "cell_type": "code",
   "execution_count": 165,
   "metadata": {},
   "outputs": [
    {
     "data": {
      "text/plain": [
       "74"
      ]
     },
     "execution_count": 165,
     "metadata": {},
     "output_type": "execute_result"
    }
   ],
   "source": [
    "my_solution.iterations"
   ]
  },
  {
   "cell_type": "markdown",
   "metadata": {},
   "source": [
    "### $\\mu = 10$"
   ]
  },
  {
   "cell_type": "code",
   "execution_count": 166,
   "metadata": {},
   "outputs": [],
   "source": [
    "my_solution = interior_LP(xstar, nustar, lam, tau, 10)"
   ]
  },
  {
   "cell_type": "code",
   "execution_count": 167,
   "metadata": {},
   "outputs": [
    {
     "data": {
      "text/plain": [
       "46"
      ]
     },
     "execution_count": 167,
     "metadata": {},
     "output_type": "execute_result"
    }
   ],
   "source": [
    "my_solution.iterations"
   ]
  },
  {
   "cell_type": "markdown",
   "metadata": {},
   "source": [
    "With $\\mu = 10$ we converged in fewer total iterations of the inner loop. This is expected as $\\tau$ converges to $0$ at a faster rate with a larger $\\mu$, thus we will be solving fewer and fewer equality-constrained problems in the process. \n",
    "\n",
    "This means that it is not necessary to take small steps in values of $\\tau$ at least in this case, since we end up spending a lot of iterations in the non-quadratic stage of Newton's method's convergence."
   ]
  },
  {
   "cell_type": "markdown",
   "metadata": {},
   "source": [
    "## Interior-Point Barrier Method\n",
    "---"
   ]
  },
  {
   "cell_type": "code",
   "execution_count": 168,
   "metadata": {},
   "outputs": [
    {
     "name": "stdout",
     "output_type": "stream",
     "text": [
      "Optimization failed. The problem appears to be unbounded.\n",
      "         Iterations: 86\n"
     ]
    }
   ],
   "source": [
    "p = 100\n",
    "n = 200\n",
    "c = np.zeros(201)\n",
    "c[-1] = 1\n",
    "A = -np.random.normal(size = [p,n])\n",
    "b = np.ones(100)\n",
    "A_ub = np.c_[A,-np.ones(100)]\n",
    "bounds = []\n",
    "\n",
    "res = lp(c, A_ub = A_ub, b_ub = b ,bounds = (None,None),options={\"disp\": True})"
   ]
  },
  {
   "cell_type": "code",
   "execution_count": 169,
   "metadata": {},
   "outputs": [],
   "source": [
    "x0 = res.x[:-1]"
   ]
  },
  {
   "cell_type": "code",
   "execution_count": 170,
   "metadata": {},
   "outputs": [],
   "source": [
    "H = np.identity(200)\n",
    "p = np.zeros(200)\n",
    "\n",
    "def f(x, u):\n",
    "    sum1 = np.dot(np.dot(x.T,H),x)/2 + p@x\n",
    "    sum2 = -np.sum(np.log(-np.dot(A,x)+b))\n",
    "    return sum1+u*sum2\n",
    "\n",
    "def g(x, u):\n",
    "    gf = np.dot(H.T,x)+p\n",
    "    f = np.dot(A,x)-b\n",
    "    go = np.zeros(200)\n",
    "    for index,i in enumerate(f):\n",
    "        if i!= 0:\n",
    "            go += -A[index][:]/i\n",
    "    return gf + u*go\n",
    "\n",
    "def h(x,u):\n",
    "    hf = H\n",
    "    f = np.dot(A,x)-b\n",
    "    ho = 0\n",
    "    for index,i in enumerate(f):\n",
    "        if i!= 0:\n",
    "            ho += np.outer(A[index],A[index].T)/i**2\n",
    "    return hf + u*ho"
   ]
  },
  {
   "cell_type": "code",
   "execution_count": 171,
   "metadata": {},
   "outputs": [],
   "source": [
    "def backtracking_line_search(f, x, p,u, t = 1, alpha = 0.1, beta = 0.8):\n",
    "    while((A@(x+p*t)-b>0).any()):\n",
    "        t = t*beta\n",
    "    while(f(x+p*t,u) > (1-alpha*t)*(f(x,u))):\n",
    "        t = t*beta\n",
    "    return t\n",
    "\n",
    "def Barrier_Method(f,g,h,x0,m=100,to1 = 10**-5, to2 = 10**-6):\n",
    "    x = x0\n",
    "    history = np.array([x0])\n",
    "    u = 100\n",
    "    while(m*u>to1):\n",
    "        while(la.norm(g(x,u)) > to2):\n",
    "            #print(la.norm(g(x,u)))\n",
    "            p = la.solve(h(x,u),-g(x,u))\n",
    "            t = backtracking_line_search(f, x, p, u)\n",
    "            x = x  + t * p\n",
    "        history = np.vstack((history, x))\n",
    "        u= 0.9*u\n",
    "    return history,x"
   ]
  },
  {
   "cell_type": "code",
   "execution_count": 172,
   "metadata": {},
   "outputs": [],
   "source": [
    "def error_plot(f, hist, xstar = 0):\n",
    "    nsteps = hist.shape[0]\n",
    "    fhist = np.zeros(nsteps)\n",
    "    \n",
    "    fstar = np.dot(np.dot(xstar.T,H),xstar)\n",
    "    for i in range(nsteps):\n",
    "        fhist[i] = np.dot(np.dot(hist[i,:],H),hist[i,:])\n",
    "    plt.figure('convergence')\n",
    "    plt.semilogy(np.arange(0, nsteps), np.absolute(fhist-fstar))\n",
    "    plt.xlabel('Iteration count')\n",
    "    plt.ylabel(r'$|f^k - f^*|$')\n",
    "    plt.show()"
   ]
  },
  {
   "cell_type": "code",
   "execution_count": 173,
   "metadata": {},
   "outputs": [],
   "source": [
    "hist,xstar = Barrier_Method(f,g,h,x0)"
   ]
  },
  {
   "cell_type": "code",
   "execution_count": 174,
   "metadata": {},
   "outputs": [
    {
     "data": {
      "image/png": "[encoded data removed]",
      "text/plain": [
       "<Figure size 432x288 with 1 Axes>"
      ]
     },
     "metadata": {},
     "output_type": "display_data"
    }
   ],
   "source": [
    "error_plot(f,hist,xstar)"
   ]
  },
  {
   "cell_type": "code",
   "execution_count": 175,
   "metadata": {},
   "outputs": [
    {
     "data": {
      "text/plain": [
       "2202.512595305888"
      ]
     },
     "execution_count": 175,
     "metadata": {},
     "output_type": "execute_result"
    }
   ],
   "source": [
    "f(np.array(x0),0.2)"
   ]
  },
  {
   "cell_type": "code",
   "execution_count": 176,
   "metadata": {},
   "outputs": [
    {
     "data": {
      "text/plain": [
       "True"
      ]
     },
     "execution_count": 176,
     "metadata": {},
     "output_type": "execute_result"
    }
   ],
   "source": [
    "(A@xstar-b<0).all()"
   ]
  },
  {
   "cell_type": "markdown",
   "metadata": {},
   "source": [
    "## Inverse barrier\n",
    "---"
   ]
  },
  {
   "cell_type": "markdown",
   "metadata": {},
   "source": [
    "## Largest Enclosed Rectangle\n",
    "---"
   ]
  },
  {
   "cell_type": "code",
   "execution_count": null,
   "metadata": {},
   "outputs": [],
   "source": []
  }
 ],
 "metadata": {
  "kernelspec": {
   "display_name": "Python 3",
   "language": "python",
   "name": "python3"
  },
  "language_info": {
   "codemirror_mode": {
    "name": "ipython",
    "version": 3
   },
   "file_extension": ".py",
   "mimetype": "text/x-python",
   "name": "python",
   "nbconvert_exporter": "python",
   "pygments_lexer": "ipython3",
   "version": "3.6.5"
  }
 },
 "nbformat": 4,
 "nbformat_minor": 2
}
