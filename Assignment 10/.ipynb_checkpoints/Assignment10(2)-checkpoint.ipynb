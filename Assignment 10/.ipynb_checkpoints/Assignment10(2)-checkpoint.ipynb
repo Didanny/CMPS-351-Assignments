{
 "cells": [
  {
   "cell_type": "markdown",
   "metadata": {},
   "source": [
    "Danny Abraham & Jad Abi Zaki\n",
    "<center><h1>CMPS 351</h1></center>\n",
    "<center><h2>Assignment 10</h2></center>"
   ]
  },
  {
   "cell_type": "code",
   "execution_count": 29,
   "metadata": {},
   "outputs": [],
   "source": [
    "import numpy as np\n",
    "import numpy.linalg as la\n",
    "from bunch import Bunch"
   ]
  },
  {
   "cell_type": "markdown",
   "metadata": {},
   "source": [
    "## Interior Point Method for LP\n",
    "---"
   ]
  },
  {
   "cell_type": "code",
   "execution_count": 2,
   "metadata": {},
   "outputs": [
    {
     "name": "stdout",
     "output_type": "stream",
     "text": [
      "(100, 150)\n",
      "(100, 1)\n",
      "(100, 1)\n",
      "(150, 1)\n",
      "(150, 1)\n"
     ]
    }
   ],
   "source": [
    "A = np.ones([100, 150])\n",
    "print(A.shape)\n",
    "\n",
    "b = np.ones([100, 1])\n",
    "print(b.shape)\n",
    "\n",
    "nu = np.ones([100, 1])\n",
    "print(nu.shape)\n",
    "\n",
    "lam = np.ones([150, 1])\n",
    "print(lam.shape)\n",
    "\n",
    "p = np.ones([150, 1])\n",
    "print(p.shape)\n",
    "\n",
    "tau = 1\n",
    "\n",
    "x = np.ones([150, 1])"
   ]
  },
  {
   "cell_type": "markdown",
   "metadata": {},
   "source": [
    "#### Residual"
   ]
  },
  {
   "cell_type": "code",
   "execution_count": 3,
   "metadata": {},
   "outputs": [],
   "source": [
    "def residual(x, nu, lam):\n",
    "    r1 = p + A.T@nu + - lam #p + A.T@nu + (-np.ones(150)).T@lam\n",
    "    r2 = A@x - b\n",
    "    r3 = np.diag(lam[:, 0])@x - tau*np.ones([150, 1])\n",
    "    r = np.vstack([r1, r2, r3])\n",
    "    return r"
   ]
  },
  {
   "cell_type": "code",
   "execution_count": 13,
   "metadata": {},
   "outputs": [
    {
     "data": {
      "text/plain": [
       "(400, 1)"
      ]
     },
     "execution_count": 13,
     "metadata": {},
     "output_type": "execute_result"
    }
   ],
   "source": [
    "residual(x, nu, lam).shape"
   ]
  },
  {
   "cell_type": "markdown",
   "metadata": {},
   "source": [
    "#### Jacobian"
   ]
  },
  {
   "cell_type": "code",
   "execution_count": 9,
   "metadata": {},
   "outputs": [],
   "source": [
    "def jacobian(x, nu, lam):\n",
    "    j11 = np.zeros([150, 150])\n",
    "    j12 = A.T\n",
    "    j13 = np.identity(150)\n",
    "    j1 = np.hstack([j11, j12, j13])\n",
    "    \n",
    "    j21 = A\n",
    "    j22 = np.zeros([100, 100])\n",
    "    j23 = np.zeros([100, 150])\n",
    "    j2 = np.hstack([j21, j22, j23])\n",
    "    \n",
    "    j31 = np.diag(lam[:, 0])\n",
    "    j32 = np.zeros([150, 100])\n",
    "    j33 = np.diag(x[:, 0])\n",
    "    j3 = np.hstack([j31, j32, j33])\n",
    "    \n",
    "    j = np.vstack([j1, j2, j3])\n",
    "    return j"
   ]
  },
  {
   "cell_type": "code",
   "execution_count": 11,
   "metadata": {},
   "outputs": [
    {
     "data": {
      "text/plain": [
       "(400, 400)"
      ]
     },
     "execution_count": 11,
     "metadata": {},
     "output_type": "execute_result"
    }
   ],
   "source": [
    "jacobian(x, nu, lam).shape"
   ]
  },
  {
   "cell_type": "markdown",
   "metadata": {},
   "source": [
    "#### Path Following Method"
   ]
  },
  {
   "cell_type": "code",
   "execution_count": null,
   "metadata": {},
   "outputs": [],
   "source": [
    "def backtrack(x, nu, lam, t, p, alpha=0.01, beta=0.8):\n",
    "    delta_x = p[:150].reshape([150, 1])\n",
    "    delta_nu = p[150:250].reshape([100, 1])\n",
    "    delta_lam = p[250:].reshape([150, 1])\n",
    "    \n",
    "    while la.norm(residual(x + t*delta_x, nu + t*delta_nu, lam + t*delta_lam)) >= (1 - alpha*t)*la.norm(residual(x, nu, lam)):\n",
    "        t *= beta\n",
    "    while x + t*delta_x < 0:\n",
    "        t *= beta\n",
    "        \n",
    "    return t"
   ]
  },
  {
   "cell_type": "code",
   "execution_count": null,
   "metadata": {},
   "outputs": [],
   "source": [
    "def interior_LP(x0, nu0, lam0, tau, tol1, tol2, mu):\n",
    "    \n",
    "    iterations = 0\n",
    "    x_star = None\n",
    "    nu_star = None\n",
    "    lam_star = None\n",
    "    dual_gap = None\n",
    "    \n",
    "    x = x0\n",
    "    nu = nu0\n",
    "    lam = lam0\n",
    "    \n",
    "    while 150 * tau > tol1:\n",
    "        while la.norm(residual(x, nu, lam)) > tol2:\n",
    "            \n",
    "            p = la.solve(jacobian(x, nu, lam), - residual(x, nu, lam))\n",
    "\n",
    "            delta_x = p[:150].reshape([150, 1])\n",
    "            delta_nu = p[150:250].reshape([100, 1])\n",
    "            delta_lam = p[250:].reshape([150, 1])\n",
    "            \n",
    "            s_max = np.amin(lam / delta_lam)\n",
    "            t = min(1, 0.99*s_max)\n",
    "            \n",
    "            t = backtrack(x, nu, lam, t, p)\n",
    "            \n",
    "            x = x + t*delta_x\n",
    "            nu = nu + t*delta_nu\n",
    "            lam = lam + t* delta_lam\n",
    "            \n",
    "            iterations += 1\n",
    "            \n",
    "        x_star = x\n",
    "        nu_star = nu\n",
    "        lam_star = lam\n",
    "            \n",
    "        tau = tau / mu\n",
    "    \n",
    "    solution = Bunch()\n",
    "    solution.x_star = x_star\n",
    "    solution.nu_star = nu_star\n",
    "    solution.lam_star = lam_star\n",
    "    solution.dual_gap = 150 * tau\n",
    "    solution.iterations = iterations\n",
    "    \n",
    "    return solution"
   ]
  },
  {
   "cell_type": "code",
   "execution_count": 15,
   "metadata": {},
   "outputs": [
    {
     "data": {
      "text/plain": [
       "1"
      ]
     },
     "execution_count": 15,
     "metadata": {},
     "output_type": "execute_result"
    }
   ],
   "source": [
    "min(1, 2, 3)"
   ]
  },
  {
   "cell_type": "code",
   "execution_count": 20,
   "metadata": {},
   "outputs": [],
   "source": [
    "p = np.array(list(range(400)))"
   ]
  },
  {
   "cell_type": "code",
   "execution_count": 19,
   "metadata": {},
   "outputs": [
    {
     "name": "stdout",
     "output_type": "stream",
     "text": [
      "(150,)\n",
      "(100,)\n",
      "(150,)\n"
     ]
    }
   ],
   "source": [
    "print(p[:150].shape)\n",
    "print(p[150:250].shape)\n",
    "print(p[250:].shape)"
   ]
  },
  {
   "cell_type": "code",
   "execution_count": 22,
   "metadata": {},
   "outputs": [
    {
     "name": "stdout",
     "output_type": "stream",
     "text": [
      "[[  0]\n",
      " [  1]\n",
      " [  2]\n",
      " [  3]\n",
      " [  4]\n",
      " [  5]\n",
      " [  6]\n",
      " [  7]\n",
      " [  8]\n",
      " [  9]\n",
      " [ 10]\n",
      " [ 11]\n",
      " [ 12]\n",
      " [ 13]\n",
      " [ 14]\n",
      " [ 15]\n",
      " [ 16]\n",
      " [ 17]\n",
      " [ 18]\n",
      " [ 19]\n",
      " [ 20]\n",
      " [ 21]\n",
      " [ 22]\n",
      " [ 23]\n",
      " [ 24]\n",
      " [ 25]\n",
      " [ 26]\n",
      " [ 27]\n",
      " [ 28]\n",
      " [ 29]\n",
      " [ 30]\n",
      " [ 31]\n",
      " [ 32]\n",
      " [ 33]\n",
      " [ 34]\n",
      " [ 35]\n",
      " [ 36]\n",
      " [ 37]\n",
      " [ 38]\n",
      " [ 39]\n",
      " [ 40]\n",
      " [ 41]\n",
      " [ 42]\n",
      " [ 43]\n",
      " [ 44]\n",
      " [ 45]\n",
      " [ 46]\n",
      " [ 47]\n",
      " [ 48]\n",
      " [ 49]\n",
      " [ 50]\n",
      " [ 51]\n",
      " [ 52]\n",
      " [ 53]\n",
      " [ 54]\n",
      " [ 55]\n",
      " [ 56]\n",
      " [ 57]\n",
      " [ 58]\n",
      " [ 59]\n",
      " [ 60]\n",
      " [ 61]\n",
      " [ 62]\n",
      " [ 63]\n",
      " [ 64]\n",
      " [ 65]\n",
      " [ 66]\n",
      " [ 67]\n",
      " [ 68]\n",
      " [ 69]\n",
      " [ 70]\n",
      " [ 71]\n",
      " [ 72]\n",
      " [ 73]\n",
      " [ 74]\n",
      " [ 75]\n",
      " [ 76]\n",
      " [ 77]\n",
      " [ 78]\n",
      " [ 79]\n",
      " [ 80]\n",
      " [ 81]\n",
      " [ 82]\n",
      " [ 83]\n",
      " [ 84]\n",
      " [ 85]\n",
      " [ 86]\n",
      " [ 87]\n",
      " [ 88]\n",
      " [ 89]\n",
      " [ 90]\n",
      " [ 91]\n",
      " [ 92]\n",
      " [ 93]\n",
      " [ 94]\n",
      " [ 95]\n",
      " [ 96]\n",
      " [ 97]\n",
      " [ 98]\n",
      " [ 99]\n",
      " [100]\n",
      " [101]\n",
      " [102]\n",
      " [103]\n",
      " [104]\n",
      " [105]\n",
      " [106]\n",
      " [107]\n",
      " [108]\n",
      " [109]\n",
      " [110]\n",
      " [111]\n",
      " [112]\n",
      " [113]\n",
      " [114]\n",
      " [115]\n",
      " [116]\n",
      " [117]\n",
      " [118]\n",
      " [119]\n",
      " [120]\n",
      " [121]\n",
      " [122]\n",
      " [123]\n",
      " [124]\n",
      " [125]\n",
      " [126]\n",
      " [127]\n",
      " [128]\n",
      " [129]\n",
      " [130]\n",
      " [131]\n",
      " [132]\n",
      " [133]\n",
      " [134]\n",
      " [135]\n",
      " [136]\n",
      " [137]\n",
      " [138]\n",
      " [139]\n",
      " [140]\n",
      " [141]\n",
      " [142]\n",
      " [143]\n",
      " [144]\n",
      " [145]\n",
      " [146]\n",
      " [147]\n",
      " [148]\n",
      " [149]]\n",
      "[150 151 152 153 154 155 156 157 158 159 160 161 162 163 164 165 166 167\n",
      " 168 169 170 171 172 173 174 175 176 177 178 179 180 181 182 183 184 185\n",
      " 186 187 188 189 190 191 192 193 194 195 196 197 198 199 200 201 202 203\n",
      " 204 205 206 207 208 209 210 211 212 213 214 215 216 217 218 219 220 221\n",
      " 222 223 224 225 226 227 228 229 230 231 232 233 234 235 236 237 238 239\n",
      " 240 241 242 243 244 245 246 247 248 249]\n",
      "[250 251 252 253 254 255 256 257 258 259 260 261 262 263 264 265 266 267\n",
      " 268 269 270 271 272 273 274 275 276 277 278 279 280 281 282 283 284 285\n",
      " 286 287 288 289 290 291 292 293 294 295 296 297 298 299 300 301 302 303\n",
      " 304 305 306 307 308 309 310 311 312 313 314 315 316 317 318 319 320 321\n",
      " 322 323 324 325 326 327 328 329 330 331 332 333 334 335 336 337 338 339\n",
      " 340 341 342 343 344 345 346 347 348 349 350 351 352 353 354 355 356 357\n",
      " 358 359 360 361 362 363 364 365 366 367 368 369 370 371 372 373 374 375\n",
      " 376 377 378 379 380 381 382 383 384 385 386 387 388 389 390 391 392 393\n",
      " 394 395 396 397 398 399]\n"
     ]
    }
   ],
   "source": [
    "print(p[:150].reshape([150, 1]))\n",
    "print(p[150:250])\n",
    "print(p[250:])"
   ]
  },
  {
   "cell_type": "code",
   "execution_count": 30,
   "metadata": {},
   "outputs": [],
   "source": [
    "solution = Bunch()"
   ]
  },
  {
   "cell_type": "code",
   "execution_count": 38,
   "metadata": {},
   "outputs": [],
   "source": [
    "solution.yup = 1"
   ]
  },
  {
   "cell_type": "code",
   "execution_count": 36,
   "metadata": {},
   "outputs": [
    {
     "data": {
      "text/plain": [
       "dict_items([('yup', 1)])"
      ]
     },
     "execution_count": 36,
     "metadata": {},
     "output_type": "execute_result"
    }
   ],
   "source": [
    "solution.items()"
   ]
  },
  {
   "cell_type": "code",
   "execution_count": null,
   "metadata": {},
   "outputs": [],
   "source": []
  }
 ],
 "metadata": {
  "kernelspec": {
   "display_name": "Python 3",
   "language": "python",
   "name": "python3"
  },
  "language_info": {
   "codemirror_mode": {
    "name": "ipython",
    "version": 3
   },
   "file_extension": ".py",
   "mimetype": "text/x-python",
   "name": "python",
   "nbconvert_exporter": "python",
   "pygments_lexer": "ipython3",
   "version": "3.6.5"
  }
 },
 "nbformat": 4,
 "nbformat_minor": 2
}
