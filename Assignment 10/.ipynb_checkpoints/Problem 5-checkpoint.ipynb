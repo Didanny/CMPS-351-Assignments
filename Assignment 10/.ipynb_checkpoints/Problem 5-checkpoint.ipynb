{
 "cells": [
  {
   "cell_type": "code",
   "execution_count": 20,
   "metadata": {},
   "outputs": [],
   "source": [
    "import cvxpy as cvx\n",
    "import numpy as np\n",
    "import matplotlib.pyplot as plt"
   ]
  },
  {
   "cell_type": "code",
   "execution_count": 21,
   "metadata": {},
   "outputs": [],
   "source": [
    "A = np.array([[0,-1],[2,-4],[2,1],[-4,4],[-4,0]])\n",
    "b = np.ones(5)\n"
   ]
  },
  {
   "cell_type": "code",
   "execution_count": 36,
   "metadata": {},
   "outputs": [
    {
     "name": "stdout",
     "output_type": "stream",
     "text": [
      "maximize var485 * var486\n",
      "subject to [[ 0. -1.]\n",
      " [ 2. -4.]\n",
      " [ 2.  1.]\n",
      " [-4.  4.]\n",
      " [-4.  0.]] * var481 <= [1. 1. 1. 1. 1.]\n",
      "           [[ 0. -1.]\n",
      " [ 2. -4.]\n",
      " [ 2.  1.]\n",
      " [-4.  4.]\n",
      " [-4.  0.]] * var482 <= [1. 1. 1. 1. 1.]\n",
      "           [[ 0. -1.]\n",
      " [ 2. -4.]\n",
      " [ 2.  1.]\n",
      " [-4.  4.]\n",
      " [-4.  0.]] * var483 <= [1. 1. 1. 1. 1.]\n",
      "           [[ 0. -1.]\n",
      " [ 2. -4.]\n",
      " [ 2.  1.]\n",
      " [-4.  4.]\n",
      " [-4.  0.]] * var484 <= [1. 1. 1. 1. 1.]\n",
      "           var484[0] == var482[0]\n",
      "           var484[1] == var481[1]\n",
      "           var483[0] == var481[0]\n",
      "           var483[1] == var482[1]\n"
     ]
    }
   ],
   "source": [
    "p1 = cvx.Variable(2)\n",
    "p2 = cvx.Variable(2)\n",
    "p3 = cvx.Variable(2)\n",
    "p4 = cvx.Variable(2)\n",
    "w = cvx.Variable()\n",
    "h = cvx.Variable()\n",
    "\n",
    "obj = cvx.Maximize(w*h)\n",
    "\n",
    "constraints_1 = [A*p1 <= b]\n",
    "constraints_2 = [A*p2 <= b]\n",
    "constraints_3 = [A*p3 <= b]\n",
    "constraints_4 = [A*p4 <= b]\n",
    "constraints_5 = [p4[0] == p2[0]]\n",
    "constraints_6 = [p4[1] == p1[1]]\n",
    "constraints_7 = [p3[0] == p1[0]]\n",
    "constraints_8 = [p3[1] == p2[1]]\n",
    "constraints_w = [p1[0]-p2[0]==w]\n",
    "constraints_w = [p1[1]-p2[1]==h]\n",
    "\n",
    "constraints = constraints_1 + constraints_2 +constraints_3+constraints_4+constraints_5+constraints_6\\\n",
    "                    +constraints_7+constraints_8\n",
    "\n",
    "prob = cvx.Problem(obj,constraints)\n",
    "print(prob)"
   ]
  },
  {
   "cell_type": "code",
   "execution_count": 40,
   "metadata": {
    "scrolled": true
   },
   "outputs": [
    {
     "ename": "DCPError",
     "evalue": "Problem does not follow DCP rules. However, the problem does follow DGP rules. Consider calling this function with `gp=True`.",
     "output_type": "error",
     "traceback": [
      "\u001b[1;31m---------------------------------------------------------------------------\u001b[0m",
      "\u001b[1;31mDCPError\u001b[0m                                  Traceback (most recent call last)",
      "\u001b[1;32m<ipython-input-40-50f01c86cab9>\u001b[0m in \u001b[0;36m<module>\u001b[1;34m\u001b[0m\n\u001b[1;32m----> 1\u001b[1;33m \u001b[0mprob\u001b[0m\u001b[1;33m.\u001b[0m\u001b[0msolve\u001b[0m\u001b[1;33m(\u001b[0m\u001b[1;33m)\u001b[0m\u001b[1;33m\u001b[0m\u001b[1;33m\u001b[0m\u001b[0m\n\u001b[0m\u001b[0;32m      2\u001b[0m \u001b[0mprob\u001b[0m\u001b[1;33m.\u001b[0m\u001b[0mvalue\u001b[0m\u001b[1;33m\u001b[0m\u001b[1;33m\u001b[0m\u001b[0m\n",
      "\u001b[1;32mC:\\Users\\Badr\\Anaconda3\\lib\\site-packages\\cvxpy\\problems\\problem.py\u001b[0m in \u001b[0;36msolve\u001b[1;34m(self, *args, **kwargs)\u001b[0m\n\u001b[0;32m    269\u001b[0m         \u001b[1;32melse\u001b[0m\u001b[1;33m:\u001b[0m\u001b[1;33m\u001b[0m\u001b[1;33m\u001b[0m\u001b[0m\n\u001b[0;32m    270\u001b[0m             \u001b[0msolve_func\u001b[0m \u001b[1;33m=\u001b[0m \u001b[0mProblem\u001b[0m\u001b[1;33m.\u001b[0m\u001b[0m_solve\u001b[0m\u001b[1;33m\u001b[0m\u001b[1;33m\u001b[0m\u001b[0m\n\u001b[1;32m--> 271\u001b[1;33m         \u001b[1;32mreturn\u001b[0m \u001b[0msolve_func\u001b[0m\u001b[1;33m(\u001b[0m\u001b[0mself\u001b[0m\u001b[1;33m,\u001b[0m \u001b[1;33m*\u001b[0m\u001b[0margs\u001b[0m\u001b[1;33m,\u001b[0m \u001b[1;33m**\u001b[0m\u001b[0mkwargs\u001b[0m\u001b[1;33m)\u001b[0m\u001b[1;33m\u001b[0m\u001b[1;33m\u001b[0m\u001b[0m\n\u001b[0m\u001b[0;32m    272\u001b[0m \u001b[1;33m\u001b[0m\u001b[0m\n\u001b[0;32m    273\u001b[0m     \u001b[1;33m@\u001b[0m\u001b[0mclassmethod\u001b[0m\u001b[1;33m\u001b[0m\u001b[1;33m\u001b[0m\u001b[0m\n",
      "\u001b[1;32mC:\\Users\\Badr\\Anaconda3\\lib\\site-packages\\cvxpy\\problems\\problem.py\u001b[0m in \u001b[0;36m_solve\u001b[1;34m(self, solver, warm_start, verbose, parallel, gp, **kwargs)\u001b[0m\n\u001b[0;32m    491\u001b[0m                                             verbose, **kwargs)\n\u001b[0;32m    492\u001b[0m \u001b[1;33m\u001b[0m\u001b[0m\n\u001b[1;32m--> 493\u001b[1;33m         \u001b[0mself\u001b[0m\u001b[1;33m.\u001b[0m\u001b[0m_construct_chains\u001b[0m\u001b[1;33m(\u001b[0m\u001b[0msolver\u001b[0m\u001b[1;33m=\u001b[0m\u001b[0msolver\u001b[0m\u001b[1;33m,\u001b[0m \u001b[0mgp\u001b[0m\u001b[1;33m=\u001b[0m\u001b[0mgp\u001b[0m\u001b[1;33m)\u001b[0m\u001b[1;33m\u001b[0m\u001b[1;33m\u001b[0m\u001b[0m\n\u001b[0m\u001b[0;32m    494\u001b[0m \u001b[1;33m\u001b[0m\u001b[0m\n\u001b[0;32m    495\u001b[0m         \u001b[0mdata\u001b[0m\u001b[1;33m,\u001b[0m \u001b[0msolving_inverse_data\u001b[0m \u001b[1;33m=\u001b[0m\u001b[0;31m \u001b[0m\u001b[0;31m\\\u001b[0m\u001b[1;33m\u001b[0m\u001b[1;33m\u001b[0m\u001b[0m\n",
      "\u001b[1;32mC:\\Users\\Badr\\Anaconda3\\lib\\site-packages\\cvxpy\\problems\\problem.py\u001b[0m in \u001b[0;36m_construct_chains\u001b[1;34m(self, solver, gp)\u001b[0m\n\u001b[0;32m    448\u001b[0m \u001b[1;33m\u001b[0m\u001b[0m\n\u001b[0;32m    449\u001b[0m             \u001b[1;32mexcept\u001b[0m \u001b[0mException\u001b[0m \u001b[1;32mas\u001b[0m \u001b[0me\u001b[0m\u001b[1;33m:\u001b[0m\u001b[1;33m\u001b[0m\u001b[1;33m\u001b[0m\u001b[0m\n\u001b[1;32m--> 450\u001b[1;33m                 \u001b[1;32mraise\u001b[0m \u001b[0me\u001b[0m\u001b[1;33m\u001b[0m\u001b[1;33m\u001b[0m\u001b[0m\n\u001b[0m\u001b[0;32m    451\u001b[0m \u001b[1;33m\u001b[0m\u001b[0m\n\u001b[0;32m    452\u001b[0m     def _solve(self,\n",
      "\u001b[1;32mC:\\Users\\Badr\\Anaconda3\\lib\\site-packages\\cvxpy\\problems\\problem.py\u001b[0m in \u001b[0;36m_construct_chains\u001b[1;34m(self, solver, gp)\u001b[0m\n\u001b[0;32m    437\u001b[0m \u001b[1;33m\u001b[0m\u001b[0m\n\u001b[0;32m    438\u001b[0m                 \u001b[0mself\u001b[0m\u001b[1;33m.\u001b[0m\u001b[0m_intermediate_chain\u001b[0m \u001b[1;33m=\u001b[0m\u001b[0;31m \u001b[0m\u001b[0;31m\\\u001b[0m\u001b[1;33m\u001b[0m\u001b[1;33m\u001b[0m\u001b[0m\n\u001b[1;32m--> 439\u001b[1;33m                     \u001b[0mconstruct_intermediate_chain\u001b[0m\u001b[1;33m(\u001b[0m\u001b[0mself\u001b[0m\u001b[1;33m,\u001b[0m \u001b[0mcandidate_solvers\u001b[0m\u001b[1;33m,\u001b[0m \u001b[0mgp\u001b[0m\u001b[1;33m=\u001b[0m\u001b[0mgp\u001b[0m\u001b[1;33m)\u001b[0m\u001b[1;33m\u001b[0m\u001b[1;33m\u001b[0m\u001b[0m\n\u001b[0m\u001b[0;32m    440\u001b[0m                 \u001b[0mself\u001b[0m\u001b[1;33m.\u001b[0m\u001b[0m_intermediate_problem\u001b[0m\u001b[1;33m,\u001b[0m \u001b[0mself\u001b[0m\u001b[1;33m.\u001b[0m\u001b[0m_intermediate_inverse_data\u001b[0m \u001b[1;33m=\u001b[0m\u001b[0;31m \u001b[0m\u001b[0;31m\\\u001b[0m\u001b[1;33m\u001b[0m\u001b[1;33m\u001b[0m\u001b[0m\n\u001b[0;32m    441\u001b[0m                     \u001b[0mself\u001b[0m\u001b[1;33m.\u001b[0m\u001b[0m_intermediate_chain\u001b[0m\u001b[1;33m.\u001b[0m\u001b[0mapply\u001b[0m\u001b[1;33m(\u001b[0m\u001b[0mself\u001b[0m\u001b[1;33m)\u001b[0m\u001b[1;33m\u001b[0m\u001b[1;33m\u001b[0m\u001b[0m\n",
      "\u001b[1;32mC:\\Users\\Badr\\Anaconda3\\lib\\site-packages\\cvxpy\\reductions\\solvers\\intermediate_chain.py\u001b[0m in \u001b[0;36mconstruct_intermediate_chain\u001b[1;34m(problem, candidates, gp)\u001b[0m\n\u001b[0;32m     50\u001b[0m         append = (\" However, the problem does follow DGP rules. \"\n\u001b[0;32m     51\u001b[0m                   \"Consider calling this function with `gp=True`.\")\n\u001b[1;32m---> 52\u001b[1;33m         \u001b[1;32mraise\u001b[0m \u001b[0mDCPError\u001b[0m\u001b[1;33m(\u001b[0m\u001b[1;34m\"Problem does not follow DCP rules.\"\u001b[0m \u001b[1;33m+\u001b[0m \u001b[0mappend\u001b[0m\u001b[1;33m)\u001b[0m\u001b[1;33m\u001b[0m\u001b[1;33m\u001b[0m\u001b[0m\n\u001b[0m\u001b[0;32m     53\u001b[0m \u001b[1;33m\u001b[0m\u001b[0m\n\u001b[0;32m     54\u001b[0m     \u001b[1;32melif\u001b[0m \u001b[0mgp\u001b[0m \u001b[1;32mand\u001b[0m \u001b[1;32mnot\u001b[0m \u001b[0mproblem\u001b[0m\u001b[1;33m.\u001b[0m\u001b[0mis_dgp\u001b[0m\u001b[1;33m(\u001b[0m\u001b[1;33m)\u001b[0m\u001b[1;33m:\u001b[0m\u001b[1;33m\u001b[0m\u001b[1;33m\u001b[0m\u001b[0m\n",
      "\u001b[1;31mDCPError\u001b[0m: Problem does not follow DCP rules. However, the problem does follow DGP rules. Consider calling this function with `gp=True`."
     ]
    }
   ],
   "source": [
    "prob.solve()\n",
    "prob.value"
   ]
  },
  {
   "cell_type": "code",
   "execution_count": 24,
   "metadata": {},
   "outputs": [
    {
     "data": {
      "text/plain": [
       "array([-1.10271734e-09, -6.25000000e-02])"
      ]
     },
     "execution_count": 24,
     "metadata": {},
     "output_type": "execute_result"
    }
   ],
   "source": [
    "p2.value"
   ]
  },
  {
   "cell_type": "code",
   "execution_count": 17,
   "metadata": {},
   "outputs": [
    {
     "data": {
      "text/plain": [
       "(-0.5, 1)"
      ]
     },
     "execution_count": 17,
     "metadata": {},
     "output_type": "execute_result"
    },
    {
     "data": {
      "image/png": "[encoded data removed]",
      "text/plain": [
       "<Figure size 432x288 with 1 Axes>"
      ]
     },
     "metadata": {
      "needs_background": "light"
     },
     "output_type": "display_data"
    }
   ],
   "source": [
    "a = np.linspace(-5,10,10000)\n",
    "\n",
    "fig, ax = plt.subplots()\n",
    "for i in range(len(b)):\n",
    "    if A[i][1] != 0:\n",
    "        y = -(A[i][0]*a -b[i])/(A[i][1])\n",
    "    else:\n",
    "        y = -(A[i][0]*a -b[i])\n",
    "    ax.plot(y, a)\n",
    "\n",
    "ax.axis('equal')\n",
    "\n",
    "h = p1.value[0] - p2.value[0]\n",
    "w = p1.value[1] - p2.value[1]\n",
    "rectangle=plt.Rectangle((p2.value[1],p2.value[0]),w,h , color='r')\n",
    "ax.add_artist(rectangle)\n",
    "\n",
    "ax.set_xlim([-0.5,0.5])\n",
    "ax.set_ylim([-0.5,1])"
   ]
  },
  {
   "cell_type": "code",
   "execution_count": 28,
   "metadata": {},
   "outputs": [
    {
     "name": "stdout",
     "output_type": "stream",
     "text": [
      "maximize log(var386) + log(var387)\n",
      "subject to [[ 0. -1.]\n",
      " [ 2. -4.]\n",
      " [ 2.  1.]\n",
      " [-4.  4.]\n",
      " [-4.  0.]] * var385 <= [1. 1. 1. 1. 1.]\n",
      "           [ 0.  2.  2. -4. -4.] * Promote(var385[0] + var386, (5,)) + [-1. -4.  1.  4.  0.] * Promote(var385[1], (5,)) <= [1. 1. 1. 1. 1.]\n",
      "           [ 0.  2.  2. -4. -4.] * Promote(var385[0], (5,)) + [-1. -4.  1.  4.  0.] * Promote(var385[1] + var387, (5,)) <= [1. 1. 1. 1. 1.]\n"
     ]
    }
   ],
   "source": [
    "p1 = cvx.Variable(2)\n",
    "w = cvx.Variable(1,nonneg =True)\n",
    "h = cvx.Variable(1,nonneg =True)\n",
    "\n",
    "obj = cvx.Maximize(cvx.log(w)+cvx.log(h))\n",
    "\n",
    "constraints_1 = [A*p1 <= b]\n",
    "constraints_2 = [A[:,0]*(p1[0]+w)+A[:,1]*p1[1] <= b]\n",
    "constraints_3 = [A[:,0]*p1[0]+A[:,1]*(p1[1]+h) <= b]\n",
    "\n",
    "constraints = constraints_1 + constraints_2 +constraints_3\n",
    "\n",
    "prob = cvx.Problem(obj,constraints)\n",
    "print(prob)"
   ]
  },
  {
   "cell_type": "code",
   "execution_count": 29,
   "metadata": {},
   "outputs": [
    {
     "name": "stdout",
     "output_type": "stream",
     "text": [
      "\n",
      "ECOS 2.0.7 - (C) embotech GmbH, Zurich Switzerland, 2012-15. Web: www.embotech.com/ECOS\n",
      "\n",
      "It     pcost       dcost      gap   pres   dres    k/t    mu     step   sigma     IR    |   BT\n",
      " 0  +0.000e+00  -1.301e+01  +2e+01  4e-01  5e-01  1e+00  1e+00    ---    ---    0  0  - |  -  - \n",
      " 1  -1.928e-01  -4.574e+00  +7e+00  1e-01  2e-01  3e-01  3e-01  0.7394  5e-02   1  1  1 |  0  1\n",
      " 2  +8.682e-01  -8.040e-01  +2e+00  6e-02  7e-02  2e-01  9e-02  0.7833  2e-01   1  1  1 |  3  1\n",
      " 3  +1.527e+00  +6.999e-01  +8e-01  3e-02  3e-02  8e-02  4e-02  0.9791  4e-01   1  1  1 |  6  0\n",
      " 4  +1.801e+00  +1.563e+00  +2e-01  8e-03  1e-02  3e-02  9e-03  0.7833  6e-02   1  1  1 |  2  1\n",
      " 5  +1.912e+00  +1.846e+00  +5e-02  2e-03  3e-03  8e-03  2e-03  0.7833  6e-02   1  1  1 |  2  1\n",
      " 6  +1.943e+00  +1.908e+00  +3e-02  1e-03  1e-03  4e-03  1e-03  0.9791  5e-01   1  1  1 |  7  0\n",
      " 7  +1.957e+00  +1.949e+00  +6e-03  3e-04  3e-04  9e-04  3e-04  0.7833  1e-02   2  1  1 |  1  1\n",
      " 8  +1.961e+00  +1.959e+00  +1e-03  7e-05  7e-05  2e-04  6e-05  0.7833  9e-03   2  1  1 |  1  1\n",
      " 9  +1.961e+00  +1.961e+00  +3e-04  1e-05  2e-05  4e-05  1e-05  0.7833  1e-02   2  1  1 |  1  1\n",
      "10  +1.962e+00  +1.962e+00  +7e-05  3e-06  4e-06  1e-05  3e-06  0.7833  9e-03   1  0  0 |  1  1\n",
      "11  +1.962e+00  +1.962e+00  +2e-05  7e-07  8e-07  2e-06  7e-07  0.7802  1e-02   1  0  0 |  1  1\n",
      "12  +1.962e+00  +1.962e+00  +4e-06  2e-07  2e-07  6e-07  2e-07  0.7833  5e-02   1  0  0 |  2  1\n",
      "13  +1.962e+00  +1.962e+00  +9e-07  4e-08  5e-08  1e-07  4e-08  0.7833  9e-03   0  0  0 |  1  1\n",
      "14  +1.962e+00  +1.962e+00  +2e-07  1e-08  1e-08  3e-08  9e-09  0.7833  1e-02   0  0  0 |  1  1\n",
      "15  +1.962e+00  +1.962e+00  +8e-08  4e-09  4e-09  1e-08  3e-09  0.6266  5e-02   0  0  0 |  2  2\n",
      "16  +1.962e+00  +1.962e+00  +2e-08  9e-10  1e-09  3e-09  8e-10  0.7833  9e-03   0  0  0 |  1  1\n",
      "\n",
      "OPTIMAL (within feastol=1.0e-09, reltol=9.5e-09, abstol=1.9e-08).\n",
      "Runtime: 0.000450 seconds.\n",
      "\n"
     ]
    },
    {
     "data": {
      "text/plain": [
       "-1.9616584911206065"
      ]
     },
     "execution_count": 29,
     "metadata": {},
     "output_type": "execute_result"
    }
   ],
   "source": [
    "prob.solve(verbose = True)\n",
    "prob.value"
   ]
  },
  {
   "cell_type": "code",
   "execution_count": 30,
   "metadata": {},
   "outputs": [
    {
     "data": {
      "text/plain": [
       "array([ 1.25000008e-01, -6.99784323e-10])"
      ]
     },
     "execution_count": 30,
     "metadata": {},
     "output_type": "execute_result"
    }
   ],
   "source": [
    "p1.value"
   ]
  },
  {
   "cell_type": "code",
   "execution_count": 31,
   "metadata": {},
   "outputs": [
    {
     "data": {
      "text/plain": [
       "(-0.5, 1)"
      ]
     },
     "execution_count": 31,
     "metadata": {},
     "output_type": "execute_result"
    },
    {
     "data": {
      "image/png": "[encoded data removed]",
      "text/plain": [
       "<Figure size 432x288 with 1 Axes>"
      ]
     },
     "metadata": {
      "needs_background": "light"
     },
     "output_type": "display_data"
    }
   ],
   "source": [
    "a = np.linspace(-5,10,10000)\n",
    "\n",
    "fig, ax = plt.subplots()\n",
    "for i in range(len(b)):\n",
    "    if A[i][1] != 0:\n",
    "        y = -(A[i][0]*a -b[i])/(A[i][1])\n",
    "    else:\n",
    "        y = -(A[i][0]*a -b[i])\n",
    "    ax.plot(y, a)\n",
    "\n",
    "ax.axis('equal')\n",
    "\n",
    "\n",
    "rectangle=plt.Rectangle((p2.value[1],p2.value[0]),w.value,h.value , color='r')\n",
    "ax.add_artist(rectangle)\n",
    "\n",
    "ax.set_xlim([-0.5,0.5])\n",
    "ax.set_ylim([-0.5,1])"
   ]
  },
  {
   "cell_type": "code",
   "execution_count": null,
   "metadata": {},
   "outputs": [],
   "source": []
  }
 ],
 "metadata": {
  "kernelspec": {
   "display_name": "Python 3",
   "language": "python",
   "name": "python3"
  },
  "language_info": {
   "codemirror_mode": {
    "name": "ipython",
    "version": 3
   },
   "file_extension": ".py",
   "mimetype": "text/x-python",
   "name": "python",
   "nbconvert_exporter": "python",
   "pygments_lexer": "ipython3",
   "version": "3.6.5"
  }
 },
 "nbformat": 4,
 "nbformat_minor": 2
}
