{
 "cells": [
  {
   "cell_type": "code",
   "execution_count": 1,
   "metadata": {},
   "outputs": [],
   "source": [
    "import numpy as np\n",
    "import numpy.linalg as la\n",
    "from bunch import Bunch\n",
    "import scipy.optimize\n",
    "import matplotlib.pyplot as plt\n",
    "from scipy.optimize import linprog as lp"
   ]
  },
  {
   "cell_type": "markdown",
   "metadata": {},
   "source": [
    "## Trust Region Constraint \n",
    "---"
   ]
  },
  {
   "cell_type": "markdown",
   "metadata": {},
   "source": [
    "#### Non-convex Problem\n",
    "---\n",
    "$$ \\underset{x}min \\qquad p^tHp + 2g^tp$$\n",
    "$$ \\textit{subject to} \\qquad p^tp \\le \\Delta ^2$$"
   ]
  },
  {
   "cell_type": "markdown",
   "metadata": {},
   "source": [
    "#### Lagrangian of Problem\n",
    "---\n",
    "$$ L(p, \\lambda) = p^tHp + 2g^tp + \\lambda (p^tp - \\Delta^2)$$\n",
    "#### Finding the Dual\n",
    "---\n",
    "$$ L(p, \\lambda) = p^tHp + 2g^tp + \\lambda p^tp  - \\lambda\\Delta^2$$\n",
    "$$...$$\n",
    "$$ L(p, \\lambda) = p^t(H + \\lambda \\textbf{I})p + \\underbrace{2g^tp - \\lambda\\Delta^2}_{minimize} $$\n",
    "$$...$$\n",
    "$$$$\n",
    "$$ $$"
   ]
  },
  {
   "cell_type": "markdown",
   "metadata": {},
   "source": [
    "Thus the Lagrangian can be written as a quadratic functionin terms of p:\n",
    "\n",
    "$\\therefore H + \\lambda \\textbf{I} \\succcurlyeq 0\\qquad$      in-order for quadratic function to have a minimum  \n",
    "$$$$\n",
    "$$\\nabla_p L(p, \\lambda) = 2(H + \\lambda \\textbf{I})p + 2g^t = 0$$\n",
    "$$$$\n",
    "$$ \\therefore p = -\\frac{(2g^t)}{2(H + \\lambda \\textbf{I})} = -(H+\\lambda \\textbf{I})^{-1}g$$\n",
    "Replace in Lagrangian:$$ (-(H+\\lambda \\textbf{I})^{-1}g)^t(H + \\lambda \\textbf{I})(-(H+\\lambda \\textbf{I})^{-1}g) +2g^t(-(H+\\lambda \\textbf{I})^{-1}g) - \\lambda\\Delta^2$$\n",
    "$\\Rightarrow $ $$-g^t(H + \\lambda\\textbf{I})^{-1}g  - \\lambda\\Delta^2 $$\n",
    "$ \\Rightarrow Thus, $ $$ \\underset{x} {minimize} \\qquad  -g^t(H + \\lambda\\textbf{I})^{-1}g  - \\lambda\\Delta^2 $$\n",
    "$$\\;\\;\\;\\textit{subject to}\\qquad\\qquad\\qquad   H + \\lambda \\textbf{I} \\succcurlyeq 0\\qquad$$"
   ]
  },
  {
   "cell_type": "markdown",
   "metadata": {},
   "source": [
    "#### Eigendecomposition\n",
    "---\n",
    "$$ (H + \\lambda I)^{-1} = (q^t( \\mathbf{ \\Lambda })q)^{-1}$$\n",
    "$$ \\qquad\\qquad= q^t(\\mathbf{ \\Lambda}^{-1})q $$\n",
    "$$ Where:\\;  \\mathbf{ \\Lambda } = \\lambda_i + \\lambda $$ \n",
    "\n"
   ]
  },
  {
   "cell_type": "markdown",
   "metadata": {},
   "source": [
    "#### "
   ]
  }
 ],
 "metadata": {
  "kernelspec": {
   "display_name": "Python 3",
   "language": "python",
   "name": "python3"
  },
  "language_info": {
   "codemirror_mode": {
    "name": "ipython",
    "version": 3
   },
   "file_extension": ".py",
   "mimetype": "text/x-python",
   "name": "python",
   "nbconvert_exporter": "python",
   "pygments_lexer": "ipython3",
   "version": "3.7.3"
  }
 },
 "nbformat": 4,
 "nbformat_minor": 2
}
