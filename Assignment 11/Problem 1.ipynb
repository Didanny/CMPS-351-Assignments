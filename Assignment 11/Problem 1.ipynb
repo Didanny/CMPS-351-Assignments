{
 "cells": [
  {
   "cell_type": "code",
   "execution_count": 2,
   "metadata": {},
   "outputs": [],
   "source": [
    "import numpy as np\n",
    "import numpy.linalg as la\n",
    "import matplotlib.pyplot as plt"
   ]
  },
  {
   "cell_type": "code",
   "execution_count": 23,
   "metadata": {},
   "outputs": [],
   "source": [
    "f = lambda x: ((1 - 0.25*x**2)/0.0625)**0.5"
   ]
  },
  {
   "cell_type": "code",
   "execution_count": 24,
   "metadata": {},
   "outputs": [
    {
     "data": {
      "text/plain": [
       "(-0.2, 0.2)"
      ]
     },
     "execution_count": 24,
     "metadata": {},
     "output_type": "execute_result"
    },
    {
     "data": {
      "image/png": "[encoded data removed]",
      "text/plain": [
       "<Figure size 432x288 with 1 Axes>"
      ]
     },
     "metadata": {
      "needs_background": "light"
     },
     "output_type": "display_data"
    }
   ],
   "source": [
    "from matplotlib.patches import Ellipse\n",
    "ax = plt.subplot()\n",
    "\n",
    "ellipse = Ellipse(xy=(0, 0), width=0.5, height=0.125,edgecolor='r', fc='None', lw=2)\n",
    "ax.add_patch(ellipse)\n",
    "plt.xlim([-0.3,0.3])\n",
    "plt.ylim([-0.2,0.2])"
   ]
  },
  {
   "cell_type": "code",
   "execution_count": 25,
   "metadata": {},
   "outputs": [],
   "source": [
    "x1 = np.linspace(-0.25,0.25,1000)"
   ]
  },
  {
   "cell_type": "code",
   "execution_count": 29,
   "metadata": {},
   "outputs": [],
   "source": [
    "y1 = f(x1)"
   ]
  },
  {
   "cell_type": "code",
   "execution_count": 30,
   "metadata": {},
   "outputs": [],
   "source": [
    "y2 = -f(x1)"
   ]
  },
  {
   "cell_type": "code",
   "execution_count": 74,
   "metadata": {},
   "outputs": [],
   "source": [
    "x = np.array([x1,x1]).reshape(2000)\n",
    "y = np.array([y1,y2]).reshape(2000)"
   ]
  },
  {
   "cell_type": "code",
   "execution_count": 75,
   "metadata": {},
   "outputs": [],
   "source": [
    "def function(x,y,a=1,b=1):\n",
    "    return np.sum((a*x**2+b*y**2-1)**2)\n",
    "\n",
    "def residual_function(x, y,a,b):\n",
    "    return a*x**2+b*y**2-1"
   ]
  },
  {
   "cell_type": "code",
   "execution_count": 76,
   "metadata": {},
   "outputs": [],
   "source": [
    "def R_Gradient(x, y):\n",
    "    v = np.ones(2)\n",
    "    v[0] = x**2\n",
    "    v[1] = y**2   \n",
    "    return v\n",
    "\n",
    "def Jacobian_Matrix(x, y):\n",
    "    v = np.array([ R_Gradient(x[0], y[0])])    \n",
    "    for i in range(1,len(x)):\n",
    "        v = np.vstack( (v, R_Gradient(x[i], y[i])) )\n",
    "    return v\n",
    "\n",
    "def Guassian_Approximation(x,y):\n",
    "    m = Jacobian_Matrix(x,y)\n",
    "    mt = np.transpose(m)\n",
    "    return np.dot(mt,m)\n",
    "\n",
    "def Gradient(x, y,a,b):\n",
    "    m =Jacobian_Matrix(x,y)\n",
    "    mt = np.transpose(m)\n",
    "    r = residual_function(x, y,a,b)\n",
    "    return np.dot(mt,r)"
   ]
  },
  {
   "cell_type": "code",
   "execution_count": 83,
   "metadata": {},
   "outputs": [],
   "source": [
    "def backtracking_line_search(func, v, x,y , a,b ,  pk, t=1, alpha = 0.1, beta = 0.8):\n",
    "\n",
    "    while((func(x,y,a+t*pk[0],b+t*pk[1])) > (func(x,y,a,b) + alpha*t*(v@pk))):\n",
    "        t = t*beta\n",
    "    return t\n",
    "\n",
    "def newton_bt(fun, grad, hess, a,b, x0, y, to1 = 10**-5):\n",
    "    x = x0\n",
    "    history = np.array([a,b])\n",
    "    v = grad(x, y,a,b)\n",
    "    while(la.norm(v) > to1):\n",
    "        v = grad(x ,y,a,b)\n",
    "        p = la.solve(hess(x,y),-v)\n",
    "        t1 = backtracking_line_search(fun, v, x, y,a,b ,p)\n",
    "        a = a  + t1 * p[0]\n",
    "        b = b  + t1 * p[1]\n",
    "        history = np.vstack( (history, [a,b]) )\n",
    "    return history,a,b"
   ]
  },
  {
   "cell_type": "code",
   "execution_count": 84,
   "metadata": {},
   "outputs": [],
   "source": [
    "a = 1\n",
    "b = 1"
   ]
  },
  {
   "cell_type": "code",
   "execution_count": 85,
   "metadata": {},
   "outputs": [],
   "source": [
    "hist,astar,bstar = newton_bt(function, Gradient, Guassian_Approximation, a,b, x, y)"
   ]
  },
  {
   "cell_type": "code",
   "execution_count": 86,
   "metadata": {},
   "outputs": [
    {
     "data": {
      "text/plain": [
       "2000"
      ]
     },
     "execution_count": 86,
     "metadata": {},
     "output_type": "execute_result"
    }
   ],
   "source": [
    "len(x)"
   ]
  },
  {
   "cell_type": "code",
   "execution_count": 87,
   "metadata": {},
   "outputs": [
    {
     "data": {
      "text/plain": [
       "2000"
      ]
     },
     "execution_count": 87,
     "metadata": {},
     "output_type": "execute_result"
    }
   ],
   "source": [
    "len(y)"
   ]
  },
  {
   "cell_type": "code",
   "execution_count": 88,
   "metadata": {},
   "outputs": [
    {
     "data": {
      "text/plain": [
       "0.25000000000000017"
      ]
     },
     "execution_count": 88,
     "metadata": {},
     "output_type": "execute_result"
    }
   ],
   "source": [
    "astar"
   ]
  },
  {
   "cell_type": "code",
   "execution_count": 89,
   "metadata": {},
   "outputs": [
    {
     "data": {
      "text/plain": [
       "0.0625"
      ]
     },
     "execution_count": 89,
     "metadata": {},
     "output_type": "execute_result"
    }
   ],
   "source": [
    "bstar"
   ]
  },
  {
   "cell_type": "code",
   "execution_count": 92,
   "metadata": {},
   "outputs": [
    {
     "data": {
      "text/plain": [
       "(-0.2, 0.2)"
      ]
     },
     "execution_count": 92,
     "metadata": {},
     "output_type": "execute_result"
    },
    {
     "data": {
      "image/png": "[encoded data removed]",
      "text/plain": [
       "<Figure size 432x288 with 1 Axes>"
      ]
     },
     "metadata": {
      "needs_background": "light"
     },
     "output_type": "display_data"
    }
   ],
   "source": [
    "ax = plt.subplot()\n",
    "\n",
    "ellipse = Ellipse(xy=(0, 0), width=2*astar, height=2*bstar,edgecolor='r', fc='None', lw=2)\n",
    "ax.add_patch(ellipse)\n",
    "plt.xlim([-0.3,0.3])\n",
    "plt.ylim([-0.2,0.2])"
   ]
  },
  {
   "cell_type": "code",
   "execution_count": null,
   "metadata": {},
   "outputs": [],
   "source": []
  }
 ],
 "metadata": {
  "kernelspec": {
   "display_name": "Python 3",
   "language": "python",
   "name": "python3"
  },
  "language_info": {
   "codemirror_mode": {
    "name": "ipython",
    "version": 3
   },
   "file_extension": ".py",
   "mimetype": "text/x-python",
   "name": "python",
   "nbconvert_exporter": "python",
   "pygments_lexer": "ipython3",
   "version": "3.7.1"
  }
 },
 "nbformat": 4,
 "nbformat_minor": 2
}
