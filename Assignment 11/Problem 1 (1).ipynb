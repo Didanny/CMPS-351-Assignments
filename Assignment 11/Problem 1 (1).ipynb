{
 "cells": [
  {
   "cell_type": "markdown",
   "metadata": {},
   "source": [
    "Danny Abraham & Jad Abi Zaki\n",
    "<center><h1>CMPS 351</h1></center>\n",
    "<center><h2>Assignment 11</h2></center>"
   ]
  },
  {
   "cell_type": "code",
   "execution_count": 1,
   "metadata": {},
   "outputs": [],
   "source": [
    "import numpy as np\n",
    "import numpy.linalg as la\n",
    "from bunch import Bunch\n",
    "import scipy.optimize\n",
    "import matplotlib.pyplot as plt\n",
    "from scipy.optimize import linprog as lp\n",
    "import cvxpy as cvx\n",
    "import math\n",
    "from itertools import combinations\n",
    "import scipy.linalg as la\n",
    "from qcqp import *"
   ]
  },
  {
   "cell_type": "markdown",
   "metadata": {},
   "source": [
    "## Planar Disk Contact \n",
    "---"
   ]
  },
  {
   "cell_type": "markdown",
   "metadata": {},
   "source": [
    "for this to be feasible first we have the constraints \n",
    "$$ x \\geq r$$\n",
    "$$ x\\leq 1-r$$\n",
    "\n",
    "$$ y \\geq r$$\n",
    "$$ y\\leq 1-r$$\n",
    "\n",
    "where r is defined as a vector of radiuses of the diffrent disk in the problem and x and y are the cordinates of the centers of the circles\n",
    "\n",
    "Also for this to be feasible we need to have the distance between the centers of any of the planar disks satisfy\n",
    "\n",
    "$$ s_{ij} \\geq r_i+r_j$$\n",
    "\n",
    "which is equivlant to \n",
    "\n",
    "$$ s_{ij}^2 \\geq (r_i+r_j)^2$$\n",
    "\n",
    "Define $s_{ij}$ to be the distance between two circles, noting that the distance from any possible corner is satisfied anyway due to the x,y bounds above constraints. However, these distances will have to appear in the objective function. \n",
    "\n",
    "The objective function can be defined as the potential energy\n",
    "\n",
    "$$ \\min \\frac{1}{2}k^t\\Delta ^2_j$$\n",
    "\n",
    "we can write $\\Delta ^2_j$ using the x and y cordinates\n",
    "$$ \\Delta ^2_j = (x_i-x_j)^2+(y_i-y_j)^2$$\n",
    "\n",
    "Finally we can formulate the problem in the following manner:\n",
    "\n",
    "$$\\min \\qquad x^tB^tK_{ij}Bx + y^tB^tK_{ij}By + x^tC^tKCx + y^tC^tKCy $$\n",
    "$$ subject \\; to\\; \\begin{matrix} x \\geq r \\\\   \n",
    "                             x\\leq 1-r \\\\  \n",
    "                             y \\geq r \\\\   \n",
    "                             y\\leq 1-r \\\\  \n",
    "                             (Bx)^2 + (By)^2 \\geq (B_1r)^2\n",
    "                             \\end{matrix} $$\n",
    "                             \n",
    "$B$ is defined to be a matrix that takes all possible combinations of the disks present to measure the distance between them.   \n",
    "$B_1$ is defined as the combination of possible radiuses essentially the same but we don't want to subtract $x_j - x_i $ rather add $r_i + r_j$   \n",
    "$C$ is the combination of the diskes with all possible corners   \n",
    "$K_{ij}$ defines the elasticity constanct of the strings that connet all possible point if string does not exist $k =0$   \n",
    "$K$ is the same but for the corners \n",
    "\n",
    "-------------------------------------------------\n",
    "The Lagrangians can be seen as the contact force between the surfaces. With the force pointing away from the contact surface as expressed in the constraints. $\\lambda$ in value should be equal to k since $f = k(\\Delta J)$. Finally, the lagrangians can be seen the sensitivity of loosening or tightening a constraints. This makes sense to be equal to k since if we can decrease the length of this string by 1 we will decrease the value of the function by k.\n",
    "\n",
    "----------------------------------------------------\n",
    "$$ L(x, \\lambda) = \\frac{1}{2}x^tB^tK_{ij}Bx+\\frac{1}{2}y^tB^tK_{ij}By + \\frac{1}{2}x^tC^t K Cx+\\frac{1}{2}y^tC^t K Cy - \\lambda_{1x}(x - r) - \\lambda_{1y}(y - r) + \\lambda_{2x}(x+r - 1)+\\lambda_{2y}(y+r - 1) + \\lambda_3((Bx)^2+(By)^2-(B_1r)^2)$$\n",
    "\n",
    "KKT conditions\n",
    "\n",
    "The Gradient of the Lagrangian with respect to the primal variables vanishes\n",
    "\n",
    "$$\\nabla L_x = B^tK_{ij}Bx +C^tKCx - \\lambda_{1x} + \\lambda_{2x} + 2\\lambda_3(B^tIBx) = 0$$\n",
    "$$\\nabla L_y = B^tK_{ij}By +C^tKCy - \\lambda_{1y} + \\lambda_{2y} + 2\\lambda_3(B^tIBy) = 0$$\n",
    "\n",
    "The constrains are satisfied\n",
    "\n",
    "$$(Bx)^2 + (By)^2 \\geq (B_1r)^2$$\n",
    "\n",
    "$$ x \\geq r$$\n",
    "$$ x\\leq 1-r$$\n",
    "\n",
    "$$ y \\geq r$$\n",
    "$$ y\\leq 1-r$$\n",
    "\n",
    "Dual constraints\n",
    "\n",
    "$$\\lambda_{1x} \\geq 0 $$\n",
    "$$\\lambda_{2x} \\geq 0 $$\n",
    "\n",
    "$$\\lambda_{1y} \\geq 0 $$\n",
    "$$\\lambda_{2y} \\geq 0 $$\n",
    "\n",
    "$$\\lambda_{3} \\geq 0 $$\n",
    "\n",
    "Complementary constaints\n",
    "\n",
    "$$\\lambda_i f_i(x) \\; were\\;f_i \\in\\; to\\;the\\;constraint\\; set $$"
   ]
  },
  {
   "cell_type": "code",
   "execution_count": 2,
   "metadata": {},
   "outputs": [],
   "source": [
    "def Make_matrix():\n",
    "    x = range(4)\n",
    "    x1 = np.array(list(combinations(x,2)))    \n",
    "    \n",
    "    A = np.zeros([6,4])\n",
    "    D = np.zeros([6,4])\n",
    "    for i in range(6):\n",
    "        A[i][x1[i][0]] = 1\n",
    "        A[i][x1[i][1]] = -1\n",
    "        D[i][x1[i][0]] = 1\n",
    "        D[i][x1[i][1]] = 1\n",
    "        \n",
    "            \n",
    "    return A,D"
   ]
  },
  {
   "cell_type": "code",
   "execution_count": 3,
   "metadata": {},
   "outputs": [],
   "source": [
    "objMatrix, RadiusMatrix = Make_matrix()"
   ]
  },
  {
   "cell_type": "code",
   "execution_count": 4,
   "metadata": {},
   "outputs": [
    {
     "data": {
      "text/plain": [
       "array([[ 1., -1.,  0.,  0.],\n",
       "       [ 1.,  0., -1.,  0.],\n",
       "       [ 1.,  0.,  0., -1.],\n",
       "       [ 0.,  1., -1.,  0.],\n",
       "       [ 0.,  1.,  0., -1.],\n",
       "       [ 0.,  0.,  1., -1.]])"
      ]
     },
     "execution_count": 4,
     "metadata": {},
     "output_type": "execute_result"
    }
   ],
   "source": [
    "objMatrix"
   ]
  },
  {
   "cell_type": "code",
   "execution_count": 5,
   "metadata": {},
   "outputs": [],
   "source": [
    "\n",
    "x = cvx.Variable((4))\n",
    "y = cvx.Variable((4))\n",
    "n = 4\n",
    "r = np.array([0.1,0.1,0.1,0.15])\n",
    "k_ij = np.array([10,0,1,10,10,1])\n",
    "\n",
    "k_1 = np.array([0,1,0,0])\n",
    "k_2 = np.array([0,0,0,10])\n",
    "k_3 = np.array([0,0,1,0])\n",
    "k_4 = np.array([1,0,0,0])"
   ]
  },
  {
   "cell_type": "code",
   "execution_count": 6,
   "metadata": {},
   "outputs": [
    {
     "name": "stdout",
     "output_type": "stream",
     "text": [
      "[[ 1. -1.  0.  0.]\n",
      " [ 1.  0. -1.  0.]\n",
      " [ 1.  0.  0. -1.]\n",
      " [ 0.  1. -1.  0.]\n",
      " [ 0.  1.  0. -1.]\n",
      " [ 0.  0.  1. -1.]]\n",
      "[[1. 1. 0. 0.]\n",
      " [1. 0. 1. 0.]\n",
      " [1. 0. 0. 1.]\n",
      " [0. 1. 1. 0.]\n",
      " [0. 1. 0. 1.]\n",
      " [0. 0. 1. 1.]]\n"
     ]
    }
   ],
   "source": [
    "print(objMatrix)\n",
    "print(RadiusMatrix)"
   ]
  },
  {
   "cell_type": "code",
   "execution_count": 15,
   "metadata": {},
   "outputs": [],
   "source": [
    "constraints_x1 = [x <= 1 - r] ## constraint 1\n",
    "constraints_y1 = [y <= 1 - r] ## constraint 2\n",
    "constraints_x2 = [x >= r] ## constraint 1\n",
    "constraints_y2 = [y >= r] ## constraint 2\n",
    "\n",
    "\n",
    "\n",
    "constraints_1 = [cvx.square((objMatrix*x)) + cvx.square((objMatrix*y)) >= (RadiusMatrix@r)**2]\n",
    "\n",
    "constraints = constraints_x1 + constraints_x2 + constraints_y1 + constraints_y2 \\\n",
    "                       + constraints_1"
   ]
  },
  {
   "cell_type": "code",
   "execution_count": 16,
   "metadata": {
    "scrolled": false
   },
   "outputs": [],
   "source": [
    "corner_x = np.array([0,0,1,1])\n",
    "corner_y = np.array([0,1,0,1])\n",
    "t = np.ones(4)\n",
    "I = np.identity(4)\n",
    "u = 10**-6\n",
    "side =  cvx.quad_form((t*x[0]-corner_x),np.diag(k_1))+cvx.quad_form(t*y[0]-corner_y,np.diag(k_1)) +\\\n",
    "        cvx.quad_form((t*x[1]-corner_x),np.diag(k_2))+cvx.quad_form(t*y[1]-corner_y,np.diag(k_2)) +\\\n",
    "        cvx.quad_form((t*x[2]-corner_x),np.diag(k_3))+cvx.quad_form(t*y[2]-corner_y,np.diag(k_3)) +\\\n",
    "        cvx.quad_form((t*x[3]-corner_x),np.diag(k_4))+cvx.quad_form(t*y[3]-corner_y,np.diag(k_4)) \n",
    "\n",
    "inter = cvx.quad_form((objMatrix*x),np.diag(k_ij)) + cvx.quad_form((objMatrix*y),np.diag(k_ij))\n",
    "\n",
    "\n",
    "obj = cvx.Minimize(inter/2 + side/2)\n",
    "\n",
    "prob = cvx.Problem(obj,constraints)"
   ]
  },
  {
   "cell_type": "code",
   "execution_count": 17,
   "metadata": {},
   "outputs": [],
   "source": [
    "q = qcqp.QCQP(prob)"
   ]
  },
  {
   "cell_type": "code",
   "execution_count": 18,
   "metadata": {},
   "outputs": [
    {
     "data": {
      "text/plain": [
       "(39.30350215215117, 0.9630909453172082)"
      ]
     },
     "execution_count": 18,
     "metadata": {},
     "output_type": "execute_result"
    }
   ],
   "source": [
    "q.suggest(SPECTRAL, solver=cvx.CVXOPT)"
   ]
  },
  {
   "cell_type": "code",
   "execution_count": 19,
   "metadata": {},
   "outputs": [],
   "source": [
    "f_cd, v_cd = q.improve(COORD_DESCENT)"
   ]
  },
  {
   "cell_type": "code",
   "execution_count": 20,
   "metadata": {},
   "outputs": [
    {
     "name": "stdout",
     "output_type": "stream",
     "text": [
      "[[0.5913065 ]\n",
      " [0.78679925]\n",
      " [0.72757894]\n",
      " [0.47824496]]\n",
      "[[0.72061502]\n",
      " [0.76283568]\n",
      " [0.57180439]\n",
      " [0.49764173]]\n"
     ]
    }
   ],
   "source": [
    "print(x.value)\n",
    "print(y.value)"
   ]
  },
  {
   "cell_type": "code",
   "execution_count": 96,
   "metadata": {},
   "outputs": [
    {
     "data": {
      "text/plain": [
       "(-0.001, 1.001)"
      ]
     },
     "execution_count": 96,
     "metadata": {},
     "output_type": "execute_result"
    },
    {
     "data": {
      "image/png": "[encoded data removed]",
      "text/plain": [
       "<Figure size 432x288 with 1 Axes>"
      ]
     },
     "metadata": {
      "needs_background": "light"
     },
     "output_type": "display_data"
    }
   ],
   "source": [
    "import matplotlib.pyplot as plt\n",
    "\n",
    "fig, ax = plt.subplots()\n",
    "\n",
    "square = plt.Rectangle((0,0),1,1, color = 'lightgrey',fill = True)\n",
    "ax.add_artist(square)\n",
    "\n",
    "square1 = plt.Rectangle((0,0),1,1, color = 'k',linewidth = 2,fill = False)\n",
    "ax.add_artist(square1)\n",
    "\n",
    "circle1=plt.Circle((x.value[0],y.value[0]),r[0] , color='black', fill = False)\n",
    "ax.add_artist(circle1)\n",
    "\n",
    "circle2=plt.Circle((x.value[1],y.value[1]),r[1] , color='black', fill = False)\n",
    "ax.add_artist(circle2)\n",
    "\n",
    "circle3=plt.Circle((x.value[2],y.value[2]),r[2] , color='black', fill = False)\n",
    "ax.add_artist(circle3)\n",
    "\n",
    "circle4=plt.Circle((x.value[3],y.value[3]),r[3] , color='black', fill = False)\n",
    "ax.add_artist(circle4)\n",
    "\n",
    "\n",
    "\n",
    "plt.plot(np.array([1,x.value[2]]), np.array([0,y.value[2]]).reshape(2), c = 'r')\n",
    "plt.plot(np.array([1,x.value[1]]), np.array([1,y.value[1]]).reshape(2), c = 'r')\n",
    "plt.plot(np.array([0,x.value[3]]), np.array([0,y.value[3]]).reshape(2), c = 'r')\n",
    "plt.plot(np.array([0,x.value[0]]), np.array([1,y.value[0]]).reshape(2), c = 'r')\n",
    "\n",
    "plt.plot(np.array([x.value[1],x.value[0]]).reshape(2), np.array([y.value[1],y.value[0]]).reshape(2), c = 'b')\n",
    "plt.plot(np.array([x.value[3],x.value[0]]).reshape(2), np.array([y.value[3],y.value[0]]).reshape(2), c = 'b')\n",
    "plt.plot(np.array([x.value[1],x.value[2]]).reshape(2), np.array([y.value[1],y.value[2]]).reshape(2), c = 'b')\n",
    "plt.plot(np.array([x.value[3],x.value[2]]).reshape(2), np.array([y.value[3],y.value[2]]).reshape(2), c = 'b')\n",
    "plt.plot(np.array([x.value[3],x.value[1]]).reshape(2), np.array([y.value[3],y.value[1]]).reshape(2), c = 'b')\n",
    "plt.plot(x.value[3],x.value[3] )\n",
    "ax.axis('scaled')\n",
    "ax.set_xlim([-0.01,1.01])\n",
    "ax.set_ylim([-0.001,1.001])"
   ]
  },
  {
   "cell_type": "markdown",
   "metadata": {},
   "source": [
    "## Trust Region Constraint \n",
    "---"
   ]
  },
  {
   "cell_type": "markdown",
   "metadata": {},
   "source": [
    "#### Non-convex Problem\n",
    "---\n",
    "$$ \\underset{x}{minimize} \\qquad p^tHp + 2g^tp$$\n",
    "$$ \\textit{subject to} \\qquad p^tp \\le \\Delta ^2$$"
   ]
  },
  {
   "cell_type": "markdown",
   "metadata": {},
   "source": [
    "#### Lagrangian of Problem\n",
    "---\n",
    "$$ L(p, \\lambda) = p^tHp + 2g^tp + \\lambda (p^tp - \\Delta^2)$$\n",
    "#### Finding the Dual\n",
    "---\n",
    "$$ L(p, \\lambda) = p^tHp + 2g^tp + \\lambda p^tp  - \\lambda\\Delta^2$$\n",
    "$$...$$\n",
    "$$ L(p, \\lambda) = p^t(H + \\lambda \\textbf{I})p + \\underbrace{2g^tp - \\lambda\\Delta^2}_{maximize} $$\n",
    "$$...$$\n",
    "$$$$\n",
    "$$ $$"
   ]
  },
  {
   "cell_type": "markdown",
   "metadata": {},
   "source": [
    "Thus the Lagrangian can be written as a quadratic functionin terms of p:\n",
    "\n",
    "$$\\therefore H + \\lambda \\textbf{I} \\succcurlyeq 0\\qquad$$     \n",
    "$$$$\n",
    "$$\\nabla_p L(p, \\lambda) = 2(H + \\lambda \\textbf{I})p + 2g^t = 0$$\n",
    "$$$$\n",
    "$$ \\therefore p = -\\frac{(2g^t)}{2(H + \\lambda \\textbf{I})} = -(H+\\lambda \\textbf{I})^{-1}g$$\n",
    "Replace in Lagrangian:$$ (-(H+\\lambda \\textbf{I})^{-1}g)^t(H + \\lambda \\textbf{I})(-(H+\\lambda \\textbf{I})^{-1}g) +2g^t(-(H+\\lambda \\textbf{I})^{-1}g) - \\lambda\\Delta^2$$\n",
    "$$\\Rightarrow \\qquad-g^t(H + \\lambda\\textbf{I})^{-1}g  - \\lambda\\Delta^2 $$\n",
    "$$ \\Rightarrow\\qquad  \\underset{x} {maximize} \\qquad  -g^t(H + \\lambda\\textbf{I})^{-1}g  - \\lambda\\Delta^2 $$\n",
    "$$\\qquad\\qquad\\textit{subject to}\\qquad\\qquad\\qquad   H + \\lambda \\textbf{I} \\succcurlyeq 0\\qquad$$"
   ]
  },
  {
   "cell_type": "markdown",
   "metadata": {},
   "source": [
    "#### Eigendecomposition\n",
    "---\n",
    "$$ (H + \\lambda I)^{-1} = (Q^t( \\mathbf{ \\Lambda } + \\lambda I)Q)^{-1}$$\n",
    "$$ \\qquad\\qquad= Q^t(\\mathbf{ \\Lambda} + \\lambda\\mathbf{I})^{-1}Q $$\n",
    "$$ Where:\\;  \\mathbf{ \\Lambda } = diag(\\lambda_1,\\lambda_2, \\lambda_3,...) $$ \n",
    "$$\\qquad\\qquad (\\mathbf{ \\Lambda }+ \\lambda I)^{-1} = \\frac{1}{\\lambda_i + \\lambda}  \\qquad at\\;each\\;i$$\n",
    "$$ (H + \\lambda I)^{-1} = \\frac{q^tq}{\\lambda_i +\\lambda}$$\n",
    "$$ \\Rightarrow\\qquad \\underset{x}{maximize} - \\sum^{n}_{i = 1}{ \\frac{(q_i^tg)^2}{\\lambda_i + \\lambda}}- \\lambda\\Delta^2$$\n",
    "$$\\textit{subject to}\\qquad \\lambda \\ge -\\lambda_{min}(H)$$"
   ]
  },
  {
   "cell_type": "markdown",
   "metadata": {},
   "source": [
    "#### Pseudo Code\n",
    "---\n",
    "> $\\textit{for} \\; i = 1... m:$\n",
    ">>Get the improving step by solving trust-region sub-problem\n",
    ">>> Factor $H + \\lambda_i $   \n",
    ">>>Solve $I = Q^tQ $\n",
    ">>> find the max of the dual    \n",
    ">>> Using the multipliers we can find x by solving the set of linear equations       \n",
    "\n",
    ">>$\\rho=\\frac{f(x^k)-f(x^k+p^k)}{m_k(0)-m_k(p^k)}$        \n",
    ">> if $\\rho < 0.25$, $\\Delta_{k+1}$ is reduced and step rejected        \n",
    ">> if $\\rho > 0.75$, $\\Delta_{k+1}$ is enlarged and step is accepted      \n",
    ">> otherwise keep same Trust region and take step"
   ]
  },
  {
   "cell_type": "markdown",
   "metadata": {},
   "source": [
    "We have a pareto optimal function, with $\\alpha$ as the regularization parameter. We have 2 functions that we need to minimize that in essense are based on if one wants to more accuratly estimate the function values $\\|Qu-d\\|$ or if one wants the interval between the partitons which represent $c$ to be precisie as they were taken by measurments which represent $\\|c-c^0\\|$ where $c^0$ represents the supposed intervals at which it was taken."
   ]
  },
  {
   "cell_type": "markdown",
   "metadata": {},
   "source": [
    "## Gauss-Newton Method for a PDE-Constrained Problem\n",
    "---"
   ]
  },
  {
   "cell_type": "markdown",
   "metadata": {},
   "source": [
    "We have a pareto optimal function, with $\\alpha$ as the regularization parameter. We have 2 functions that we need to minimize that in essense are based on if one wants to more accuratly estimate the function values $\\|Qu-d\\|$ or if one wants the interval between the partitons which represent $c$ to be precisie as they were taken by measurments which represent $\\|c-c^0\\|$ where $c^0$ represents the supposed intervals at which it was taken. Finally, $A(c)u= w$ is an equality constraint in which you want the curvuture of the function to be accurately retrived.\n",
    "\n",
    "$$ \\min \\frac{1}{2}\\|Qu - d\\|^2 +\\frac{\\alpha}{2}\\|c-c^0\\|^2$$\n",
    "\n",
    "$$ subject\\;to\\; A(c)u = w$$\n",
    "\n",
    "$$L(u,c,\\nu) = \\frac{1}{2}\\|Qu - d\\|^2 +\\frac{\\alpha}{2}\\|c-c^0\\|^2 + \\nu(A(c)u - w)$$\n",
    "\n",
    "KKT conditions\n",
    "\n",
    "$$ \\nabla L_u = Q^tQu - 2d^tQ+\\nu A = 0$$\n",
    "\n",
    "$$ \\nabla L_c = \\alpha (c-c^o)+Gu = 0$$\n",
    "\n",
    "Equality constraints are Satisfied:\n",
    "$$A(c)u - w = 0$$\n",
    "\n",
    "\n",
    "were $$G  = \\frac{d}{dc}A(c)u $$  \n",
    "\n",
    "\n",
    "\n",
    "Note since we have no inequality constraints we have no complementary slackness nor do we have dual constraints."
   ]
  },
  {
   "cell_type": "markdown",
   "metadata": {},
   "source": [
    "$$ J = \\begin{bmatrix} Q^tQ & 0 & A^t\\\\ 0 & \\alpha I & G^t \\\\ A & G & 0\\end{bmatrix}$$\n",
    "\n",
    "$$\\begin{bmatrix} Q^tQ & 0 & A^t\\\\ 0 & \\alpha I & G^t \\\\ A & G & 0\\end{bmatrix} \\begin{bmatrix} \\Delta u\\\\ \\Delta c\\\\ \\Delta \\nu\\end{bmatrix} = \\begin{bmatrix} L_ u\\\\ L_c\\\\ L_\\nu\\end{bmatrix}$$"
   ]
  },
  {
   "cell_type": "markdown",
   "metadata": {},
   "source": [
    "More on G:\n",
    "\n",
    "$$ \\frac{1}{h^2}[c_iu_{i+1} - (c_i + c_{i-1})u_i +c_{i-1}u_{i-1} ] = w_i$$\n",
    "\n",
    "or \n",
    "\n",
    "$$ \\frac{1}{h^2}[(u_{i+1}- u_i)c_i  +(u_{i-1}- u_i)c_{i-1} ] = w_i$$\n",
    "\n",
    "$$ G = \\begin{bmatrix} u_{0}- u_1&u_{2}- u_1&0\\\\ 0& u_{1}- u_2  & u_{3}- u_2\\end{bmatrix}$$\n",
    "\n",
    "$$ G(u)c = w$$"
   ]
  },
  {
   "cell_type": "markdown",
   "metadata": {},
   "source": [
    "The matrix G is a rectangular matrix. G will be a bidiagonal matrix which has p rows. p is the len(u) and n columns where n is the len (c)"
   ]
  }
 ],
 "metadata": {
  "kernelspec": {
   "display_name": "Python 3",
   "language": "python",
   "name": "python3"
  },
  "language_info": {
   "codemirror_mode": {
    "name": "ipython",
    "version": 3
   },
   "file_extension": ".py",
   "mimetype": "text/x-python",
   "name": "python",
   "nbconvert_exporter": "python",
   "pygments_lexer": "ipython3",
   "version": "3.7.3"
  }
 },
 "nbformat": 4,
 "nbformat_minor": 2
}
