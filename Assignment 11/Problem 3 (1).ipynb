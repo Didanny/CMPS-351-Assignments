{
 "cells": [
  {
   "cell_type": "markdown",
   "metadata": {},
   "source": [
    "### Problem 3\n",
    "\n",
    "We have a pareto optimal function, with $\\alpha$ as the regularization parameter. We have 2 functions that we need to minimize that in essense are based on if one wants to more accuratly estimate the function values $\\|Qu-d\\|$ or if one wants the interval between the partitons which represent $c$ to be precisie as they were taken by measurments which represent $\\|c-c^0\\|$ where $c^0$ represents the supposed intervals at which it was taken. Finally, $A(c)u= w$ is an equality constraint in which you want the curvuture of the function to be accurately retrived.\n",
    "\n",
    "$$ \\min \\frac{1}{2}\\|Qu - d\\|^2 +\\frac{\\alpha}{2}\\|c-c^0\\|^2$$\n",
    "\n",
    "$$ subject\\;to\\; A(c)u = w$$\n",
    "\n",
    "$$L(u,c,\\nu) = \\frac{1}{2}\\|Qu - d\\|^2 +\\frac{\\alpha}{2}\\|c-c^0\\|^2 + \\nu(A(c)u - w)$$\n",
    "\n",
    "KKT conditions\n",
    "\n",
    "$$ \\nabla L_u = Q^tQu - 2d^tQ+\\nu A = 0$$\n",
    "\n",
    "$$ \\nabla L_c = \\alpha (c-c^o)+Gu = 0$$\n",
    "\n",
    "Equality constraints are Satisfied:\n",
    "$$A(c)u - w = 0$$\n",
    "\n",
    "\n",
    "were $$G  = \\frac{d}{dc}A(c)u $$  \n",
    "\n",
    "\n",
    "\n",
    "Note since we have no inequality constraints we have no complementary slackness nor do we have dual constraints.\n",
    "\n",
    "\n"
   ]
  },
  {
   "cell_type": "markdown",
   "metadata": {},
   "source": [
    "$$ J = \\begin{bmatrix} Q^tQ & 0 & A^t\\\\ 0 & \\alpha I & G^t \\\\ A & G & 0\\end{bmatrix}$$\n",
    "\n",
    "$$\\begin{bmatrix} Q^tQ & 0 & A^t\\\\ 0 & \\alpha I & G^t \\\\ A & G & 0\\end{bmatrix} \\begin{bmatrix} \\Delta u\\\\ \\Delta c\\\\ \\Delta \\nu\\end{bmatrix} = \\begin{bmatrix} L_ u\\\\ L_c\\\\ L_\\nu\\end{bmatrix}$$"
   ]
  },
  {
   "cell_type": "markdown",
   "metadata": {},
   "source": [
    "More on G:\n",
    "\n",
    "$$ \\frac{1}{h^2}[c_iu_{i+1} - (c_i + c_{i-1})u_i +c_{i-1}u_{i-1} ] = w_i$$\n",
    "\n",
    "or \n",
    "\n",
    "$$ \\frac{1}{h^2}[(u_{i+1}- u_i)c_i  +(u_{i-1}- u_i)c_{i-1} ] = w_i$$\n",
    "\n",
    "$$ G = \\begin{bmatrix} u_{0}- u_1&u_{2}- u_1&0\\\\ 0& u_{1}- u_2  & u_{3}- u_2\\end{bmatrix}$$\n",
    "\n",
    "$$ G(u)c = w$$"
   ]
  },
  {
   "cell_type": "markdown",
   "metadata": {},
   "source": [
    "The matrix G is a rectangular matrix. G will be a bidiagonal matrix which has p rows. p is the len(u) and n columns where n is the len (c)"
   ]
  }
 ],
 "metadata": {
  "kernelspec": {
   "display_name": "Python 3",
   "language": "python",
   "name": "python3"
  },
  "language_info": {
   "codemirror_mode": {
    "name": "ipython",
    "version": 3
   },
   "file_extension": ".py",
   "mimetype": "text/x-python",
   "name": "python",
   "nbconvert_exporter": "python",
   "pygments_lexer": "ipython3",
   "version": "3.7.3"
  }
 },
 "nbformat": 4,
 "nbformat_minor": 2
}
