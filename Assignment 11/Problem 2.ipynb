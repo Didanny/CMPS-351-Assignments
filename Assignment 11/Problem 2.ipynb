{
 "cells": [
  {
   "cell_type": "code",
   "execution_count": 1,
   "metadata": {},
   "outputs": [],
   "source": [
    "import numpy as np\n",
    "import numpy.linalg as la\n",
    "import matplotlib.pyplot as plt"
   ]
  },
  {
   "cell_type": "code",
   "execution_count": 2,
   "metadata": {},
   "outputs": [],
   "source": [
    "f = lambda x: ((1 - 0.25*x**2)/0.0625)**0.5"
   ]
  },
  {
   "cell_type": "code",
   "execution_count": 79,
   "metadata": {},
   "outputs": [
    {
     "data": {
      "text/plain": [
       "(-8, 8)"
      ]
     },
     "execution_count": 79,
     "metadata": {},
     "output_type": "execute_result"
    },
    {
     "data": {
      "image/png": "[encoded data removed]",
      "text/plain": [
       "<Figure size 432x288 with 1 Axes>"
      ]
     },
     "metadata": {
      "needs_background": "light"
     },
     "output_type": "display_data"
    }
   ],
   "source": [
    "from matplotlib.patches import Ellipse\n",
    "ax = plt.subplot()\n",
    "\n",
    "ellipse = Ellipse(xy=(0, 0), width=1/0.25, height=1/0.0625,edgecolor='r', fc='None', lw=2)\n",
    "ax.add_patch(ellipse)\n",
    "plt.xlim([-2,2])\n",
    "plt.ylim([-8,8])"
   ]
  },
  {
   "cell_type": "code",
   "execution_count": 109,
   "metadata": {},
   "outputs": [],
   "source": [
    "x1 = np.linspace(-2,2,1000)\n",
    "y1 = f(x1) + np.random.normal(0,0.1,size = 1000)\n",
    "y2 = -f(x1)+ np.random.normal(0,0.1,size = 1000)\n",
    "x = np.array([x1,x1]).reshape(2000)\n",
    "y = np.array([y1,y2]).reshape(2000)"
   ]
  },
  {
   "cell_type": "code",
   "execution_count": 110,
   "metadata": {},
   "outputs": [],
   "source": [
    "from scipy.optimize import linprog"
   ]
  },
  {
   "cell_type": "code",
   "execution_count": 111,
   "metadata": {},
   "outputs": [
    {
     "name": "stdout",
     "output_type": "stream",
     "text": [
      "[[ 4.00000000e+00  8.56550469e-04 -1.00000000e+00 ... -0.00000000e+00\n",
      "  -0.00000000e+00 -0.00000000e+00]\n",
      " [ 3.98400002e+00  7.55553929e-02 -0.00000000e+00 ... -0.00000000e+00\n",
      "  -0.00000000e+00 -0.00000000e+00]\n",
      " [ 3.96803210e+00  1.68520855e-01 -0.00000000e+00 ... -0.00000000e+00\n",
      "  -0.00000000e+00 -0.00000000e+00]\n",
      " ...\n",
      " [-3.96803210e+00 -3.62325533e-01 -0.00000000e+00 ... -1.00000000e+00\n",
      "  -0.00000000e+00 -0.00000000e+00]\n",
      " [-3.98400002e+00 -8.19279678e-02 -0.00000000e+00 ... -0.00000000e+00\n",
      "  -1.00000000e+00 -0.00000000e+00]\n",
      " [-4.00000000e+00 -1.65525062e-03 -0.00000000e+00 ... -0.00000000e+00\n",
      "  -0.00000000e+00 -1.00000000e+00]]\n"
     ]
    }
   ],
   "source": [
    "A_ub = np.zeros([4000,2002])\n",
    "A_ub[:2000,0] = x**2\n",
    "A_ub[:2000,1] = y**2\n",
    "A_ub[2000:,0] = -x**2\n",
    "A_ub[2000:,1] = -y**2\n",
    "\n",
    "A_ub[:2000,2:] = -np.identity(2000)\n",
    "A_ub[2000:,2:] = -np.identity(2000)\n",
    "print(A_ub)"
   ]
  },
  {
   "cell_type": "code",
   "execution_count": 116,
   "metadata": {},
   "outputs": [],
   "source": [
    "b = np.ones(4000)\n",
    "b[2000:] = -1"
   ]
  },
  {
   "cell_type": "code",
   "execution_count": 118,
   "metadata": {},
   "outputs": [
    {
     "name": "stdout",
     "output_type": "stream",
     "text": [
      "Primal Feasibility  Dual Feasibility    Duality Gap         Step             Path Parameter      Objective          \n",
      "1.0                 1.0                 1.0                 -                1.0                 2000.0              \n",
      "0.2398990602156     0.2398990601837     0.2398990601837     0.7950471026426  0.2398990601837     204.7825876332      \n",
      "0.04647341467036    0.04647341465904    0.04647341465906    0.8236033858661  0.0464734146591     75.42991215487      \n",
      "0.009104953236001   0.009104953245911   0.00910495324589    0.8180006217879  0.00910495324589    64.2796674091       \n",
      "0.001882710264913   0.001882710248344   0.001882710248354   0.808543785631   0.001882710248232   62.72704707881      \n",
      "0.0004316276398952  0.0004316276284867  0.0004316276284791  0.7858880803948  0.0004316276287105  62.42206811189      \n",
      "9.743332318505e-05  9.743327919451e-05  9.743327921442e-05  0.7925606176591  9.743327813332e-05  62.35009760104      \n",
      "4.156894459877e-05  4.156891352844e-05  4.156891351859e-05  0.5949803756022  4.156891268974e-05  62.33790633529      \n",
      "9.152105321932e-06  9.152123150473e-06  9.152123145325e-06  0.796608900106   9.152123226115e-06  62.33074575697      \n",
      "1.593560673812e-06  1.593488223378e-06  1.593488235826e-06  0.8468082987192  1.593482368268e-06  62.32907329821      \n",
      "6.418320660083e-08  6.428079772507e-08  6.428077160214e-08  0.9685539900061  6.429633058215e-08  62.32873064645      \n",
      "6.056052933282e-10  7.695826369746e-11  7.69647960223e-11   0.9988030862946  7.672411166704e-11  62.32871595429      \n",
      "Optimization terminated successfully.\n"
     ]
    }
   ],
   "source": [
    "c = np.ones(2002)\n",
    "c[0] = 0\n",
    "c[1] = 0\n",
    "res = linprog(c, A_ub=A_ub, b_ub = b, options={\"disp\": True},method='interior-point')"
   ]
  },
  {
   "cell_type": "code",
   "execution_count": 119,
   "metadata": {},
   "outputs": [
    {
     "name": "stdout",
     "output_type": "stream",
     "text": [
      "     con: array([], dtype=float64)\n",
      "     fun: 62.32871595429242\n",
      " message: 'Optimization terminated successfully.'\n",
      "     nit: 11\n",
      "   slack: array([-3.99238642e-09, -3.99199496e-09, -3.99850353e-09, ...,\n",
      "        3.39388526e-02,  7.13708005e-03,  5.19280008e-03])\n",
      "  status: 0\n",
      " success: True\n",
      "       x: array([0.25062342, 0.06206481, 0.00254683, ..., 0.01696942, 0.00356854,\n",
      "       0.0025964 ])\n"
     ]
    }
   ],
   "source": [
    "print(res)"
   ]
  },
  {
   "cell_type": "code",
   "execution_count": 120,
   "metadata": {},
   "outputs": [
    {
     "data": {
      "text/plain": [
       "<matplotlib.collections.PathCollection at 0x1bd83eac5c0>"
      ]
     },
     "execution_count": 120,
     "metadata": {},
     "output_type": "execute_result"
    },
    {
     "data": {
      "image/png": "[encoded data removed]",
      "text/plain": [
       "<Figure size 432x288 with 1 Axes>"
      ]
     },
     "metadata": {
      "needs_background": "light"
     },
     "output_type": "display_data"
    }
   ],
   "source": [
    "ax = plt.subplot()\n",
    "\n",
    "ellipse = Ellipse(xy=(0, 0), width=2*(1/res.x[0])**0.5, height=2*(1/res.x[1])**0.5,edgecolor='r', fc='None', lw=2)\n",
    "ax.add_patch(ellipse)\n",
    "plt.xlim(-4,4)\n",
    "plt.ylim(-10,10)\n",
    "\n",
    "plt.scatter(x,y)"
   ]
  },
  {
   "cell_type": "code",
   "execution_count": null,
   "metadata": {},
   "outputs": [],
   "source": []
  }
 ],
 "metadata": {
  "kernelspec": {
   "display_name": "Python 3",
   "language": "python",
   "name": "python3"
  },
  "language_info": {
   "codemirror_mode": {
    "name": "ipython",
    "version": 3
   },
   "file_extension": ".py",
   "mimetype": "text/x-python",
   "name": "python",
   "nbconvert_exporter": "python",
   "pygments_lexer": "ipython3",
   "version": "3.7.1"
  }
 },
 "nbformat": 4,
 "nbformat_minor": 2
}
