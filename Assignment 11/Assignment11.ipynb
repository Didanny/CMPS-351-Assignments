{
 "cells": [
  {
   "cell_type": "code",
   "execution_count": 1,
   "metadata": {},
   "outputs": [],
   "source": [
    "import numpy as np\n",
    "import numpy.linalg as la\n",
    "from bunch import Bunch\n",
    "import scipy.optimize\n",
    "import matplotlib.pyplot as plt\n",
    "from scipy.optimize import linprog as lp\n"
   ]
  },
  {
   "cell_type": "markdown",
   "metadata": {},
   "source": [
    "## Planar Disk Contact\n",
    "---\n",
    "$$ L(x, \\lambda) = \\frac{1}{2}x^tB^tK_{ij}Bx+\\frac{1}{2}y^tB^tK_{ij}By + \\frac{1}{2}x^tC^t K Cx+\\frac{1}{2}y^tC^t K Cy - \\lambda_{1x}(x - r) - \\lambda_{1y}(y - r) + \\lambda_{2x}(x+r - 1)+\\lambda_{2y}(y+r - 1) + \\lambda_3((Bx)^2+(By)^2-(B_1r)^2)$$\n",
    "\n",
    "The Lagrangians can be seen as the contact force between the surfaces. With the force pointing away from the contact surface as expressed in the constraints. $\\lambda$ in value should be equal to k since $f = k(\\Delta J)$. Finally, the lagrangians can be seen the sensitivity of loosening or tightening a constraints. This makes sense to be equal to k since if we can decrease the length of this string by 1 we will decrease the value of the function by k."
   ]
  },
  {
   "cell_type": "markdown",
   "metadata": {},
   "source": [
    "## Trust Region Constraint \n",
    "---"
   ]
  },
  {
   "cell_type": "markdown",
   "metadata": {},
   "source": [
    "#### Non-convex Problem\n",
    "---\n",
    "$$ \\underset{x}{minimize} \\qquad p^tHp + 2g^tp$$\n",
    "$$ \\textit{subject to} \\qquad p^tp \\le \\Delta ^2$$"
   ]
  },
  {
   "cell_type": "markdown",
   "metadata": {},
   "source": [
    "#### Lagrangian of Problem\n",
    "---\n",
    "$$ L(p, \\lambda) = p^tHp + 2g^tp + \\lambda (p^tp - \\Delta^2)$$\n",
    "#### Finding the Dual\n",
    "---\n",
    "$$ L(p, \\lambda) = p^tHp + 2g^tp + \\lambda p^tp  - \\lambda\\Delta^2$$\n",
    "$$...$$\n",
    "$$ L(p, \\lambda) = p^t(H + \\lambda \\textbf{I})p + \\underbrace{2g^tp - \\lambda\\Delta^2}_{maximize} $$\n",
    "$$...$$\n",
    "$$$$\n",
    "$$ $$"
   ]
  },
  {
   "cell_type": "markdown",
   "metadata": {},
   "source": [
    "Thus the Lagrangian can be written as a quadratic functionin terms of p:\n",
    "\n",
    "$$\\therefore H + \\lambda \\textbf{I} \\succcurlyeq 0\\qquad$$     \n",
    "$$$$\n",
    "$$\\nabla_p L(p, \\lambda) = 2(H + \\lambda \\textbf{I})p + 2g^t = 0$$\n",
    "$$$$\n",
    "$$ \\therefore p = -\\frac{(2g^t)}{2(H + \\lambda \\textbf{I})} = -(H+\\lambda \\textbf{I})^{-1}g$$\n",
    "Replace in Lagrangian:$$ (-(H+\\lambda \\textbf{I})^{-1}g)^t(H + \\lambda \\textbf{I})(-(H+\\lambda \\textbf{I})^{-1}g) +2g^t(-(H+\\lambda \\textbf{I})^{-1}g) - \\lambda\\Delta^2$$\n",
    "$$\\Rightarrow \\qquad-g^t(H + \\lambda\\textbf{I})^{-1}g  - \\lambda\\Delta^2 $$\n",
    "$$ \\Rightarrow\\qquad  \\underset{x} {maximize} \\qquad  -g^t(H + \\lambda\\textbf{I})^{-1}g  - \\lambda\\Delta^2 $$\n",
    "$$\\qquad\\qquad\\textit{subject to}\\qquad\\qquad\\qquad   H + \\lambda \\textbf{I} \\succcurlyeq 0\\qquad$$"
   ]
  },
  {
   "cell_type": "markdown",
   "metadata": {},
   "source": [
    "#### Eigendecomposition\n",
    "---\n",
    "$$ (H + \\lambda I)^{-1} = (Q^t( \\mathbf{ \\Lambda } + \\lambda I)Q)^{-1}$$\n",
    "$$ \\qquad\\qquad= Q^t(\\mathbf{ \\Lambda} + \\lambda\\mathbf{I})^{-1}Q $$\n",
    "$$ Where:\\;  \\mathbf{ \\Lambda } = diag(\\lambda_1,\\lambda_2, \\lambda_3,...) $$ \n",
    "$$\\qquad\\qquad (\\mathbf{ \\Lambda }+ \\lambda I)^{-1} = \\frac{1}{\\lambda_i + \\lambda}  \\qquad at\\;each\\;i$$\n",
    "$$ (H + \\lambda I)^{-1} = \\frac{q^tq}{\\lambda_i +\\lambda}$$\n",
    "$$ \\Rightarrow\\qquad \\underset{x}{maximize} - \\sum^{n}_{i = 1}{ \\frac{(q_i^tg)^2}{\\lambda_i + \\lambda}}- \\lambda\\Delta^2$$\n",
    "$$\\textit{subject to}\\qquad \\lambda \\ge -\\lambda_{min}(H)$$"
   ]
  },
  {
   "cell_type": "markdown",
   "metadata": {},
   "source": [
    "#### Pseudo Code\n",
    "---\n",
    "\n",
    "> $\\textit{for} \\; i = 1... m:$\n",
    ">> Factor $H + \\lambda_i $   \n",
    ">> Solve $I = Q^tQ $\n",
    "\n",
    "\n"
   ]
  },
  {
   "cell_type": "markdown",
   "metadata": {},
   "source": [
    "We have a pareto optimal function, with $\\alpha$ as the regularization parameter. We have 2 functions that we need to minimize that in essense are based on if one wants to more accuratly estimate the function values $\\|Qu-d\\|$ or if one wants the interval between the partitons which represent $c$ to be precisie as they were taken by measurments which represent $\\|c-c^0\\|$ where $c^0$ represents the supposed intervals at which it was taken."
   ]
  },
  {
   "cell_type": "code",
   "execution_count": null,
   "metadata": {},
   "outputs": [],
   "source": []
  }
 ],
 "metadata": {
  "kernelspec": {
   "display_name": "Python 3",
   "language": "python",
   "name": "python3"
  },
  "language_info": {
   "codemirror_mode": {
    "name": "ipython",
    "version": 3
   },
   "file_extension": ".py",
   "mimetype": "text/x-python",
   "name": "python",
   "nbconvert_exporter": "python",
   "pygments_lexer": "ipython3",
   "version": "3.7.3"
  }
 },
 "nbformat": 4,
 "nbformat_minor": 2
}
