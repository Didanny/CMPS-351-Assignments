{
 "cells": [
  {
   "cell_type": "code",
   "execution_count": 1,
   "metadata": {},
   "outputs": [],
   "source": [
    "import numpy as np\n",
    "import matplotlib.pyplot as plt\n",
    "import cvxpy as cvx\n",
    "import numpy.linalg as la"
   ]
  },
  {
   "cell_type": "markdown",
   "metadata": {},
   "source": [
    "### Problem 1:"
   ]
  },
  {
   "cell_type": "code",
   "execution_count": 2,
   "metadata": {},
   "outputs": [],
   "source": [
    "\n",
    "# definition of two poylogonal regions A1 @ x <= b1 and A2 @ x <= b2\n",
    "A1 = np.array( [\n",
    "      [5.8479532e-01,  -1.9354839e+00],\n",
    "      [2.3859649e+00,   1.1428571e+00],\n",
    "      [7.0175439e-01,   1.2350230e+00],\n",
    "      [-1.0292398e+00,  6.8202765e-01],\n",
    "      [-1.1695906e+00,  5.5299539e-02],\n",
    "      [-1.4736842e+00, -1.1797235e+00]\n",
    "      ] )\n",
    "\n",
    "b1 = np.array( [\n",
    "      3.3837281e+00,\n",
    "      9.5981890e-01,\n",
    "      1.1496483e+00,\n",
    "      2.4695071e+00,\n",
    "      2.3474816e+00,\n",
    "      3.6227127e+00\n",
    "      ] )\n",
    "\n",
    "A2 = np.array( [\n",
    "      [7.0175439e-02,  -2.2304147e+00],\n",
    "      [2.4795322e+00,   5.5299539e-02],\n",
    "      [1.1228070e+00,   1.6774194e+00],\n",
    "      [-1.0994152e+00,  1.1244240e+00],\n",
    "      [-2.5730994e+00, -6.2672811e-01]\n",
    "      ] )\n",
    "\n",
    "b2 = np.array( [\n",
    "      -6.9765812e-01,\n",
    "      9.0161964e+00,\n",
    "      8.8853316e+00,\n",
    "      2.4482712e+00,\n",
    "      -3.8164228e+00\n",
    "      ] )\n",
    "\n",
    "# print(A1, A2, b1, b2)\n",
    "\n"
   ]
  },
  {
   "cell_type": "code",
   "execution_count": 3,
   "metadata": {},
   "outputs": [],
   "source": [
    "G = np.identity(4)\n",
    "v = -np.ones(3)\n",
    "v[1] = 0\n",
    "G = G + np.diag(v,-1) + np.diag(v,1)\n"
   ]
  },
  {
   "cell_type": "code",
   "execution_count": 4,
   "metadata": {},
   "outputs": [],
   "source": [
    "a = np.zeros(4)\n",
    "c = np.zeros([11,4])\n",
    "\n",
    "c[:6] = np.c_[A1[:,0],np.zeros(6),A1[:,1],np.zeros(6)]\n",
    "c[6:,:] = np.c_[np.zeros(5),A2[:,0],np.zeros(5),A2[:,1]]\n",
    "\n",
    "b = np.zeros(11)\n",
    "b[:6] = b1\n",
    "b[6:] = b2"
   ]
  },
  {
   "cell_type": "code",
   "execution_count": 5,
   "metadata": {},
   "outputs": [
    {
     "data": {
      "text/plain": [
       "1.1037632742485763"
      ]
     },
     "execution_count": 5,
     "metadata": {},
     "output_type": "execute_result"
    }
   ],
   "source": [
    "x = cvx.Variable(4)\n",
    "obj = cvx.Minimize(cvx.quad_form(x,G))\n",
    "constraints = [c*x-b<=0]\n",
    "prob = cvx.Problem(obj,constraints)\n",
    "prob.solve()"
   ]
  },
  {
   "cell_type": "code",
   "execution_count": 6,
   "metadata": {},
   "outputs": [
    {
     "name": "stdout",
     "output_type": "stream",
     "text": [
      " x value =  [ 0.44879957  1.39631338 -0.09712599  0.35672515]\n",
      "[0.         0.79423952 0.         0.         0.         0.\n",
      " 0.19850065 0.         0.         0.         0.7418903 ]\n"
     ]
    }
   ],
   "source": [
    "print(' x value = ',x.value)\n",
    "for c in constraints:\n",
    "    print(c.dual_value)"
   ]
  },
  {
   "cell_type": "markdown",
   "metadata": {},
   "source": [
    "### Problem 2:"
   ]
  },
  {
   "cell_type": "code",
   "execution_count": null,
   "metadata": {},
   "outputs": [],
   "source": []
  },
  {
   "cell_type": "markdown",
   "metadata": {},
   "source": [
    "### Problem 3:"
   ]
  },
  {
   "cell_type": "markdown",
   "metadata": {},
   "source": [
    "$$ r(y) = \\begin{bmatrix} \\nabla f(x) + A^t \\\\ Ax + b\\end{bmatrix}$$"
   ]
  },
  {
   "cell_type": "code",
   "execution_count": 2,
   "metadata": {},
   "outputs": [],
   "source": [
    "np.random.seed(421)            # seed the random number generator\n",
    "n = 100\n",
    "p = 40\n",
    "\n",
    "# Generate a random p-by-n matrix with independent rows\n",
    "A = np.random.randn(p, n)\n",
    "\n",
    "while np.linalg.matrix_rank(A) !=p : \n",
    "    print('generating another data set with independent rows')\n",
    "    A = np.random.rand(p, n)\n",
    "\n",
    "# Generate a random right hand side  \n",
    "b = A @ np.random.randn(n)"
   ]
  },
  {
   "cell_type": "code",
   "execution_count": 3,
   "metadata": {},
   "outputs": [],
   "source": [
    "def func(x):\n",
    "    return - np.sum(np.log(x))"
   ]
  },
  {
   "cell_type": "code",
   "execution_count": 4,
   "metadata": {},
   "outputs": [],
   "source": [
    "def res(x, nu):\n",
    "    r1 = -(1/x) + A.T@nu\n",
    "    r2 = A@x - b\n",
    "    r = np.hstack([r1, r2])\n",
    "    r = r.T\n",
    "    return r"
   ]
  },
  {
   "cell_type": "code",
   "execution_count": 5,
   "metadata": {},
   "outputs": [],
   "source": [
    "def jacobian(x):\n",
    "    h = (1/(x**2))\n",
    "    h = np.diag(h)\n",
    "    j1 = np.hstack([h, A.T])\n",
    "    j2 = np.hstack([A, np.zeros([p, p])])\n",
    "    j = np.vstack([j1, j2])\n",
    "    return j"
   ]
  },
  {
   "cell_type": "code",
   "execution_count": 6,
   "metadata": {},
   "outputs": [
    {
     "name": "stdout",
     "output_type": "stream",
     "text": [
      "[[ 1.          0.          0.         ... -1.32922816 -0.08016961\n",
      "  -1.42105932]\n",
      " [ 0.          1.          0.         ...  0.94550168  1.531589\n",
      "  -0.64692218]\n",
      " [ 0.          0.          1.         ... -0.2001537   0.89429106\n",
      "   0.75554307]\n",
      " ...\n",
      " [-1.32922816  0.94550168 -0.2001537  ...  0.          0.\n",
      "   0.        ]\n",
      " [-0.08016961  1.531589    0.89429106 ...  0.          0.\n",
      "   0.        ]\n",
      " [-1.42105932 -0.64692218  0.75554307 ...  0.          0.\n",
      "   0.        ]]\n"
     ]
    }
   ],
   "source": [
    "x = np.ones(n)\n",
    "nu = np.zeros(p)\n",
    "#print(func(x))\n",
    "#print(res(x, nu))\n",
    "print(jacobian(x))"
   ]
  },
  {
   "cell_type": "code",
   "execution_count": 22,
   "metadata": {},
   "outputs": [],
   "source": [
    "def btLineSearch(x, nu, t, p, alpha = 0.01, beta = 0.8):\n",
    "    while (x + t*p[:n]<0).any():\n",
    "        t=t*beta\n",
    "    while (la.norm(res(x + t*p[:n], nu + t*p[n:])) >= (1 - alpha*t)*la.norm(res(x,nu))):\n",
    "        t *= beta\n",
    "    return t\n",
    "    \n",
    "def infeasible_newton(x0, nu0, tol = 2e-6):\n",
    "    x = x0\n",
    "    nu= nu0\n",
    "    histx  = np.array([x0])\n",
    "    histnu = np.array([nu0])\n",
    "    while(la.norm(res(x, nu)) > tol):\n",
    "        print(la.norm(res(x,nu)))\n",
    "        p = la.solve(jacobian(x), - res(x, nu))\n",
    "        t = btLineSearch(x,nu,1,p)\n",
    "        x = x + t*p[:n]\n",
    "        nu = nu + t*p[n:]\n",
    "        histx = np.vstack([histx , x])\n",
    "        histnu = np.vstack([histnu , nu])\n",
    "    return histx, histnu , x, nu        "
   ]
  },
  {
   "cell_type": "code",
   "execution_count": 23,
   "metadata": {},
   "outputs": [
    {
     "name": "stdout",
     "output_type": "stream",
     "text": [
      "83.59763300515012\n",
      "51.819560570123095\n",
      "18.9196239709651\n",
      "11.319130055039277\n",
      "6.432944520423216\n",
      "3.2757803207753198\n",
      "1.6649600362977972\n",
      "0.8404472778108973\n",
      "0.4223011619338669\n",
      "0.21167649592253945\n",
      "0.10597029868242813\n",
      "0.053018218966544274\n",
      "0.0265173831241804\n",
      "0.013260760697262739\n",
      "0.006630897719671014\n",
      "0.003315578213291405\n",
      "0.001657821446334281\n",
      "0.0008289188082559547\n",
      "0.0004144614254362352\n",
      "0.00020723121843518812\n",
      "0.00010361573723038274\n",
      "5.1807914425241914e-05\n",
      "2.5904055534914945e-05\n",
      "1.2952623333034969e-05\n",
      "6.48402866032348e-06\n",
      "3.350489321062558e-06\n",
      "2.187190091115985e-06\n"
     ]
    }
   ],
   "source": [
    "histx, histnu, xstar, nustar = infeasible_newton(x, nu)"
   ]
  },
  {
   "cell_type": "code",
   "execution_count": 24,
   "metadata": {},
   "outputs": [],
   "source": [
    "def plot(xstar, nustar, histx, histnu):\n",
    "    nsteps = len(histx)\n",
    "    fhist = np.zeros(nsteps)\n",
    "    fstar = func(xstar)\n",
    "    for i in range(nsteps):\n",
    "        fhist[i] = func(histx[i,:])\n",
    "    plt.figure('convergence')\n",
    "    plt.semilogy(np.arange(0,nsteps),np.absolute(fhist-fstar))\n",
    "    plt.xlabel('Iteration Count')\n",
    "    plt.ylabel(r'$|f^k - f^*|$')\n",
    "    \n",
    "    plt.show()\n",
    "    "
   ]
  },
  {
   "cell_type": "code",
   "execution_count": 25,
   "metadata": {},
   "outputs": [],
   "source": [
    "def plotres(xstar, nustar, histx, histnu):\n",
    "    nsteps = len(histx)\n",
    "    fhist = np.zeros(nsteps)\n",
    "    fstar = la.norm(res(xstar, nustar))\n",
    "    for i in range(nsteps):\n",
    "        fhist[i] = res(histx[i,:])\n",
    "    plt.figure('convergence')\n",
    "    plt.semilogy(np.arange(0,nsteps),np.absolute(fhist-fstar))\n",
    "    plt.xlabel('Iteration Count')\n",
    "    plt.ylabel(r'$|f^k - f^*|$')\n",
    "    \n",
    "    plt.show()"
   ]
  },
  {
   "cell_type": "code",
   "execution_count": 26,
   "metadata": {},
   "outputs": [
    {
     "name": "stdout",
     "output_type": "stream",
     "text": [
      "[[1.00000000e+00 1.00000000e+00 1.00000000e+00 ... 1.00000000e+00\n",
      "  1.00000000e+00 1.00000000e+00]\n",
      " [6.73958613e-01 2.48129350e-01 8.79079476e-01 ... 1.14003481e+00\n",
      "  1.26551599e+00 1.25851153e+00]\n",
      " [6.56717479e-01 3.21456523e-01 1.53391991e+00 ... 1.68369917e+00\n",
      "  2.78763579e+00 3.10005443e+00]\n",
      " ...\n",
      " [3.78220314e+06 3.21952765e+06 2.58755745e+07 ... 3.58722745e+07\n",
      "  1.92108348e+07 2.71636570e+07]\n",
      " [7.56440622e+06 6.43905543e+06 5.17511519e+07 ... 7.17445544e+07\n",
      "  3.84216691e+07 5.43273124e+07]\n",
      " [1.14373822e+07 9.73585187e+06 7.82477432e+07 ... 1.08477769e+08\n",
      "  5.80935634e+07 8.21428956e+07]]\n"
     ]
    }
   ],
   "source": [
    "print(histx)"
   ]
  },
  {
   "cell_type": "code",
   "execution_count": 27,
   "metadata": {
    "scrolled": true
   },
   "outputs": [
    {
     "data": {
      "image/png": "[encoded data removed]",
      "text/plain": [
       "<Figure size 432x288 with 1 Axes>"
      ]
     },
     "metadata": {
      "needs_background": "light"
     },
     "output_type": "display_data"
    }
   ],
   "source": [
    "plot(xstar, nustar, histx, histnu)"
   ]
  },
  {
   "cell_type": "code",
   "execution_count": 28,
   "metadata": {},
   "outputs": [
    {
     "data": {
      "text/plain": [
       "-1718.433049412567"
      ]
     },
     "execution_count": 28,
     "metadata": {},
     "output_type": "execute_result"
    }
   ],
   "source": [
    "func(xstar)"
   ]
  },
  {
   "cell_type": "code",
   "execution_count": null,
   "metadata": {},
   "outputs": [],
   "source": []
  }
 ],
 "metadata": {
  "kernelspec": {
   "display_name": "Python 3",
   "language": "python",
   "name": "python3"
  },
  "language_info": {
   "codemirror_mode": {
    "name": "ipython",
    "version": 3
   },
   "file_extension": ".py",
   "mimetype": "text/x-python",
   "name": "python",
   "nbconvert_exporter": "python",
   "pygments_lexer": "ipython3",
   "version": "3.6.5"
  }
 },
 "nbformat": 4,
 "nbformat_minor": 2
}
