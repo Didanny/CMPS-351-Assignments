{
 "cells": [
  {
   "cell_type": "markdown",
   "metadata": {},
   "source": [
    "## Probelm 2"
   ]
  },
  {
   "cell_type": "code",
   "execution_count": 1,
   "metadata": {},
   "outputs": [],
   "source": [
    "import numpy as np\n",
    "import cvxpy as cvx\n",
    "import matplotlib.pyplot as plt"
   ]
  },
  {
   "cell_type": "code",
   "execution_count": 2,
   "metadata": {},
   "outputs": [],
   "source": [
    "mean = np.array([0.12,0.1,0.07,0.03])\n",
    "\n",
    "std = np.array([0.2,0.1,0.05,0])\n",
    "\n",
    "p = np.array(   [[0.04,0.006,0.004,0],\n",
    "                [0.006,0.02,0,0],\n",
    "                [0.004,0,0.0025,0],\n",
    "                [0,0,0,0]] )\n",
    "#  p = sigma.T x P x sigma"
   ]
  },
  {
   "cell_type": "markdown",
   "metadata": {},
   "source": [
    "We aim to minimize the the objective function which remebles the risk subject to the reward being higher than a certain sacalar and $\\sum x_i = 1$"
   ]
  },
  {
   "cell_type": "code",
   "execution_count": 3,
   "metadata": {},
   "outputs": [],
   "source": [
    "x = cvx.Variable(4, nonneg = True)\n",
    "\n",
    "constraints_1 = [x*np.ones(4) == 1]\n",
    "\n",
    "constraints_2 = [x*mean >= 0.10]\n",
    "\n",
    "constraints = constraints_1 + constraints_2"
   ]
  },
  {
   "cell_type": "code",
   "execution_count": 4,
   "metadata": {},
   "outputs": [
    {
     "data": {
      "text/plain": [
       "0.0108888888888889"
      ]
     },
     "execution_count": 4,
     "metadata": {},
     "output_type": "execute_result"
    }
   ],
   "source": [
    "obj = cvx.Minimize(cvx.quad_form(x,p))\n",
    "prob =cvx.Problem(obj,constraints)\n",
    "prob.solve()"
   ]
  },
  {
   "cell_type": "code",
   "execution_count": 5,
   "metadata": {},
   "outputs": [
    {
     "data": {
      "text/plain": [
       "array([3.33333333e-01, 4.44444444e-01, 2.22222222e-01, 3.54347051e-23])"
      ]
     },
     "execution_count": 5,
     "metadata": {},
     "output_type": "execute_result"
    }
   ],
   "source": [
    "x.value"
   ]
  },
  {
   "cell_type": "markdown",
   "metadata": {},
   "source": [
    "### Pareto Optimality"
   ]
  },
  {
   "cell_type": "code",
   "execution_count": 6,
   "metadata": {},
   "outputs": [],
   "source": [
    "term1 = []\n",
    "term2 = []\n",
    "for i in range(1000):\n",
    "    alpha = i/100\n",
    "    x = cvx.Variable(4, nonneg = True)\n",
    "    constraints = [x*np.ones(4) == 1]\n",
    "    obj = cvx.Minimize(cvx.quad_form(x,p)-alpha*x*mean)\n",
    "    prob = cvx.Problem(obj, constraints)\n",
    "    prob.solve()\n",
    "    term1.append(x.value.T@p@x.value)\n",
    "    term2.append(x.value@mean)\n"
   ]
  },
  {
   "cell_type": "code",
   "execution_count": 7,
   "metadata": {},
   "outputs": [
    {
     "data": {
      "text/plain": [
       "Text(0, 0.5, 'Reward')"
      ]
     },
     "execution_count": 7,
     "metadata": {},
     "output_type": "execute_result"
    },
    {
     "data": {
      "image/png": "[encoded data removed]",
      "text/plain": [
       "<Figure size 432x288 with 1 Axes>"
      ]
     },
     "metadata": {
      "needs_background": "light"
     },
     "output_type": "display_data"
    }
   ],
   "source": [
    "plt.plot(term1,term2)\n",
    "plt.xlabel('Risk')\n",
    "plt.ylabel('Reward')"
   ]
  },
  {
   "cell_type": "markdown",
   "metadata": {},
   "source": [
    "As one would excpect the Reward and risk terms both increase togther since they are highly correlated. High risk coresponds to high reward and vice versa."
   ]
  },
  {
   "cell_type": "markdown",
   "metadata": {},
   "source": [
    "### Short Position"
   ]
  },
  {
   "cell_type": "code",
   "execution_count": 111,
   "metadata": {},
   "outputs": [],
   "source": [
    "x = cvx.Variable(4)\n",
    "x_long = cvx.Variable(4, nonneg = True)\n",
    "x_short = cvx.Variable(4, nonneg = True)\n",
    "\n",
    "P = 0.5\n",
    "\n",
    "\n",
    "constraints_1 = [x_long - x_short == x]\n",
    "\n",
    "constraints_2 = [P*np.ones(4)*x_long - np.ones(4)*x_short >= 0]\n",
    "\n",
    "constraints_3 = [x*mean >= 0.12]\n",
    "\n",
    "constraints_4 = [x*np.ones(4) == 1]\n",
    "constraints = constraints_1 + constraints_2 + constraints_3 +constraints_4"
   ]
  },
  {
   "cell_type": "code",
   "execution_count": 114,
   "metadata": {},
   "outputs": [
    {
     "data": {
      "text/plain": [
       "0.009144419199091161"
      ]
     },
     "execution_count": 114,
     "metadata": {},
     "output_type": "execute_result"
    }
   ],
   "source": [
    "alpha = 1\n",
    "obj = cvx.Minimize(cvx.quad_form(x,p))\n",
    "prob = cvx.Problem(obj, constraints)\n",
    "prob.solve()"
   ]
  },
  {
   "cell_type": "code",
   "execution_count": 116,
   "metadata": {},
   "outputs": [
    {
     "name": "stdout",
     "output_type": "stream",
     "text": [
      "[4.90627663e-02 3.50823630e-01 1.60011360e+00 2.59525389e-19]\n",
      "[3.30871911e-02 1.59941848e-19 3.28420922e-19 9.66912809e-01]\n",
      "[ 0.01597558  0.35082363  1.6001136  -0.96691281]\n"
     ]
    }
   ],
   "source": [
    "print(x_long.value)\n",
    "\n",
    "print(x_short.value)\n",
    "\n",
    "print(x.value)"
   ]
  }
 ],
 "metadata": {
  "kernelspec": {
   "display_name": "Python 3",
   "language": "python",
   "name": "python3"
  },
  "language_info": {
   "codemirror_mode": {
    "name": "ipython",
    "version": 3
   },
   "file_extension": ".py",
   "mimetype": "text/x-python",
   "name": "python",
   "nbconvert_exporter": "python",
   "pygments_lexer": "ipython3",
   "version": "3.6.5"
  }
 },
 "nbformat": 4,
 "nbformat_minor": 2
}
