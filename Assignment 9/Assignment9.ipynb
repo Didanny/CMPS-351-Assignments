{
 "cells": [
  {
   "cell_type": "markdown",
   "metadata": {},
   "source": [
    "Danny Abraham & Jad Abi Zaki\n",
    "<center><h1>CMPS 351</h1></center>\n",
    "<center><h2>Assignment 9</h2></center>"
   ]
  },
  {
   "cell_type": "code",
   "execution_count": 1,
   "metadata": {},
   "outputs": [],
   "source": [
    "import numpy as np\n",
    "import matplotlib.pyplot as plt\n",
    "import cvxpy as cvx\n",
    "import numpy.linalg as la"
   ]
  },
  {
   "cell_type": "markdown",
   "metadata": {},
   "source": [
    "## Distance Between Polyhedra\n",
    "---"
   ]
  },
  {
   "cell_type": "code",
   "execution_count": 2,
   "metadata": {},
   "outputs": [],
   "source": [
    "# definition of two poylogonal regions A1 @ x <= b1 and A2 @ x <= b2\n",
    "A1 = np.array( [\n",
    "      [5.8479532e-01,  -1.9354839e+00],\n",
    "      [2.3859649e+00,   1.1428571e+00],\n",
    "      [7.0175439e-01,   1.2350230e+00],\n",
    "      [-1.0292398e+00,  6.8202765e-01],\n",
    "      [-1.1695906e+00,  5.5299539e-02],\n",
    "      [-1.4736842e+00, -1.1797235e+00]\n",
    "      ] )\n",
    "\n",
    "b1 = np.array( [\n",
    "      3.3837281e+00,\n",
    "      9.5981890e-01,\n",
    "      1.1496483e+00,\n",
    "      2.4695071e+00,\n",
    "      2.3474816e+00,\n",
    "      3.6227127e+00\n",
    "      ] )\n",
    "\n",
    "A2 = np.array( [\n",
    "      [7.0175439e-02,  -2.2304147e+00],\n",
    "      [2.4795322e+00,   5.5299539e-02],\n",
    "      [1.1228070e+00,   1.6774194e+00],\n",
    "      [-1.0994152e+00,  1.1244240e+00],\n",
    "      [-2.5730994e+00, -6.2672811e-01]\n",
    "      ] )\n",
    "\n",
    "b2 = np.array( [\n",
    "      -6.9765812e-01,\n",
    "      9.0161964e+00,\n",
    "      8.8853316e+00,\n",
    "      2.4482712e+00,\n",
    "      -3.8164228e+00\n",
    "      ] )"
   ]
  },
  {
   "cell_type": "code",
   "execution_count": 3,
   "metadata": {},
   "outputs": [],
   "source": [
    "G = np.identity(4)\n",
    "v = -np.ones(3)\n",
    "v[1] = 0\n",
    "G = G + np.diag(v,-1) + np.diag(v,1)"
   ]
  },
  {
   "cell_type": "code",
   "execution_count": 4,
   "metadata": {},
   "outputs": [],
   "source": [
    "a = np.zeros(4)\n",
    "c = np.zeros([11,4])\n",
    "\n",
    "c[:6] = np.c_[A1[:,0],np.zeros(6),A1[:,1],np.zeros(6)]\n",
    "c[6:,:] = np.c_[np.zeros(5),A2[:,0],np.zeros(5),A2[:,1]]\n",
    "\n",
    "b = np.zeros(11)\n",
    "b[:6] = b1\n",
    "b[6:] = b2"
   ]
  },
  {
   "cell_type": "code",
   "execution_count": 5,
   "metadata": {},
   "outputs": [
    {
     "data": {
      "text/plain": [
       "1.1037632742485763"
      ]
     },
     "execution_count": 5,
     "metadata": {},
     "output_type": "execute_result"
    }
   ],
   "source": [
    "x = cvx.Variable(4)\n",
    "obj = cvx.Minimize(cvx.quad_form(x,G))\n",
    "constraints = [c*x-b<=0]\n",
    "prob = cvx.Problem(obj,constraints)\n",
    "prob.solve()"
   ]
  },
  {
   "cell_type": "code",
   "execution_count": 6,
   "metadata": {},
   "outputs": [
    {
     "name": "stdout",
     "output_type": "stream",
     "text": [
      " x value =  [ 0.44879957  1.39631338 -0.09712599  0.35672515]\n",
      "[0.         0.79423952 0.         0.         0.         0.\n",
      " 0.19850065 0.         0.         0.         0.7418903 ]\n"
     ]
    }
   ],
   "source": [
    "print(' x value = ',x.value)\n",
    "for c in constraints:\n",
    "    print(c.dual_value)"
   ]
  },
  {
   "cell_type": "markdown",
   "metadata": {},
   "source": [
    "Here the lagrange multipliers represent the boundaries of the polyhedron that constain the 2 nearest pints of the 2 polyhedra. They also represent the sensitivity of the solution to changing one of these 3 (in this case) boundaries that determine the solution."
   ]
  },
  {
   "cell_type": "markdown",
   "metadata": {},
   "source": [
    "## Portfolio Optimization\n",
    "---"
   ]
  },
  {
   "cell_type": "code",
   "execution_count": 7,
   "metadata": {},
   "outputs": [],
   "source": [
    "mean = np.array([0.12,0.1,0.07,0.03])\n",
    "\n",
    "std = np.array([0.2,0.1,0.05,0])\n",
    "\n",
    "p = np.array(   [[0.04,0.006,0.004,0],\n",
    "                [0.006,0.02,0,0],\n",
    "                [0.004,0,0.0025,0],\n",
    "                [0,0,0,0]] )"
   ]
  },
  {
   "cell_type": "code",
   "execution_count": 8,
   "metadata": {},
   "outputs": [],
   "source": [
    "x = cvx.Variable(4, nonneg = True)\n",
    "\n",
    "constraints_1 = [x*np.ones(4) == 1]\n",
    "\n",
    "constraints_2 = [x*mean >= 0.10]\n",
    "\n",
    "constraints = constraints_1 + constraints_2"
   ]
  },
  {
   "cell_type": "code",
   "execution_count": 9,
   "metadata": {},
   "outputs": [
    {
     "data": {
      "text/plain": [
       "0.0108888888888889"
      ]
     },
     "execution_count": 9,
     "metadata": {},
     "output_type": "execute_result"
    }
   ],
   "source": [
    "obj = cvx.Minimize(cvx.quad_form(x,p))\n",
    "prob =cvx.Problem(obj,constraints)\n",
    "prob.solve()"
   ]
  },
  {
   "cell_type": "code",
   "execution_count": 10,
   "metadata": {},
   "outputs": [
    {
     "data": {
      "text/plain": [
       "array([3.33333333e-01, 4.44444444e-01, 2.22222222e-01, 3.54347051e-23])"
      ]
     },
     "execution_count": 10,
     "metadata": {},
     "output_type": "execute_result"
    }
   ],
   "source": [
    "x.value"
   ]
  },
  {
   "cell_type": "markdown",
   "metadata": {},
   "source": [
    "#### Pareto Optimality"
   ]
  },
  {
   "cell_type": "code",
   "execution_count": 11,
   "metadata": {},
   "outputs": [],
   "source": [
    "term1 = []\n",
    "term2 = []\n",
    "for i in range(1000):\n",
    "    alpha = i/100\n",
    "    x = cvx.Variable(4, nonneg = True)\n",
    "    constraints = [x*np.ones(4) == 1]\n",
    "    obj = cvx.Minimize(cvx.quad_form(x,p)-alpha*x*mean)\n",
    "    prob = cvx.Problem(obj, constraints)\n",
    "    prob.solve()\n",
    "    term1.append(x.value.T@p@x.value)\n",
    "    term2.append(x.value@mean)"
   ]
  },
  {
   "cell_type": "code",
   "execution_count": 12,
   "metadata": {},
   "outputs": [
    {
     "data": {
      "text/plain": [
       "Text(0,0.5,'Reward')"
      ]
     },
     "execution_count": 12,
     "metadata": {},
     "output_type": "execute_result"
    },
    {
     "data": {
      "image/png": "[encoded data removed]",
      "text/plain": [
       "<Figure size 432x288 with 1 Axes>"
      ]
     },
     "metadata": {},
     "output_type": "display_data"
    }
   ],
   "source": [
    "plt.plot(term1, term2)\n",
    "plt.xlabel('Risk')\n",
    "plt.ylabel('Reward')"
   ]
  },
  {
   "cell_type": "markdown",
   "metadata": {},
   "source": [
    "Here we observe that Risk and Reward are correlated. As the Risk increases we get the potential for a greater Reward"
   ]
  },
  {
   "cell_type": "markdown",
   "metadata": {},
   "source": [
    "#### Short Positions"
   ]
  },
  {
   "cell_type": "code",
   "execution_count": 13,
   "metadata": {},
   "outputs": [],
   "source": [
    "x = cvx.Variable(4)\n",
    "x_long = cvx.Variable(4, nonneg = True)\n",
    "x_short = cvx.Variable(4, nonneg = True)\n",
    "\n",
    "P = 0.5\n",
    "\n",
    "\n",
    "constraints_1 = [x_long - x_short == x]\n",
    "\n",
    "constraints_2 = [P*np.ones(4)*x_long - np.ones(4)*x_short >= 0]\n",
    "\n",
    "constraints_3 = [x*mean >= 0.12]\n",
    "\n",
    "constraints_4 = [x*np.ones(4) == 1]\n",
    "constraints = constraints_1 + constraints_2 + constraints_3 +constraints_4"
   ]
  },
  {
   "cell_type": "code",
   "execution_count": 14,
   "metadata": {},
   "outputs": [
    {
     "data": {
      "text/plain": [
       "0.009144419199091161"
      ]
     },
     "execution_count": 14,
     "metadata": {},
     "output_type": "execute_result"
    }
   ],
   "source": [
    "alpha = 1\n",
    "obj = cvx.Minimize(cvx.quad_form(x,p))\n",
    "prob = cvx.Problem(obj, constraints)\n",
    "prob.solve()"
   ]
  },
  {
   "cell_type": "code",
   "execution_count": 15,
   "metadata": {},
   "outputs": [
    {
     "name": "stdout",
     "output_type": "stream",
     "text": [
      "[4.90627663e-02 3.50823630e-01 1.60011360e+00 2.59525389e-19]\n",
      "[3.30871911e-02 1.59941848e-19 3.28420922e-19 9.66912809e-01]\n",
      "[ 0.01597558  0.35082363  1.6001136  -0.96691281]\n"
     ]
    }
   ],
   "source": [
    "print(x_long.value)\n",
    "\n",
    "print(x_short.value)\n",
    "\n",
    "print(x.value)"
   ]
  },
  {
   "cell_type": "markdown",
   "metadata": {},
   "source": [
    "## Newton's Method for Equality-Constrained Convex Problems\n",
    "---"
   ]
  },
  {
   "cell_type": "markdown",
   "metadata": {},
   "source": [
    "$$ r(y) = \\begin{bmatrix} \\nabla f(x) + A^t \\\\ Ax + b\\end{bmatrix}$$"
   ]
  },
  {
   "cell_type": "code",
   "execution_count": 1,
   "metadata": {},
   "outputs": [
    {
     "ename": "NameError",
     "evalue": "name 'np' is not defined",
     "output_type": "error",
     "traceback": [
      "\u001b[1;31m---------------------------------------------------------------------------\u001b[0m",
      "\u001b[1;31mNameError\u001b[0m                                 Traceback (most recent call last)",
      "\u001b[1;32m<ipython-input-1-7680f000844c>\u001b[0m in \u001b[0;36m<module>\u001b[1;34m()\u001b[0m\n\u001b[1;32m----> 1\u001b[1;33m \u001b[0mnp\u001b[0m\u001b[1;33m.\u001b[0m\u001b[0mrandom\u001b[0m\u001b[1;33m.\u001b[0m\u001b[0mseed\u001b[0m\u001b[1;33m(\u001b[0m\u001b[1;36m421\u001b[0m\u001b[1;33m)\u001b[0m            \u001b[1;31m# seed the random number generator\u001b[0m\u001b[1;33m\u001b[0m\u001b[0m\n\u001b[0m\u001b[0;32m      2\u001b[0m \u001b[0mn\u001b[0m \u001b[1;33m=\u001b[0m \u001b[1;36m100\u001b[0m\u001b[1;33m\u001b[0m\u001b[0m\n\u001b[0;32m      3\u001b[0m \u001b[0mp\u001b[0m \u001b[1;33m=\u001b[0m \u001b[1;36m40\u001b[0m\u001b[1;33m\u001b[0m\u001b[0m\n\u001b[0;32m      4\u001b[0m \u001b[1;33m\u001b[0m\u001b[0m\n\u001b[0;32m      5\u001b[0m \u001b[1;31m# Generate a random p-by-n matrix with independent rows\u001b[0m\u001b[1;33m\u001b[0m\u001b[1;33m\u001b[0m\u001b[0m\n",
      "\u001b[1;31mNameError\u001b[0m: name 'np' is not defined"
     ]
    }
   ],
   "source": [
    "np.random.seed(421)            # seed the random number generator\n",
    "n = 100\n",
    "p = 40\n",
    "\n",
    "# Generate a random p-by-n matrix with independent rows\n",
    "A = np.random.randn(p, n)\n",
    "\n",
    "while np.linalg.matrix_rank(A) !=p : \n",
    "    print('generating another data set with independent rows')\n",
    "    A = np.random.rand(p, n)\n",
    "\n",
    "# Generate a random right hand side  \n",
    "b = A @ np.random.randn(n)"
   ]
  },
  {
   "cell_type": "markdown",
   "metadata": {},
   "source": [
    "#### Objective"
   ]
  },
  {
   "cell_type": "code",
   "execution_count": 17,
   "metadata": {},
   "outputs": [],
   "source": [
    "def func(x):\n",
    "    return - np.sum(np.log(x))"
   ]
  },
  {
   "cell_type": "markdown",
   "metadata": {},
   "source": [
    "#### Residual"
   ]
  },
  {
   "cell_type": "code",
   "execution_count": 18,
   "metadata": {},
   "outputs": [],
   "source": [
    "def res(x, nu):\n",
    "    r1 = -(1/x) + A.T@nu\n",
    "    r2 = A@x - b\n",
    "    r = np.hstack([r1, r2])\n",
    "    r = r.T\n",
    "    return r"
   ]
  },
  {
   "cell_type": "markdown",
   "metadata": {},
   "source": [
    "#### Jacobian"
   ]
  },
  {
   "cell_type": "code",
   "execution_count": 19,
   "metadata": {},
   "outputs": [],
   "source": [
    "def jacobian(x):\n",
    "    h = (1/(x**2))\n",
    "    h = np.diag(h)\n",
    "    j1 = np.hstack([h, A.T])\n",
    "    j2 = np.hstack([A, np.zeros([p, p])])\n",
    "    j = np.vstack([j1, j2])\n",
    "    return j"
   ]
  },
  {
   "cell_type": "code",
   "execution_count": 20,
   "metadata": {},
   "outputs": [],
   "source": [
    "x = np.ones(n)\n",
    "nu = np.zeros(p)"
   ]
  },
  {
   "cell_type": "code",
   "execution_count": 21,
   "metadata": {},
   "outputs": [],
   "source": [
    "def btLineSearch(x, nu, t, p, alpha = 0.01, beta = 0.8):\n",
    "    while (x + t*p[:n]<0).any():\n",
    "        t=t*beta\n",
    "    while (la.norm(res(x + t*p[:n], nu + t*p[n:])) >= (1 - alpha*t)*la.norm(res(x,nu))):\n",
    "        t *= beta\n",
    "    return t"
   ]
  },
  {
   "cell_type": "code",
   "execution_count": 22,
   "metadata": {},
   "outputs": [],
   "source": [
    "def infeasible_newton(x0, nu0, tol = 2e-6):\n",
    "    x = x0\n",
    "    nu= nu0\n",
    "    histx  = np.array([x0])\n",
    "    histnu = np.array([nu0])\n",
    "    while(la.norm(res(x, nu)) > tol):\n",
    "        print(la.norm(res(x,nu)), end='\\r')\n",
    "        p = la.solve(jacobian(x), - res(x, nu))\n",
    "        t = btLineSearch(x,nu,1,p)\n",
    "        x = x + t*p[:n]\n",
    "        nu = nu + t*p[n:]\n",
    "        histx = np.vstack([histx , x])\n",
    "        histnu = np.vstack([histnu , nu])\n",
    "    return histx, histnu , x, nu "
   ]
  },
  {
   "cell_type": "code",
   "execution_count": 23,
   "metadata": {},
   "outputs": [
    {
     "name": "stdout",
     "output_type": "stream",
     "text": [
      "2.187190091115985e-065\r"
     ]
    }
   ],
   "source": [
    "histx, histnu, xstar, nustar = infeasible_newton(x, nu)"
   ]
  },
  {
   "cell_type": "code",
   "execution_count": 24,
   "metadata": {},
   "outputs": [],
   "source": [
    "def plot(xstar, nustar, histx, histnu):\n",
    "    nsteps = len(histx)\n",
    "    fhist = np.zeros(nsteps)\n",
    "    fstar = func(xstar)\n",
    "    for i in range(nsteps):\n",
    "        fhist[i] = func(histx[i,:])\n",
    "    plt.figure('convergence')\n",
    "    plt.semilogy(np.arange(0,nsteps),np.absolute(fhist-fstar))\n",
    "    plt.xlabel('Iteration Count')\n",
    "    plt.ylabel(r'$|f^k - f^*|$')\n",
    "    \n",
    "    plt.show()"
   ]
  },
  {
   "cell_type": "code",
   "execution_count": 25,
   "metadata": {},
   "outputs": [],
   "source": [
    "def plotres(xstar, nustar, histx, histnu):\n",
    "    nsteps = len(histx)\n",
    "    fhist = np.zeros(nsteps)\n",
    "    fstar = la.norm(res(xstar, nustar))\n",
    "    for i in range(nsteps):\n",
    "        fhist[i] = res(histx[i,:])\n",
    "    plt.figure('convergence')\n",
    "    plt.semilogy(np.arange(0,nsteps),np.absolute(fhist-fstar))\n",
    "    plt.xlabel('Iteration Count')\n",
    "    plt.ylabel(r'$|f^k - f^*|$')\n",
    "    \n",
    "    plt.show()"
   ]
  },
  {
   "cell_type": "code",
   "execution_count": 26,
   "metadata": {},
   "outputs": [
    {
     "data": {
      "image/png": "[encoded data removed]",
      "text/plain": [
       "<Figure size 432x288 with 1 Axes>"
      ]
     },
     "metadata": {},
     "output_type": "display_data"
    }
   ],
   "source": [
    "plot(xstar, nustar, histx, histnu)"
   ]
  },
  {
   "cell_type": "code",
   "execution_count": 27,
   "metadata": {},
   "outputs": [
    {
     "data": {
      "text/plain": [
       "-1718.433049412567"
      ]
     },
     "execution_count": 27,
     "metadata": {},
     "output_type": "execute_result"
    }
   ],
   "source": [
    "func(xstar)"
   ]
  },
  {
   "cell_type": "markdown",
   "metadata": {},
   "source": [
    "The current Newton step is given by\n",
    "\n",
    "$$\\left[ \\begin{array}\n",
    "\\;\\nabla^2 f & A^t\\\\\n",
    "A & 0\n",
    "\\end{array} \\right]\n",
    "%\n",
    "\\left [\\begin{array}\n",
    "\\; \\Delta x\\\\\n",
    "\\Delta \\nu\n",
    "\\end{array} \\right]\n",
    "=-\n",
    "%\n",
    "\\left [\\begin{array}\n",
    "\\; \\nabla f + A^t\\nu\\\\\n",
    "Ax-b\n",
    "\\end{array} \\right]$$\n",
    "\n",
    "Writing out the equations we get\n",
    "\n",
    "$$ A^t \\Delta\\nu+\\nabla^2 f\\Delta x=-\\nabla f-A^t\\nu\\; (1)$$\n",
    "$$ 0\\Delta\\nu+A\\Delta x=-Ax+b\\; (2)$$ \n",
    "\n",
    "By multiplying $(1)$ by $A(\\nabla^2 f)^{-1}$ and then subtracting fom $(2)$ we get\n",
    "\n",
    "$$ (-A\\nabla^2 f^{-1}A^t)\\Delta\\nu = -Ax+b-A\\nabla^2 f^{-1}(-\\nabla f-A^t\\nu) $$\n",
    "\n",
    "After using the above equation to solve for $ \\Delta\\nu $ we can use $(1)$ to solve for $\\Delta x$.\n",
    "This series of calculations can replace our original Newton step"
   ]
  },
  {
   "cell_type": "code",
   "execution_count": null,
   "metadata": {},
   "outputs": [],
   "source": []
  }
 ],
 "metadata": {
  "kernelspec": {
   "display_name": "Python 3",
   "language": "python",
   "name": "python3"
  },
  "language_info": {
   "codemirror_mode": {
    "name": "ipython",
    "version": 3
   },
   "file_extension": ".py",
   "mimetype": "text/x-python",
   "name": "python",
   "nbconvert_exporter": "python",
   "pygments_lexer": "ipython3",
   "version": "3.6.5"
  }
 },
 "nbformat": 4,
 "nbformat_minor": 2
}
