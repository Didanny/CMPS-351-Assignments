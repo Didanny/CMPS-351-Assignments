{
 "cells": [
  {
   "cell_type": "code",
   "execution_count": 140,
   "metadata": {},
   "outputs": [],
   "source": [
    "from __future__ import division \n",
    "import numpy as np\n",
    "import cv2\n",
    "import matplotlib.pyplot as plt"
   ]
  },
  {
   "cell_type": "code",
   "execution_count": 141,
   "metadata": {},
   "outputs": [],
   "source": [
    "img = np.zeros((512,512,3), np.uint8)\n",
    "img[:,:] = (255, 255, 255)\n",
    "pts = np.array([[10,5],[20,30],[70,20],[50,10]], np.int32)\n",
    "pts = pts.reshape((-1,1,2))\n",
    "img = cv2.polylines(img,[pts],True,(100, 100, 100))"
   ]
  },
  {
   "cell_type": "code",
   "execution_count": 142,
   "metadata": {},
   "outputs": [],
   "source": [
    "A1 = np.array( [\n",
    "      [5.8479532e-01,  -1.9354839e+00],\n",
    "      [2.3859649e+00,   1.1428571e+00],\n",
    "      [7.0175439e-01,   1.2350230e+00],\n",
    "      [-1.0292398e+00,  6.8202765e-01],\n",
    "      [-1.1695906e+00,  5.5299539e-02],\n",
    "      [-1.4736842e+00, -1.1797235e+00]\n",
    "      ] )\n",
    "\n",
    "b1 = np.array( [\n",
    "      3.3837281e+00,\n",
    "      9.5981890e-01,\n",
    "      1.1496483e+00,\n",
    "      2.4695071e+00,\n",
    "      2.3474816e+00,\n",
    "      3.6227127e+00\n",
    "      ] )\n",
    "\n",
    "A2 = np.array( [\n",
    "      [7.0175439e-02,  -2.2304147e+00],\n",
    "      [2.4795322e+00,   5.5299539e-02],\n",
    "      [1.1228070e+00,   1.6774194e+00],\n",
    "      [-1.0994152e+00,  1.1244240e+00],\n",
    "      [-2.5730994e+00, -6.2672811e-01]\n",
    "      ] )\n",
    "\n",
    "b2 = np.array( [\n",
    "      -6.9765812e-01,\n",
    "      9.0161964e+00,\n",
    "      8.8853316e+00,\n",
    "      2.4482712e+00,\n",
    "      -3.8164228e+00\n",
    "      ] )"
   ]
  },
  {
   "cell_type": "code",
   "execution_count": 143,
   "metadata": {},
   "outputs": [
    {
     "data": {
      "image/png": "[encoded data removed]",
      "text/plain": [
       "<Figure size 432x288 with 1 Axes>"
      ]
     },
     "metadata": {},
     "output_type": "display_data"
    }
   ],
   "source": [
    "plt.imshow(img)\n",
    "plt.title('Polyhedra')\n",
    "plt.show()"
   ]
  },
  {
   "cell_type": "code",
   "execution_count": 144,
   "metadata": {},
   "outputs": [],
   "source": [
    "def intersection(L1, L2):\n",
    "    D  = L1[0] * L2[1] - L1[1] * L2[0]\n",
    "    Dx = L1[2] * L2[1] - L1[1] * L2[2]\n",
    "    Dy = L1[0] * L2[2] - L1[2] * L2[0]\n",
    "    if D != 0:\n",
    "        x = Dx / D\n",
    "        y = Dy / D\n",
    "        return x,y\n",
    "    else:\n",
    "        return False"
   ]
  },
  {
   "cell_type": "code",
   "execution_count": 145,
   "metadata": {},
   "outputs": [
    {
     "data": {
      "text/plain": [
       "array([[ 0.58479532, -1.9354839 ],\n",
       "       [ 2.3859649 ,  1.1428571 ],\n",
       "       [ 0.70175439,  1.235023  ],\n",
       "       [-1.0292398 ,  0.68202765],\n",
       "       [-1.1695906 ,  0.05529954],\n",
       "       [-1.4736842 , -1.1797235 ]])"
      ]
     },
     "execution_count": 145,
     "metadata": {},
     "output_type": "execute_result"
    }
   ],
   "source": [
    "A1"
   ]
  },
  {
   "cell_type": "code",
   "execution_count": 146,
   "metadata": {},
   "outputs": [
    {
     "data": {
      "text/plain": [
       "array([3.3837281, 0.9598189, 1.1496483, 2.4695071, 2.3474816, 3.6227127])"
      ]
     },
     "execution_count": 146,
     "metadata": {},
     "output_type": "execute_result"
    }
   ],
   "source": [
    "b1.T"
   ]
  },
  {
   "cell_type": "code",
   "execution_count": 147,
   "metadata": {},
   "outputs": [],
   "source": [
    "L1 = np.vstack([A1.T, b1])\n",
    "L1 = L1.T\n",
    "\n",
    "L2 = np.vstack([A2.T, b2])\n",
    "L2 = L2.T"
   ]
  },
  {
   "cell_type": "code",
   "execution_count": 148,
   "metadata": {},
   "outputs": [
    {
     "data": {
      "text/plain": [
       "array([[ 0.07017544, -2.2304147 , -0.69765812],\n",
       "       [ 2.4795322 ,  0.05529954,  9.0161964 ],\n",
       "       [ 1.122807  ,  1.6774194 ,  8.8853316 ],\n",
       "       [-1.0994152 ,  1.124424  ,  2.4482712 ],\n",
       "       [-2.5730994 , -0.62672811, -3.8164228 ]])"
      ]
     },
     "execution_count": 148,
     "metadata": {},
     "output_type": "execute_result"
    }
   ],
   "source": [
    "L2"
   ]
  },
  {
   "cell_type": "code",
   "execution_count": 149,
   "metadata": {},
   "outputs": [],
   "source": [
    "def draw_polyhedra():\n",
    "    img = np.zeros((1000, 1000,3), np.uint8)\n",
    "    img[:,:] = (255, 255, 255)\n",
    "    \n",
    "    points1 = []\n",
    "    points2 = []\n",
    "    \n",
    "    points1.append(intersection(L1[0], L1[5]))\n",
    "    points2.append(intersection(L2[0], L2[4]))\n",
    "    \n",
    "    for i in range(5):\n",
    "        points1.append(intersection(L1[i], L1[i + 1]))\n",
    "    \n",
    "    for i in range(4):\n",
    "        points2.append(intersection(L2[i], L2[i + 1]))\n",
    "        \n",
    "    points1 = np.array(points1)\n",
    "    points2 = np.array(points2)\n",
    "    points1 += 10\n",
    "    points2 += 10\n",
    "    points1 *= 50\n",
    "    points2 *= 50\n",
    "    print(points1)\n",
    "    points1 = points1.reshape((-1,1,2))\n",
    "    points2 = points2.reshape((-1,1,2))\n",
    "    img = cv2.polylines(img,[points1.astype(np.int32)],True,(0, 0, 0))\n",
    "    img = cv2.polylines(img,[points2.astype(np.int32)],True,(0, 0, 0))\n",
    "    \n",
    "    plt.imshow(img)\n",
    "    plt.title('Polyhedra')\n",
    "    plt.show()"
   ]
  },
  {
   "cell_type": "code",
   "execution_count": 150,
   "metadata": {},
   "outputs": [
    {
     "name": "stdout",
     "output_type": "stream",
     "text": [
      "[[457.37326978 399.70760421]\n",
      " [554.1474637  428.94736988]\n",
      " [497.00460871 548.24561485]\n",
      " [435.25345899 583.33333419]\n",
      " [401.15206987 531.87133419]\n",
      " [398.38709347 473.39181585]]\n"
     ]
    },
    {
     "data": {
      "image/png": "[encoded data removed]",
      "text/plain": [
       "<Figure size 432x288 with 1 Axes>"
      ]
     },
     "metadata": {},
     "output_type": "display_data"
    }
   ],
   "source": [
    "draw_polyhedra()"
   ]
  },
  {
   "cell_type": "code",
   "execution_count": null,
   "metadata": {},
   "outputs": [],
   "source": []
  }
 ],
 "metadata": {
  "kernelspec": {
   "display_name": "Python 3",
   "language": "python",
   "name": "python3"
  },
  "language_info": {
   "codemirror_mode": {
    "name": "ipython",
    "version": 3
   },
   "file_extension": ".py",
   "mimetype": "text/x-python",
   "name": "python",
   "nbconvert_exporter": "python",
   "pygments_lexer": "ipython3",
   "version": "3.6.5"
  }
 },
 "nbformat": 4,
 "nbformat_minor": 2
}
