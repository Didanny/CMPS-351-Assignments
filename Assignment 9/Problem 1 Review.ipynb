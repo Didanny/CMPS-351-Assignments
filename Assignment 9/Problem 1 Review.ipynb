{
 "cells": [
  {
   "cell_type": "code",
   "execution_count": 1,
   "metadata": {},
   "outputs": [],
   "source": [
    "import numpy as np\n",
    "from numpy import linalg as la\n",
    "import matplotlib.pyplot as plt\n",
    "import cvxpy as cvx"
   ]
  },
  {
   "cell_type": "code",
   "execution_count": 4,
   "metadata": {},
   "outputs": [],
   "source": [
    "# definition of two poylogonal regions A1 @ x <= b1 and A2 @ x <= b2\n",
    "A1 = np.array( [\n",
    "      [5.8479532e-01,  -1.9354839e+00],\n",
    "      [2.3859649e+00,   1.1428571e+00],\n",
    "      [7.0175439e-01,   1.2350230e+00],\n",
    "      [-1.0292398e+00,  6.8202765e-01],\n",
    "      [-1.1695906e+00,  5.5299539e-02],\n",
    "      [-1.4736842e+00, -1.1797235e+00]\n",
    "      ] )\n",
    "\n",
    "b1 = np.array( [\n",
    "      3.3837281e+00,\n",
    "      9.5981890e-01,\n",
    "      1.1496483e+00,\n",
    "      2.4695071e+00,\n",
    "      2.3474816e+00,\n",
    "      3.6227127e+00\n",
    "      ] )\n",
    "\n",
    "A2 = np.array( [\n",
    "      [7.0175439e-02,  -2.2304147e+00],\n",
    "      [2.4795322e+00,   5.5299539e-02],\n",
    "      [1.1228070e+00,   1.6774194e+00],\n",
    "      [-1.0994152e+00,  1.1244240e+00],\n",
    "      [-2.5730994e+00, -6.2672811e-01]\n",
    "      ] )\n",
    "\n",
    "b2 = np.array( [\n",
    "      -6.9765812e-01,\n",
    "      9.0161964e+00,\n",
    "      8.8853316e+00,\n",
    "      2.4482712e+00,\n",
    "      -3.8164228e+00\n",
    "      ] )\n",
    "\n",
    "# print(A1, A2, b1, b2)\n",
    "\n"
   ]
  },
  {
   "cell_type": "code",
   "execution_count": 20,
   "metadata": {},
   "outputs": [],
   "source": [
    "G = np.identity(2)\n",
    "x = cvx.Variable(4)\n",
    "y = x[:2]-x[2:]\n",
    "obj = cvx.quad_form(y,G)\n",
    "c_ = [A1[i]@x[:2] -b1[i] <= 0 for i in range(A1.shape[0])] \n",
    "c_ += [A2[i]@x[2:] -b2[i] <= 0 for i in range(A2.shape[0])]       \n",
    "      \n",
    "      #A2@x[2:] -b2 <= 0 ]"
   ]
  },
  {
   "cell_type": "code",
   "execution_count": 21,
   "metadata": {},
   "outputs": [
    {
     "data": {
      "text/plain": [
       "11"
      ]
     },
     "execution_count": 21,
     "metadata": {},
     "output_type": "execute_result"
    }
   ],
   "source": []
  },
  {
   "cell_type": "code",
   "execution_count": 24,
   "metadata": {},
   "outputs": [],
   "source": [
    "obj = cvx.Minimize(obj)"
   ]
  },
  {
   "cell_type": "code",
   "execution_count": 25,
   "metadata": {},
   "outputs": [
    {
     "data": {
      "text/plain": [
       "1.1037632742485766"
      ]
     },
     "execution_count": 25,
     "metadata": {},
     "output_type": "execute_result"
    }
   ],
   "source": [
    "prob = cvx.Problem(obj, c_)\n",
    "prob.solve()"
   ]
  },
  {
   "cell_type": "code",
   "execution_count": 26,
   "metadata": {},
   "outputs": [
    {
     "data": {
      "text/plain": [
       "Solution(optimal, {92: array([ 0.44879957, -0.09712599,  1.39631338,  0.35672515])}, {93: 0.0, 95: 0.7942395208041492, 97: 0.0, 99: 0.0, 101: 0.0, 103: 0.0, 105: 0.1985006506158323, 107: 0.0, 109: 0.0, 111: 0.0, 113: 0.741890301295889}, {'solve_time': 4.8924486193339326e-05, 'num_iters': 100})"
      ]
     },
     "execution_count": 26,
     "metadata": {},
     "output_type": "execute_result"
    }
   ],
   "source": [
    "prob.solution"
   ]
  },
  {
   "cell_type": "code",
   "execution_count": null,
   "metadata": {},
   "outputs": [],
   "source": []
  }
 ],
 "metadata": {
  "kernelspec": {
   "display_name": "Python 3",
   "language": "python",
   "name": "python3"
  },
  "language_info": {
   "codemirror_mode": {
    "name": "ipython",
    "version": 3
   },
   "file_extension": ".py",
   "mimetype": "text/x-python",
   "name": "python",
   "nbconvert_exporter": "python",
   "pygments_lexer": "ipython3",
   "version": "3.7.3"
  }
 },
 "nbformat": 4,
 "nbformat_minor": 2
}
