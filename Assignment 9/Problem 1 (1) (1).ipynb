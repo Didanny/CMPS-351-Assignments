{
 "cells": [
  {
   "cell_type": "code",
   "execution_count": 36,
   "metadata": {},
   "outputs": [],
   "source": [
    "import numpy as np\n",
    "import matplotlib\n",
    "import matplotlib.pyplot as plt\n",
    "import cvxpy as cvx\n",
    "\n",
    "# definition of two poylogonal regions A1 @ x <= b1 and A2 @ x <= b2\n",
    "A1 = np.array( [\n",
    "      [5.8479532e-01,  -1.9354839e+00],\n",
    "      [2.3859649e+00,   1.1428571e+00],\n",
    "      [7.0175439e-01,   1.2350230e+00],\n",
    "      [-1.0292398e+00,  6.8202765e-01],\n",
    "      [-1.1695906e+00,  5.5299539e-02],\n",
    "      [-1.4736842e+00, -1.1797235e+00]\n",
    "      ] )\n",
    "\n",
    "b1 = np.array( [\n",
    "      3.3837281e+00,\n",
    "      9.5981890e-01,\n",
    "      1.1496483e+00,\n",
    "      2.4695071e+00,\n",
    "      2.3474816e+00,\n",
    "      3.6227127e+00\n",
    "      ] )\n",
    "\n",
    "A2 = np.array( [\n",
    "      [7.0175439e-02,  -2.2304147e+00],\n",
    "      [2.4795322e+00,   5.5299539e-02],\n",
    "      [1.1228070e+00,   1.6774194e+00],\n",
    "      [-1.0994152e+00,  1.1244240e+00],\n",
    "      [-2.5730994e+00, -6.2672811e-01]\n",
    "      ] )\n",
    "\n",
    "b2 = np.array( [\n",
    "      -6.9765812e-01,\n",
    "      9.0161964e+00,\n",
    "      8.8853316e+00,\n",
    "      2.4482712e+00,\n",
    "      -3.8164228e+00\n",
    "      ] )\n",
    "\n",
    "# print(A1, A2, b1, b2)\n",
    "\n"
   ]
  },
  {
   "cell_type": "markdown",
   "metadata": {},
   "source": [
    "G is the Matrix used for in the quadratic optimization problem."
   ]
  },
  {
   "cell_type": "code",
   "execution_count": 37,
   "metadata": {},
   "outputs": [],
   "source": [
    "G = np.identity(4)\n",
    "v = -np.ones(3)\n",
    "v[1] = 0\n",
    "G = G + np.diag(v,-1) + np.diag(v,1)"
   ]
  },
  {
   "cell_type": "code",
   "execution_count": 38,
   "metadata": {},
   "outputs": [],
   "source": [
    "a = np.zeros(4)\n",
    "c = np.zeros([11,4])\n",
    "\n",
    "c[:6] = np.c_[A1[:,0],np.zeros(6),A1[:,1],np.zeros(6)]\n",
    "c[6:,:] = np.c_[np.zeros(5),A2[:,0],np.zeros(5),A2[:,1]]\n",
    "\n",
    "b = np.zeros(11)\n",
    "b[:6] = b1\n",
    "b[6:] = b2"
   ]
  },
  {
   "cell_type": "code",
   "execution_count": 39,
   "metadata": {},
   "outputs": [
    {
     "data": {
      "text/plain": [
       "1.1037632742485763"
      ]
     },
     "execution_count": 39,
     "metadata": {},
     "output_type": "execute_result"
    }
   ],
   "source": [
    "x = cvx.Variable(4)\n",
    "obj = cvx.Minimize(cvx.quad_form(x,G))\n",
    "constraints = [c*x-b<=0]\n",
    "prob = cvx.Problem(obj,constraints)\n",
    "prob.solve()"
   ]
  },
  {
   "cell_type": "code",
   "execution_count": 40,
   "metadata": {},
   "outputs": [
    {
     "data": {
      "text/plain": [
       "array([ 0.44879957,  1.39631338, -0.09712599,  0.35672515])"
      ]
     },
     "execution_count": 40,
     "metadata": {},
     "output_type": "execute_result"
    }
   ],
   "source": [
    "x.value"
   ]
  },
  {
   "cell_type": "code",
   "execution_count": 41,
   "metadata": {},
   "outputs": [
    {
     "name": "stdout",
     "output_type": "stream",
     "text": [
      "[0.         0.79423952 0.         0.         0.         0.\n",
      " 0.19850065 0.         0.         0.         0.7418903 ]\n"
     ]
    }
   ],
   "source": [
    "for c in constraints:\n",
    "    print(c.dual_value)"
   ]
  },
  {
   "cell_type": "markdown",
   "metadata": {},
   "source": [
    "The lagrangians represent the amount the distance changes if we loosen or tighten the active constraints. The Lagrangian multipliers possibly represent the norm of the gradient which the multipliers belongs to."
   ]
  }
 ],
 "metadata": {
  "kernelspec": {
   "display_name": "Python 3",
   "language": "python",
   "name": "python3"
  },
  "language_info": {
   "codemirror_mode": {
    "name": "ipython",
    "version": 3
   },
   "file_extension": ".py",
   "mimetype": "text/x-python",
   "name": "python",
   "nbconvert_exporter": "python",
   "pygments_lexer": "ipython3",
   "version": "3.6.5"
  }
 },
 "nbformat": 4,
 "nbformat_minor": 2
}
