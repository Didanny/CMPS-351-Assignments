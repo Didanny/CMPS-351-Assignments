{
 "cells": [
  {
   "cell_type": "markdown",
   "metadata": {},
   "source": [
    "Danny Abraham\n",
    "<center><h1>CMPS 351</h1></center>\n",
    "<center><h2>Assignment 6</h2></center>"
   ]
  },
  {
   "cell_type": "code",
   "execution_count": 2,
   "metadata": {},
   "outputs": [
    {
     "ename": "ModuleNotFoundError",
     "evalue": "No module named 'cvxpy'",
     "output_type": "error",
     "traceback": [
      "\u001b[1;31m---------------------------------------------------------------------------\u001b[0m",
      "\u001b[1;31mModuleNotFoundError\u001b[0m                       Traceback (most recent call last)",
      "\u001b[1;32m<ipython-input-2-bfb636a12029>\u001b[0m in \u001b[0;36m<module>\u001b[1;34m()\u001b[0m\n\u001b[0;32m      2\u001b[0m \u001b[1;32mfrom\u001b[0m \u001b[0mnumpy\u001b[0m \u001b[1;32mimport\u001b[0m \u001b[0mlinalg\u001b[0m \u001b[1;32mas\u001b[0m \u001b[0mla\u001b[0m\u001b[1;33m\u001b[0m\u001b[0m\n\u001b[0;32m      3\u001b[0m \u001b[1;32mfrom\u001b[0m \u001b[0mscipy\u001b[0m\u001b[1;33m.\u001b[0m\u001b[0moptimize\u001b[0m \u001b[1;32mimport\u001b[0m \u001b[0mlinprog\u001b[0m \u001b[1;32mas\u001b[0m \u001b[0mlp\u001b[0m\u001b[1;33m\u001b[0m\u001b[0m\n\u001b[1;32m----> 4\u001b[1;33m \u001b[1;32mimport\u001b[0m \u001b[0mcvxpy\u001b[0m \u001b[1;32mas\u001b[0m \u001b[0mcvx\u001b[0m\u001b[1;33m\u001b[0m\u001b[0m\n\u001b[0m\u001b[0;32m      5\u001b[0m \u001b[1;32mimport\u001b[0m \u001b[0mmatplotlib\u001b[0m\u001b[1;33m.\u001b[0m\u001b[0mpyplot\u001b[0m \u001b[1;32mas\u001b[0m \u001b[0mplt\u001b[0m\u001b[1;33m\u001b[0m\u001b[0m\n",
      "\u001b[1;31mModuleNotFoundError\u001b[0m: No module named 'cvxpy'"
     ]
    }
   ],
   "source": [
    "import numpy as np\n",
    "from numpy import linalg as la\n",
    "from scipy.optimize import linprog as lp\n",
    "import cvxpy as cvx\n",
    "import matplotlib.pyplot as plt"
   ]
  },
  {
   "cell_type": "markdown",
   "metadata": {},
   "source": [
    "## Center of Polyhedron\n",
    "---"
   ]
  },
  {
   "cell_type": "code",
   "execution_count": null,
   "metadata": {},
   "outputs": [],
   "source": [
    "x = cvx.Variable(2)\n",
    "\n",
    "A = np.array( [[0., -1.], [2., -1.], [1., 1.], [-1/3, 1.], [-1., 0.], [-1., -1.]] )\n",
    "b = np.array( [0., 8., 7., 3., 0., -1.] )\n",
    "\n",
    "for i in range(len(b)):\n",
    "    b[i] = b[i]/la.norm(A[i])\n",
    "    A[i] = A[i]/la.norm(A[i])"
   ]
  },
  {
   "cell_type": "code",
   "execution_count": null,
   "metadata": {},
   "outputs": [],
   "source": [
    "def radius(x):\n",
    "    r = -(A@x - b)\n",
    "    return r"
   ]
  },
  {
   "cell_type": "code",
   "execution_count": null,
   "metadata": {},
   "outputs": [],
   "source": [
    "def radius_obj(x):\n",
    "    #r = -(A@x - b)\n",
    "    #return cvx.min(r)\n",
    "    return cvx.min(r + A@x -b)"
   ]
  },
  {
   "cell_type": "code",
   "execution_count": null,
   "metadata": {},
   "outputs": [],
   "source": [
    "obj = cvx.Maximize(radius_obj(x))"
   ]
  },
  {
   "cell_type": "code",
   "execution_count": null,
   "metadata": {},
   "outputs": [],
   "source": [
    "def constraints_(x):\n",
    "    c = []\n",
    "    a = A@x\n",
    "    for i,a_ in enumerate(a):\n",
    "        c.append(a_ + (A[i][0]**2 + A[i][1]**2)**0.5*r <= b[i])\n",
    "    return c"
   ]
  },
  {
   "cell_type": "code",
   "execution_count": null,
   "metadata": {},
   "outputs": [],
   "source": [
    "constraints = constraints_(x)\n",
    "prob = cvx.Problem(cvx.Maximize(r), constraints)\n",
    "prob.solve()"
   ]
  },
  {
   "cell_type": "code",
   "execution_count": null,
   "metadata": {},
   "outputs": [],
   "source": [
    "prob.solution"
   ]
  },
  {
   "cell_type": "code",
   "execution_count": null,
   "metadata": {},
   "outputs": [],
   "source": [
    "x.value"
   ]
  },
  {
   "cell_type": "code",
   "execution_count": null,
   "metadata": {},
   "outputs": [],
   "source": [
    "\n",
    "a = np.linspace(-5,10,10000)\n",
    "\n",
    "fig, ax = plt.subplots()\n",
    "for i in range(len(b)):\n",
    "    if A[i][1] != 0:\n",
    "        y = -(A[i][0]*a -b[i])/(A[i][1])\n",
    "    ax.plot(y, a)\n",
    "ax.plot(a, a*0)\n",
    "ax.axis('equal')\n",
    "circle=plt.Circle((x.value[1],x.value[0]), min(radius(x.value)), color='r')\n",
    "ax.add_artist(circle)\n",
    "ax.set_xlim([-2,5])\n",
    "ax.set_ylim([-2,5])"
   ]
  },
  {
   "cell_type": "code",
   "execution_count": null,
   "metadata": {},
   "outputs": [],
   "source": [
    "for c in constraints:\n",
    "    print(c.dual_value)"
   ]
  },
  {
   "cell_type": "code",
   "execution_count": null,
   "metadata": {},
   "outputs": [],
   "source": [
    "r.value"
   ]
  },
  {
   "cell_type": "markdown",
   "metadata": {},
   "source": []
  },
  {
   "cell_type": "markdown",
   "metadata": {},
   "source": [
    "## Minimum Cost Flow\n",
    "---\n",
    "#### Cost Function"
   ]
  },
  {
   "cell_type": "code",
   "execution_count": null,
   "metadata": {},
   "outputs": [],
   "source": [
    "def cost(p, x):\n",
    "    return np.multiply(p,x).sum()"
   ]
  },
  {
   "cell_type": "code",
   "execution_count": null,
   "metadata": {},
   "outputs": [],
   "source": [
    "p = np.array([[1,2],[3,4]])\n",
    "x = np.array([[2,2],[3,2]])\n",
    "\n",
    "print(cost(p, x))"
   ]
  },
  {
   "cell_type": "code",
   "execution_count": null,
   "metadata": {},
   "outputs": [],
   "source": [
    "p = [2, 5, 3, 7, 1]\n",
    "x0_bounds = [0, 5]\n",
    "x1_bounds = [0, 2]\n",
    "x2_bounds = [0, 1]\n",
    "x3_bounds = [0, 2]\n",
    "x4_bounds = [0, 4]\n"
   ]
  },
  {
   "cell_type": "code",
   "execution_count": null,
   "metadata": {},
   "outputs": [],
   "source": [
    "c = p\n",
    "A = [[1, 1, 0, 0, 0], \n",
    "     [-1, 0, 1, 1, 0],\n",
    "     [0, -1, -1, 0, 1]]\n",
    "b = [4, 0, 0]\n",
    "res = lp(c, A_eq=A, b_eq=b,\n",
    "         bounds=(x0_bounds, x1_bounds, x2_bounds, x3_bounds, x4_bounds),\n",
    "         options = { \"disp\" : True } )"
   ]
  },
  {
   "cell_type": "code",
   "execution_count": null,
   "metadata": {},
   "outputs": [],
   "source": [
    "print(res)"
   ]
  },
  {
   "cell_type": "markdown",
   "metadata": {},
   "source": [
    "## Image Reconstruction\n",
    "---"
   ]
  },
  {
   "cell_type": "code",
   "execution_count": null,
   "metadata": {},
   "outputs": [],
   "source": [
    "# This template generates synthetic data (missing pixels) to use\n",
    "# in testing the solution of Problem 3 in Assignment 6.\n",
    "# Unknown pixels are defined by the array called \"unknown\".\n",
    "# Obscured image is in the array U1.\n",
    "\n",
    "#import numpy as np\n",
    "#import matplotlib\n",
    "#matplotlib.use(\"TkAgg\")     # for macOS\n",
    "\n",
    "# Read a sample image\n",
    "U0 = plt.imread('bwicon.png')\n",
    "m, n = U0.shape\n",
    "\n",
    "# Create 50% mask of known pixels and use it to obscure the original\n",
    "np.random.seed(7592)                 # seed the randonm number generator (for repeatability)\n",
    "unknown = np.random.rand(m,n) < 0.5\n",
    "U1 = U0*(1-unknown) + 0.5 *unknown\n",
    "\n",
    "\n",
    "# Display images\n",
    "plt.figure(1)\n",
    "plt.subplot(1, 2, 1)\n",
    "plt.imshow(U0, cmap='gray')\n",
    "plt.title('Original image')\n",
    "plt.subplot(1, 2, 2)\n",
    "plt.imshow(U1, cmap='gray')\n",
    "plt.title('Obscured image')\n",
    "plt.show()"
   ]
  },
  {
   "cell_type": "code",
   "execution_count": null,
   "metadata": {},
   "outputs": [],
   "source": [
    "unknown.sum()"
   ]
  },
  {
   "cell_type": "code",
   "execution_count": null,
   "metadata": {},
   "outputs": [],
   "source": [
    "U1"
   ]
  },
  {
   "cell_type": "code",
   "execution_count": null,
   "metadata": {},
   "outputs": [],
   "source": [
    "u = cvx.Variable(U1.shape)"
   ]
  },
  {
   "cell_type": "code",
   "execution_count": null,
   "metadata": {},
   "outputs": [],
   "source": [
    "def cost(u):\n",
    "    s = 0\n",
    "    for i in range(1, U1.shape[0]):\n",
    "        for j in range(1, U1.shape[1]):\n",
    "            s += (u[i][j] - u[i - 1][j])**2 + (u[i][j] - u[i][j - 1])**2\n",
    "    return s"
   ]
  },
  {
   "cell_type": "code",
   "execution_count": null,
   "metadata": {
    "scrolled": true
   },
   "outputs": [],
   "source": [
    "u[0][1]"
   ]
  },
  {
   "cell_type": "code",
   "execution_count": null,
   "metadata": {},
   "outputs": [],
   "source": [
    "obj = cvx.Minimize(cost(u))"
   ]
  },
  {
   "cell_type": "code",
   "execution_count": null,
   "metadata": {},
   "outputs": [],
   "source": [
    "def constraints_(u):\n",
    "    c = []\n",
    "    for i in range(1, U1.shape[0]):\n",
    "        for j in range(1, U1.shape[1]):\n",
    "            if not(unknown[i][j]):\n",
    "                c.append(u[i][j] == U1[i][j])\n",
    "    return c"
   ]
  },
  {
   "cell_type": "code",
   "execution_count": null,
   "metadata": {},
   "outputs": [],
   "source": [
    "constraints = constraints_(u)"
   ]
  },
  {
   "cell_type": "code",
   "execution_count": null,
   "metadata": {},
   "outputs": [],
   "source": [
    "prob = cvx.Problem(obj,constraints)\n",
    "prob.solve()"
   ]
  },
  {
   "cell_type": "code",
   "execution_count": null,
   "metadata": {},
   "outputs": [],
   "source": [
    "plt.imshow(u.value, cmap='gray')"
   ]
  }
 ],
 "metadata": {
  "kernelspec": {
   "display_name": "Python 3",
   "language": "python",
   "name": "python3"
  },
  "language_info": {
   "codemirror_mode": {
    "name": "ipython",
    "version": 3
   },
   "file_extension": ".py",
   "mimetype": "text/x-python",
   "name": "python",
   "nbconvert_exporter": "python",
   "pygments_lexer": "ipython3",
   "version": "3.6.5"
  }
 },
 "nbformat": 4,
 "nbformat_minor": 2
}
