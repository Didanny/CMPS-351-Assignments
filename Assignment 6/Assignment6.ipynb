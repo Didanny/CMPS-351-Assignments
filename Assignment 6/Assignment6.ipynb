{
 "cells": [
  {
   "cell_type": "markdown",
   "metadata": {},
   "source": [
    "Danny Abraham\n",
    "<center><h1>CMPS 351</h1></center>\n",
    "<center><h2>Assignment 6</h2></center>"
   ]
  },
  {
   "cell_type": "code",
   "execution_count": 2,
   "metadata": {},
   "outputs": [],
   "source": [
    "import numpy as np\n",
    "from numpy import linalg as la\n",
    "from scipy.optimize import linprog as lp\n",
    "import cvxpy as cvx\n",
    "import matplotlib.pyplot as plt"
   ]
  },
  {
   "cell_type": "markdown",
   "metadata": {},
   "source": [
    "## Center of Polyhedron\n",
    "---"
   ]
  },
  {
   "cell_type": "code",
   "execution_count": 3,
   "metadata": {},
   "outputs": [],
   "source": [
    "x = cvx.Variable(2)\n",
    "r = cvx.Variable()\n",
    "\n",
    "A = np.array( [[0., -1.], [2., -1.], [1., 1.], [-1/3, 1.], [-1., 0.], [-1., -1.]] )\n",
    "b = np.array( [0., 8., 7., 3., 0., -1.] )\n",
    "\n",
    "for i in range(len(b)):\n",
    "    b[i] = b[i]/la.norm(A[i])\n",
    "    A[i] = A[i]/la.norm(A[i])"
   ]
  },
  {
   "cell_type": "code",
   "execution_count": 4,
   "metadata": {},
   "outputs": [],
   "source": [
    "def radius(x):\n",
    "    r = -(A@x - b)\n",
    "    return r"
   ]
  },
  {
   "cell_type": "code",
   "execution_count": 5,
   "metadata": {},
   "outputs": [],
   "source": [
    "def radius_obj(x):\n",
    "    return cvx.min(r + A@x -b)"
   ]
  },
  {
   "cell_type": "code",
   "execution_count": 6,
   "metadata": {},
   "outputs": [],
   "source": [
    "obj = cvx.Maximize(radius_obj(x))"
   ]
  },
  {
   "cell_type": "code",
   "execution_count": 7,
   "metadata": {},
   "outputs": [],
   "source": [
    "def constraints_(x):\n",
    "    c = []\n",
    "    a = A@x\n",
    "    for i,a_ in enumerate(a):\n",
    "        c.append(a_ + (A[i][0]**2 + A[i][1]**2)**0.5*r <= b[i])\n",
    "    return c"
   ]
  },
  {
   "cell_type": "code",
   "execution_count": 8,
   "metadata": {},
   "outputs": [
    {
     "data": {
      "text/plain": [
       "1.86556478457617"
      ]
     },
     "execution_count": 8,
     "metadata": {},
     "output_type": "execute_result"
    }
   ],
   "source": [
    "constraints = constraints_(x)\n",
    "prob = cvx.Problem(cvx.Maximize(r), constraints)\n",
    "prob.solve()"
   ]
  },
  {
   "cell_type": "code",
   "execution_count": 9,
   "metadata": {},
   "outputs": [
    {
     "data": {
      "text/plain": [
       "Solution(optimal, {1: array(1.86556478), 0: array([2.4961282 , 1.86556478])}, {2: 0.46639119614404256, 4: 0.0, 6: 0.16489418873957898, 8: 0.3687146151163785, 10: 0.0, 12: 0.0}, {'solve_time': 7.111117179264436e-05, 'num_iters': 100})"
      ]
     },
     "execution_count": 9,
     "metadata": {},
     "output_type": "execute_result"
    }
   ],
   "source": [
    "prob.solution"
   ]
  },
  {
   "cell_type": "code",
   "execution_count": 10,
   "metadata": {},
   "outputs": [
    {
     "data": {
      "text/plain": [
       "array([2.4961282 , 1.86556478])"
      ]
     },
     "execution_count": 10,
     "metadata": {},
     "output_type": "execute_result"
    }
   ],
   "source": [
    "x.value"
   ]
  },
  {
   "cell_type": "code",
   "execution_count": 11,
   "metadata": {},
   "outputs": [
    {
     "data": {
      "text/plain": [
       "(-2, 5)"
      ]
     },
     "execution_count": 11,
     "metadata": {},
     "output_type": "execute_result"
    },
    {
     "data": {
      "image/png": "[encoded data removed]",
      "text/plain": [
       "<Figure size 432x288 with 1 Axes>"
      ]
     },
     "metadata": {
      "needs_background": "light"
     },
     "output_type": "display_data"
    }
   ],
   "source": [
    "\n",
    "a = np.linspace(-5,10,10000)\n",
    "\n",
    "fig, ax = plt.subplots()\n",
    "for i in range(len(b)):\n",
    "    if A[i][1] != 0:\n",
    "        y = -(A[i][0]*a -b[i])/(A[i][1])\n",
    "    ax.plot(y, a)\n",
    "ax.plot(a, a*0)\n",
    "ax.axis('equal')\n",
    "circle=plt.Circle((x.value[1],x.value[0]), min(radius(x.value)), color='r')\n",
    "ax.add_artist(circle)\n",
    "ax.set_xlim([-2,5])\n",
    "ax.set_ylim([-2,5])"
   ]
  },
  {
   "cell_type": "code",
   "execution_count": 12,
   "metadata": {},
   "outputs": [
    {
     "name": "stdout",
     "output_type": "stream",
     "text": [
      "0.46639119614404256\n",
      "0.0\n",
      "0.16489418873957898\n",
      "0.3687146151163785\n",
      "0.0\n",
      "0.0\n"
     ]
    }
   ],
   "source": [
    "for c in constraints:\n",
    "    print(c.dual_value)"
   ]
  },
  {
   "cell_type": "code",
   "execution_count": 13,
   "metadata": {},
   "outputs": [
    {
     "data": {
      "text/plain": [
       "array(1.86556478)"
      ]
     },
     "execution_count": 13,
     "metadata": {},
     "output_type": "execute_result"
    }
   ],
   "source": [
    "r.value"
   ]
  },
  {
   "cell_type": "markdown",
   "metadata": {},
   "source": [
    "#### Significance of Lagrangian Multipliers\n",
    "The lagrange multipiers here represent the sensitivity of the objective function to a change in the corresponding constraint. Here we have 3 non zero lagrange multipliers. These represent the lines that the circle is touching. If we chang eany of these 3 constraints, the circle's radius will also change proportionally.\n",
    "\n",
    "Thee are also 3 zero-values lagrange multipliers. These represent the lines the circle is not touching. If these constraints are modified slightly they will not affect the circle's radius at all."
   ]
  },
  {
   "cell_type": "markdown",
   "metadata": {},
   "source": [
    "#### Lagrangian\n",
    "<img src='lagrangian.png'>\n",
    "\n",
    "The first order optimality conditions can be expressed as \n",
    "<img src='optimality.png'>\n",
    "\n",
    "These are satisfied given the values obtained by the cvxpy optimization"
   ]
  },
  {
   "cell_type": "markdown",
   "metadata": {},
   "source": [
    "## Minimum Cost Flow\n",
    "---\n",
    "#### Cost Function"
   ]
  },
  {
   "cell_type": "code",
   "execution_count": 14,
   "metadata": {},
   "outputs": [],
   "source": [
    "def cost(p, x):\n",
    "    return np.multiply(p,x).sum()"
   ]
  },
  {
   "cell_type": "code",
   "execution_count": 15,
   "metadata": {},
   "outputs": [
    {
     "name": "stdout",
     "output_type": "stream",
     "text": [
      "23\n"
     ]
    }
   ],
   "source": [
    "p = np.array([[1,2],[3,4]])\n",
    "x = np.array([[2,2],[3,2]])\n",
    "\n",
    "print(cost(p, x))"
   ]
  },
  {
   "cell_type": "code",
   "execution_count": 16,
   "metadata": {},
   "outputs": [],
   "source": [
    "p = [2, 5, 3, 7, 1]\n",
    "x0_bounds = [0, 5]\n",
    "x1_bounds = [0, 2]\n",
    "x2_bounds = [0, 1]\n",
    "x3_bounds = [0, 2]\n",
    "x4_bounds = [0, 4]\n"
   ]
  },
  {
   "cell_type": "code",
   "execution_count": 17,
   "metadata": {},
   "outputs": [
    {
     "name": "stdout",
     "output_type": "stream",
     "text": [
      "Optimization terminated successfully.\n",
      "         Current function value: 27.000000   \n",
      "         Iterations: 8\n"
     ]
    }
   ],
   "source": [
    "c = [2, 5, 3, 7, 1]\n",
    "A =  [[1, 0, -1, -1, 0], \n",
    "      [0, 1, 1, 0, -1], \n",
    "      [1, 1, 0, 0, 0]]\n",
    "b = [0, 0, 4]\n",
    "res = lp(c, A_eq=A, b_eq=b,\n",
    "         bounds=(x0_bounds, x1_bounds, x2_bounds, x3_bounds, x4_bounds),\n",
    "         options = { \"disp\" : True } )"
   ]
  },
  {
   "cell_type": "code",
   "execution_count": 18,
   "metadata": {},
   "outputs": [
    {
     "name": "stdout",
     "output_type": "stream",
     "text": [
      "     con: array([0., 0., 0.])\n",
      "     fun: 27.0\n",
      " message: 'Optimization terminated successfully.'\n",
      "     nit: 8\n",
      "   slack: array([], dtype=float64)\n",
      "  status: 0\n",
      " success: True\n",
      "       x: array([2., 2., 1., 1., 3.])\n"
     ]
    }
   ],
   "source": [
    "print(res)"
   ]
  },
  {
   "cell_type": "markdown",
   "metadata": {},
   "source": [
    "The capacity constraints describe the sensitivity towards changing the capacity of an edge. Meaning a high multiplier means a slight change to this constraint greatly affects the optimality. \n",
    "\n",
    "The node constraints describe the sensitivity to changing the nodes. The only way to change the node constrainst without changing the the capacity constraints is to change the network. A large lagrange multiplier here would indicate that the corresponding node is a bottleneck to the flow. "
   ]
  },
  {
   "cell_type": "markdown",
   "metadata": {},
   "source": [
    "## Image Reconstruction\n",
    "---"
   ]
  },
  {
   "cell_type": "code",
   "execution_count": 19,
   "metadata": {},
   "outputs": [
    {
     "data": {
      "image/png": "[encoded data removed]",
      "text/plain": [
       "<Figure size 432x288 with 2 Axes>"
      ]
     },
     "metadata": {
      "needs_background": "light"
     },
     "output_type": "display_data"
    }
   ],
   "source": [
    "# This template generates synthetic data (missing pixels) to use\n",
    "# in testing the solution of Problem 3 in Assignment 6.\n",
    "# Unknown pixels are defined by the array called \"unknown\".\n",
    "# Obscured image is in the array U1.\n",
    "\n",
    "#import numpy as np\n",
    "#import matplotlib\n",
    "#matplotlib.use(\"TkAgg\")     # for macOS\n",
    "\n",
    "# Read a sample image\n",
    "U0 = plt.imread('bwicon.png')\n",
    "m, n = U0.shape\n",
    "\n",
    "# Create 50% mask of known pixels and use it to obscure the original\n",
    "np.random.seed(7592)                 # seed the randonm number generator (for repeatability)\n",
    "unknown = np.random.rand(m,n) < 0.5\n",
    "U1 = U0*(1-unknown) + 0.5 *unknown\n",
    "\n",
    "\n",
    "# Display images\n",
    "plt.figure(1)\n",
    "plt.subplot(1, 2, 1)\n",
    "plt.imshow(U0, cmap='gray')\n",
    "plt.title('Original image')\n",
    "plt.subplot(1, 2, 2)\n",
    "plt.imshow(U1, cmap='gray')\n",
    "plt.title('Obscured image')\n",
    "plt.show()"
   ]
  },
  {
   "cell_type": "code",
   "execution_count": 20,
   "metadata": {},
   "outputs": [
    {
     "data": {
      "text/plain": [
       "1527"
      ]
     },
     "execution_count": 20,
     "metadata": {},
     "output_type": "execute_result"
    }
   ],
   "source": [
    "unknown.sum()"
   ]
  },
  {
   "cell_type": "code",
   "execution_count": 21,
   "metadata": {},
   "outputs": [
    {
     "data": {
      "text/plain": [
       "array([[0.5, 0.5, 1. , ..., 0.5, 1. , 1. ],\n",
       "       [0.5, 1. , 0.5, ..., 0.5, 1. , 0.5],\n",
       "       [1. , 0.5, 0.5, ..., 0.5, 0.5, 0.5],\n",
       "       ...,\n",
       "       [1. , 1. , 1. , ..., 1. , 1. , 1. ],\n",
       "       [0.5, 1. , 0.5, ..., 1. , 1. , 0.5],\n",
       "       [0.5, 1. , 0.5, ..., 0.5, 0.5, 1. ]])"
      ]
     },
     "execution_count": 21,
     "metadata": {},
     "output_type": "execute_result"
    }
   ],
   "source": [
    "U1"
   ]
  },
  {
   "cell_type": "code",
   "execution_count": 22,
   "metadata": {},
   "outputs": [],
   "source": [
    "u = cvx.Variable(U1.shape)"
   ]
  },
  {
   "cell_type": "code",
   "execution_count": 23,
   "metadata": {},
   "outputs": [],
   "source": [
    "def cost(u):\n",
    "    s = 0\n",
    "    for i in range(1, U1.shape[0]):\n",
    "        for j in range(1, U1.shape[1]):\n",
    "            s += (u[i][j] - u[i - 1][j])**2 + (u[i][j] - u[i][j - 1])**2\n",
    "    return s"
   ]
  },
  {
   "cell_type": "code",
   "execution_count": 24,
   "metadata": {
    "scrolled": true
   },
   "outputs": [
    {
     "data": {
      "text/plain": [
       "Expression(AFFINE, UNKNOWN, ())"
      ]
     },
     "execution_count": 24,
     "metadata": {},
     "output_type": "execute_result"
    }
   ],
   "source": [
    "u[0][1]"
   ]
  },
  {
   "cell_type": "code",
   "execution_count": 25,
   "metadata": {},
   "outputs": [],
   "source": [
    "obj = cvx.Minimize(cost(u))"
   ]
  },
  {
   "cell_type": "code",
   "execution_count": 26,
   "metadata": {},
   "outputs": [],
   "source": [
    "def constraints_(u):\n",
    "    c = []\n",
    "    for i in range(1, U1.shape[0]):\n",
    "        for j in range(1, U1.shape[1]):\n",
    "            if not(unknown[i][j]):\n",
    "                c.append(u[i][j] == U1[i][j])\n",
    "    return c"
   ]
  },
  {
   "cell_type": "code",
   "execution_count": 27,
   "metadata": {},
   "outputs": [],
   "source": [
    "constraints = constraints_(u)"
   ]
  },
  {
   "cell_type": "code",
   "execution_count": 28,
   "metadata": {},
   "outputs": [
    {
     "name": "stderr",
     "output_type": "stream",
     "text": [
      "C:\\Users\\daa50\\AppData\\Local\\conda\\conda\\envs\\opt\\lib\\site-packages\\cvxpy\\problems\\problem.py:781: RuntimeWarning: overflow encountered in long_scalars\n",
      "  if self.max_big_small_squared < big*small**2:\n",
      "C:\\Users\\daa50\\AppData\\Local\\conda\\conda\\envs\\opt\\lib\\site-packages\\cvxpy\\problems\\problem.py:782: RuntimeWarning: overflow encountered in long_scalars\n",
      "  self.max_big_small_squared = big*small**2\n"
     ]
    },
    {
     "data": {
      "text/plain": [
       "431.5104509900433"
      ]
     },
     "execution_count": 28,
     "metadata": {},
     "output_type": "execute_result"
    }
   ],
   "source": [
    "prob = cvx.Problem(obj,constraints)\n",
    "prob.solve()"
   ]
  },
  {
   "cell_type": "code",
   "execution_count": 29,
   "metadata": {},
   "outputs": [
    {
     "data": {
      "text/plain": [
       "<matplotlib.image.AxesImage at 0x21018585eb8>"
      ]
     },
     "execution_count": 29,
     "metadata": {},
     "output_type": "execute_result"
    },
    {
     "data": {
      "image/png": "[encoded data removed]",
      "text/plain": [
       "<Figure size 432x288 with 1 Axes>"
      ]
     },
     "metadata": {
      "needs_background": "light"
     },
     "output_type": "display_data"
    }
   ],
   "source": [
    "plt.imshow(u.value, cmap='gray')"
   ]
  }
 ],
 "metadata": {
  "kernelspec": {
   "display_name": "Python 3",
   "language": "python",
   "name": "python3"
  },
  "language_info": {
   "codemirror_mode": {
    "name": "ipython",
    "version": 3
   },
   "file_extension": ".py",
   "mimetype": "text/x-python",
   "name": "python",
   "nbconvert_exporter": "python",
   "pygments_lexer": "ipython3",
   "version": "3.7.3"
  }
 },
 "nbformat": 4,
 "nbformat_minor": 2
}
