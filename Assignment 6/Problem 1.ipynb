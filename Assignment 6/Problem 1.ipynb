{
 "cells": [
  {
   "cell_type": "code",
   "execution_count": 4,
   "metadata": {},
   "outputs": [],
   "source": [
    "import matplotlib\n",
    "import numpy as np\n",
    "import matplotlib.pyplot as plt\n",
    "from numpy import linalg as la\n",
    "import sympy as sp\n",
    "from scipy.optimize import linprog"
   ]
  },
  {
   "cell_type": "code",
   "execution_count": 34,
   "metadata": {},
   "outputs": [
    {
     "name": "stdout",
     "output_type": "stream",
     "text": [
      "Optimization terminated successfully.\n",
      "         Current function value: -1.865565   \n",
      "         Iterations: 5\n"
     ]
    }
   ],
   "source": [
    "c = [0,0,-1]\n",
    "A =  [[0, -1, 1], [2, -1, np.sqrt(5)], [1, 1, np.sqrt(2)], [-1/3, 1, la.norm([-1/3,1])], [-1, 0, 1], [-1, -1, np.sqrt(2)]]\n",
    "b=  [0, 8, 7, 3, 0, -1]\n",
    "x0 = [None,None]\n",
    "res = linprog(c, A_ub=A, b_ub = b,bounds = [x0,x0,x0], options={\"disp\": True})"
   ]
  },
  {
   "cell_type": "code",
   "execution_count": 35,
   "metadata": {},
   "outputs": [
    {
     "name": "stdout",
     "output_type": "stream",
     "text": [
      "     fun: -1.86556478457617\n",
      " message: 'Optimization terminated successfully.'\n",
      "     nit: 5\n",
      "   slack: array([0.        , 0.70177872, 0.        , 0.        , 0.63056341,\n",
      "       0.72338596])\n",
      "  status: 0\n",
      " success: True\n",
      "       x: array([2.4961282 , 1.86556478, 1.86556478])\n"
     ]
    }
   ],
   "source": [
    "print(res)"
   ]
  },
  {
   "cell_type": "code",
   "execution_count": 75,
   "metadata": {},
   "outputs": [
    {
     "data": {
      "text/plain": [
       "(-2, 5)"
      ]
     },
     "execution_count": 75,
     "metadata": {},
     "output_type": "execute_result"
    },
    {
     "data": {
      "image/png": "[encoded data removed]",
      "text/plain": [
       "<Figure size 432x288 with 1 Axes>"
      ]
     },
     "metadata": {
      "needs_background": "light"
     },
     "output_type": "display_data"
    }
   ],
   "source": [
    "x = np.linspace(-5,10,10000)\n",
    "\n",
    "fig, ax = plt.subplots()\n",
    "for i in range(len(b)):\n",
    "    if A[i][1] != 0:\n",
    "        y = -(A[i][0]*x -b[i])/(A[i][1])\n",
    "    ax.plot(y,x)\n",
    "ax.plot(x,x*0)\n",
    "ax.axis('equal')\n",
    "circle=plt.Circle((res.x[1],res.x[0]),res.x[2] , color='r')\n",
    "ax.add_artist(circle)\n",
    "ax.set_xlim([-2,5])\n",
    "ax.set_ylim([-2,5])"
   ]
  },
  {
   "cell_type": "markdown",
   "metadata": {},
   "source": [
    "# Problem 2"
   ]
  },
  {
   "cell_type": "code",
   "execution_count": 76,
   "metadata": {},
   "outputs": [
    {
     "name": "stdout",
     "output_type": "stream",
     "text": [
      "Optimization terminated successfully.\n",
      "         Current function value: 27.000000   \n",
      "         Iterations: 6\n"
     ]
    }
   ],
   "source": [
    "c = [2,5,3,7,1]\n",
    "A =  [[1,0,-1,-1,0],[0,1,1,0,-1],[1,1,0,0,0],[0,0,0,1,1]]\n",
    "b=  [0,0,4,4]\n",
    "x1 = [0,5]\n",
    "x2 = [0,2]\n",
    "x3 = [0,1]\n",
    "x4 = [0,2]\n",
    "x5 = [0,4]\n",
    "res = linprog(c, A_eq=A, b_eq = b,bounds = [x1,x2,x3,x4,x5], options={\"disp\": True})"
   ]
  },
  {
   "cell_type": "code",
   "execution_count": 77,
   "metadata": {},
   "outputs": [
    {
     "name": "stdout",
     "output_type": "stream",
     "text": [
      "     fun: 27.0\n",
      " message: 'Optimization terminated successfully.'\n",
      "     nit: 6\n",
      "   slack: array([3., 0., 0., 1., 1.])\n",
      "  status: 0\n",
      " success: True\n",
      "       x: array([2., 2., 1., 1., 3.])\n"
     ]
    }
   ],
   "source": [
    "print(res)"
   ]
  }
 ],
 "metadata": {
  "kernelspec": {
   "display_name": "Python 3",
   "language": "python",
   "name": "python3"
  },
  "language_info": {
   "codemirror_mode": {
    "name": "ipython",
    "version": 3
   },
   "file_extension": ".py",
   "mimetype": "text/x-python",
   "name": "python",
   "nbconvert_exporter": "python",
   "pygments_lexer": "ipython3",
   "version": "3.6.5"
  }
 },
 "nbformat": 4,
 "nbformat_minor": 2
}
