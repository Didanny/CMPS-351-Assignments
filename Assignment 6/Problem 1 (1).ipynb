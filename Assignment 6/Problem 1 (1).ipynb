{
 "cells": [
  {
   "cell_type": "code",
   "execution_count": 1,
   "metadata": {},
   "outputs": [],
   "source": [
    "import matplotlib\n",
    "import numpy as np\n",
    "import matplotlib.pyplot as plt\n",
    "from numpy import linalg as la\n",
    "from scipy.optimize import linprog\n",
    "import cvxpy as cvx"
   ]
  },
  {
   "cell_type": "markdown",
   "metadata": {},
   "source": [
    "## Problem 1 \n",
    "### Using Linprog"
   ]
  },
  {
   "cell_type": "markdown",
   "metadata": {},
   "source": [
    "### Using cvxp"
   ]
  },
  {
   "cell_type": "code",
   "execution_count": 54,
   "metadata": {},
   "outputs": [],
   "source": [
    "x = cvx.Variable(2)\n",
    "r = cvx.Variable()\n",
    "\n",
    "A = np.array( [[0, -1], [2, -1], [1, 1], [-1/3, 1], [-1, 0], [-1, -1]] )\n",
    "b = np.array( [0.0, 7.0, 7.0, 3.0, 0.0, -1.0] )\n",
    "A2 = np.array( [[0, -1], [2, -1], [1, 1], [-1/3, 1], [-1, 0], [-1, -1]] )\n",
    "b2 = np.array( [0.0, 7.0, 7.0, 3.0, 0.0, -1.0] )\n",
    "#here we want to do floating division \n",
    "\n",
    "for i in range(len(b)):\n",
    "    b[i] = b[i]/la.norm(A[i])\n",
    "    A[i] = A[i]/la.norm(A[i])"
   ]
  },
  {
   "cell_type": "code",
   "execution_count": 55,
   "metadata": {},
   "outputs": [],
   "source": [
    "def radius(x):\n",
    "    r = -(A@x -b)\n",
    "    for i,a in enumerate(A):\n",
    "        r[i] = r[i]\n",
    "    return r"
   ]
  },
  {
   "cell_type": "code",
   "execution_count": 56,
   "metadata": {},
   "outputs": [],
   "source": [
    "def radius_obj(x):\n",
    "    r = -(A@x -b)\n",
    "    return cvx.min(r)"
   ]
  },
  {
   "cell_type": "code",
   "execution_count": 57,
   "metadata": {},
   "outputs": [],
   "source": [
    "def constraints_(x):\n",
    "    c = []\n",
    "    a = A@x\n",
    "    for i,a_ in enumerate(a):\n",
    "        c.append(a_ <= b[i])\n",
    "    return c"
   ]
  },
  {
   "cell_type": "code",
   "execution_count": 58,
   "metadata": {},
   "outputs": [
    {
     "name": "stdout",
     "output_type": "stream",
     "text": [
      "[2.36060918 1.84357308]\n"
     ]
    }
   ],
   "source": [
    "obj = cvx.Maximize(radius_obj(x))\n",
    "constraints = constraints_(x)\n",
    "prob = cvx.Problem(obj, constraints)\n",
    "prob.solve()\n",
    "print(x.value)"
   ]
  },
  {
   "cell_type": "code",
   "execution_count": 59,
   "metadata": {},
   "outputs": [
    {
     "data": {
      "text/plain": [
       "(-2, 5)"
      ]
     },
     "execution_count": 59,
     "metadata": {},
     "output_type": "execute_result"
    },
    {
     "data": {
      "image/png": "[encoded data removed]",
      "text/plain": [
       "<Figure size 432x288 with 1 Axes>"
      ]
     },
     "metadata": {},
     "output_type": "display_data"
    }
   ],
   "source": [
    "a = np.linspace(-5,10,10000)\n",
    "\n",
    "fig, ax = plt.subplots()\n",
    "for i in range(len(b)):\n",
    "    if A[i][1] != 0:\n",
    "        y = -(A[i][0]*a -b[i])/(A[i][1])\n",
    "    ax.plot(y, a)\n",
    "ax.plot(a, a*0)\n",
    "ax.axis('equal')\n",
    "circle=plt.Circle((x.value[1],x.value[0]), min(radius(x.value)), color='r')\n",
    "ax.add_artist(circle)\n",
    "ax.set_xlim([-2,5])\n",
    "ax.set_ylim([-2,5])"
   ]
  },
  {
   "cell_type": "code",
   "execution_count": 60,
   "metadata": {},
   "outputs": [
    {
     "name": "stdout",
     "output_type": "stream",
     "text": [
      "0.0\n",
      "0.0\n",
      "0.0\n",
      "0.0\n",
      "0.0\n",
      "0.0\n"
     ]
    }
   ],
   "source": [
    "for c in constraints:\n",
    "    print(c.dual_value)"
   ]
  },
  {
   "cell_type": "code",
   "execution_count": 62,
   "metadata": {},
   "outputs": [],
   "source": [
    "r.value"
   ]
  },
  {
   "cell_type": "markdown",
   "metadata": {},
   "source": [
    "# Problem 2"
   ]
  },
  {
   "cell_type": "code",
   "execution_count": 8,
   "metadata": {},
   "outputs": [
    {
     "name": "stdout",
     "output_type": "stream",
     "text": [
      "Optimization terminated successfully.\n",
      "         Current function value: 27.000000   \n",
      "         Iterations: 6\n"
     ]
    }
   ],
   "source": [
    "c = [2,5,3,7,1]\n",
    "A =  [[1,0,-1,-1,0],[0,1,1,0,-1],[1,1,0,0,0],[0,0,0,1,1]]\n",
    "b=  [0,0,4,4]\n",
    "x1 = [0,5]\n",
    "x2 = [0,2]\n",
    "x3 = [0,1]\n",
    "x4 = [0,2]\n",
    "x5 = [0,4]\n",
    "res = linprog(c, A_eq=A, b_eq = b,bounds = [x1,x2,x3,x4,x5], options={\"disp\": True})"
   ]
  },
  {
   "cell_type": "code",
   "execution_count": 9,
   "metadata": {},
   "outputs": [
    {
     "name": "stdout",
     "output_type": "stream",
     "text": [
      "     fun: 27.0\n",
      " message: 'Optimization terminated successfully.'\n",
      "     nit: 6\n",
      "   slack: array([3., 0., 0., 1., 1.])\n",
      "  status: 0\n",
      " success: True\n",
      "       x: array([2., 2., 1., 1., 3.])\n"
     ]
    }
   ],
   "source": [
    "print(res)"
   ]
  },
  {
   "cell_type": "code",
   "execution_count": null,
   "metadata": {},
   "outputs": [],
   "source": []
  }
 ],
 "metadata": {
  "kernelspec": {
   "display_name": "Python 3",
   "language": "python",
   "name": "python3"
  },
  "language_info": {
   "codemirror_mode": {
    "name": "ipython",
    "version": 3
   },
   "file_extension": ".py",
   "mimetype": "text/x-python",
   "name": "python",
   "nbconvert_exporter": "python",
   "pygments_lexer": "ipython3",
   "version": "3.6.5"
  }
 },
 "nbformat": 4,
 "nbformat_minor": 2
}
