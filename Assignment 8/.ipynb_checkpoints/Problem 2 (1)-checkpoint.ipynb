{
 "cells": [
  {
   "cell_type": "code",
   "execution_count": 65,
   "metadata": {},
   "outputs": [],
   "source": [
    "import numpy as np\n",
    "import matplotlib.pyplot as plt\n",
    "import cvxpy as cvx"
   ]
  },
  {
   "cell_type": "code",
   "execution_count": 163,
   "metadata": {},
   "outputs": [
    {
     "name": "stdout",
     "output_type": "stream",
     "text": [
      "(2, 100)\n",
      "(2, 100)\n"
     ]
    }
   ],
   "source": [
    "d = 2\n",
    "\n",
    "size = 100\n",
    "r = np.random.normal(size=size)\n",
    "x = np.array(range(size))\n",
    "r *= 10\n",
    "r += x\n",
    "r2 = np.random.normal(size=size)\n",
    "x = np.array(range(size))\n",
    "r2 *= 10\n",
    "r2 -= x[::-1]\n",
    "r = np.array(r)\n",
    "r2 = np.array(r2)\n",
    "\n",
    "y = np.array([r2,x])\n",
    "x = np.array([r,x])\n",
    "print(x.shape)\n",
    "print(y.shape)"
   ]
  },
  {
   "cell_type": "code",
   "execution_count": 164,
   "metadata": {},
   "outputs": [
    {
     "name": "stdout",
     "output_type": "stream",
     "text": [
      "Problem Status: optimal\n"
     ]
    }
   ],
   "source": [
    "a = cvx.Variable(d)\n",
    "b = cvx.Variable()\n",
    "\n",
    "obj = cvx.Minimize(cvx.norm(a,2)/2)\n",
    "\n",
    "x_constraints = [a.T * y.T[i] - b >=  1  for i in range(m)]\n",
    "y_constraints = [a.T * x.T[i] - b <= -1 for i in range(n)]\n",
    "\n",
    "constraints = x_constraints + y_constraints\n",
    "\n",
    "prob = cvx.Problem(obj, constraints)\n",
    "\n",
    "prob.solve()\n",
    "print(\"Problem Status: %s\"%prob.status)"
   ]
  },
  {
   "cell_type": "code",
   "execution_count": 165,
   "metadata": {},
   "outputs": [],
   "source": [
    "a = a.value\n",
    "b = b.value"
   ]
  },
  {
   "cell_type": "code",
   "execution_count": 166,
   "metadata": {},
   "outputs": [
    {
     "data": {
      "text/plain": [
       "[<matplotlib.lines.Line2D at 0x1708074b7f0>]"
      ]
     },
     "execution_count": 166,
     "metadata": {},
     "output_type": "execute_result"
    },
    {
     "data": {
      "image/png": "[encoded data removed]",
      "text/plain": [
       "<Figure size 432x288 with 1 Axes>"
      ]
     },
     "metadata": {
      "needs_background": "light"
     },
     "output_type": "display_data"
    }
   ],
   "source": [
    "plt.scatter(x.T[:,0],x.T[:,1],color='blue')\n",
    "plt.scatter(y.T[:,0],y.T[:,1],color='red')\n",
    "\n",
    "d1_min = np.min([x.T[:,0],y.T[:,0]])\n",
    "d1_max = np.max([x.T[:,0],y.T[:,0]])\n",
    "# Line form: (-a[0] * x - b ) / a[1]\n",
    "d2_atD1min = (-a[0]*d1_min + b ) / a[1]\n",
    "d2_atD1max = (-a[0]*d1_max + b ) / a[1]\n",
    "\n",
    "plt.plot([d1_min,d1_max],[d2_atD1min,d2_atD1max],color='black')\n"
   ]
  },
  {
   "cell_type": "code",
   "execution_count": 167,
   "metadata": {},
   "outputs": [],
   "source": [
    "import quadprog as qp"
   ]
  },
  {
   "cell_type": "code",
   "execution_count": 174,
   "metadata": {},
   "outputs": [],
   "source": [
    "z = np.ones(200)\n",
    "z[100:] = -1*z[100:]\n",
    "D = np.diag(z)"
   ]
  },
  {
   "cell_type": "code",
   "execution_count": 170,
   "metadata": {},
   "outputs": [],
   "source": [
    "temp = np.ones([200,2])\n",
    "temp[:100] = x.T\n",
    "temp[100:] = y.T"
   ]
  },
  {
   "cell_type": "code",
   "execution_count": 224,
   "metadata": {},
   "outputs": [],
   "source": [
    "G = -D@temp@temp.T@D"
   ]
  },
  {
   "cell_type": "code",
   "execution_count": 225,
   "metadata": {},
   "outputs": [],
   "source": [
    "temp2 = np.ones(200).T@D"
   ]
  },
  {
   "cell_type": "code",
   "execution_count": 226,
   "metadata": {},
   "outputs": [],
   "source": [
    "c = np.zeros([201,200])\n",
    "c[1:201] = np.identity(200)\n",
    "c[0] = temp2\n",
    "b = 0.5*np.ones(201)\n",
    "b[0] = 0"
   ]
  },
  {
   "cell_type": "code",
   "execution_count": 246,
   "metadata": {},
   "outputs": [],
   "source": [
    "G = G+830000*np.identity(200)"
   ]
  },
  {
   "cell_type": "code",
   "execution_count": 247,
   "metadata": {},
   "outputs": [],
   "source": [
    "res = quadprog.solve_qp(G = G , a = np.ones(200), C = c.T ,b=b,meq = 1)"
   ]
  },
  {
   "cell_type": "code",
   "execution_count": 248,
   "metadata": {},
   "outputs": [
    {
     "name": "stdout",
     "output_type": "stream",
     "text": [
      "(array([0.5       , 0.5       , 0.5       , 0.5       , 0.5       ,\n",
      "       0.5       , 0.5       , 0.5       , 0.5       , 0.5       ,\n",
      "       0.5       , 0.5       , 0.5       , 0.5       , 0.5       ,\n",
      "       0.5       , 0.5       , 0.5       , 0.5       , 0.5       ,\n",
      "       0.5       , 0.5       , 0.5       , 0.5       , 0.5       ,\n",
      "       0.5       , 0.5       , 0.5       , 0.5       , 0.5       ,\n",
      "       0.5       , 0.5       , 0.5       , 0.5       , 0.5       ,\n",
      "       0.5       , 0.5       , 0.5       , 0.5       , 0.5       ,\n",
      "       0.5       , 0.5       , 0.5       , 0.5       , 0.5       ,\n",
      "       0.5       , 0.5       , 0.5       , 0.5       , 0.5       ,\n",
      "       0.5       , 0.5       , 0.5       , 0.5       , 0.5       ,\n",
      "       0.5       , 0.5       , 0.5       , 0.5       , 0.5       ,\n",
      "       0.5       , 0.5       , 0.5       , 0.5       , 0.5       ,\n",
      "       0.5       , 0.5       , 0.5       , 0.5       , 0.5       ,\n",
      "       0.5       , 0.5       , 0.5       , 0.5       , 0.5       ,\n",
      "       0.50511591, 0.5       , 0.59407089, 0.5       , 0.5       ,\n",
      "       0.51629524, 0.55173611, 0.51242499, 0.5       , 0.55480349,\n",
      "       0.5       , 0.6308263 , 0.54113127, 0.52347063, 0.5       ,\n",
      "       0.60054411, 0.57410171, 0.60898633, 0.66975684, 0.65940586,\n",
      "       0.69370917, 0.60466526, 0.65298159, 0.52996108, 0.60527831,\n",
      "       0.68981946, 0.67500836, 0.55733035, 0.64305536, 0.52969723,\n",
      "       0.55017892, 0.5484373 , 0.55926159, 0.65568015, 0.5054965 ,\n",
      "       0.55693225, 0.67818239, 0.66342274, 0.5       , 0.637081  ,\n",
      "       0.59456891, 0.5       , 0.5       , 0.5       , 0.5       ,\n",
      "       0.5       , 0.5       , 0.5       , 0.5       , 0.5       ,\n",
      "       0.54503075, 0.5       , 0.50712765, 0.5       , 0.5       ,\n",
      "       0.5       , 0.5       , 0.5       , 0.5       , 0.5       ,\n",
      "       0.5       , 0.5       , 0.5       , 0.5       , 0.5       ,\n",
      "       0.5       , 0.5       , 0.5       , 0.5       , 0.5       ,\n",
      "       0.5       , 0.5       , 0.5       , 0.5       , 0.5       ,\n",
      "       0.5       , 0.53295418, 0.5       , 0.5       , 0.5       ,\n",
      "       0.5       , 0.5       , 0.5       , 0.5       , 0.5       ,\n",
      "       0.5       , 0.5       , 0.5       , 0.5       , 0.5       ,\n",
      "       0.5       , 0.5       , 0.5       , 0.5       , 0.5       ,\n",
      "       0.5       , 0.5       , 0.5       , 0.5       , 0.5       ,\n",
      "       0.5       , 0.5       , 0.5       , 0.5       , 0.5       ,\n",
      "       0.5       , 0.5       , 0.5       , 0.5       , 0.5       ,\n",
      "       0.5       , 0.5       , 0.5       , 0.5       , 0.5       ,\n",
      "       0.5       , 0.5       , 0.5       , 0.5       , 0.5       ,\n",
      "       0.5       , 0.5       , 0.5       , 0.5       , 0.5       ]), 8898637.0064186, array([-3.38611614e-06, -1.52559766e-06,  1.83099298e-07, -1.92466547e-05,\n",
      "        2.97776492e-07,  1.13334643e-05,  1.57908807e-05,  1.72460939e-05,\n",
      "        7.70493623e-06,  1.43611536e-05,  1.45314747e-05,  2.08596721e-05,\n",
      "        1.60470045e-05,  3.40614450e-05,  2.41177789e-05,  2.09134579e-05,\n",
      "        2.36282074e-05,  2.58116492e-05,  2.30594378e-05,  3.60842852e-05,\n",
      "        3.39327103e-05,  2.50466179e-05,  2.89280227e-05,  4.98153357e-05,\n",
      "        2.51338131e-05,  1.96181351e-05,  3.41116584e-05,  4.26206060e-05,\n",
      "        3.00331738e-05,  4.06310425e-05,  4.40394537e-05,  3.11704694e-05,\n",
      "        4.00680948e-05,  4.41367505e-05,  5.43352790e-05,  3.99430141e-05,\n",
      "        4.93413322e-05,  5.08938486e-05,  4.25653299e-05,  4.86856826e-05,\n",
      "        5.39147715e-05,  5.65156696e-05,  7.16262796e-05,  5.39008648e-05,\n",
      "        5.96361192e-05,  6.48152871e-05,  7.97682704e-05,  6.61772899e-05,\n",
      "        5.76847733e-05,  6.31918304e-05,  6.63413168e-05,  6.10662618e-05,\n",
      "        7.60320577e-05,  7.27595754e-05,  8.62495472e-05,  8.07833605e-05,\n",
      "        7.39496500e-05,  8.24294428e-05,  5.84611637e-05,  8.33126262e-05,\n",
      "        8.28533270e-05,  9.85856771e-05,  1.00302020e-04,  9.10623544e-05,\n",
      "        8.10438937e-05,  9.07990376e-05,  9.92566654e-05,  9.92249132e-05,\n",
      "        9.77067096e-05,  8.13191015e-05,  9.82718675e-05,  9.46688324e-05,\n",
      "        9.60858988e-05,  9.79218482e-05,  8.87092445e-05,  1.09519713e-04,\n",
      "        1.08883321e-04,  1.21203331e-04,  9.98725511e-05,  1.01090993e-04,\n",
      "        1.14076158e-04,  1.18863196e-04,  1.14925045e-04,  9.90554908e-05,\n",
      "        1.21172172e-04,  1.10143673e-04,  1.31346323e-04,  1.21527270e-04,\n",
      "        1.20116202e-04,  1.15053027e-04,  1.30412989e-04,  1.27976899e-04,\n",
      "        1.32699011e-04,  1.40442571e-04,  1.39884701e-04,  1.44538961e-04,\n",
      "        1.34795907e-04,  1.41085793e-04,  1.27376928e-04,  1.36818407e-04,\n",
      "        8.11383068e-05,  7.87592139e-05,  6.43733049e-05,  7.37289706e-05,\n",
      "        5.98472870e-05,  6.15876334e-05,  6.07340330e-05,  6.13471488e-05,\n",
      "        7.19509861e-05,  5.37709597e-05,  5.91243193e-05,  7.26265445e-05,\n",
      "        7.02534559e-05,  4.36805000e-05,  6.58781700e-05,  6.02657660e-05,\n",
      "        4.71288764e-05,  3.25617461e-05,  4.17099337e-05,  2.83780646e-05,\n",
      "        4.17003139e-05,  4.28301172e-05,  3.75151102e-05,  3.34779196e-05,\n",
      "        4.23484089e-05,  4.79804319e-05,  2.67507491e-05,  4.22556830e-05,\n",
      "        1.83061647e-05,  2.27603389e-05,  3.43298169e-05,  2.98174440e-05,\n",
      "        3.28746926e-05,  1.87719044e-05,  1.99419581e-05,  1.80525569e-05,\n",
      "        3.16232330e-05,  2.22935779e-05,  2.40479630e-05,  2.16940670e-05,\n",
      "        1.71672568e-05,  2.24477575e-05,  1.93422449e-05,  1.64670392e-05,\n",
      "        1.66037469e-05,  9.61389276e-06,  8.95129046e-06,  1.16114001e-05,\n",
      "        8.90996890e-06,  9.13565924e-06, -4.68163908e-06,  2.96626479e-05,\n",
      "       -2.50272770e-06, -3.51134436e-06,  7.04556670e-06,  1.73301845e-06,\n",
      "       -1.73405375e-05,  5.96005460e-07, -3.52586800e-06,  5.67192477e-06,\n",
      "       -1.82415215e-05,  2.19416120e-06, -1.27459862e-06, -1.94584093e-05,\n",
      "       -1.79475395e-05, -2.48746964e-05, -1.47698802e-05, -9.43738237e-06,\n",
      "       -2.51925720e-05, -2.90391623e-05, -9.63245489e-06, -2.98168465e-05,\n",
      "       -1.81654469e-05, -3.73239846e-05, -3.22629183e-05, -3.11394741e-05,\n",
      "       -3.52429801e-05, -3.72954141e-05, -3.68433310e-05, -4.49343575e-05,\n",
      "       -6.45243433e-05, -3.47504743e-05, -4.63703941e-05, -4.53549248e-05,\n",
      "       -4.26440294e-05, -5.20119848e-05, -4.76540342e-05, -5.14964432e-05,\n",
      "       -5.38086685e-05, -3.75499658e-05, -4.27064432e-05, -4.65556561e-05,\n",
      "       -5.07037997e-05, -4.77973400e-05, -7.47243632e-05, -5.69152813e-05,\n",
      "       -6.74347924e-05, -7.02845792e-05, -7.30365703e-05, -7.30078304e-05]), array([166,   1]), array([ -4148.26529462, 451793.05401944, 443187.38893148, 435661.31500649,\n",
      "       578449.14031401, 444094.53180289, 370244.94303806, 343172.93666608,\n",
      "       337449.36638624, 409920.14346861, 367212.63216744, 370625.83069625,\n",
      "       330250.84449058, 369097.69242125, 245622.73024378, 320955.71386648,\n",
      "       348365.73302947, 333685.69680365, 322783.74896451, 346978.85118038,\n",
      "       258984.50124916, 278908.52405557, 346721.1820563 , 323745.1500796 ,\n",
      "       179841.41218702, 359974.16048779, 403820.06142685, 305382.07053992,\n",
      "       249499.9369407 , 343632.53831489, 272896.24740506, 253283.63624019,\n",
      "       349418.33271941, 290772.34175341, 266464.78232031, 198568.16919991,\n",
      "       305534.79724645, 243328.41823524, 236912.93272934, 300760.72728843,\n",
      "       261863.70846733, 229304.39826057, 215433.95089427, 112607.9036226 ,\n",
      "       243276.30392931, 207117.68978166, 174913.36386449,  73208.18827501,\n",
      "       174476.94387276, 239490.91505058, 204954.99431362, 187183.57789905,\n",
      "       229318.4267269 , 127522.14165694, 155416.85083443,  64115.03688584,\n",
      "       107609.00923543, 160827.33801475, 105152.52198601, 280213.45065122,\n",
      "       108120.95019551, 116011.33004051,   8764.13709302,   1183.69335888,\n",
      "        71510.58403149, 147375.42617604,  82631.68706478,  27114.48484094,\n",
      "        31964.61072136,  47384.7785753 , 168540.13873867,  52614.66227862,\n",
      "        82859.9060455 ,  77407.59453847,  68976.63850704, 139111.09374929,\n",
      "            0.        ,   4903.46762862,      0.        ,  78227.03368193,\n",
      "        74187.12483224,      0.        ,      0.        ,      0.        ,\n",
      "       107158.78073083,      0.        ,  37560.24744401,      0.        ,\n",
      "            0.        ,      0.        ,  21147.56030192,      0.        ,\n",
      "            0.        ,      0.        ,      0.        ,      0.        ,\n",
      "            0.        ,      0.        ,      0.        ,      0.        ,\n",
      "            0.        ,      0.        ,      0.        ,      0.        ,\n",
      "            0.        ,      0.        ,      0.        ,      0.        ,\n",
      "            0.        ,      0.        ,      0.        ,      0.        ,\n",
      "            0.        ,      0.        ,  48693.03132875,      0.        ,\n",
      "            0.        ,  10298.87593434, 109260.2805331 ,  39583.88331168,\n",
      "       129761.44013816,  30403.61108435,  17745.32777587,  50915.59539835,\n",
      "        74999.40887842,   7297.7022    ,      0.        , 108962.78468306,\n",
      "            0.        , 159762.89762362, 123465.26849889,  36571.26087326,\n",
      "        64034.05893489,  37669.8607267 , 133329.36408981, 120384.86373939,\n",
      "       129195.91182701,  28071.53848253,  89789.65963561,  72690.0238884 ,\n",
      "        84804.05814526, 112369.51850994,  70195.94586176,  87654.66844967,\n",
      "       103475.69577388,  97879.23911179, 142959.21589621, 143046.59117302,\n",
      "       119506.41756574, 134091.74811181, 127862.54266377, 221491.94982626,\n",
      "            0.        , 196749.20101011, 199297.05777562, 119603.33621857,\n",
      "       152756.11958862, 283762.37089157, 151592.65403266, 176278.64051505,\n",
      "       106249.50462303, 271671.84326068, 121730.93643381, 141772.68200512,\n",
      "       266452.02305969, 251084.00474066, 295718.14616255, 219239.2364586 ,\n",
      "       176695.91583297, 284105.51902629, 306833.9878886 , 164210.04525272,\n",
      "       303115.36334831, 215638.817513  , 347249.36745011, 306636.17543114,\n",
      "       294023.11104969, 318578.4885211 , 328548.84950033, 320709.78326435,\n",
      "       373620.11138239, 508298.65514789, 291954.62344765, 369958.64091849,\n",
      "       358113.37825839, 334212.07038048, 396202.54269488, 360589.15219595,\n",
      "       383287.88848836, 395105.60580406, 274866.88253074, 306909.85816938,\n",
      "       329656.97613647, 354529.76752383, 329237.81742832, 516089.47031167,\n",
      "       384826.11958777, 455005.21526995, 470645.49149258, 485590.34974   ,\n",
      "       480761.64352488]), array([196,   1, 182, 200, 201, 121, 199, 198, 181, 130, 187, 190, 189,\n",
      "       175, 184, 158, 185, 197, 167, 188, 171, 179, 178, 180, 194, 173,\n",
      "       186, 176, 162, 170, 193, 177, 195, 165, 183, 192, 166, 152, 191,\n",
      "       168, 155, 154, 174, 160, 169, 172, 157, 159, 147, 148, 135,   5,\n",
      "       164, 150, 137, 131, 151, 136, 163, 149, 156, 142,   2, 119,   6,\n",
      "         3, 128,   4, 161, 145, 146,  10,  27, 139, 144, 141,  12,   7,\n",
      "        14,  11,  26, 125,  33,  17,  20,  23,  30,   8,   9,  18,  13,\n",
      "        24,  19,  16,  37,  28,  40,  34,  60,  22,  31, 140,  35,  41,\n",
      "        21,  32,  29,  45,  38,  50,  15,  39,  53,  42,  43,  46,  51,\n",
      "        36,  52,  25,  47,  49,  71,  58,  55,  66,  76,  54,  62,  85,\n",
      "        44,  61,  57,  59, 143, 133,  73,  67,  80,  74,  81,  48,  65,\n",
      "        75,  56,  72,  70, 124, 115,  87, 120, 134, 132,  69, 122, 138,\n",
      "        68,  91, 123, 118,  63, 126,  78,  64]))\n"
     ]
    }
   ],
   "source": [
    "print(res)"
   ]
  },
  {
   "cell_type": "code",
   "execution_count": 243,
   "metadata": {},
   "outputs": [
    {
     "ename": "DCPError",
     "evalue": "Problem does not follow DCP rules. However, the problem does follow DGP rules. Consider calling this function with `gp=True`.",
     "output_type": "error",
     "traceback": [
      "\u001b[1;31m---------------------------------------------------------------------------\u001b[0m",
      "\u001b[1;31mDCPError\u001b[0m                                  Traceback (most recent call last)",
      "\u001b[1;32m<ipython-input-243-effd133e42e2>\u001b[0m in \u001b[0;36m<module>\u001b[1;34m\u001b[0m\n\u001b[0;32m      5\u001b[0m \u001b[0mobj\u001b[0m \u001b[1;33m=\u001b[0m \u001b[0mcvx\u001b[0m\u001b[1;33m.\u001b[0m\u001b[0mMaximize\u001b[0m\u001b[1;33m(\u001b[0m\u001b[0mf\u001b[0m\u001b[1;33m(\u001b[0m\u001b[0mx\u001b[0m\u001b[1;33m)\u001b[0m\u001b[1;33m)\u001b[0m\u001b[1;31m#-cvx.dot(cvx.dot(x.T,G),x)/2 +cvx.dot(np.ones(200)),x)\u001b[0m\u001b[1;33m\u001b[0m\u001b[1;33m\u001b[0m\u001b[0m\n\u001b[0;32m      6\u001b[0m \u001b[0mprob\u001b[0m \u001b[1;33m=\u001b[0m \u001b[0mcvx\u001b[0m\u001b[1;33m.\u001b[0m\u001b[0mProblem\u001b[0m\u001b[1;33m(\u001b[0m\u001b[0mobj\u001b[0m\u001b[1;33m)\u001b[0m\u001b[1;33m\u001b[0m\u001b[1;33m\u001b[0m\u001b[0m\n\u001b[1;32m----> 7\u001b[1;33m \u001b[0mprob\u001b[0m\u001b[1;33m.\u001b[0m\u001b[0msolve\u001b[0m\u001b[1;33m(\u001b[0m\u001b[1;33m)\u001b[0m\u001b[1;33m\u001b[0m\u001b[1;33m\u001b[0m\u001b[0m\n\u001b[0m",
      "\u001b[1;32mC:\\Users\\Badr\\Anaconda3\\lib\\site-packages\\cvxpy\\problems\\problem.py\u001b[0m in \u001b[0;36msolve\u001b[1;34m(self, *args, **kwargs)\u001b[0m\n\u001b[0;32m    269\u001b[0m         \u001b[1;32melse\u001b[0m\u001b[1;33m:\u001b[0m\u001b[1;33m\u001b[0m\u001b[1;33m\u001b[0m\u001b[0m\n\u001b[0;32m    270\u001b[0m             \u001b[0msolve_func\u001b[0m \u001b[1;33m=\u001b[0m \u001b[0mProblem\u001b[0m\u001b[1;33m.\u001b[0m\u001b[0m_solve\u001b[0m\u001b[1;33m\u001b[0m\u001b[1;33m\u001b[0m\u001b[0m\n\u001b[1;32m--> 271\u001b[1;33m         \u001b[1;32mreturn\u001b[0m \u001b[0msolve_func\u001b[0m\u001b[1;33m(\u001b[0m\u001b[0mself\u001b[0m\u001b[1;33m,\u001b[0m \u001b[1;33m*\u001b[0m\u001b[0margs\u001b[0m\u001b[1;33m,\u001b[0m \u001b[1;33m**\u001b[0m\u001b[0mkwargs\u001b[0m\u001b[1;33m)\u001b[0m\u001b[1;33m\u001b[0m\u001b[1;33m\u001b[0m\u001b[0m\n\u001b[0m\u001b[0;32m    272\u001b[0m \u001b[1;33m\u001b[0m\u001b[0m\n\u001b[0;32m    273\u001b[0m     \u001b[1;33m@\u001b[0m\u001b[0mclassmethod\u001b[0m\u001b[1;33m\u001b[0m\u001b[1;33m\u001b[0m\u001b[0m\n",
      "\u001b[1;32mC:\\Users\\Badr\\Anaconda3\\lib\\site-packages\\cvxpy\\problems\\problem.py\u001b[0m in \u001b[0;36m_solve\u001b[1;34m(self, solver, warm_start, verbose, parallel, gp, **kwargs)\u001b[0m\n\u001b[0;32m    491\u001b[0m                                             verbose, **kwargs)\n\u001b[0;32m    492\u001b[0m \u001b[1;33m\u001b[0m\u001b[0m\n\u001b[1;32m--> 493\u001b[1;33m         \u001b[0mself\u001b[0m\u001b[1;33m.\u001b[0m\u001b[0m_construct_chains\u001b[0m\u001b[1;33m(\u001b[0m\u001b[0msolver\u001b[0m\u001b[1;33m=\u001b[0m\u001b[0msolver\u001b[0m\u001b[1;33m,\u001b[0m \u001b[0mgp\u001b[0m\u001b[1;33m=\u001b[0m\u001b[0mgp\u001b[0m\u001b[1;33m)\u001b[0m\u001b[1;33m\u001b[0m\u001b[1;33m\u001b[0m\u001b[0m\n\u001b[0m\u001b[0;32m    494\u001b[0m \u001b[1;33m\u001b[0m\u001b[0m\n\u001b[0;32m    495\u001b[0m         \u001b[0mdata\u001b[0m\u001b[1;33m,\u001b[0m \u001b[0msolving_inverse_data\u001b[0m \u001b[1;33m=\u001b[0m\u001b[0;31m \u001b[0m\u001b[0;31m\\\u001b[0m\u001b[1;33m\u001b[0m\u001b[1;33m\u001b[0m\u001b[0m\n",
      "\u001b[1;32mC:\\Users\\Badr\\Anaconda3\\lib\\site-packages\\cvxpy\\problems\\problem.py\u001b[0m in \u001b[0;36m_construct_chains\u001b[1;34m(self, solver, gp)\u001b[0m\n\u001b[0;32m    448\u001b[0m \u001b[1;33m\u001b[0m\u001b[0m\n\u001b[0;32m    449\u001b[0m             \u001b[1;32mexcept\u001b[0m \u001b[0mException\u001b[0m \u001b[1;32mas\u001b[0m \u001b[0me\u001b[0m\u001b[1;33m:\u001b[0m\u001b[1;33m\u001b[0m\u001b[1;33m\u001b[0m\u001b[0m\n\u001b[1;32m--> 450\u001b[1;33m                 \u001b[1;32mraise\u001b[0m \u001b[0me\u001b[0m\u001b[1;33m\u001b[0m\u001b[1;33m\u001b[0m\u001b[0m\n\u001b[0m\u001b[0;32m    451\u001b[0m \u001b[1;33m\u001b[0m\u001b[0m\n\u001b[0;32m    452\u001b[0m     def _solve(self,\n",
      "\u001b[1;32mC:\\Users\\Badr\\Anaconda3\\lib\\site-packages\\cvxpy\\problems\\problem.py\u001b[0m in \u001b[0;36m_construct_chains\u001b[1;34m(self, solver, gp)\u001b[0m\n\u001b[0;32m    437\u001b[0m \u001b[1;33m\u001b[0m\u001b[0m\n\u001b[0;32m    438\u001b[0m                 \u001b[0mself\u001b[0m\u001b[1;33m.\u001b[0m\u001b[0m_intermediate_chain\u001b[0m \u001b[1;33m=\u001b[0m\u001b[0;31m \u001b[0m\u001b[0;31m\\\u001b[0m\u001b[1;33m\u001b[0m\u001b[1;33m\u001b[0m\u001b[0m\n\u001b[1;32m--> 439\u001b[1;33m                     \u001b[0mconstruct_intermediate_chain\u001b[0m\u001b[1;33m(\u001b[0m\u001b[0mself\u001b[0m\u001b[1;33m,\u001b[0m \u001b[0mcandidate_solvers\u001b[0m\u001b[1;33m,\u001b[0m \u001b[0mgp\u001b[0m\u001b[1;33m=\u001b[0m\u001b[0mgp\u001b[0m\u001b[1;33m)\u001b[0m\u001b[1;33m\u001b[0m\u001b[1;33m\u001b[0m\u001b[0m\n\u001b[0m\u001b[0;32m    440\u001b[0m                 \u001b[0mself\u001b[0m\u001b[1;33m.\u001b[0m\u001b[0m_intermediate_problem\u001b[0m\u001b[1;33m,\u001b[0m \u001b[0mself\u001b[0m\u001b[1;33m.\u001b[0m\u001b[0m_intermediate_inverse_data\u001b[0m \u001b[1;33m=\u001b[0m\u001b[0;31m \u001b[0m\u001b[0;31m\\\u001b[0m\u001b[1;33m\u001b[0m\u001b[1;33m\u001b[0m\u001b[0m\n\u001b[0;32m    441\u001b[0m                     \u001b[0mself\u001b[0m\u001b[1;33m.\u001b[0m\u001b[0m_intermediate_chain\u001b[0m\u001b[1;33m.\u001b[0m\u001b[0mapply\u001b[0m\u001b[1;33m(\u001b[0m\u001b[0mself\u001b[0m\u001b[1;33m)\u001b[0m\u001b[1;33m\u001b[0m\u001b[1;33m\u001b[0m\u001b[0m\n",
      "\u001b[1;32mC:\\Users\\Badr\\Anaconda3\\lib\\site-packages\\cvxpy\\reductions\\solvers\\intermediate_chain.py\u001b[0m in \u001b[0;36mconstruct_intermediate_chain\u001b[1;34m(problem, candidates, gp)\u001b[0m\n\u001b[0;32m     50\u001b[0m         append = (\" However, the problem does follow DGP rules. \"\n\u001b[0;32m     51\u001b[0m                   \"Consider calling this function with `gp=True`.\")\n\u001b[1;32m---> 52\u001b[1;33m         \u001b[1;32mraise\u001b[0m \u001b[0mDCPError\u001b[0m\u001b[1;33m(\u001b[0m\u001b[1;34m\"Problem does not follow DCP rules.\"\u001b[0m \u001b[1;33m+\u001b[0m \u001b[0mappend\u001b[0m\u001b[1;33m)\u001b[0m\u001b[1;33m\u001b[0m\u001b[1;33m\u001b[0m\u001b[0m\n\u001b[0m\u001b[0;32m     53\u001b[0m \u001b[1;33m\u001b[0m\u001b[0m\n\u001b[0;32m     54\u001b[0m     \u001b[1;32melif\u001b[0m \u001b[0mgp\u001b[0m \u001b[1;32mand\u001b[0m \u001b[1;32mnot\u001b[0m \u001b[0mproblem\u001b[0m\u001b[1;33m.\u001b[0m\u001b[0mis_dgp\u001b[0m\u001b[1;33m(\u001b[0m\u001b[1;33m)\u001b[0m\u001b[1;33m:\u001b[0m\u001b[1;33m\u001b[0m\u001b[1;33m\u001b[0m\u001b[0m\n",
      "\u001b[1;31mDCPError\u001b[0m: Problem does not follow DCP rules. However, the problem does follow DGP rules. Consider calling this function with `gp=True`."
     ]
    }
   ],
   "source": [
    "x = cvx.Variable(200)\n",
    "\n",
    "obj = cvx.Maximize(f(x))#-cvx.dot(cvx.dot(x.T,G),x)/2 +cvx.dot(np.ones(200)),x)\n",
    "prob = cvx.Problem(obj)\n",
    "prob.solve()\n"
   ]
  },
  {
   "cell_type": "code",
   "execution_count": null,
   "metadata": {},
   "outputs": [],
   "source": []
  }
 ],
 "metadata": {
  "kernelspec": {
   "display_name": "Python 3",
   "language": "python",
   "name": "python3"
  },
  "language_info": {
   "codemirror_mode": {
    "name": "ipython",
    "version": 3
   },
   "file_extension": ".py",
   "mimetype": "text/x-python",
   "name": "python",
   "nbconvert_exporter": "python",
   "pygments_lexer": "ipython3",
   "version": "3.6.5"
  }
 },
 "nbformat": 4,
 "nbformat_minor": 2
}
