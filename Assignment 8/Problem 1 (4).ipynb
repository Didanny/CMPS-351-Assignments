{
 "cells": [
  {
   "cell_type": "code",
   "execution_count": 1,
   "metadata": {},
   "outputs": [],
   "source": [
    "import numpy as np\n",
    "import matplotlib.pyplot as plt\n",
    "import sympy as sp"
   ]
  },
  {
   "cell_type": "code",
   "execution_count": 2,
   "metadata": {},
   "outputs": [],
   "source": [
    "def f(x):\n",
    "    return x**2+1\n",
    "def g(x):\n",
    "    return (6*x/(2+2*x))**2 + 1 + x*(6*x/(2+2*x)-2)*(6*x/(2+2*x)-4)"
   ]
  },
  {
   "cell_type": "markdown",
   "metadata": {},
   "source": [
    "$$ \\min x^2 +1 $$\n",
    "\n",
    "$$ subject\\; to\\; (x-2)(x-4) \\leq 0$$\n",
    "\n",
    "### Lagrangian:\n",
    "$$ L(x,\\lambda) = x^2+1+\\lambda(x-2)(x-4)$$ \n",
    "\n",
    "$$\\nabla L_x = 0$$\n",
    "\n",
    "$$ x = \\frac{6\\lambda}{2+2\\lambda}$$\n",
    "\n",
    "$$g(\\lambda) = (\\frac{6\\lambda}{2+2\\lambda})^2 +1 + \\lambda(\\frac{6\\lambda}{2+2\\lambda} -2)(\\frac{6\\lambda}{2+2\\lambda}-4) $$\n",
    "\n"
   ]
  },
  {
   "cell_type": "code",
   "execution_count": 3,
   "metadata": {},
   "outputs": [
    {
     "data": {
      "image/png": "[encoded data removed]",
      "text/plain": [
       "<Figure size 432x288 with 1 Axes>"
      ]
     },
     "metadata": {
      "needs_background": "light"
     },
     "output_type": "display_data"
    }
   ],
   "source": [
    "x = np.linspace(0,5,10000)\n",
    "plt.plot(x,g(x))\n",
    "plt.show()"
   ]
  },
  {
   "cell_type": "code",
   "execution_count": 4,
   "metadata": {},
   "outputs": [],
   "source": [
    "import cvxpy as cvx"
   ]
  },
  {
   "cell_type": "code",
   "execution_count": 5,
   "metadata": {},
   "outputs": [
    {
     "data": {
      "text/plain": [
       "5.000000000000002"
      ]
     },
     "execution_count": 5,
     "metadata": {},
     "output_type": "execute_result"
    }
   ],
   "source": [
    "x = cvx.Variable()\n",
    "constraints = [\n",
    "                -x<=-2,\n",
    "                 x<= 4  \n",
    "              ]\n",
    "obj = cvx.Minimize(f(x))\n",
    "prob = cvx.Problem(obj, constraints)\n",
    "prob.solve()"
   ]
  },
  {
   "cell_type": "code",
   "execution_count": 6,
   "metadata": {},
   "outputs": [],
   "source": [
    "x = sp.Symbol('x')\n",
    "\n",
    "g_symb = [(6*x/(2+2*x))**2 + 1 + x*(6*x/(2+2*x)-2)*(6*x/(2+2*x)-4)]\n",
    "g = sp.lambdify([x], g_symb, 'numpy')\n",
    "\n",
    "derivative = sp.derive_by_array(g_symb, x)\n",
    "g_div = sp.lambdify([x], derivative, 'numpy')"
   ]
  },
  {
   "cell_type": "code",
   "execution_count": 7,
   "metadata": {},
   "outputs": [
    {
     "data": {
      "text/plain": [
       "[{x: -4}, {x: 2}]"
      ]
     },
     "execution_count": 7,
     "metadata": {},
     "output_type": "execute_result"
    }
   ],
   "source": [
    "sp.solvers.solve(derivative)"
   ]
  },
  {
   "cell_type": "code",
   "execution_count": 8,
   "metadata": {},
   "outputs": [
    {
     "data": {
      "text/plain": [
       "[5.0]"
      ]
     },
     "execution_count": 8,
     "metadata": {},
     "output_type": "execute_result"
    }
   ],
   "source": [
    "g(2)"
   ]
  },
  {
   "cell_type": "markdown",
   "metadata": {},
   "source": [
    "$$\\lambda^* = 2$$\n",
    "\n",
    "$$g^* = 5$$\n",
    "\n",
    "$$f^* = 5$$"
   ]
  },
  {
   "cell_type": "markdown",
   "metadata": {},
   "source": [
    "## Problem 2:\n",
    "\n",
    "$$ min \\; p^tx$$\n",
    "\n",
    "$$ subject\\; to\\qquad 0\\leq x \\leq 1$$\n",
    "\n",
    "$$\\qquad \\qquad \\; 1^tx = b $$\n",
    "\n",
    "### Lagragian:\n",
    "\n",
    "$$ L(x,\\lambda,\\nu) = p^tx - \\lambda^t(x-1)-\\lambda^t_2(x) - \\nu(1^tx - b)$$\n",
    "\n",
    "$$ L(x,\\lambda,\\nu) = (p^t-\\lambda^t-\\lambda^t_2-\\nu 1^t)x + b \\nu + \\lambda^t1 $$\n",
    "\n",
    "### Dual Objective:\n",
    "\n",
    "$$ G(\\lambda,\\nu) = b \\nu + \\lambda^t1 $$\n",
    "$$subject\\; to \\qquad p-\\lambda-\\lambda_2-\\nu = 0 $$\n",
    "$$ \\qquad \\qquad \\lambda \\geq 0$$\n",
    "\n",
    "$$ G(\\lambda,\\nu) = b \\nu + \\lambda^t1 $$\n",
    "$$subject\\; to \\qquad \\lambda +\\nu \\leq p $$\n",
    "$$ \\qquad \\qquad \\lambda \\geq 0$$\n"
   ]
  },
  {
   "cell_type": "code",
   "execution_count": 9,
   "metadata": {},
   "outputs": [
    {
     "name": "stdout",
     "output_type": "stream",
     "text": [
      "Optimization terminated successfully.\n",
      "         Current function value: 1.000000    \n",
      "         Iterations: 1\n"
     ]
    }
   ],
   "source": [
    "from scipy.optimize import linprog\n",
    "res = linprog([1], A_eq=[[1]], b_eq =[1],bounds = [(0,1)], options={\"disp\": True})"
   ]
  },
  {
   "cell_type": "code",
   "execution_count": 10,
   "metadata": {},
   "outputs": [
    {
     "name": "stdout",
     "output_type": "stream",
     "text": [
      "Optimization terminated successfully.\n",
      "         Current function value: -1.000000   \n",
      "         Iterations: 1\n"
     ]
    }
   ],
   "source": [
    "res2 = linprog([-1,-1], A_ub=[[1,1]], b_ub = [1], options={\"disp\": True})"
   ]
  },
  {
   "cell_type": "markdown",
   "metadata": {},
   "source": [
    "We test out this equation in linprog with an example in which we have:\n",
    "$b = 1$\n",
    "$ p =1$\n",
    "Since we are mnimizing $-G(\\lambda,\\nu)$ we can say that $ max\\; G(\\lambda, \\nu) = 1$ thus, we have strong duality in this case since f* - g* = 0"
   ]
  },
  {
   "cell_type": "markdown",
   "metadata": {},
   "source": [
    "## Problem 3\n",
    "\n",
    "$$ minimize \\; x^tx $$\n",
    "\n",
    "$$ subject\\;to \\qquad Ax = b $$\n",
    "\n",
    "$$ \\qquad \\lambda \\geq 0 $$\n",
    "\n",
    "### Lagrangian\n",
    "\n",
    "$$ L(x,\\lambda) = x^tx - \\lambda^t(Ax - b) $$\n",
    "\n",
    "$$ \\nabla L_x  = 2x - A^t\\lambda = $$\n",
    "\n",
    "$$  x = \\frac{A^t\\lambda}{2}$$\n",
    "\n",
    "### Dual Problem\n",
    "\n",
    "$$ g(x,\\lambda) = \\frac{(A^t\\lambda)^t(A^t\\lambda)}{4}-\\lambda^t(\\frac{AA^t\\lambda}{2}-b) $$\n",
    "\n",
    "$$ g(x,\\lambda) = -\\frac{\\lambda^tAA^t\\lambda}{4}+\\lambda^tb $$\n",
    "\n",
    "$$ \\lambda \\gt 0 $$"
   ]
  },
  {
   "cell_type": "markdown",
   "metadata": {},
   "source": [
    "## Problem 4:\n",
    "\n",
    "$$ \\min t$$\n",
    "$$ subject\\; to\\; \\begin{bmatrix} A & -1 \\end{bmatrix} \\begin{bmatrix}x \\\\ t\\end{bmatrix}\\leq b$$\n",
    "\n",
    "### Lagrangian:\n",
    "\n",
    "$$L(x,\\lambda,\\nu) = t + \\lambda^t(Ax -1t -b) $$\n",
    "\n",
    "$$L(x,\\lambda,\\nu) = (1 - \\lambda^t1)t +  \\lambda^tAx  - \\lambda^tb $$\n",
    "\n",
    "$$ \\nabla L_x = 0$$\n",
    "\n",
    "$$ \\frac{d}{dx}\\lambda^tAx =A^t\\lambda = 0 $$\n",
    "\n",
    "$$ \\frac{d}{dt}(t - \\lambda^t1t) =  1 - 1^t\\lambda = 0 $$\n",
    "\n",
    "$$1^t\\lambda = 1 $$\n",
    "\n",
    "$$\\lambda \\geq 0 $$\n",
    "\n",
    "### Dual Objective:\n",
    "$$ \\max -b^t\\lambda$$\n",
    "\n",
    "$$ subject\\;to\\; A^t\\lambda =0$$\n",
    "$$\\qquad \\qquad 1^t\\lambda =1$$\n",
    "$$\\qquad \\qquad \\lambda \\geq 0$$\n",
    "\n",
    "### KKT Conditions\n",
    "$$ L(x_1,x_2,x_3,\\lambda) = -b^t\\lambda - x_1^t(A^t\\lambda) -x_2^t(1^t\\lambda -1) -x_3^t(\\lambda)$$\n",
    "\n",
    "$$ \\nabla L_\\lambda = -b - Ax_1 - 1 x_2 - 1x_3 = 0$$\n",
    "\n",
    "$$A^t\\lambda = 0 $$ \n",
    "$$1^t\\lambda  = 1$$\n",
    "$$ \\lambda \\geq 0$$\n",
    "\n",
    "$$ \\lambda_i x_i = 0 $$\n",
    "\n",
    "$$x_1 \\geq 0$$\n",
    "$$x_2 \\geq 0$$\n",
    "$$x_3 \\geq 0 $$"
   ]
  },
  {
   "cell_type": "code",
   "execution_count": null,
   "metadata": {},
   "outputs": [],
   "source": []
  }
 ],
 "metadata": {
  "kernelspec": {
   "display_name": "Python 3",
   "language": "python",
   "name": "python3"
  },
  "language_info": {
   "codemirror_mode": {
    "name": "ipython",
    "version": 3
   },
   "file_extension": ".py",
   "mimetype": "text/x-python",
   "name": "python",
   "nbconvert_exporter": "python",
   "pygments_lexer": "ipython3",
   "version": "3.6.5"
  }
 },
 "nbformat": 4,
 "nbformat_minor": 2
}
