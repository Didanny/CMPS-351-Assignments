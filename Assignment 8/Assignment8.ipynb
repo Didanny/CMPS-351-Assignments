{
 "cells": [
  {
   "cell_type": "markdown",
   "metadata": {},
   "source": [
    "Danny Abraham\n",
    "<center><h1>CMPS 351</h1></center>\n",
    "<center><h2>Assignment 8</h2></center>"
   ]
  },
  {
   "cell_type": "code",
   "execution_count": 1,
   "metadata": {},
   "outputs": [],
   "source": [
    "import numpy as np\n",
    "from numpy import linalg as la\n",
    "from scipy.optimize import linprog as lp\n",
    "import matplotlib.pyplot as plt\n",
    "import cvxpy as cvx\n",
    "import sympy as sp\n",
    "import quadprog as qp"
   ]
  },
  {
   "cell_type": "markdown",
   "metadata": {},
   "source": [
    "## Problem in $R$\n",
    "---"
   ]
  },
  {
   "cell_type": "code",
   "execution_count": 2,
   "metadata": {},
   "outputs": [],
   "source": [
    "def f(x):\n",
    "    return x**2+1"
   ]
  },
  {
   "cell_type": "code",
   "execution_count": 3,
   "metadata": {},
   "outputs": [],
   "source": [
    "def g(x):\n",
    "    return (6*x/(2+2*x))**2 + 1 + x*(6*x/(2+2*x)-2)*(6*x/(2+2*x)-4)"
   ]
  },
  {
   "cell_type": "markdown",
   "metadata": {},
   "source": [
    "$$ \\min \\; x^2 + 1 $$\n",
    "\n",
    "$$ subject \\; to (x - 2)(x - 4) \\leq 0 $$\n",
    "\n",
    "#### Lagrangian\n",
    "\n",
    "$$ L(x,\\lambda) = x^2+1+\\lambda(x-2)(x-4)$$ \n",
    "\n",
    "$$\\nabla L_x = 0$$\n",
    "\n",
    "$$ x = \\frac{6\\lambda}{2+2\\lambda}$$\n",
    "\n",
    "$$g(\\lambda) = (\\frac{6\\lambda}{2+2\\lambda})^2 +1 + \\lambda(\\frac{6\\lambda}{2+2\\lambda} -2)(\\frac{6\\lambda}{2+2\\lambda}-4) $$"
   ]
  },
  {
   "cell_type": "code",
   "execution_count": 4,
   "metadata": {},
   "outputs": [
    {
     "data": {
      "image/png": "[encoded data removed]",
      "text/plain": [
       "<Figure size 432x288 with 1 Axes>"
      ]
     },
     "metadata": {},
     "output_type": "display_data"
    }
   ],
   "source": [
    "x = np.linspace(0,5,10000)\n",
    "plt.plot(x,g(x))\n",
    "plt.show()"
   ]
  },
  {
   "cell_type": "code",
   "execution_count": 5,
   "metadata": {},
   "outputs": [
    {
     "data": {
      "text/plain": [
       "5.000000000000002"
      ]
     },
     "execution_count": 5,
     "metadata": {},
     "output_type": "execute_result"
    }
   ],
   "source": [
    "x = cvx.Variable()\n",
    "constraints = [\n",
    "                -x<=-2,\n",
    "                 x<= 4  \n",
    "              ]\n",
    "obj = cvx.Minimize(f(x))\n",
    "prob = cvx.Problem(obj, constraints)\n",
    "prob.solve()"
   ]
  },
  {
   "cell_type": "code",
   "execution_count": 6,
   "metadata": {},
   "outputs": [],
   "source": [
    "x = sp.Symbol('x')\n",
    "\n",
    "g_symb = [(6*x/(2+2*x))**2 + 1 + x*(6*x/(2+2*x)-2)*(6*x/(2+2*x)-4)]\n",
    "g = sp.lambdify([x], g_symb, 'numpy')\n",
    "\n",
    "derivative = sp.derive_by_array(g_symb, x)\n",
    "g_div = sp.lambdify([x], derivative, 'numpy')"
   ]
  },
  {
   "cell_type": "code",
   "execution_count": 7,
   "metadata": {},
   "outputs": [
    {
     "data": {
      "text/plain": [
       "[{x: -4}, {x: 2}]"
      ]
     },
     "execution_count": 7,
     "metadata": {},
     "output_type": "execute_result"
    }
   ],
   "source": [
    "sp.solvers.solve(derivative)"
   ]
  },
  {
   "cell_type": "code",
   "execution_count": 8,
   "metadata": {},
   "outputs": [
    {
     "data": {
      "text/plain": [
       "[5.0]"
      ]
     },
     "execution_count": 8,
     "metadata": {},
     "output_type": "execute_result"
    }
   ],
   "source": [
    "g(2)"
   ]
  },
  {
   "cell_type": "markdown",
   "metadata": {},
   "source": [
    "$$\\lambda^* = 2$$\n",
    "\n",
    "$$g^* = 5$$\n",
    "\n",
    "$$f^* = 5$$"
   ]
  },
  {
   "cell_type": "markdown",
   "metadata": {},
   "source": [
    "## Dual in $R^n$"
   ]
  },
  {
   "cell_type": "markdown",
   "metadata": {},
   "source": [
    "$$ min \\; p^tx$$\n",
    "\n",
    "$$ subject\\; to\\qquad 0\\leq x \\leq 1$$\n",
    "\n",
    "$$\\qquad \\qquad \\; 1^tx = b $$\n",
    "\n",
    "#### Lagragian\n",
    "\n",
    "$$ L(x,\\lambda,\\nu) = p^tx - \\lambda^t(x-1)-\\lambda^t_2(x) - \\nu(1^tx - b)$$\n",
    "\n",
    "$$ L(x,\\lambda,\\nu) = (p^t-\\lambda^t-\\lambda^t_2-\\nu 1^t)x + b \\nu + \\lambda^t1 $$\n",
    "\n",
    "#### Dual Objective\n",
    "\n",
    "$$ G(\\lambda,\\nu) = b \\nu + \\lambda^t1 $$\n",
    "$$subject\\; to \\qquad p-\\lambda-\\lambda_2-\\nu = 0 $$\n",
    "$$ \\qquad \\qquad \\lambda \\geq 0$$\n",
    "\n",
    "$$ G(\\lambda,\\nu) = b \\nu + \\lambda^t1 $$\n",
    "$$subject\\; to \\qquad \\lambda +\\nu \\leq p $$\n",
    "$$ \\qquad \\qquad \\lambda \\geq 0$$"
   ]
  },
  {
   "cell_type": "code",
   "execution_count": 9,
   "metadata": {},
   "outputs": [
    {
     "name": "stdout",
     "output_type": "stream",
     "text": [
      "The solution was determined in presolve as there are no non-trivial constraints.\n",
      "         Current function value: 1.000000    \n",
      "         Iterations: 0\n"
     ]
    }
   ],
   "source": [
    "res = lp([1], A_eq=[[1]], b_eq =[1],bounds = [(0,1)], options={\"disp\": True})"
   ]
  },
  {
   "cell_type": "code",
   "execution_count": 10,
   "metadata": {},
   "outputs": [
    {
     "name": "stdout",
     "output_type": "stream",
     "text": [
      "Optimization terminated successfully.\n",
      "         Current function value: -1.000000   \n",
      "         Iterations: 1\n"
     ]
    }
   ],
   "source": [
    "res2 = lp([-1,-1], A_ub=[[1,1]], b_ub = [1], options={\"disp\": True})"
   ]
  },
  {
   "cell_type": "markdown",
   "metadata": {},
   "source": [
    "We test out this equation in linprog with an example in which we have:\n",
    "$b = 1$\n",
    "$ p =1$\n",
    "Since we are mnimizing $-G(\\lambda,\\nu)$ we can say that $ max\\; G(\\lambda, \\nu) = 1$ thus, we have strong duality in this case since f* - g* = 0"
   ]
  },
  {
   "cell_type": "markdown",
   "metadata": {},
   "source": [
    "## Dual of a Quadratic Problem\n",
    "---"
   ]
  },
  {
   "cell_type": "markdown",
   "metadata": {},
   "source": [
    "#### Primal Problem\n",
    "\n",
    "$$ minimize \\; x^tx $$\n",
    "\n",
    "$$ subject\\;to \\qquad Ax = b $$\n",
    "\n",
    "$$ \\qquad \\lambda \\geq 0 $$\n",
    "\n",
    "#### Lagrangian\n",
    "\n",
    "$$ L(x,\\lambda) = x^tx - \\lambda^t(Ax - b) $$\n",
    "\n",
    "$$ \\frac{\\partial\\lambda}{\\partial x} = 2x - A^t\\lambda$$\n",
    "\n",
    "$$ \\therefore x = \\frac{A^t\\lambda}{2}$$\n",
    "\n",
    "#### Dual Problem\n",
    "\n",
    "$$ g(x,\\lambda) = \\frac{(A^t\\lambda)^t(A^t\\lambda)}{4}-\\lambda^t(\\frac{AA^t\\lambda}{2}-b) $$\n",
    "\n",
    "$$ g(x,\\lambda) = -\\frac{\\lambda^tAA^t\\lambda}{4}+\\lambda^tb $$\n",
    "\n",
    "$$ \\lambda \\gt 0 $$"
   ]
  },
  {
   "cell_type": "markdown",
   "metadata": {},
   "source": [
    "## Piece-wise Linear Minimization\n",
    "---"
   ]
  },
  {
   "cell_type": "markdown",
   "metadata": {},
   "source": [
    "$$ \\min t$$\n",
    "$$ subject\\; to\\; \\begin{bmatrix} A & -1 \\end{bmatrix} \\begin{bmatrix}x \\\\ t\\end{bmatrix}\\leq b$$\n",
    "\n",
    "#### Lagrangian\n",
    "\n",
    "$$L(x,\\lambda,\\nu) = t + \\lambda^t(Ax -1t -b) $$\n",
    "\n",
    "$$L(x,\\lambda,\\nu) = (1 - \\lambda^t1)t +  \\lambda^tAx  - \\lambda^tb $$\n",
    "\n",
    "$$ \\nabla L_x = 0$$\n",
    "\n",
    "$$ \\frac{d}{dx}\\lambda^tAx =A^t\\lambda = 0 $$\n",
    "\n",
    "$$ \\frac{d}{dt}(t - \\lambda^t1t) =  1 - 1^t\\lambda = 0 $$\n",
    "\n",
    "$$1^t\\lambda = 1 $$\n",
    "\n",
    "$$\\lambda \\geq 0 $$\n",
    "\n",
    "#### Dual Objective\n",
    "$$ \\max -b^t\\lambda$$\n",
    "\n",
    "$$ subject\\;to\\; A^t\\lambda =0$$\n",
    "$$\\qquad \\qquad 1^t\\lambda =1$$\n",
    "$$\\qquad \\qquad \\lambda \\geq 0$$\n",
    "\n",
    "#### KKT Conditions\n",
    "$$ L(x_1,x_2,x_3,\\lambda) = -b^t\\lambda - x_1^t(A^t\\lambda) -x_2^t(1^t\\lambda -1) -x_3^t(\\lambda)$$\n",
    "\n",
    "$$ \\nabla L_\\lambda = -b - Ax_1 - 1 x_2 - 1x_3 = 0$$\n",
    "\n",
    "$$A^t\\lambda = 0 $$ \n",
    "$$1^t\\lambda  = 1$$\n",
    "$$ \\lambda \\geq 0$$\n",
    "\n",
    "$$ \\lambda_i x_i = 0 $$\n",
    "\n",
    "$$x_1 \\geq 0$$\n",
    "$$x_2 \\geq 0$$\n",
    "$$x_3 \\geq 0 $$"
   ]
  },
  {
   "cell_type": "markdown",
   "metadata": {},
   "source": [
    "## Classification\n",
    "---\n",
    "#### Linearly Separable"
   ]
  },
  {
   "cell_type": "code",
   "execution_count": 11,
   "metadata": {},
   "outputs": [],
   "source": [
    "size = 100\n",
    "mult = 10\n",
    "r = np.random.normal(size=size)\n",
    "x = np.array(range(size))\n",
    "r *= mult\n",
    "r += x\n",
    "r2 = np.random.normal(size=size)\n",
    "x = np.array(range(size))\n",
    "r2 *= mult\n",
    "r2 -= x[::-1]\n",
    "r = np.array(r)\n",
    "r2 = np.array(r2)\n",
    "\n",
    "y = np.array([r2,x])\n",
    "x = np.array([r,x])"
   ]
  },
  {
   "cell_type": "code",
   "execution_count": 12,
   "metadata": {},
   "outputs": [
    {
     "data": {
      "text/plain": [
       "<matplotlib.collections.PathCollection at 0x1652e372898>"
      ]
     },
     "execution_count": 12,
     "metadata": {},
     "output_type": "execute_result"
    },
    {
     "data": {
      "image/png": "[encoded data removed]",
      "text/plain": [
       "<Figure size 432x288 with 1 Axes>"
      ]
     },
     "metadata": {},
     "output_type": "display_data"
    }
   ],
   "source": [
    "plt.scatter(range(size), r)\n",
    "plt.scatter(range(size), r2, color='red', marker='x')"
   ]
  },
  {
   "cell_type": "code",
   "execution_count": 13,
   "metadata": {},
   "outputs": [],
   "source": [
    "a = cvx.Variable(2)\n",
    "b = cvx.Variable()"
   ]
  },
  {
   "cell_type": "code",
   "execution_count": 14,
   "metadata": {},
   "outputs": [],
   "source": [
    "obj = cvx.Minimize(cvx.norm(a,2)/2)"
   ]
  },
  {
   "cell_type": "code",
   "execution_count": 15,
   "metadata": {},
   "outputs": [],
   "source": [
    "x_constraints = [a.T * y.T[i] - b >=  1  for i in range(size)]\n",
    "y_constraints = [a.T * x.T[i] - b <= -1 for i in range(size)]\n",
    "\n",
    "constraints = x_constraints + y_constraints"
   ]
  },
  {
   "cell_type": "code",
   "execution_count": 16,
   "metadata": {},
   "outputs": [
    {
     "data": {
      "text/plain": [
       "0.026271849996648815"
      ]
     },
     "execution_count": 16,
     "metadata": {},
     "output_type": "execute_result"
    }
   ],
   "source": [
    "prob = cvx.Problem(obj, constraints)\n",
    "prob.solve()"
   ]
  },
  {
   "cell_type": "code",
   "execution_count": 17,
   "metadata": {},
   "outputs": [
    {
     "data": {
      "text/plain": [
       "array([-0.03698816,  0.03731911])"
      ]
     },
     "execution_count": 17,
     "metadata": {},
     "output_type": "execute_result"
    }
   ],
   "source": [
    "a.value"
   ]
  },
  {
   "cell_type": "code",
   "execution_count": 18,
   "metadata": {},
   "outputs": [
    {
     "data": {
      "text/plain": [
       "array(1.76417536)"
      ]
     },
     "execution_count": 18,
     "metadata": {},
     "output_type": "execute_result"
    }
   ],
   "source": [
    "b.value"
   ]
  },
  {
   "cell_type": "code",
   "execution_count": 19,
   "metadata": {},
   "outputs": [],
   "source": [
    "a = a.value\n",
    "b = b.value"
   ]
  },
  {
   "cell_type": "code",
   "execution_count": 20,
   "metadata": {},
   "outputs": [
    {
     "name": "stdout",
     "output_type": "stream",
     "text": [
      "-112.99351956097266\n",
      "110.30040347389146\n",
      "-161.7001953037467\n",
      "63.59163612946652\n"
     ]
    },
    {
     "data": {
      "text/plain": [
       "(0, 100)"
      ]
     },
     "execution_count": 20,
     "metadata": {},
     "output_type": "execute_result"
    },
    {
     "data": {
      "image/png": "[encoded data removed]",
      "text/plain": [
       "<Figure size 432x288 with 1 Axes>"
      ]
     },
     "metadata": {},
     "output_type": "display_data"
    }
   ],
   "source": [
    "plt.scatter(range(size), r)\n",
    "plt.scatter(range(size), r2, color='red', marker='x')\n",
    "\n",
    "d1_min = np.min([x.T[:,0],y.T[:,0]])\n",
    "d1_max = np.max([x.T[:,0],y.T[:,0]])\n",
    "\n",
    "d2_atD1min = (-a[1]*d1_min + b ) / a[0]\n",
    "d2_atD1max = (-a[1]*d1_max + b ) / a[0]\n",
    "\n",
    "print(d1_min)\n",
    "print(d1_max)\n",
    "print(d2_atD1min)\n",
    "print(d2_atD1max)\n",
    "plt.plot([d1_min,d1_max],[d2_atD1min,d2_atD1max],color='black')\n",
    "\n",
    "sup_up_atD1min = (-a[1]*d1_min + b + 1 ) / a[0]\n",
    "sup_up_atD1max = (-a[1]*d1_max + b + 1 ) / a[0]\n",
    "sup_dn_atD1min = (-a[1]*d1_min + b - 1 ) / a[0]\n",
    "sup_dn_atD1max = (-a[1]*d1_max + b - 1 ) / a[0]\n",
    "\n",
    "plt.plot([d1_min,d1_max],[sup_up_atD1min,sup_up_atD1max],'--',color='gray')\n",
    "plt.plot([d1_min,d1_max],[sup_dn_atD1min,sup_dn_atD1max],'--',color='gray')\n",
    "\n",
    "plt.xlim([0, 100])"
   ]
  },
  {
   "cell_type": "markdown",
   "metadata": {},
   "source": [
    "#### Nonlinearly Separable"
   ]
  },
  {
   "cell_type": "code",
   "execution_count": 21,
   "metadata": {},
   "outputs": [],
   "source": [
    "size = 100\n",
    "mult = 30\n",
    "r = np.random.normal(size=size)\n",
    "x = np.array(range(size))\n",
    "r *= mult\n",
    "r += x\n",
    "r2 = np.random.normal(size=size)\n",
    "x = np.array(range(size))\n",
    "r2 *= mult\n",
    "r2 -= x[::-1]\n",
    "r = np.array(r)\n",
    "r2 = np.array(r2)\n",
    "\n",
    "y = np.array([r2,x])\n",
    "x = np.array([r,x])"
   ]
  },
  {
   "cell_type": "code",
   "execution_count": 22,
   "metadata": {},
   "outputs": [
    {
     "data": {
      "text/plain": [
       "<matplotlib.collections.PathCollection at 0x16529371320>"
      ]
     },
     "execution_count": 22,
     "metadata": {},
     "output_type": "execute_result"
    },
    {
     "data": {
      "image/png": "[encoded data removed]",
      "text/plain": [
       "<Figure size 432x288 with 1 Axes>"
      ]
     },
     "metadata": {},
     "output_type": "display_data"
    }
   ],
   "source": [
    "plt.scatter(range(size), r)\n",
    "plt.scatter(range(size), r2, color='red', marker='x')"
   ]
  },
  {
   "cell_type": "code",
   "execution_count": 23,
   "metadata": {},
   "outputs": [],
   "source": [
    "a = cvx.Variable(2)\n",
    "b = cvx.Variable()"
   ]
  },
  {
   "cell_type": "code",
   "execution_count": 24,
   "metadata": {},
   "outputs": [],
   "source": [
    "obj = cvx.Minimize(cvx.norm(a,2)/2)"
   ]
  },
  {
   "cell_type": "code",
   "execution_count": 25,
   "metadata": {},
   "outputs": [],
   "source": [
    "x_constraints = [a.T * y.T[i] - b >=  1  for i in range(size)]\n",
    "y_constraints = [a.T * x.T[i] - b <= -1 for i in range(size)]\n",
    "\n",
    "constraints = x_constraints + y_constraints"
   ]
  },
  {
   "cell_type": "code",
   "execution_count": 26,
   "metadata": {},
   "outputs": [
    {
     "data": {
      "text/plain": [
       "inf"
      ]
     },
     "execution_count": 26,
     "metadata": {},
     "output_type": "execute_result"
    }
   ],
   "source": [
    "prob = cvx.Problem(obj, constraints)\n",
    "prob.solve()"
   ]
  },
  {
   "cell_type": "markdown",
   "metadata": {},
   "source": [
    "The problem is infeasible"
   ]
  },
  {
   "cell_type": "markdown",
   "metadata": {},
   "source": [
    "#### Pareto Optimization"
   ]
  },
  {
   "cell_type": "code",
   "execution_count": 27,
   "metadata": {},
   "outputs": [],
   "source": [
    "size = 100\n",
    "mult = 30\n",
    "r = np.random.normal(size=size)\n",
    "x = np.array(range(size))\n",
    "r *= mult\n",
    "r += x\n",
    "r2 = np.random.normal(size=size)\n",
    "x = np.array(range(size))\n",
    "r2 *= mult\n",
    "r2 -= x[::-1]\n",
    "r = np.array(r)\n",
    "r2 = np.array(r2)\n",
    "\n",
    "y = np.array([r2,x])\n",
    "x = np.array([r,x])"
   ]
  },
  {
   "cell_type": "code",
   "execution_count": 28,
   "metadata": {},
   "outputs": [
    {
     "data": {
      "text/plain": [
       "<matplotlib.collections.PathCollection at 0x1652e4f76a0>"
      ]
     },
     "execution_count": 28,
     "metadata": {},
     "output_type": "execute_result"
    },
    {
     "data": {
      "image/png": "[encoded data removed]",
      "text/plain": [
       "<Figure size 432x288 with 1 Axes>"
      ]
     },
     "metadata": {},
     "output_type": "display_data"
    }
   ],
   "source": [
    "plt.scatter(range(size), r)\n",
    "plt.scatter(range(size), r2, color='red', marker='x')"
   ]
  },
  {
   "cell_type": "code",
   "execution_count": 29,
   "metadata": {},
   "outputs": [],
   "source": [
    "a = cvx.Variable(2)\n",
    "b = cvx.Variable()\n",
    "u = cvx.Variable(200)"
   ]
  },
  {
   "cell_type": "code",
   "execution_count": 30,
   "metadata": {},
   "outputs": [],
   "source": [
    "alpha = 0.5\n",
    "obj = cvx.Minimize(cvx.norm(a,2)/2 + alpha*np.ones(200)@u)"
   ]
  },
  {
   "cell_type": "code",
   "execution_count": 31,
   "metadata": {},
   "outputs": [],
   "source": [
    "x_constraints = [a.T * y.T[i] - b + u[i]>=  1 for i in range(size)]\n",
    "y_constraints = [a.T * x.T[i] - b - u[i + 100]<= -1 for i in range(size)]\n",
    "u_constraints = [u[i] >= 0 for i in range(200)]\n",
    "\n",
    "constraints = x_constraints + y_constraints + u_constraints"
   ]
  },
  {
   "cell_type": "code",
   "execution_count": 32,
   "metadata": {},
   "outputs": [
    {
     "data": {
      "text/plain": [
       "13.94687306276909"
      ]
     },
     "execution_count": 32,
     "metadata": {},
     "output_type": "execute_result"
    }
   ],
   "source": [
    "prob = cvx.Problem(obj, constraints)\n",
    "prob.solve()"
   ]
  },
  {
   "cell_type": "code",
   "execution_count": 33,
   "metadata": {},
   "outputs": [
    {
     "data": {
      "text/plain": [
       "array([-0.06033148,  0.05566791])"
      ]
     },
     "execution_count": 33,
     "metadata": {},
     "output_type": "execute_result"
    }
   ],
   "source": [
    "a.value"
   ]
  },
  {
   "cell_type": "code",
   "execution_count": 34,
   "metadata": {},
   "outputs": [
    {
     "data": {
      "text/plain": [
       "array(2.78669228)"
      ]
     },
     "execution_count": 34,
     "metadata": {},
     "output_type": "execute_result"
    }
   ],
   "source": [
    "b.value"
   ]
  },
  {
   "cell_type": "code",
   "execution_count": 35,
   "metadata": {},
   "outputs": [],
   "source": [
    "a = a.value\n",
    "b = b.value"
   ]
  },
  {
   "cell_type": "code",
   "execution_count": 36,
   "metadata": {},
   "outputs": [
    {
     "name": "stdout",
     "output_type": "stream",
     "text": [
      "-147.28785583657998\n",
      "155.99337290299803\n",
      "-182.0923286881247\n",
      "97.74553620405995\n"
     ]
    },
    {
     "data": {
      "text/plain": [
       "(0, 100)"
      ]
     },
     "execution_count": 36,
     "metadata": {},
     "output_type": "execute_result"
    },
    {
     "data": {
      "image/png": "[encoded data removed]",
      "text/plain": [
       "<Figure size 432x288 with 1 Axes>"
      ]
     },
     "metadata": {},
     "output_type": "display_data"
    }
   ],
   "source": [
    "plt.scatter(range(size), r)\n",
    "plt.scatter(range(size), r2, color='red', marker='x')\n",
    "\n",
    "d1_min = np.min([x.T[:,0],y.T[:,0]])\n",
    "d1_max = np.max([x.T[:,0],y.T[:,0]])\n",
    "\n",
    "d2_atD1min = (-a[1]*d1_min + b ) / a[0]\n",
    "d2_atD1max = (-a[1]*d1_max + b ) / a[0]\n",
    "\n",
    "print(d1_min)\n",
    "print(d1_max)\n",
    "print(d2_atD1min)\n",
    "print(d2_atD1max)\n",
    "plt.plot([d1_min,d1_max],[d2_atD1min,d2_atD1max],color='black')\n",
    "\n",
    "sup_up_atD1min = (-a[1]*d1_min + b + 1 ) / a[0]\n",
    "sup_up_atD1max = (-a[1]*d1_max + b + 1 ) / a[0]\n",
    "sup_dn_atD1min = (-a[1]*d1_min + b - 1 ) / a[0]\n",
    "sup_dn_atD1max = (-a[1]*d1_max + b - 1 ) / a[0]\n",
    "\n",
    "plt.plot([d1_min,d1_max],[sup_up_atD1min,sup_up_atD1max],'--',color='gray')\n",
    "plt.plot([d1_min,d1_max],[sup_dn_atD1min,sup_dn_atD1max],'--',color='gray')\n",
    "\n",
    "plt.xlim([0, 100])"
   ]
  },
  {
   "cell_type": "code",
   "execution_count": 37,
   "metadata": {},
   "outputs": [],
   "source": [
    "l = np.linspace(0, 2, 99)"
   ]
  },
  {
   "cell_type": "code",
   "execution_count": 38,
   "metadata": {},
   "outputs": [],
   "source": [
    "a = cvx.Variable(2)\n",
    "b = cvx.Variable()\n",
    "u = cvx.Variable(200)\n",
    "\n",
    "x_constraints = [a.T * y.T[i] - b + u[i]>=  1 for i in range(size)]\n",
    "y_constraints = [a.T * x.T[i] - b - u[i + 100]<= -1 for i in range(size)]\n",
    "u_constraints = [u[i] >= 0 for i in range(200)]\n",
    "\n",
    "constraints = x_constraints + y_constraints + u_constraints"
   ]
  },
  {
   "cell_type": "code",
   "execution_count": 39,
   "metadata": {},
   "outputs": [
    {
     "name": "stdout",
     "output_type": "stream",
     "text": [
      "98\r"
     ]
    }
   ],
   "source": [
    "term1 = []\n",
    "term2 = []\n",
    "\n",
    "for i, alpha in enumerate(l):\n",
    "    obj = cvx.Minimize(cvx.norm(a,2)/2 + alpha*np.ones(200)@u)\n",
    "    prob = cvx.Problem(obj, constraints)\n",
    "    prob.solve()\n",
    "    term1.append(0.5*la.norm(a.value))\n",
    "    term2.append(np.ones(200)@u.value)\n",
    "    print(i, end='\\r')"
   ]
  },
  {
   "cell_type": "code",
   "execution_count": 40,
   "metadata": {},
   "outputs": [
    {
     "data": {
      "text/plain": [
       "[<matplotlib.lines.Line2D at 0x1652d0c3160>]"
      ]
     },
     "execution_count": 40,
     "metadata": {},
     "output_type": "execute_result"
    },
    {
     "data": {
      "image/png": "[encoded data removed]",
      "text/plain": [
       "<Figure size 432x288 with 1 Axes>"
      ]
     },
     "metadata": {},
     "output_type": "display_data"
    }
   ],
   "source": [
    "term1 = np.array(term1)\n",
    "term2 = np.array(term2)\n",
    "plt.plot(term2, term1)"
   ]
  },
  {
   "cell_type": "markdown",
   "metadata": {},
   "source": [
    "## Dual\n",
    "---"
   ]
  },
  {
   "cell_type": "markdown",
   "metadata": {},
   "source": [
    "$$ \\min \\; \\frac{1}{2}a^ta+\\alpha1^tu$$\n",
    "\n",
    "$$ subject\\;to\\;D(Xa-b1)\\geq1-u$$\n",
    "\n",
    "$$ L(a,b,u,\\lambda,\\sigma)=\\frac{1}{2}a^ta+\\alpha1^tu-\\lambda^t(D(XA-b1)-1+u)-\\sigma^tu$$\n",
    "\n",
    "$$ L(a,b,u,\\lambda,\\sigma)=\\frac{1}{2}a^ta+\\alpha1^tu-\\lambda^tDXa+\\lambda^tDb1+\\lambda^tD1+\\lambda^tDu-\\sigma^tu $$\n",
    "\n",
    "$$ L(a,b,u,\\lambda,\\sigma)=\\frac{1}{2}a^ta -\\lambda^tDXa+\\lambda^tDb1+(\\alpha1^t-\\lambda^t-\\sigma^t)u+\\lambda^t1 $$\n",
    "\n",
    "$$\\nabla L_a=0$$\n",
    "$$a-X^tD\\lambda=0$$\n",
    "$$a=X^tD\\lambda$$\n",
    "\n",
    "$$\\therefore$$\n",
    "\n",
    "$$\\nabla L_b=0$$\n",
    "$$1^tD\\lambda=0$$\n",
    "$$\\nabla L_u=0$$\n",
    "$$\\alpha1^t-\\lambda^t-\\sigma^t=0$$\n",
    "$$\\lambda^t+\\sigma^t=\\alpha1^t$$\n",
    "\n",
    "However sigma is alpways $\\gt 0$\n",
    "\n",
    "$$\\lambda^t\\leq\\alpha1^t$$\n",
    "\n",
    "$$\\max\\;-\\frac{1}{2}\\lambda^tDXX^tD\\lambda$$\n",
    "$$1^tD\\lambda=0$$\n",
    "$$0\\leq\\lambda\\leq\\alpha1$$"
   ]
  },
  {
   "cell_type": "code",
   "execution_count": 41,
   "metadata": {},
   "outputs": [],
   "source": [
    "z = np.ones(200)\n",
    "z[100:] = -1*z[100:]\n",
    "D = np.diag(z)"
   ]
  },
  {
   "cell_type": "code",
   "execution_count": 42,
   "metadata": {},
   "outputs": [],
   "source": [
    "temp = np.ones([200,2])\n",
    "temp[:100] = x.T\n",
    "temp[100:] = y.T"
   ]
  },
  {
   "cell_type": "code",
   "execution_count": 43,
   "metadata": {},
   "outputs": [],
   "source": [
    "G = -(np.dot(D,temp)@np.dot(temp.T,D))-0.000000001*np.identity(200)"
   ]
  },
  {
   "cell_type": "code",
   "execution_count": 44,
   "metadata": {},
   "outputs": [
    {
     "name": "stdout",
     "output_type": "stream",
     "text": [
      "-----------------------------------------------------------------\n",
      "           OSQP v0.5.0  -  Operator Splitting QP Solver\n",
      "              (c) Bartolomeo Stellato,  Goran Banjac\n",
      "        University of Oxford  -  Stanford University 2018\n",
      "-----------------------------------------------------------------\n",
      "problem:  variables n = 200, constraints m = 401\n",
      "          nnz(P) + nnz(A) = 20700\n",
      "settings: linear system solver = qdldl,\n",
      "          eps_abs = 1.0e-04, eps_rel = 1.0e-04,\n",
      "          eps_prim_inf = 1.0e-04, eps_dual_inf = 1.0e-04,\n",
      "          rho = 1.00e-01 (adaptive),\n",
      "          sigma = 1.00e-06, alpha = 1.60, max_iter = 10000\n",
      "          check_termination: on (interval 25),\n",
      "          scaling: on, scaled_termination: off\n",
      "          warm start: on, polish: on\n",
      "\n",
      "objective    pri res    dua res    rho        time\n",
      "   1  -9.0986e-02   2.14e-03   1.92e+00   1.00e-01   6.84e-03s\n",
      " 200  -1.4048e+01   1.48e-02   1.68e-01   1.21e-03   1.34e-02s\n",
      " 400  -1.4051e+01   1.25e-02   3.23e-02   1.21e-03   3.60e-02s\n",
      " 600  -1.3919e+01   7.81e-03   2.51e-02   1.21e-03   4.86e-02s\n",
      " 800  -1.3855e+01   7.70e-03   9.69e-03   1.21e-03   6.14e-02s\n",
      "1000  -1.4021e+01   1.60e-02   7.54e-03   2.28e-04   1.57e-02s\n",
      "1200  -1.3824e+01   2.22e-02   9.25e-04   2.28e-04   3.39e-02s\n",
      "1400  -1.3940e+01   3.81e-03   2.42e-03   2.28e-04   5.17e-02s\n",
      "1600  -1.3936e+01   9.29e-03   2.57e-03   2.28e-04   6.59e-02s\n",
      "1800  -1.3845e+01   1.31e-02   1.12e-03   2.28e-04   7.88e-02s\n",
      "2000  -1.3947e+01   6.58e-03   1.92e-03   2.28e-04   9.14e-02s\n",
      "2200  -1.3926e+01   4.87e-03   2.87e-03   2.28e-04   1.03e-01s\n",
      "2400  -1.3850e+01   1.12e-02   1.08e-03   2.28e-04   1.14e-01s\n",
      "2600  -1.3950e+01   7.27e-03   1.81e-03   2.28e-04   1.28e-01s\n",
      "2800  -1.3919e+01   2.75e-03   2.90e-03   2.28e-04   1.39e-01s\n",
      "3000  -1.3854e+01   9.76e-03   1.15e-03   2.28e-04   1.52e-01s\n",
      "3200  -1.3985e+01   9.73e-03   5.04e-03   2.00e-04   1.33e-02s\n",
      "3400  -1.3892e+01   1.40e-02   1.30e-02   1.40e-03   1.75e-02s\n",
      "3600  -1.3916e+01   8.07e-04   2.04e-02   1.40e-03   2.92e-02s\n",
      "3800  -1.3929e+01   6.08e-04   1.71e-02   1.40e-03   4.14e-02s\n",
      "4000  -1.3871e+01   1.99e-03   2.92e-03   1.40e-03   5.43e-02s\n",
      "4200  -1.3921e+01   1.15e-03   1.88e-02   1.40e-03   7.05e-02s\n",
      "4400  -1.3932e+01   2.78e-03   1.49e-02   1.40e-03   8.32e-02s\n",
      "4600  -1.3868e+01   4.92e-03   1.77e-03   1.40e-03   9.55e-02s\n",
      "4800  -1.3924e+01   2.09e-03   1.48e-02   1.40e-03   1.08e-01s\n",
      "5000  -1.3994e+01   4.15e-03   5.22e-03   2.73e-04   9.39e-03s\n",
      "5200  -1.3874e+01   1.28e-02   7.65e-03   2.73e-04   2.12e-02s\n",
      "5400  -1.3976e+01   1.26e-02   2.15e-03   2.73e-04   3.28e-02s\n",
      "5600  -1.3864e+01   3.86e-03   2.35e-03   2.73e-04   4.49e-02s\n",
      "5800  -1.3890e+01   6.07e-03   4.48e-03   2.73e-04   5.68e-02s\n",
      "6000  -1.3970e+01   1.13e-02   2.26e-03   2.73e-04   6.91e-02s\n",
      "6200  -1.3858e+01   7.21e-03   2.22e-03   2.73e-04   8.18e-02s\n",
      "6400  -1.3898e+01   3.02e-03   4.30e-03   2.73e-04   9.34e-02s\n",
      "6600  -1.3966e+01   1.05e-02   2.07e-03   2.73e-04   1.05e-01s\n",
      "6800  -1.3680e+01   6.03e-02   6.17e-03   2.04e-04   1.34e-02s\n",
      "7000  -1.3941e+01   8.69e-03   4.42e-03   2.04e-04   2.56e-02s\n",
      "7200  -1.3833e+01   2.52e-02   2.85e-03   2.04e-04   3.76e-02s\n",
      "7400  -1.3922e+01   1.22e-02   2.31e-03   2.04e-04   4.97e-02s\n",
      "7600  -1.3960e+01   8.22e-03   1.70e-03   2.04e-04   6.22e-02s\n",
      "7800  -1.3846e+01   1.54e-02   2.27e-03   2.04e-04   8.14e-02s\n",
      "8000  -1.3918e+01   6.19e-03   2.49e-03   2.04e-04   9.49e-02s\n",
      "8200  -1.3955e+01   7.48e-03   1.43e-03   2.04e-04   1.08e-01s\n",
      "8400  -1.3851e+01   1.18e-02   1.54e-03   2.04e-04   1.21e-01s\n",
      "8600  -1.3919e+01   3.92e-03   2.64e-03   2.04e-04   1.33e-01s\n",
      "8800  -1.3951e+01   7.04e-03   1.41e-03   2.04e-04   1.44e-01s\n",
      "9000  -1.3853e+01   1.02e-02   1.08e-03   2.04e-04   1.56e-01s\n",
      "9200  -1.3921e+01   3.25e-03   2.59e-03   2.04e-04   1.68e-01s\n",
      "9400  -1.3947e+01   6.51e-03   1.71e-03   2.04e-04   1.81e-01s\n",
      "9600  -1.3854e+01   9.54e-03   7.41e-04   2.04e-04   1.93e-01s\n",
      "9800  -1.3924e+01   3.29e-03   2.48e-03   2.04e-04   2.06e-01s\n",
      "10000  -1.3995e+01   1.26e-03   2.94e-03   2.07e-04   9.48e-03s\n",
      "\n",
      "status:               solved inaccurate\n",
      "number of iterations: 10000\n",
      "optimal objective:    -13.9954\n",
      "run time:             9.87e-03s\n",
      "optimal rho estimate: 3.07e-04\n",
      "\n"
     ]
    },
    {
     "data": {
      "text/plain": [
       "13.995354502866832"
      ]
     },
     "execution_count": 44,
     "metadata": {},
     "output_type": "execute_result"
    }
   ],
   "source": [
    "x = cvx.Variable(200)\n",
    "temp2 = np.ones(200).T@D\n",
    "I = np.identity(200)\n",
    "\n",
    "constraints_1 = [temp2*x == 0]\n",
    "constraints_2 = [I*x <= 0.5]\n",
    "constraints_3 = [I*x >= 0]\n",
    "\n",
    "constraints = constraints_1 + constraints_2 + constraints_3\n",
    "\n",
    "obj = cvx.Maximize(cvx.quad_form(x,G)+np.ones([1,200])*x)\n",
    "prob = cvx.Problem(obj,constraints)\n",
    "prob.is_qp()\n",
    "prob.solve(verbose = True)"
   ]
  },
  {
   "cell_type": "markdown",
   "metadata": {},
   "source": [
    "There is a nonzero duality gap. The solution of the dual problem here acts as a lower bound to the primal problem $g^*\\leq f^*$"
   ]
  }
 ],
 "metadata": {
  "kernelspec": {
   "display_name": "Python 3",
   "language": "python",
   "name": "python3"
  },
  "language_info": {
   "codemirror_mode": {
    "name": "ipython",
    "version": 3
   },
   "file_extension": ".py",
   "mimetype": "text/x-python",
   "name": "python",
   "nbconvert_exporter": "python",
   "pygments_lexer": "ipython3",
   "version": "3.6.5"
  }
 },
 "nbformat": 4,
 "nbformat_minor": 2
}
