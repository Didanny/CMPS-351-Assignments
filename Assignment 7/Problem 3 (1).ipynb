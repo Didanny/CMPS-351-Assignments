{
 "cells": [
  {
   "cell_type": "code",
   "execution_count": 1,
   "metadata": {},
   "outputs": [],
   "source": [
    "import matplotlib\n",
    "import numpy as np\n",
    "import matplotlib.pyplot as plt\n",
    "from numpy import linalg as la\n",
    "from scipy.optimize import linprog\n",
    "import cvxpy as cvx"
   ]
  },
  {
   "cell_type": "code",
   "execution_count": 2,
   "metadata": {},
   "outputs": [
    {
     "data": {
      "image/png": "[encoded data removed]",
      "text/plain": [
       "<Figure size 432x288 with 2 Axes>"
      ]
     },
     "metadata": {
      "needs_background": "light"
     },
     "output_type": "display_data"
    }
   ],
   "source": [
    "# This template generates synthetic data (missing pixels) to use\n",
    "# in testing the solution of Problem 3 in Assignment 6.\n",
    "# Unknown pixels are defined by the array called \"unknown\".\n",
    "# Obscured image is in the array U1.\n",
    "\n",
    "#import numpy as np\n",
    "#import matplotlib\n",
    "#matplotlib.use(\"TkAgg\")     # for macOS\n",
    "\n",
    "# Read a sample image\n",
    "U0 = plt.imread('bwicon.png')\n",
    "m, n = U0.shape\n",
    "\n",
    "# Create 50% mask of known pixels and use it to obscure the original\n",
    "np.random.seed(7592)                 # seed the randonm number generator (for repeatability)\n",
    "unknown = np.random.rand(m,n) < 0.5\n",
    "U1 = U0*(1-unknown) + 0.5 *unknown\n",
    "\n",
    "\n",
    "\n",
    "# Display images\n",
    "plt.figure(1)\n",
    "plt.subplot(1, 2, 1)\n",
    "plt.imshow(U0, cmap='gray')\n",
    "plt.title('Original image')\n",
    "plt.subplot(1, 2, 2)\n",
    "plt.imshow(U1, cmap='gray')\n",
    "plt.title('Obscured image')\n",
    "plt.show()"
   ]
  },
  {
   "cell_type": "code",
   "execution_count": 3,
   "metadata": {},
   "outputs": [
    {
     "name": "stdout",
     "output_type": "stream",
     "text": [
      "51 59\n"
     ]
    }
   ],
   "source": [
    "ux, uy = U1.shape\n",
    "print(ux, uy)\n",
    "#U1 = U1.flatten()\n",
    "#print(ux)"
   ]
  },
  {
   "cell_type": "code",
   "execution_count": 4,
   "metadata": {},
   "outputs": [],
   "source": [
    "def func(u):\n",
    "    sums = 0\n",
    "    for i in range(1,ux):\n",
    "        for j in range(1,uy):\n",
    "            sums += abs(u[i][j]-u[i-1][j]) + abs((u[i][j]-u[i][j-1]))\n",
    "    return sums"
   ]
  },
  {
   "cell_type": "code",
   "execution_count": 5,
   "metadata": {},
   "outputs": [
    {
     "name": "stdout",
     "output_type": "stream",
     "text": [
      "1614.5\n"
     ]
    }
   ],
   "source": [
    "print(func(U1))"
   ]
  },
  {
   "cell_type": "code",
   "execution_count": 6,
   "metadata": {},
   "outputs": [
    {
     "data": {
      "text/plain": [
       "844.5"
      ]
     },
     "execution_count": 6,
     "metadata": {},
     "output_type": "execute_result"
    }
   ],
   "source": [
    "np.sum(abs(U1[1:,1:]-U1[0:-1,1:]))\n",
    "#np.sum(abs(U1[1:,1:]-U1[1:,:-1]))"
   ]
  },
  {
   "cell_type": "code",
   "execution_count": 7,
   "metadata": {},
   "outputs": [],
   "source": [
    "#np.sum(abs(U1[1:,1:]-U1[1:,:-1]))\n",
    "B = np.zeros([ux*uy,ux*uy])\n",
    "for i in range(uy,(ux)*(uy)):\n",
    "    if i%uy !=0:\n",
    "        B[i][i] = 1\n",
    "        B[i][i-1] = -1 "
   ]
  },
  {
   "cell_type": "code",
   "execution_count": 8,
   "metadata": {},
   "outputs": [],
   "source": [
    "#np.sum(abs(U1[1:,1:]-U1[0:-1,1:]))\n",
    "C = np.zeros([ux*uy,ux*uy])\n",
    "for i in range(uy,(ux)*(uy)):\n",
    "    if i%uy !=0:\n",
    "        C[i][i] = 1\n",
    "        C[i][i-uy] = -1 "
   ]
  },
  {
   "cell_type": "code",
   "execution_count": 9,
   "metadata": {},
   "outputs": [
    {
     "name": "stdout",
     "output_type": "stream",
     "text": [
      "770.0\n"
     ]
    }
   ],
   "source": [
    "x = U1.flatten()\n",
    "print(np.sum(abs((B@x))))"
   ]
  },
  {
   "cell_type": "code",
   "execution_count": 10,
   "metadata": {},
   "outputs": [],
   "source": [
    "##A_ub\n",
    "B_ub = np.zeros(4*ux*uy)\n",
    "A_ub = np.zeros([4*ux*uy,3*ux*uy])\n",
    "\n",
    "A_ub[0:ux*uy,0:ux*uy] = B\n",
    "A_ub[ux*uy:2*ux*uy,0:ux*uy] = -B\n",
    "A_ub[0:ux*uy,ux*uy:2*ux*uy] = -np.identity(ux*uy)\n",
    "A_ub[ux*uy:2*ux*uy,ux*uy:2*ux*uy] = -np.identity(ux*uy)\n",
    "\n",
    "A_ub[2*ux*uy:3*ux*uy,0:ux*uy] = C\n",
    "A_ub[3*ux*uy:4*ux*uy,0:ux*uy] = -C\n",
    "A_ub[2*ux*uy:3*ux*uy,2*ux*uy:3*ux*uy] = -np.identity(ux*uy)\n",
    "A_ub[3*ux*uy:4*ux*uy,2*ux*uy:3*ux*uy] = -np.identity(ux*uy)"
   ]
  },
  {
   "cell_type": "code",
   "execution_count": 11,
   "metadata": {},
   "outputs": [],
   "source": [
    "A_eq = np.zeros([ux*uy,3*ux*uy])\n",
    "B_eq = np.zeros([ux*uy])\n",
    "unknown2 = unknown.flatten()\n",
    "x = U1.flatten()\n",
    "for i in range(ux*uy):\n",
    "    if not unknown2[i]:\n",
    "        A_eq[i][i] = 1\n",
    "        B_eq[i] = x[i]"
   ]
  },
  {
   "cell_type": "code",
   "execution_count": 12,
   "metadata": {},
   "outputs": [],
   "source": [
    "##obj\n",
    "obj = np.zeros(3*ux*uy)\n",
    "obj[ux*uy:] = np.ones(2*ux*uy)"
   ]
  },
  {
   "cell_type": "code",
   "execution_count": 14,
   "metadata": {},
   "outputs": [
    {
     "name": "stdout",
     "output_type": "stream",
     "text": [
      "Primal Feasibility  Dual Feasibility    Duality Gap         Step             Path Parameter      Objective          \n",
      "1.0                 1.0                 1.0                 -                1.0                 6018.0              \n",
      "0.6375661631591     0.6375661631591     0.6375661631591     0.3758205487603  0.6375661631591     3425.658411165      \n",
      "0.2727436078755     0.2727436078755     0.2727436078755     0.5836467223876  0.2727436078755     1629.29439874       \n",
      "0.1054429048606     0.1054429048606     0.1054429048606     0.6312325037131  0.1054429048606     994.0502499014      \n",
      "0.01791546604316    0.01791546604317    0.01791546604317    0.8391015706486  0.01791546604317    710.1659140639      \n",
      "3.634504843227e-05  3.634504843231e-05  3.634504843226e-05  0.9997322587388  3.634504843236e-05  656.117741571       \n",
      "1.818497659929e-09  1.818497680763e-09  1.818497711278e-09  0.9999499658404  1.818497699082e-09  656.0000058909      \n",
      "Optimization terminated successfully.\n"
     ]
    }
   ],
   "source": [
    "res = linprog(obj, A_eq = A_eq, b_eq = B_eq , A_ub=A_ub, b_ub = B_ub, options={\"disp\": True},method='interior-point')"
   ]
  },
  {
   "cell_type": "code",
   "execution_count": 16,
   "metadata": {},
   "outputs": [
    {
     "name": "stdout",
     "output_type": "stream",
     "text": [
      "     con: array([0., 0., 0., ..., 0., 0., 0.])\n",
      "     fun: 656.0000058908898\n",
      " message: 'Optimization terminated successfully.'\n",
      "     nit: 6\n",
      "   slack: array([5.74883491e-10, 5.74883491e-10, 5.74883491e-10, ...,\n",
      "       1.21679381e-09, 1.19136634e-09, 1.11164683e-09])\n",
      "  status: 0\n",
      " success: True\n",
      "       x: array([4.74686056e-01, 1.00000000e+00, 1.00000000e+00, ...,\n",
      "       1.14668589e-09, 1.14231159e-09, 1.13962290e-09])\n"
     ]
    }
   ],
   "source": [
    "print(res)"
   ]
  },
  {
   "cell_type": "code",
   "execution_count": 18,
   "metadata": {},
   "outputs": [],
   "source": [
    "x = res.x[:ux*uy]\n",
    "x = x.reshape([ux,uy])"
   ]
  },
  {
   "cell_type": "code",
   "execution_count": 20,
   "metadata": {},
   "outputs": [
    {
     "data": {
      "text/plain": [
       "<matplotlib.image.AxesImage at 0x2aedac45208>"
      ]
     },
     "execution_count": 20,
     "metadata": {},
     "output_type": "execute_result"
    },
    {
     "data": {
      "image/png": "[encoded data removed]",
      "text/plain": [
       "<Figure size 432x288 with 1 Axes>"
      ]
     },
     "metadata": {
      "needs_background": "light"
     },
     "output_type": "display_data"
    }
   ],
   "source": [
    "plt.imshow(x, cmap='gray')"
   ]
  }
 ],
 "metadata": {
  "kernelspec": {
   "display_name": "Python 3",
   "language": "python",
   "name": "python3"
  },
  "language_info": {
   "codemirror_mode": {
    "name": "ipython",
    "version": 3
   },
   "file_extension": ".py",
   "mimetype": "text/x-python",
   "name": "python",
   "nbconvert_exporter": "python",
   "pygments_lexer": "ipython3",
   "version": "3.6.5"
  }
 },
 "nbformat": 4,
 "nbformat_minor": 2
}
