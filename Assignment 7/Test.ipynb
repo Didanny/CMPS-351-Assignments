{
 "cells": [
  {
   "cell_type": "code",
   "execution_count": 1,
   "metadata": {},
   "outputs": [],
   "source": [
    "# make sure you've got the following packages installed\n",
    "import numpy as np\n",
    "import matplotlib as mpl\n",
    "import matplotlib.pyplot as plt\n",
    "import scipy.optimize as spopt\n",
    "import scipy.fftpack as spfft\n",
    "import scipy.ndimage as spimg\n",
    "import cvxpy as cvx"
   ]
  },
  {
   "cell_type": "code",
   "execution_count": 2,
   "metadata": {},
   "outputs": [],
   "source": [
    "# generate some data with noise\n",
    "x = np.sort(np.random.uniform(0, 10, 15))\n",
    "y = 3 + 0.2 * x + 0.1 * np.random.randn(len(x))"
   ]
  },
  {
   "cell_type": "code",
   "execution_count": 3,
   "metadata": {},
   "outputs": [
    {
     "name": "stdout",
     "output_type": "stream",
     "text": [
      "Optimization terminated successfully.\n",
      "         Current function value: 1.095024\n",
      "         Iterations: 63\n",
      "         Function evaluations: 121\n",
      "Optimization terminated successfully.\n",
      "         Current function value: 0.143135\n",
      "         Iterations: 46\n",
      "         Function evaluations: 88\n"
     ]
    }
   ],
   "source": [
    "# find L1 line fit\n",
    "l1_fit = lambda x0, x, y: np.sum(np.abs(x0[0] * x + x0[1] - y))\n",
    "xopt1 = spopt.fmin(func=l1_fit, x0=[1, 1], args=(x, y))\n",
    "\n",
    "# find L2 line fit\n",
    "l2_fit = lambda x0, x, y: np.sum(np.power(x0[0] * x + x0[1] - y, 2))\n",
    "xopt2 = spopt.fmin(func=l2_fit, x0=[1, 1], args=(x, y))"
   ]
  },
  {
   "cell_type": "code",
   "execution_count": 4,
   "metadata": {},
   "outputs": [
    {
     "name": "stdout",
     "output_type": "stream",
     "text": [
      "Optimization terminated successfully.\n",
      "         Current function value: 7.830157\n",
      "         Iterations: 66\n",
      "         Function evaluations: 126\n",
      "Optimization terminated successfully.\n",
      "         Current function value: 20.066564\n",
      "         Iterations: 50\n",
      "         Function evaluations: 97\n"
     ]
    }
   ],
   "source": [
    "# adjust data by adding outlyers\n",
    "y2 = y.copy()\n",
    "y2[3] += 4\n",
    "y2[13] -= 3\n",
    "\n",
    "# refit the lines\n",
    "xopt12 = spopt.fmin(func=l1_fit, x0=[1, 1], args=(x, y2))\n",
    "xopt22 = spopt.fmin(func=l2_fit, x0=[1, 1], args=(x, y2))"
   ]
  },
  {
   "cell_type": "code",
   "execution_count": 5,
   "metadata": {},
   "outputs": [],
   "source": [
    "# sum of two sinusoids\n",
    "n = 5000\n",
    "t = np.linspace(0, 1/8, n)\n",
    "y = np.sin(1394 * np.pi * t) + np.sin(3266 * np.pi * t)\n",
    "yt = spfft.dct(y, norm='ortho')"
   ]
  },
  {
   "cell_type": "code",
   "execution_count": 6,
   "metadata": {},
   "outputs": [],
   "source": [
    "# extract small sample of signal\n",
    "m = 500 # 10% sample\n",
    "ri = np.random.choice(n, m, replace=False) # random sample of indices\n",
    "ri.sort() # sorting not strictly necessary, but convenient for plotting\n",
    "t2 = t[ri]\n",
    "y2 = y[ri]"
   ]
  },
  {
   "cell_type": "code",
   "execution_count": 29,
   "metadata": {},
   "outputs": [
    {
     "name": "stderr",
     "output_type": "stream",
     "text": [
      "C:\\Users\\Danny\\Anaconda3\\lib\\site-packages\\cvxpy\\problems\\problem.py:781: RuntimeWarning: overflow encountered in long_scalars\n",
      "  if self.max_big_small_squared < big*small**2:\n",
      "C:\\Users\\Danny\\Anaconda3\\lib\\site-packages\\cvxpy\\problems\\problem.py:782: RuntimeWarning: overflow encountered in long_scalars\n",
      "  self.max_big_small_squared = big*small**2\n"
     ]
    },
    {
     "name": "stdout",
     "output_type": "stream",
     "text": [
      "\n",
      "ECOS 2.0.4 - (C) embotech GmbH, Zurich Switzerland, 2012-15. Web: www.embotech.com/ECOS\n",
      "\n",
      "It     pcost       dcost      gap   pres   dres    k/t    mu     step   sigma     IR    |   BT\n",
      " 0  +0.000e+00  -0.000e+00  +3e+03  1e-01  3e-06  1e+00  1e+03    ---    ---    1  1  - |  -  - \n",
      " 1  +1.903e-01  +3.296e-01  +5e+01  2e-03  5e-08  2e-01  2e+01  0.9826  1e-04   3  2  2 |  0  0\n",
      " 2  +1.443e+01  +1.502e+01  +7e+00  3e-04  6e-09  6e-01  4e+00  0.8767  3e-02   4  5  5 |  0  0\n",
      " 3  +2.160e+01  +2.162e+01  +2e-01  7e-06  7e-11  3e-02  1e-01  0.9890  2e-03   4  5  5 |  0  0\n",
      " 4  +2.181e+01  +2.181e+01  +2e-03  2e-07  1e-12  3e-04  1e-03  0.9890  1e-04   4  4  4 |  0  0\n",
      " 5  +2.181e+01  +2.181e+01  +2e-05  3e-09  2e-14  3e-06  1e-05  0.9890  1e-04   4  3  3 |  0  0\n",
      " 6  +2.181e+01  +2.181e+01  +2e-07  6e-11  3e-16  4e-08  1e-07  0.9890  1e-04   4  3  3 |  0  0\n",
      " 7  +2.181e+01  +2.181e+01  +3e-09  2e-12  2e-17  4e-10  2e-09  0.9890  1e-04   4  2  2 |  0  0\n",
      "\n",
      "OPTIMAL (within feastol=1.9e-12, reltol=1.3e-10, abstol=2.7e-09).\n",
      "Runtime: 21.601506 seconds.\n",
      "\n"
     ]
    }
   ],
   "source": [
    "# create idct matrix operator\n",
    "A = spfft.idct(np.identity(n), norm='ortho', axis=0)\n",
    "A = A[ri]\n",
    "\n",
    "# do L1 optimization\n",
    "vx = cvx.Variable(n)\n",
    "objective = cvx.Minimize(cvx.norm(vx, 2))\n",
    "constraints = [A*vx == y2]\n",
    "prob = cvx.Problem(objective, constraints)\n",
    "result = prob.solve(verbose=True)"
   ]
  },
  {
   "cell_type": "code",
   "execution_count": 30,
   "metadata": {},
   "outputs": [],
   "source": [
    "# reconstruct signal\n",
    "x = np.array(vx.value)\n",
    "x = np.squeeze(x)\n",
    "sig = spfft.idct(x, norm='ortho', axis=0)"
   ]
  },
  {
   "cell_type": "code",
   "execution_count": 31,
   "metadata": {},
   "outputs": [
    {
     "data": {
      "text/plain": [
       "(0, 0.025)"
      ]
     },
     "execution_count": 31,
     "metadata": {},
     "output_type": "execute_result"
    },
    {
     "data": {
      "image/png": "[encoded data removed]",
      "text/plain": [
       "<Figure size 432x288 with 1 Axes>"
      ]
     },
     "metadata": {},
     "output_type": "display_data"
    }
   ],
   "source": [
    "plt.plot(t,sig)\n",
    "plt.xlim((0,0.025))"
   ]
  },
  {
   "cell_type": "code",
   "execution_count": null,
   "metadata": {},
   "outputs": [],
   "source": []
  }
 ],
 "metadata": {
  "kernelspec": {
   "display_name": "Python 3",
   "language": "python",
   "name": "python3"
  },
  "language_info": {
   "codemirror_mode": {
    "name": "ipython",
    "version": 3
   },
   "file_extension": ".py",
   "mimetype": "text/x-python",
   "name": "python",
   "nbconvert_exporter": "python",
   "pygments_lexer": "ipython3",
   "version": "3.6.5"
  }
 },
 "nbformat": 4,
 "nbformat_minor": 2
}
