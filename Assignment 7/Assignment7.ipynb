{
 "cells": [
  {
   "cell_type": "markdown",
   "metadata": {},
   "source": [
    "Danny Abraham\n",
    "<center><h1>CMPS 351</h1></center>\n",
    "<center><h2>Assignment 7</h2></center>"
   ]
  },
  {
   "cell_type": "code",
   "execution_count": 4,
   "metadata": {},
   "outputs": [],
   "source": [
    "import numpy as np\n",
    "from numpy import linalg as la\n",
    "from scipy.optimize import linprog as lp\n",
    "import matplotlib.pyplot as plt\n",
    "import scipy.fftpack\n",
    "import cvxpy as cvx\n",
    "import random\n"
   ]
  },
  {
   "cell_type": "markdown",
   "metadata": {},
   "source": [
    "## LP Solution\n",
    "---"
   ]
  },
  {
   "cell_type": "markdown",
   "metadata": {},
   "source": [
    "#### Lagrangian\n",
    "\n",
    "<img src='1_lagrangian.png'>\n",
    "\n",
    "#### Primal Problem\n",
    "\n",
    "<img src='1_primal.png'>\n",
    "\n",
    "#### Primal Problem Matrix Notation\n",
    "\n",
    "<img src='1_primal2.png'>\n",
    "\n",
    "#### Dual Problem\n",
    "\n",
    "<img src='1_dual.png'>"
   ]
  },
  {
   "cell_type": "markdown",
   "metadata": {},
   "source": [
    "#### KKT Conditions"
   ]
  },
  {
   "cell_type": "code",
   "execution_count": 120,
   "metadata": {},
   "outputs": [],
   "source": [
    "def kkt(x, l):\n",
    "    kkt = []\n",
    "    kkt.append(-x[0] <= -2)\n",
    "    kkt.append(-x[0] - 2*x[1] <= -5)\n",
    "    kkt.append(-2*x[0] -5*x[1] <= -8)\n",
    "    kkt.append((l >= 0).all())\n",
    "    kkt.append(l[0]*(-x[0] + 2) == 0)\n",
    "    kkt.append(l[1]*(-x[0] - 2*x[1] + 5) == 0)\n",
    "    kkt.append(l[2]*(-2*x[0] -5*x[1] + 8) == 0)\n",
    "    return kkt"
   ]
  },
  {
   "cell_type": "code",
   "execution_count": 124,
   "metadata": {},
   "outputs": [
    {
     "data": {
      "text/plain": [
       "[True, True, True, True, True, True, True]"
      ]
     },
     "execution_count": 124,
     "metadata": {},
     "output_type": "execute_result"
    }
   ],
   "source": [
    "x = np.array([2, 1.5])\n",
    "l = np.array([1, 4, 0])\n",
    "kkt(x, l)"
   ]
  },
  {
   "cell_type": "code",
   "execution_count": 129,
   "metadata": {},
   "outputs": [
    {
     "name": "stdout",
     "output_type": "stream",
     "text": [
      "0.0\n"
     ]
    }
   ],
   "source": [
    "p = np.array([5, 8])\n",
    "b = np.array([-2, -5, -8])\n",
    "\n",
    "duality_gap = p@x + b@l\n",
    "print(duality_gap)"
   ]
  },
  {
   "cell_type": "markdown",
   "metadata": {},
   "source": [
    "The duality gap is equal to zero, both problems have the same optimal value"
   ]
  },
  {
   "cell_type": "markdown",
   "metadata": {},
   "source": [
    "#### Perturbation\n",
    "\n",
    "Considering a perturbation of the right hand side of the first constraint to -1.9. We are given l\\[0\\] as 1. Therefor we expect a change of +0.1 in the constraint to cause a change of -0.1 in the optimal value which will be 21.9 \n",
    "\n",
    "Considering a perturbation of the right hand side of the third constraint to -8.1. We are given l\\[1\\] as 0. Therefor we expect a change of +0.1 in the constraint to cause a no change in the optimal value which will still be 22.0 "
   ]
  },
  {
   "cell_type": "markdown",
   "metadata": {},
   "source": [
    "## Contact Problem in 1D\n",
    "---"
   ]
  },
  {
   "cell_type": "code",
   "execution_count": 7,
   "metadata": {},
   "outputs": [],
   "source": [
    "k = np.array([1, 10, 2])\n",
    "l = 1\n",
    "w = 0.2"
   ]
  },
  {
   "cell_type": "code",
   "execution_count": 8,
   "metadata": {},
   "outputs": [],
   "source": [
    "def f_obj(x):\n",
    "    return 0.5*k[0]*(x[0]**2) + 0.5*k[1]*((x[1] - x[0])**2) + 0.5*k[2]*((l - x[1])**2)"
   ]
  },
  {
   "cell_type": "code",
   "execution_count": 9,
   "metadata": {},
   "outputs": [],
   "source": [
    "x = cvx.Variable(2)"
   ]
  },
  {
   "cell_type": "code",
   "execution_count": 10,
   "metadata": {},
   "outputs": [],
   "source": [
    "def constraints_(x):\n",
    "    c = []\n",
    "    c.append(x[0] >= 0.5*w)\n",
    "    c.append(x[1] - x[0] >= w)\n",
    "    c.append(l - x[1] >= 0.5*w)\n",
    "    return c"
   ]
  },
  {
   "cell_type": "code",
   "execution_count": 11,
   "metadata": {},
   "outputs": [
    {
     "data": {
      "text/plain": [
       "0.4133333333333331"
      ]
     },
     "execution_count": 11,
     "metadata": {},
     "output_type": "execute_result"
    }
   ],
   "source": [
    "constraints = constraints_(x)\n",
    "obj = cvx.Minimize(f_obj(x))\n",
    "prob = cvx.Problem(obj, constraints)\n",
    "prob.solve()"
   ]
  },
  {
   "cell_type": "code",
   "execution_count": 12,
   "metadata": {},
   "outputs": [
    {
     "data": {
      "text/plain": [
       "array([0.53333333, 0.73333333])"
      ]
     },
     "execution_count": 12,
     "metadata": {},
     "output_type": "execute_result"
    }
   ],
   "source": [
    "x.value"
   ]
  },
  {
   "cell_type": "code",
   "execution_count": 13,
   "metadata": {},
   "outputs": [
    {
     "name": "stdout",
     "output_type": "stream",
     "text": [
      "0.0\n",
      "1.4666666666666655\n",
      "0.0\n"
     ]
    }
   ],
   "source": [
    "for c in constraints:\n",
    "    print(c.dual_value)"
   ]
  },
  {
   "cell_type": "markdown",
   "metadata": {},
   "source": [
    "These multipliers represent the sesitivity of the objective function to a change in the width of the blocks"
   ]
  },
  {
   "cell_type": "code",
   "execution_count": 14,
   "metadata": {},
   "outputs": [],
   "source": [
    "c = np.array([2, 4])"
   ]
  },
  {
   "cell_type": "code",
   "execution_count": 15,
   "metadata": {},
   "outputs": [],
   "source": [
    "def f_obj_deform(x, w_):\n",
    "    return 0.5*k[0]*(x[0]**2) + 0.5*k[1]*((x[1] - x[0])**2) + 0.5*k[2]*((l - x[1])**2) \\\n",
    "            + (1/2*c[0])*((w_[0] + w_[1] - w)**2) \\\n",
    "            + (1/2*c[1])*((w_[2] + w_[3] - w)**2)"
   ]
  },
  {
   "cell_type": "code",
   "execution_count": 16,
   "metadata": {},
   "outputs": [],
   "source": [
    "x = cvx.Variable(2)\n",
    "w_ = cvx.Variable(4)"
   ]
  },
  {
   "cell_type": "code",
   "execution_count": 17,
   "metadata": {},
   "outputs": [],
   "source": [
    "def constraints_(x, w_):\n",
    "    c = []\n",
    "    c.append(x[0] >= w_[0])\n",
    "    c.append(x[1] - x[0] >= w_[1] + w_[2])\n",
    "    c.append(l - x[1] >= w_[3])\n",
    "    c.append(w_[0] <= 0.1)\n",
    "    c.append(w_[1] <= 0.1)\n",
    "    c.append(w_[2] <= 0.1)\n",
    "    c.append(w_[3] <= 0.1)\n",
    "    c.append(w_[0] >= 0)\n",
    "    c.append(w_[1] >= 0)\n",
    "    c.append(w_[2] >= 0)\n",
    "    c.append(w_[3] >= 0)\n",
    "    return c"
   ]
  },
  {
   "cell_type": "code",
   "execution_count": 18,
   "metadata": {},
   "outputs": [
    {
     "data": {
      "text/plain": [
       "0.32370370370370366"
      ]
     },
     "execution_count": 18,
     "metadata": {},
     "output_type": "execute_result"
    }
   ],
   "source": [
    "constraints = constraints_(x, w_)\n",
    "obj = cvx.Minimize(f_obj_deform(x, w_))\n",
    "prob = cvx.Problem(obj, constraints)\n",
    "prob.solve()"
   ]
  },
  {
   "cell_type": "code",
   "execution_count": 19,
   "metadata": {},
   "outputs": [
    {
     "data": {
      "text/plain": [
       "array([0.61481481, 0.69259259])"
      ]
     },
     "execution_count": 19,
     "metadata": {},
     "output_type": "execute_result"
    }
   ],
   "source": [
    "x.value"
   ]
  },
  {
   "cell_type": "code",
   "execution_count": 20,
   "metadata": {},
   "outputs": [
    {
     "data": {
      "text/plain": [
       "array([0.1       , 0.01851852, 0.05925926, 0.1       ])"
      ]
     },
     "execution_count": 20,
     "metadata": {},
     "output_type": "execute_result"
    }
   ],
   "source": [
    "w_.value"
   ]
  },
  {
   "cell_type": "code",
   "execution_count": 21,
   "metadata": {},
   "outputs": [
    {
     "name": "stdout",
     "output_type": "stream",
     "text": [
      "0.0\n",
      "0.1629629629629629\n",
      "0.0\n",
      "0.1629629629629629\n",
      "0.0\n",
      "0.0\n",
      "0.1629629629629629\n",
      "0.0\n",
      "0.0\n",
      "0.0\n",
      "0.0\n"
     ]
    }
   ],
   "source": [
    "for c in constraints:\n",
    "    print(c.dual_value)"
   ]
  },
  {
   "cell_type": "markdown",
   "metadata": {},
   "source": [
    "## Image Reconstruction Revisited\n",
    "---"
   ]
  },
  {
   "cell_type": "code",
   "execution_count": 1,
   "metadata": {},
   "outputs": [
    {
     "ename": "NameError",
     "evalue": "name 'plt' is not defined",
     "output_type": "error",
     "traceback": [
      "\u001b[1;31m---------------------------------------------------------------------------\u001b[0m",
      "\u001b[1;31mNameError\u001b[0m                                 Traceback (most recent call last)",
      "\u001b[1;32m<ipython-input-1-21a1ef496caf>\u001b[0m in \u001b[0;36m<module>\u001b[1;34m()\u001b[0m\n\u001b[0;32m      1\u001b[0m \u001b[1;31m# Read a sample image\u001b[0m\u001b[1;33m\u001b[0m\u001b[1;33m\u001b[0m\u001b[0m\n\u001b[1;32m----> 2\u001b[1;33m \u001b[0mU0\u001b[0m \u001b[1;33m=\u001b[0m \u001b[0mplt\u001b[0m\u001b[1;33m.\u001b[0m\u001b[0mimread\u001b[0m\u001b[1;33m(\u001b[0m\u001b[1;34m'bwicon.png'\u001b[0m\u001b[1;33m)\u001b[0m\u001b[1;33m\u001b[0m\u001b[0m\n\u001b[0m\u001b[0;32m      3\u001b[0m \u001b[0mm\u001b[0m\u001b[1;33m,\u001b[0m \u001b[0mn\u001b[0m \u001b[1;33m=\u001b[0m \u001b[0mU0\u001b[0m\u001b[1;33m.\u001b[0m\u001b[0mshape\u001b[0m\u001b[1;33m\u001b[0m\u001b[0m\n\u001b[0;32m      4\u001b[0m \u001b[1;33m\u001b[0m\u001b[0m\n\u001b[0;32m      5\u001b[0m \u001b[1;31m# Create 50% mask of known pixels and use it to obscure the original\u001b[0m\u001b[1;33m\u001b[0m\u001b[1;33m\u001b[0m\u001b[0m\n",
      "\u001b[1;31mNameError\u001b[0m: name 'plt' is not defined"
     ]
    }
   ],
   "source": [
    "# Read a sample image\n",
    "U0 = plt.imread('bwicon.png')\n",
    "m, n = U0.shape\n",
    "\n",
    "# Create 50% mask of known pixels and use it to obscure the original\n",
    "np.random.seed(7592)                 # seed the randonm number generator (for repeatability)\n",
    "unknown = np.random.rand(m,n) < 0.5\n",
    "U1 = U0*(1-unknown) + 0.5 *unknown\n",
    "\n",
    "\n",
    "\n",
    "# Display images\n",
    "plt.figure(1)\n",
    "plt.subplot(1, 2, 1)\n",
    "plt.imshow(U0, cmap='gray')\n",
    "plt.title('Original image')\n",
    "plt.subplot(1, 2, 2)\n",
    "plt.imshow(U1, cmap='gray')\n",
    "plt.title('Obscured image')\n",
    "plt.show()"
   ]
  },
  {
   "cell_type": "code",
   "execution_count": 3,
   "metadata": {},
   "outputs": [],
   "source": [
    "ux, uy = U1.shape"
   ]
  },
  {
   "cell_type": "code",
   "execution_count": 4,
   "metadata": {},
   "outputs": [],
   "source": [
    "def L1_norm(u):\n",
    "    s = 0\n",
    "    for i in range(1, ux):\n",
    "        for j in range(1, uy):\n",
    "            s += abs(u[i][j] - u[i-1][j]) + abs((u[i][j] - u[i][j-1]))\n",
    "    return s"
   ]
  },
  {
   "cell_type": "code",
   "execution_count": 5,
   "metadata": {},
   "outputs": [],
   "source": [
    "B = np.zeros([ux*uy, ux*uy])\n",
    "for i in range(uy, ux*uy):\n",
    "    if i%uy != 0:\n",
    "        B[i][i] = 1\n",
    "        B[i][i-1] = -1 "
   ]
  },
  {
   "cell_type": "code",
   "execution_count": 6,
   "metadata": {},
   "outputs": [],
   "source": [
    "C = np.zeros([ux*uy, ux*uy])\n",
    "for i in range(uy, ux*uy):\n",
    "    if i%uy != 0:\n",
    "        C[i][i] = 1\n",
    "        C[i][i-uy] = -1 "
   ]
  },
  {
   "cell_type": "code",
   "execution_count": 7,
   "metadata": {},
   "outputs": [],
   "source": [
    "x = U1.flatten()"
   ]
  },
  {
   "cell_type": "code",
   "execution_count": 8,
   "metadata": {},
   "outputs": [],
   "source": [
    "B_ub = np.zeros(4*ux*uy)\n",
    "A_ub = np.zeros([4*ux*uy, 3*ux*uy])\n",
    "\n",
    "A_ub[0:ux*uy, 0:ux*uy] = B\n",
    "A_ub[ux*uy:2*ux*uy, 0:ux*uy] = -B\n",
    "A_ub[0:ux*uy, ux*uy:2*ux*uy] = -np.identity(ux*uy)\n",
    "A_ub[ux*uy:2*ux*uy, ux*uy:2*ux*uy] = -np.identity(ux*uy)\n",
    "\n",
    "A_ub[2*ux*uy:3*ux*uy, 0:ux*uy] = C\n",
    "A_ub[3*ux*uy:4*ux*uy, 0:ux*uy] = -C\n",
    "A_ub[2*ux*uy:3*ux*uy, 2*ux*uy:3*ux*uy] = -np.identity(ux*uy)\n",
    "A_ub[3*ux*uy:4*ux*uy, 2*ux*uy:3*ux*uy] = -np.identity(ux*uy)"
   ]
  },
  {
   "cell_type": "code",
   "execution_count": 9,
   "metadata": {},
   "outputs": [],
   "source": [
    "A_eq = np.zeros([ux*uy,3*ux*uy])\n",
    "B_eq = np.zeros([ux*uy])\n",
    "unknown2 = unknown.flatten()\n",
    "x = U1.flatten()\n",
    "for i in range(ux*uy):\n",
    "    if not unknown2[i]:\n",
    "        A_eq[i][i] = 1\n",
    "        B_eq[i] = x[i]"
   ]
  },
  {
   "cell_type": "code",
   "execution_count": 10,
   "metadata": {},
   "outputs": [],
   "source": [
    "obj = np.zeros(3*ux*uy)\n",
    "obj[ux*uy:] = np.ones(2*ux*uy)"
   ]
  },
  {
   "cell_type": "code",
   "execution_count": 12,
   "metadata": {},
   "outputs": [
    {
     "name": "stdout",
     "output_type": "stream",
     "text": [
      "Primal Feasibility  Dual Feasibility    Duality Gap         Step             Path Parameter      Objective          \n",
      "1.0                 1.0                 1.0                 -                1.0                 6018.0              \n",
      "0.6375661631591     0.6375661631591     0.6375661631591     0.3758205487603  0.6375661631591     3425.658411165      \n",
      "0.2727436078755     0.2727436078755     0.2727436078755     0.5836467223876  0.2727436078755     1629.29439874       \n",
      "0.1054429048606     0.1054429048606     0.1054429048606     0.6312325037131  0.1054429048606     994.0502499014      \n",
      "0.01791546604316    0.01791546604317    0.01791546604317    0.8391015706486  0.01791546604317    710.1659140639      \n",
      "3.634504843227e-05  3.634504843231e-05  3.634504843226e-05  0.9997322587388  3.634504843236e-05  656.117741571       \n",
      "1.818497659929e-09  1.818497680763e-09  1.818497711278e-09  0.9999499658404  1.818497699082e-09  656.0000058909      \n",
      "Optimization terminated successfully.\n",
      "         Current function value: 656.000006  \n",
      "         Iterations: 6\n"
     ]
    }
   ],
   "source": [
    "res = lp(obj, A_eq=A_eq, b_eq=B_eq, A_ub=A_ub, b_ub=B_ub, options={\"disp\": True}, method='interior-point')"
   ]
  },
  {
   "cell_type": "code",
   "execution_count": 13,
   "metadata": {},
   "outputs": [
    {
     "name": "stdout",
     "output_type": "stream",
     "text": [
      "     con: array([0., 0., 0., ..., 0., 0., 0.])\n",
      "     fun: 656.0000058908898\n",
      " message: 'Optimization terminated successfully.'\n",
      "     nit: 6\n",
      "   slack: array([5.74883491e-10, 5.74883491e-10, 5.74883491e-10, ...,\n",
      "       1.21679381e-09, 1.19136634e-09, 1.11164683e-09])\n",
      "  status: 0\n",
      " success: True\n",
      "       x: array([4.74686056e-01, 1.00000000e+00, 1.00000000e+00, ...,\n",
      "       1.14668589e-09, 1.14231159e-09, 1.13962290e-09])\n"
     ]
    }
   ],
   "source": [
    "print(res)"
   ]
  },
  {
   "cell_type": "code",
   "execution_count": 14,
   "metadata": {},
   "outputs": [],
   "source": [
    "x = res.x[:ux*uy]\n",
    "x = x.reshape([ux,uy])"
   ]
  },
  {
   "cell_type": "code",
   "execution_count": 15,
   "metadata": {},
   "outputs": [
    {
     "data": {
      "text/plain": [
       "<matplotlib.image.AxesImage at 0x24a397fe358>"
      ]
     },
     "execution_count": 15,
     "metadata": {},
     "output_type": "execute_result"
    },
    {
     "data": {
      "image/png": "[encoded data removed]",
      "text/plain": [
       "<Figure size 432x288 with 1 Axes>"
      ]
     },
     "metadata": {},
     "output_type": "display_data"
    }
   ],
   "source": [
    "plt.imshow(x, cmap='gray')"
   ]
  },
  {
   "cell_type": "markdown",
   "metadata": {},
   "source": [
    "## Compressed Sensing\n",
    "---"
   ]
  },
  {
   "cell_type": "code",
   "execution_count": 14,
   "metadata": {},
   "outputs": [
    {
     "data": {
      "image/png": "[encoded data removed]",
      "text/plain": [
       "<Figure size 737.28x184.32 with 1 Axes>"
      ]
     },
     "metadata": {
      "needs_background": "light"
     },
     "output_type": "display_data"
    },
    {
     "data": {
      "text/plain": [
       "[<matplotlib.lines.Line2D at 0x18f631ea908>,\n",
       " <matplotlib.lines.Line2D at 0x18f631eaa58>,\n",
       " <matplotlib.lines.Line2D at 0x18f631eaba8>,\n",
       " <matplotlib.lines.Line2D at 0x18f631eacf8>,\n",
       " <matplotlib.lines.Line2D at 0x18f631eae48>,\n",
       " <matplotlib.lines.Line2D at 0x18f631eaf98>,\n",
       " <matplotlib.lines.Line2D at 0x18f631f4128>,\n",
       " <matplotlib.lines.Line2D at 0x18f631f4278>,\n",
       " <matplotlib.lines.Line2D at 0x18f631f43c8>,\n",
       " <matplotlib.lines.Line2D at 0x18f631f4518>,\n",
       " <matplotlib.lines.Line2D at 0x18f4d6cc748>,\n",
       " <matplotlib.lines.Line2D at 0x18f631f4780>,\n",
       " <matplotlib.lines.Line2D at 0x18f631f48d0>,\n",
       " <matplotlib.lines.Line2D at 0x18f631f4a20>,\n",
       " <matplotlib.lines.Line2D at 0x18f631f4b70>,\n",
       " <matplotlib.lines.Line2D at 0x18f631f4cc0>,\n",
       " <matplotlib.lines.Line2D at 0x18f631f4e10>,\n",
       " <matplotlib.lines.Line2D at 0x18f631f4f60>,\n",
       " <matplotlib.lines.Line2D at 0x18f631fa0f0>,\n",
       " <matplotlib.lines.Line2D at 0x18f631fa240>,\n",
       " <matplotlib.lines.Line2D at 0x18f631fa390>,\n",
       " <matplotlib.lines.Line2D at 0x18f631fa4e0>,\n",
       " <matplotlib.lines.Line2D at 0x18f631fa630>,\n",
       " <matplotlib.lines.Line2D at 0x18f631fa780>,\n",
       " <matplotlib.lines.Line2D at 0x18f631fa8d0>,\n",
       " <matplotlib.lines.Line2D at 0x18f631faa20>,\n",
       " <matplotlib.lines.Line2D at 0x18f631fab70>,\n",
       " <matplotlib.lines.Line2D at 0x18f631facc0>,\n",
       " <matplotlib.lines.Line2D at 0x18f631fae10>,\n",
       " <matplotlib.lines.Line2D at 0x18f631faf60>,\n",
       " <matplotlib.lines.Line2D at 0x18f631fe0f0>,\n",
       " <matplotlib.lines.Line2D at 0x18f631fe240>,\n",
       " <matplotlib.lines.Line2D at 0x18f631fe390>,\n",
       " <matplotlib.lines.Line2D at 0x18f631fe4e0>,\n",
       " <matplotlib.lines.Line2D at 0x18f631fe630>,\n",
       " <matplotlib.lines.Line2D at 0x18f631fe780>,\n",
       " <matplotlib.lines.Line2D at 0x18f631fe8d0>,\n",
       " <matplotlib.lines.Line2D at 0x18f631fea20>,\n",
       " <matplotlib.lines.Line2D at 0x18f631feb70>,\n",
       " <matplotlib.lines.Line2D at 0x18f631fecc0>,\n",
       " <matplotlib.lines.Line2D at 0x18f631fee10>,\n",
       " <matplotlib.lines.Line2D at 0x18f631fef60>,\n",
       " <matplotlib.lines.Line2D at 0x18f644a30f0>,\n",
       " <matplotlib.lines.Line2D at 0x18f644a3240>,\n",
       " <matplotlib.lines.Line2D at 0x18f644a3390>,\n",
       " <matplotlib.lines.Line2D at 0x18f644a34e0>,\n",
       " <matplotlib.lines.Line2D at 0x18f644a3630>,\n",
       " <matplotlib.lines.Line2D at 0x18f644a3780>,\n",
       " <matplotlib.lines.Line2D at 0x18f644a38d0>,\n",
       " <matplotlib.lines.Line2D at 0x18f644a3a20>,\n",
       " <matplotlib.lines.Line2D at 0x18f644a3b70>,\n",
       " <matplotlib.lines.Line2D at 0x18f644a3cc0>,\n",
       " <matplotlib.lines.Line2D at 0x18f644a3e10>,\n",
       " <matplotlib.lines.Line2D at 0x18f644a3f60>,\n",
       " <matplotlib.lines.Line2D at 0x18f644a80f0>,\n",
       " <matplotlib.lines.Line2D at 0x18f644a8240>,\n",
       " <matplotlib.lines.Line2D at 0x18f644a8390>,\n",
       " <matplotlib.lines.Line2D at 0x18f644a84e0>,\n",
       " <matplotlib.lines.Line2D at 0x18f644a8630>,\n",
       " <matplotlib.lines.Line2D at 0x18f644a8780>,\n",
       " <matplotlib.lines.Line2D at 0x18f644a88d0>,\n",
       " <matplotlib.lines.Line2D at 0x18f644a8a20>,\n",
       " <matplotlib.lines.Line2D at 0x18f644a8b70>,\n",
       " <matplotlib.lines.Line2D at 0x18f644a8cc0>,\n",
       " <matplotlib.lines.Line2D at 0x18f644a8e10>,\n",
       " <matplotlib.lines.Line2D at 0x18f644a8f60>,\n",
       " <matplotlib.lines.Line2D at 0x18f644ae0f0>,\n",
       " <matplotlib.lines.Line2D at 0x18f644ae240>,\n",
       " <matplotlib.lines.Line2D at 0x18f644ae390>,\n",
       " <matplotlib.lines.Line2D at 0x18f644ae4e0>,\n",
       " <matplotlib.lines.Line2D at 0x18f644ae630>,\n",
       " <matplotlib.lines.Line2D at 0x18f644ae780>,\n",
       " <matplotlib.lines.Line2D at 0x18f644ae8d0>,\n",
       " <matplotlib.lines.Line2D at 0x18f644aea20>,\n",
       " <matplotlib.lines.Line2D at 0x18f644aeb70>,\n",
       " <matplotlib.lines.Line2D at 0x18f644aecc0>,\n",
       " <matplotlib.lines.Line2D at 0x18f644aee10>,\n",
       " <matplotlib.lines.Line2D at 0x18f644aef60>,\n",
       " <matplotlib.lines.Line2D at 0x18f644b20f0>,\n",
       " <matplotlib.lines.Line2D at 0x18f644b2240>,\n",
       " <matplotlib.lines.Line2D at 0x18f644b2390>,\n",
       " <matplotlib.lines.Line2D at 0x18f644b24e0>,\n",
       " <matplotlib.lines.Line2D at 0x18f644b2630>,\n",
       " <matplotlib.lines.Line2D at 0x18f644b2780>,\n",
       " <matplotlib.lines.Line2D at 0x18f644b28d0>,\n",
       " <matplotlib.lines.Line2D at 0x18f644b2a20>,\n",
       " <matplotlib.lines.Line2D at 0x18f644b2b70>,\n",
       " <matplotlib.lines.Line2D at 0x18f644b2cc0>,\n",
       " <matplotlib.lines.Line2D at 0x18f644b2e10>,\n",
       " <matplotlib.lines.Line2D at 0x18f644b2f60>,\n",
       " <matplotlib.lines.Line2D at 0x18f644b90f0>,\n",
       " <matplotlib.lines.Line2D at 0x18f644b9240>,\n",
       " <matplotlib.lines.Line2D at 0x18f644b9390>,\n",
       " <matplotlib.lines.Line2D at 0x18f644b94e0>,\n",
       " <matplotlib.lines.Line2D at 0x18f644b9630>,\n",
       " <matplotlib.lines.Line2D at 0x18f644b9780>,\n",
       " <matplotlib.lines.Line2D at 0x18f644b98d0>,\n",
       " <matplotlib.lines.Line2D at 0x18f644b9a20>,\n",
       " <matplotlib.lines.Line2D at 0x18f644b9b70>,\n",
       " <matplotlib.lines.Line2D at 0x18f644b9cc0>,\n",
       " <matplotlib.lines.Line2D at 0x18f644b9e10>,\n",
       " <matplotlib.lines.Line2D at 0x18f644b9f60>,\n",
       " <matplotlib.lines.Line2D at 0x18f644bd0f0>,\n",
       " <matplotlib.lines.Line2D at 0x18f644bd240>,\n",
       " <matplotlib.lines.Line2D at 0x18f644bd390>,\n",
       " <matplotlib.lines.Line2D at 0x18f644bd4e0>,\n",
       " <matplotlib.lines.Line2D at 0x18f644bd630>,\n",
       " <matplotlib.lines.Line2D at 0x18f644bd780>,\n",
       " <matplotlib.lines.Line2D at 0x18f644bd8d0>,\n",
       " <matplotlib.lines.Line2D at 0x18f644bda20>,\n",
       " <matplotlib.lines.Line2D at 0x18f644bdb70>,\n",
       " <matplotlib.lines.Line2D at 0x18f644bdcc0>,\n",
       " <matplotlib.lines.Line2D at 0x18f644bde10>,\n",
       " <matplotlib.lines.Line2D at 0x18f644bdf60>,\n",
       " <matplotlib.lines.Line2D at 0x18f644c30f0>,\n",
       " <matplotlib.lines.Line2D at 0x18f644c3240>,\n",
       " <matplotlib.lines.Line2D at 0x18f644c3390>,\n",
       " <matplotlib.lines.Line2D at 0x18f644c34e0>,\n",
       " <matplotlib.lines.Line2D at 0x18f644c3630>,\n",
       " <matplotlib.lines.Line2D at 0x18f644c3780>,\n",
       " <matplotlib.lines.Line2D at 0x18f644c38d0>,\n",
       " <matplotlib.lines.Line2D at 0x18f644c3a20>,\n",
       " <matplotlib.lines.Line2D at 0x18f644c3b70>,\n",
       " <matplotlib.lines.Line2D at 0x18f644c3cc0>,\n",
       " <matplotlib.lines.Line2D at 0x18f644c3e10>,\n",
       " <matplotlib.lines.Line2D at 0x18f644c3f60>,\n",
       " <matplotlib.lines.Line2D at 0x18f644c60f0>,\n",
       " <matplotlib.lines.Line2D at 0x18f644c6240>,\n",
       " <matplotlib.lines.Line2D at 0x18f644c6390>,\n",
       " <matplotlib.lines.Line2D at 0x18f644c64e0>,\n",
       " <matplotlib.lines.Line2D at 0x18f644c6630>,\n",
       " <matplotlib.lines.Line2D at 0x18f644c6780>,\n",
       " <matplotlib.lines.Line2D at 0x18f644c68d0>,\n",
       " <matplotlib.lines.Line2D at 0x18f644c6a20>,\n",
       " <matplotlib.lines.Line2D at 0x18f644c6b70>,\n",
       " <matplotlib.lines.Line2D at 0x18f644c6cc0>,\n",
       " <matplotlib.lines.Line2D at 0x18f644c6e10>,\n",
       " <matplotlib.lines.Line2D at 0x18f644c6f60>,\n",
       " <matplotlib.lines.Line2D at 0x18f644cc0f0>,\n",
       " <matplotlib.lines.Line2D at 0x18f644cc240>,\n",
       " <matplotlib.lines.Line2D at 0x18f644cc390>,\n",
       " <matplotlib.lines.Line2D at 0x18f644cc4e0>,\n",
       " <matplotlib.lines.Line2D at 0x18f644cc630>,\n",
       " <matplotlib.lines.Line2D at 0x18f644cc780>,\n",
       " <matplotlib.lines.Line2D at 0x18f644cc8d0>,\n",
       " <matplotlib.lines.Line2D at 0x18f644cca20>,\n",
       " <matplotlib.lines.Line2D at 0x18f644ccb70>,\n",
       " <matplotlib.lines.Line2D at 0x18f644cccc0>,\n",
       " <matplotlib.lines.Line2D at 0x18f644cce10>,\n",
       " <matplotlib.lines.Line2D at 0x18f644ccf60>,\n",
       " <matplotlib.lines.Line2D at 0x18f644d10f0>,\n",
       " <matplotlib.lines.Line2D at 0x18f644d1240>,\n",
       " <matplotlib.lines.Line2D at 0x18f644d1390>,\n",
       " <matplotlib.lines.Line2D at 0x18f644d14e0>,\n",
       " <matplotlib.lines.Line2D at 0x18f644d1630>,\n",
       " <matplotlib.lines.Line2D at 0x18f644d1780>,\n",
       " <matplotlib.lines.Line2D at 0x18f644d18d0>,\n",
       " <matplotlib.lines.Line2D at 0x18f644d1a20>,\n",
       " <matplotlib.lines.Line2D at 0x18f644d1b70>,\n",
       " <matplotlib.lines.Line2D at 0x18f644d1cc0>,\n",
       " <matplotlib.lines.Line2D at 0x18f644d1e10>,\n",
       " <matplotlib.lines.Line2D at 0x18f644d1f60>,\n",
       " <matplotlib.lines.Line2D at 0x18f644d60f0>,\n",
       " <matplotlib.lines.Line2D at 0x18f644d6240>,\n",
       " <matplotlib.lines.Line2D at 0x18f644d6390>,\n",
       " <matplotlib.lines.Line2D at 0x18f644d64e0>,\n",
       " <matplotlib.lines.Line2D at 0x18f644d6630>,\n",
       " <matplotlib.lines.Line2D at 0x18f644d6780>,\n",
       " <matplotlib.lines.Line2D at 0x18f644d68d0>,\n",
       " <matplotlib.lines.Line2D at 0x18f644d6a20>,\n",
       " <matplotlib.lines.Line2D at 0x18f644d6b70>,\n",
       " <matplotlib.lines.Line2D at 0x18f644d6cc0>,\n",
       " <matplotlib.lines.Line2D at 0x18f644d6e10>,\n",
       " <matplotlib.lines.Line2D at 0x18f644d6f60>,\n",
       " <matplotlib.lines.Line2D at 0x18f644db0f0>,\n",
       " <matplotlib.lines.Line2D at 0x18f644db240>,\n",
       " <matplotlib.lines.Line2D at 0x18f644db390>,\n",
       " <matplotlib.lines.Line2D at 0x18f644db4e0>,\n",
       " <matplotlib.lines.Line2D at 0x18f644db630>,\n",
       " <matplotlib.lines.Line2D at 0x18f644db780>,\n",
       " <matplotlib.lines.Line2D at 0x18f644db8d0>,\n",
       " <matplotlib.lines.Line2D at 0x18f644dba20>,\n",
       " <matplotlib.lines.Line2D at 0x18f644dbb70>,\n",
       " <matplotlib.lines.Line2D at 0x18f644dbcc0>,\n",
       " <matplotlib.lines.Line2D at 0x18f644dbe10>,\n",
       " <matplotlib.lines.Line2D at 0x18f644dbf60>,\n",
       " <matplotlib.lines.Line2D at 0x18f644e10f0>,\n",
       " <matplotlib.lines.Line2D at 0x18f644e1240>,\n",
       " <matplotlib.lines.Line2D at 0x18f644e1390>,\n",
       " <matplotlib.lines.Line2D at 0x18f644e14e0>,\n",
       " <matplotlib.lines.Line2D at 0x18f644e1630>,\n",
       " <matplotlib.lines.Line2D at 0x18f644e1780>,\n",
       " <matplotlib.lines.Line2D at 0x18f644e18d0>,\n",
       " <matplotlib.lines.Line2D at 0x18f644e1a20>,\n",
       " <matplotlib.lines.Line2D at 0x18f644e1b70>,\n",
       " <matplotlib.lines.Line2D at 0x18f644e1cc0>,\n",
       " <matplotlib.lines.Line2D at 0x18f644e1e10>,\n",
       " <matplotlib.lines.Line2D at 0x18f644e1f60>,\n",
       " <matplotlib.lines.Line2D at 0x18f644e60f0>,\n",
       " <matplotlib.lines.Line2D at 0x18f644e6240>,\n",
       " <matplotlib.lines.Line2D at 0x18f644e6390>,\n",
       " <matplotlib.lines.Line2D at 0x18f644e64e0>,\n",
       " <matplotlib.lines.Line2D at 0x18f644e6630>,\n",
       " <matplotlib.lines.Line2D at 0x18f644e6780>,\n",
       " <matplotlib.lines.Line2D at 0x18f644e68d0>,\n",
       " <matplotlib.lines.Line2D at 0x18f644e6a20>,\n",
       " <matplotlib.lines.Line2D at 0x18f644e6b70>,\n",
       " <matplotlib.lines.Line2D at 0x18f644e6cc0>,\n",
       " <matplotlib.lines.Line2D at 0x18f644e6e10>,\n",
       " <matplotlib.lines.Line2D at 0x18f644e6f60>,\n",
       " <matplotlib.lines.Line2D at 0x18f644eb0f0>,\n",
       " <matplotlib.lines.Line2D at 0x18f644eb240>,\n",
       " <matplotlib.lines.Line2D at 0x18f644eb390>,\n",
       " <matplotlib.lines.Line2D at 0x18f644eb4e0>,\n",
       " <matplotlib.lines.Line2D at 0x18f644eb630>,\n",
       " <matplotlib.lines.Line2D at 0x18f644eb780>,\n",
       " <matplotlib.lines.Line2D at 0x18f644eb8d0>,\n",
       " <matplotlib.lines.Line2D at 0x18f644eba20>,\n",
       " <matplotlib.lines.Line2D at 0x18f644ebb70>,\n",
       " <matplotlib.lines.Line2D at 0x18f644ebcc0>,\n",
       " <matplotlib.lines.Line2D at 0x18f644ebe10>,\n",
       " <matplotlib.lines.Line2D at 0x18f644ebf60>,\n",
       " <matplotlib.lines.Line2D at 0x18f644f00f0>,\n",
       " <matplotlib.lines.Line2D at 0x18f644f0240>,\n",
       " <matplotlib.lines.Line2D at 0x18f644f0390>,\n",
       " <matplotlib.lines.Line2D at 0x18f644f04e0>,\n",
       " <matplotlib.lines.Line2D at 0x18f644f0630>,\n",
       " <matplotlib.lines.Line2D at 0x18f644f0780>,\n",
       " <matplotlib.lines.Line2D at 0x18f644f08d0>,\n",
       " <matplotlib.lines.Line2D at 0x18f644f0a20>,\n",
       " <matplotlib.lines.Line2D at 0x18f644f0b70>,\n",
       " <matplotlib.lines.Line2D at 0x18f644f0cc0>,\n",
       " <matplotlib.lines.Line2D at 0x18f644f0e10>,\n",
       " <matplotlib.lines.Line2D at 0x18f644f0f60>,\n",
       " <matplotlib.lines.Line2D at 0x18f644f50f0>,\n",
       " <matplotlib.lines.Line2D at 0x18f644f5240>,\n",
       " <matplotlib.lines.Line2D at 0x18f644f5390>,\n",
       " <matplotlib.lines.Line2D at 0x18f644f54e0>,\n",
       " <matplotlib.lines.Line2D at 0x18f644f5630>,\n",
       " <matplotlib.lines.Line2D at 0x18f644f5780>,\n",
       " <matplotlib.lines.Line2D at 0x18f644f58d0>,\n",
       " <matplotlib.lines.Line2D at 0x18f644f5a20>,\n",
       " <matplotlib.lines.Line2D at 0x18f644f5b70>,\n",
       " <matplotlib.lines.Line2D at 0x18f644f5cc0>,\n",
       " <matplotlib.lines.Line2D at 0x18f644f5e10>,\n",
       " <matplotlib.lines.Line2D at 0x18f644f5f60>,\n",
       " <matplotlib.lines.Line2D at 0x18f644fa0f0>,\n",
       " <matplotlib.lines.Line2D at 0x18f644fa240>,\n",
       " <matplotlib.lines.Line2D at 0x18f644fa390>,\n",
       " <matplotlib.lines.Line2D at 0x18f644fa4e0>,\n",
       " <matplotlib.lines.Line2D at 0x18f644fa630>,\n",
       " <matplotlib.lines.Line2D at 0x18f644fa780>,\n",
       " <matplotlib.lines.Line2D at 0x18f644fa8d0>,\n",
       " <matplotlib.lines.Line2D at 0x18f644faa20>,\n",
       " <matplotlib.lines.Line2D at 0x18f644fab70>,\n",
       " <matplotlib.lines.Line2D at 0x18f644facc0>,\n",
       " <matplotlib.lines.Line2D at 0x18f644fae10>,\n",
       " <matplotlib.lines.Line2D at 0x18f644faf60>,\n",
       " <matplotlib.lines.Line2D at 0x18f645000f0>,\n",
       " <matplotlib.lines.Line2D at 0x18f64500240>,\n",
       " <matplotlib.lines.Line2D at 0x18f64500390>,\n",
       " <matplotlib.lines.Line2D at 0x18f645004e0>,\n",
       " <matplotlib.lines.Line2D at 0x18f64500630>,\n",
       " <matplotlib.lines.Line2D at 0x18f64500780>,\n",
       " <matplotlib.lines.Line2D at 0x18f645008d0>,\n",
       " <matplotlib.lines.Line2D at 0x18f64500a20>,\n",
       " <matplotlib.lines.Line2D at 0x18f64500b70>,\n",
       " <matplotlib.lines.Line2D at 0x18f64500cc0>,\n",
       " <matplotlib.lines.Line2D at 0x18f64500e10>,\n",
       " <matplotlib.lines.Line2D at 0x18f64500f60>,\n",
       " <matplotlib.lines.Line2D at 0x18f645050f0>,\n",
       " <matplotlib.lines.Line2D at 0x18f64505240>,\n",
       " <matplotlib.lines.Line2D at 0x18f64505390>,\n",
       " <matplotlib.lines.Line2D at 0x18f645054e0>,\n",
       " <matplotlib.lines.Line2D at 0x18f64505630>,\n",
       " <matplotlib.lines.Line2D at 0x18f64505780>,\n",
       " <matplotlib.lines.Line2D at 0x18f645058d0>,\n",
       " <matplotlib.lines.Line2D at 0x18f64505a20>,\n",
       " <matplotlib.lines.Line2D at 0x18f64505b70>,\n",
       " <matplotlib.lines.Line2D at 0x18f64505cc0>,\n",
       " <matplotlib.lines.Line2D at 0x18f64505e10>,\n",
       " <matplotlib.lines.Line2D at 0x18f64505f60>,\n",
       " <matplotlib.lines.Line2D at 0x18f6450a0f0>,\n",
       " <matplotlib.lines.Line2D at 0x18f6450a240>,\n",
       " <matplotlib.lines.Line2D at 0x18f6450a390>,\n",
       " <matplotlib.lines.Line2D at 0x18f6450a4e0>,\n",
       " <matplotlib.lines.Line2D at 0x18f6450a630>,\n",
       " <matplotlib.lines.Line2D at 0x18f6450a780>,\n",
       " <matplotlib.lines.Line2D at 0x18f6450a8d0>,\n",
       " <matplotlib.lines.Line2D at 0x18f6450aa20>,\n",
       " <matplotlib.lines.Line2D at 0x18f6450ab70>,\n",
       " <matplotlib.lines.Line2D at 0x18f6450acc0>,\n",
       " <matplotlib.lines.Line2D at 0x18f6450ae10>,\n",
       " <matplotlib.lines.Line2D at 0x18f6450af60>,\n",
       " <matplotlib.lines.Line2D at 0x18f6450f0f0>,\n",
       " <matplotlib.lines.Line2D at 0x18f6450f240>,\n",
       " <matplotlib.lines.Line2D at 0x18f6450f390>,\n",
       " <matplotlib.lines.Line2D at 0x18f6450f4e0>,\n",
       " <matplotlib.lines.Line2D at 0x18f6450f630>,\n",
       " <matplotlib.lines.Line2D at 0x18f6450f780>,\n",
       " <matplotlib.lines.Line2D at 0x18f6450f8d0>,\n",
       " <matplotlib.lines.Line2D at 0x18f6450fa20>,\n",
       " <matplotlib.lines.Line2D at 0x18f6450fb70>,\n",
       " <matplotlib.lines.Line2D at 0x18f6450fcc0>,\n",
       " <matplotlib.lines.Line2D at 0x18f6450fe10>,\n",
       " <matplotlib.lines.Line2D at 0x18f6450ff60>,\n",
       " <matplotlib.lines.Line2D at 0x18f645150f0>,\n",
       " <matplotlib.lines.Line2D at 0x18f64515240>,\n",
       " <matplotlib.lines.Line2D at 0x18f64515390>,\n",
       " <matplotlib.lines.Line2D at 0x18f645154e0>,\n",
       " <matplotlib.lines.Line2D at 0x18f64515630>,\n",
       " <matplotlib.lines.Line2D at 0x18f64515780>,\n",
       " <matplotlib.lines.Line2D at 0x18f645158d0>,\n",
       " <matplotlib.lines.Line2D at 0x18f64515a20>,\n",
       " <matplotlib.lines.Line2D at 0x18f64515b70>,\n",
       " <matplotlib.lines.Line2D at 0x18f64515cc0>,\n",
       " <matplotlib.lines.Line2D at 0x18f64515e10>,\n",
       " <matplotlib.lines.Line2D at 0x18f64515f60>,\n",
       " <matplotlib.lines.Line2D at 0x18f6451a0f0>,\n",
       " <matplotlib.lines.Line2D at 0x18f6451a240>,\n",
       " <matplotlib.lines.Line2D at 0x18f6451a390>,\n",
       " <matplotlib.lines.Line2D at 0x18f6451a4e0>,\n",
       " <matplotlib.lines.Line2D at 0x18f6451a630>,\n",
       " <matplotlib.lines.Line2D at 0x18f6451a780>,\n",
       " <matplotlib.lines.Line2D at 0x18f6451a8d0>,\n",
       " <matplotlib.lines.Line2D at 0x18f6451aa20>,\n",
       " <matplotlib.lines.Line2D at 0x18f6451ab70>,\n",
       " <matplotlib.lines.Line2D at 0x18f6451acc0>,\n",
       " <matplotlib.lines.Line2D at 0x18f6451ae10>,\n",
       " <matplotlib.lines.Line2D at 0x18f6451af60>,\n",
       " <matplotlib.lines.Line2D at 0x18f6451e0f0>,\n",
       " <matplotlib.lines.Line2D at 0x18f6451e240>,\n",
       " <matplotlib.lines.Line2D at 0x18f6451e390>,\n",
       " <matplotlib.lines.Line2D at 0x18f6451e4e0>,\n",
       " <matplotlib.lines.Line2D at 0x18f6451e630>,\n",
       " <matplotlib.lines.Line2D at 0x18f6451e780>,\n",
       " <matplotlib.lines.Line2D at 0x18f6451e8d0>,\n",
       " <matplotlib.lines.Line2D at 0x18f6451ea20>,\n",
       " <matplotlib.lines.Line2D at 0x18f6451eb70>,\n",
       " <matplotlib.lines.Line2D at 0x18f6451ecc0>,\n",
       " <matplotlib.lines.Line2D at 0x18f6451ee10>,\n",
       " <matplotlib.lines.Line2D at 0x18f6451ef60>,\n",
       " <matplotlib.lines.Line2D at 0x18f645240f0>,\n",
       " <matplotlib.lines.Line2D at 0x18f64524240>,\n",
       " <matplotlib.lines.Line2D at 0x18f64524390>,\n",
       " <matplotlib.lines.Line2D at 0x18f645244e0>,\n",
       " <matplotlib.lines.Line2D at 0x18f64524630>,\n",
       " <matplotlib.lines.Line2D at 0x18f64524780>,\n",
       " <matplotlib.lines.Line2D at 0x18f645248d0>,\n",
       " <matplotlib.lines.Line2D at 0x18f64524a20>,\n",
       " <matplotlib.lines.Line2D at 0x18f64524b70>,\n",
       " <matplotlib.lines.Line2D at 0x18f64524cc0>,\n",
       " <matplotlib.lines.Line2D at 0x18f64524e10>,\n",
       " <matplotlib.lines.Line2D at 0x18f64524f60>,\n",
       " <matplotlib.lines.Line2D at 0x18f645290f0>,\n",
       " <matplotlib.lines.Line2D at 0x18f64529240>,\n",
       " <matplotlib.lines.Line2D at 0x18f64529390>,\n",
       " <matplotlib.lines.Line2D at 0x18f645294e0>,\n",
       " <matplotlib.lines.Line2D at 0x18f64529630>,\n",
       " <matplotlib.lines.Line2D at 0x18f64529780>,\n",
       " <matplotlib.lines.Line2D at 0x18f645298d0>,\n",
       " <matplotlib.lines.Line2D at 0x18f64529a20>,\n",
       " <matplotlib.lines.Line2D at 0x18f64529b70>,\n",
       " <matplotlib.lines.Line2D at 0x18f64529cc0>,\n",
       " <matplotlib.lines.Line2D at 0x18f64529e10>,\n",
       " <matplotlib.lines.Line2D at 0x18f64529f60>,\n",
       " <matplotlib.lines.Line2D at 0x18f6452e0f0>,\n",
       " <matplotlib.lines.Line2D at 0x18f6452e240>,\n",
       " <matplotlib.lines.Line2D at 0x18f6452e390>,\n",
       " <matplotlib.lines.Line2D at 0x18f6452e4e0>,\n",
       " <matplotlib.lines.Line2D at 0x18f6452e630>,\n",
       " <matplotlib.lines.Line2D at 0x18f6452e780>,\n",
       " <matplotlib.lines.Line2D at 0x18f6452e8d0>,\n",
       " <matplotlib.lines.Line2D at 0x18f6452ea20>,\n",
       " <matplotlib.lines.Line2D at 0x18f6452eb70>,\n",
       " <matplotlib.lines.Line2D at 0x18f6452ecc0>,\n",
       " <matplotlib.lines.Line2D at 0x18f6452ee10>,\n",
       " <matplotlib.lines.Line2D at 0x18f6452ef60>,\n",
       " <matplotlib.lines.Line2D at 0x18f645320f0>,\n",
       " <matplotlib.lines.Line2D at 0x18f64532240>,\n",
       " <matplotlib.lines.Line2D at 0x18f64532390>,\n",
       " <matplotlib.lines.Line2D at 0x18f645324e0>,\n",
       " <matplotlib.lines.Line2D at 0x18f64532630>,\n",
       " <matplotlib.lines.Line2D at 0x18f64532780>,\n",
       " <matplotlib.lines.Line2D at 0x18f645328d0>,\n",
       " <matplotlib.lines.Line2D at 0x18f64532a20>,\n",
       " <matplotlib.lines.Line2D at 0x18f64532b70>,\n",
       " <matplotlib.lines.Line2D at 0x18f64532cc0>,\n",
       " <matplotlib.lines.Line2D at 0x18f64532e10>,\n",
       " <matplotlib.lines.Line2D at 0x18f64532f60>,\n",
       " <matplotlib.lines.Line2D at 0x18f645390f0>,\n",
       " <matplotlib.lines.Line2D at 0x18f64539240>,\n",
       " <matplotlib.lines.Line2D at 0x18f64539390>,\n",
       " <matplotlib.lines.Line2D at 0x18f645394e0>,\n",
       " <matplotlib.lines.Line2D at 0x18f64539630>,\n",
       " <matplotlib.lines.Line2D at 0x18f64539780>,\n",
       " <matplotlib.lines.Line2D at 0x18f645398d0>,\n",
       " <matplotlib.lines.Line2D at 0x18f64539a20>,\n",
       " <matplotlib.lines.Line2D at 0x18f64539b70>,\n",
       " <matplotlib.lines.Line2D at 0x18f64539cc0>,\n",
       " <matplotlib.lines.Line2D at 0x18f64539e10>,\n",
       " <matplotlib.lines.Line2D at 0x18f64539f60>,\n",
       " <matplotlib.lines.Line2D at 0x18f6453e0f0>,\n",
       " <matplotlib.lines.Line2D at 0x18f6453e240>,\n",
       " <matplotlib.lines.Line2D at 0x18f6453e390>,\n",
       " <matplotlib.lines.Line2D at 0x18f6453e4e0>,\n",
       " <matplotlib.lines.Line2D at 0x18f6453e630>,\n",
       " <matplotlib.lines.Line2D at 0x18f6453e780>,\n",
       " <matplotlib.lines.Line2D at 0x18f6453e8d0>,\n",
       " <matplotlib.lines.Line2D at 0x18f6453ea20>,\n",
       " <matplotlib.lines.Line2D at 0x18f6453eb70>,\n",
       " <matplotlib.lines.Line2D at 0x18f6453ecc0>,\n",
       " <matplotlib.lines.Line2D at 0x18f6453ee10>,\n",
       " <matplotlib.lines.Line2D at 0x18f6453ef60>,\n",
       " <matplotlib.lines.Line2D at 0x18f645430f0>,\n",
       " <matplotlib.lines.Line2D at 0x18f64543240>,\n",
       " <matplotlib.lines.Line2D at 0x18f64543390>,\n",
       " <matplotlib.lines.Line2D at 0x18f645434e0>,\n",
       " <matplotlib.lines.Line2D at 0x18f64543630>,\n",
       " <matplotlib.lines.Line2D at 0x18f64543780>,\n",
       " <matplotlib.lines.Line2D at 0x18f645438d0>,\n",
       " <matplotlib.lines.Line2D at 0x18f64543a20>,\n",
       " <matplotlib.lines.Line2D at 0x18f64543b70>,\n",
       " <matplotlib.lines.Line2D at 0x18f64543cc0>,\n",
       " <matplotlib.lines.Line2D at 0x18f64543e10>,\n",
       " <matplotlib.lines.Line2D at 0x18f64543f60>,\n",
       " <matplotlib.lines.Line2D at 0x18f645480f0>,\n",
       " <matplotlib.lines.Line2D at 0x18f64548240>,\n",
       " <matplotlib.lines.Line2D at 0x18f64548390>,\n",
       " <matplotlib.lines.Line2D at 0x18f645484e0>,\n",
       " <matplotlib.lines.Line2D at 0x18f64548630>,\n",
       " <matplotlib.lines.Line2D at 0x18f64548780>,\n",
       " <matplotlib.lines.Line2D at 0x18f645488d0>,\n",
       " <matplotlib.lines.Line2D at 0x18f64548a20>,\n",
       " <matplotlib.lines.Line2D at 0x18f64548b70>,\n",
       " <matplotlib.lines.Line2D at 0x18f64548cc0>,\n",
       " <matplotlib.lines.Line2D at 0x18f64548e10>,\n",
       " <matplotlib.lines.Line2D at 0x18f64548f60>,\n",
       " <matplotlib.lines.Line2D at 0x18f6454c0f0>,\n",
       " <matplotlib.lines.Line2D at 0x18f6454c240>,\n",
       " <matplotlib.lines.Line2D at 0x18f6454c390>,\n",
       " <matplotlib.lines.Line2D at 0x18f6454c4e0>,\n",
       " <matplotlib.lines.Line2D at 0x18f6454c630>,\n",
       " <matplotlib.lines.Line2D at 0x18f6454c780>,\n",
       " <matplotlib.lines.Line2D at 0x18f6454c8d0>,\n",
       " <matplotlib.lines.Line2D at 0x18f6454ca20>,\n",
       " <matplotlib.lines.Line2D at 0x18f6454cb70>,\n",
       " <matplotlib.lines.Line2D at 0x18f6454ccc0>,\n",
       " <matplotlib.lines.Line2D at 0x18f6454ce10>,\n",
       " <matplotlib.lines.Line2D at 0x18f6454cf60>,\n",
       " <matplotlib.lines.Line2D at 0x18f645520f0>,\n",
       " <matplotlib.lines.Line2D at 0x18f64552240>,\n",
       " <matplotlib.lines.Line2D at 0x18f64552390>,\n",
       " <matplotlib.lines.Line2D at 0x18f645524e0>,\n",
       " <matplotlib.lines.Line2D at 0x18f64552630>,\n",
       " <matplotlib.lines.Line2D at 0x18f64552780>,\n",
       " <matplotlib.lines.Line2D at 0x18f645528d0>,\n",
       " <matplotlib.lines.Line2D at 0x18f64552a20>,\n",
       " <matplotlib.lines.Line2D at 0x18f64552b70>,\n",
       " <matplotlib.lines.Line2D at 0x18f64552cc0>,\n",
       " <matplotlib.lines.Line2D at 0x18f64552e10>,\n",
       " <matplotlib.lines.Line2D at 0x18f64552f60>,\n",
       " <matplotlib.lines.Line2D at 0x18f645560f0>,\n",
       " <matplotlib.lines.Line2D at 0x18f64556240>,\n",
       " <matplotlib.lines.Line2D at 0x18f64556390>,\n",
       " <matplotlib.lines.Line2D at 0x18f645564e0>,\n",
       " <matplotlib.lines.Line2D at 0x18f64556630>,\n",
       " <matplotlib.lines.Line2D at 0x18f64556780>,\n",
       " <matplotlib.lines.Line2D at 0x18f645568d0>,\n",
       " <matplotlib.lines.Line2D at 0x18f64556a20>,\n",
       " <matplotlib.lines.Line2D at 0x18f64556b70>,\n",
       " <matplotlib.lines.Line2D at 0x18f64556cc0>,\n",
       " <matplotlib.lines.Line2D at 0x18f64556e10>,\n",
       " <matplotlib.lines.Line2D at 0x18f64556f60>,\n",
       " <matplotlib.lines.Line2D at 0x18f6455c0f0>,\n",
       " <matplotlib.lines.Line2D at 0x18f6455c240>,\n",
       " <matplotlib.lines.Line2D at 0x18f6455c390>,\n",
       " <matplotlib.lines.Line2D at 0x18f6455c4e0>,\n",
       " <matplotlib.lines.Line2D at 0x18f6455c630>,\n",
       " <matplotlib.lines.Line2D at 0x18f6455c780>,\n",
       " <matplotlib.lines.Line2D at 0x18f6455c8d0>,\n",
       " <matplotlib.lines.Line2D at 0x18f6455ca20>,\n",
       " <matplotlib.lines.Line2D at 0x18f6455cb70>,\n",
       " <matplotlib.lines.Line2D at 0x18f6455ccc0>,\n",
       " <matplotlib.lines.Line2D at 0x18f6455ce10>,\n",
       " <matplotlib.lines.Line2D at 0x18f6455cf60>,\n",
       " <matplotlib.lines.Line2D at 0x18f645610f0>,\n",
       " <matplotlib.lines.Line2D at 0x18f64561240>,\n",
       " <matplotlib.lines.Line2D at 0x18f64561390>,\n",
       " <matplotlib.lines.Line2D at 0x18f645614e0>,\n",
       " <matplotlib.lines.Line2D at 0x18f64561630>,\n",
       " <matplotlib.lines.Line2D at 0x18f64561780>,\n",
       " <matplotlib.lines.Line2D at 0x18f645618d0>,\n",
       " <matplotlib.lines.Line2D at 0x18f64561a20>,\n",
       " <matplotlib.lines.Line2D at 0x18f64561b70>,\n",
       " <matplotlib.lines.Line2D at 0x18f64561cc0>,\n",
       " <matplotlib.lines.Line2D at 0x18f64561e10>,\n",
       " <matplotlib.lines.Line2D at 0x18f64561f60>,\n",
       " <matplotlib.lines.Line2D at 0x18f645670f0>,\n",
       " <matplotlib.lines.Line2D at 0x18f64567240>,\n",
       " <matplotlib.lines.Line2D at 0x18f64567390>,\n",
       " <matplotlib.lines.Line2D at 0x18f645674e0>,\n",
       " <matplotlib.lines.Line2D at 0x18f64567630>,\n",
       " <matplotlib.lines.Line2D at 0x18f64567780>,\n",
       " <matplotlib.lines.Line2D at 0x18f645678d0>,\n",
       " <matplotlib.lines.Line2D at 0x18f64567a20>,\n",
       " <matplotlib.lines.Line2D at 0x18f64567b70>,\n",
       " <matplotlib.lines.Line2D at 0x18f64567cc0>,\n",
       " <matplotlib.lines.Line2D at 0x18f64567e10>,\n",
       " <matplotlib.lines.Line2D at 0x18f64567f60>,\n",
       " <matplotlib.lines.Line2D at 0x18f6456c0f0>,\n",
       " <matplotlib.lines.Line2D at 0x18f6456c240>,\n",
       " <matplotlib.lines.Line2D at 0x18f6456c390>,\n",
       " <matplotlib.lines.Line2D at 0x18f6456c4e0>,\n",
       " <matplotlib.lines.Line2D at 0x18f6456c630>,\n",
       " <matplotlib.lines.Line2D at 0x18f6456c780>,\n",
       " <matplotlib.lines.Line2D at 0x18f6456c8d0>,\n",
       " <matplotlib.lines.Line2D at 0x18f6456ca20>,\n",
       " <matplotlib.lines.Line2D at 0x18f6456cb70>,\n",
       " <matplotlib.lines.Line2D at 0x18f6456ccc0>,\n",
       " <matplotlib.lines.Line2D at 0x18f6456ce10>,\n",
       " <matplotlib.lines.Line2D at 0x18f6456cf60>,\n",
       " <matplotlib.lines.Line2D at 0x18f645720f0>,\n",
       " <matplotlib.lines.Line2D at 0x18f64572240>,\n",
       " <matplotlib.lines.Line2D at 0x18f64572390>,\n",
       " <matplotlib.lines.Line2D at 0x18f645724e0>,\n",
       " <matplotlib.lines.Line2D at 0x18f64572630>,\n",
       " <matplotlib.lines.Line2D at 0x18f64572780>,\n",
       " <matplotlib.lines.Line2D at 0x18f645728d0>,\n",
       " <matplotlib.lines.Line2D at 0x18f64572a20>,\n",
       " <matplotlib.lines.Line2D at 0x18f64572b70>,\n",
       " <matplotlib.lines.Line2D at 0x18f64572cc0>,\n",
       " <matplotlib.lines.Line2D at 0x18f64572e10>,\n",
       " <matplotlib.lines.Line2D at 0x18f64572f60>,\n",
       " <matplotlib.lines.Line2D at 0x18f645750f0>,\n",
       " <matplotlib.lines.Line2D at 0x18f64575240>,\n",
       " <matplotlib.lines.Line2D at 0x18f64575390>,\n",
       " <matplotlib.lines.Line2D at 0x18f645754e0>,\n",
       " <matplotlib.lines.Line2D at 0x18f64575630>,\n",
       " <matplotlib.lines.Line2D at 0x18f64575780>,\n",
       " <matplotlib.lines.Line2D at 0x18f645758d0>,\n",
       " <matplotlib.lines.Line2D at 0x18f64575a20>,\n",
       " <matplotlib.lines.Line2D at 0x18f64575b70>,\n",
       " <matplotlib.lines.Line2D at 0x18f64575cc0>,\n",
       " <matplotlib.lines.Line2D at 0x18f64575e10>,\n",
       " <matplotlib.lines.Line2D at 0x18f64575f60>,\n",
       " <matplotlib.lines.Line2D at 0x18f6457b0f0>,\n",
       " <matplotlib.lines.Line2D at 0x18f6457b240>,\n",
       " <matplotlib.lines.Line2D at 0x18f6457b390>,\n",
       " <matplotlib.lines.Line2D at 0x18f6457b4e0>,\n",
       " <matplotlib.lines.Line2D at 0x18f6457b630>,\n",
       " <matplotlib.lines.Line2D at 0x18f6457b780>,\n",
       " <matplotlib.lines.Line2D at 0x18f6457b8d0>,\n",
       " <matplotlib.lines.Line2D at 0x18f6457ba20>,\n",
       " <matplotlib.lines.Line2D at 0x18f6457bb70>,\n",
       " <matplotlib.lines.Line2D at 0x18f6457bcc0>,\n",
       " <matplotlib.lines.Line2D at 0x18f6457be10>,\n",
       " <matplotlib.lines.Line2D at 0x18f6457bf60>,\n",
       " <matplotlib.lines.Line2D at 0x18f645800f0>,\n",
       " <matplotlib.lines.Line2D at 0x18f64580240>,\n",
       " <matplotlib.lines.Line2D at 0x18f64580390>,\n",
       " <matplotlib.lines.Line2D at 0x18f645804e0>,\n",
       " <matplotlib.lines.Line2D at 0x18f64580630>,\n",
       " <matplotlib.lines.Line2D at 0x18f64580780>,\n",
       " <matplotlib.lines.Line2D at 0x18f645808d0>,\n",
       " <matplotlib.lines.Line2D at 0x18f64580a20>,\n",
       " <matplotlib.lines.Line2D at 0x18f64580b70>,\n",
       " <matplotlib.lines.Line2D at 0x18f64580cc0>,\n",
       " <matplotlib.lines.Line2D at 0x18f64580e10>,\n",
       " <matplotlib.lines.Line2D at 0x18f64580f60>,\n",
       " <matplotlib.lines.Line2D at 0x18f645860f0>,\n",
       " <matplotlib.lines.Line2D at 0x18f64586240>,\n",
       " <matplotlib.lines.Line2D at 0x18f64586390>,\n",
       " <matplotlib.lines.Line2D at 0x18f645864e0>,\n",
       " <matplotlib.lines.Line2D at 0x18f64586630>,\n",
       " <matplotlib.lines.Line2D at 0x18f64586780>,\n",
       " <matplotlib.lines.Line2D at 0x18f645868d0>,\n",
       " <matplotlib.lines.Line2D at 0x18f64586a20>,\n",
       " <matplotlib.lines.Line2D at 0x18f64586b70>,\n",
       " <matplotlib.lines.Line2D at 0x18f64586cc0>,\n",
       " <matplotlib.lines.Line2D at 0x18f64586e10>,\n",
       " <matplotlib.lines.Line2D at 0x18f64586f60>,\n",
       " <matplotlib.lines.Line2D at 0x18f6458a0f0>,\n",
       " <matplotlib.lines.Line2D at 0x18f6458a240>,\n",
       " <matplotlib.lines.Line2D at 0x18f6458a390>,\n",
       " <matplotlib.lines.Line2D at 0x18f6458a4e0>,\n",
       " <matplotlib.lines.Line2D at 0x18f6458a630>,\n",
       " <matplotlib.lines.Line2D at 0x18f6458a780>,\n",
       " <matplotlib.lines.Line2D at 0x18f6458a8d0>,\n",
       " <matplotlib.lines.Line2D at 0x18f6458aa20>,\n",
       " <matplotlib.lines.Line2D at 0x18f6458ab70>,\n",
       " <matplotlib.lines.Line2D at 0x18f6458acc0>,\n",
       " <matplotlib.lines.Line2D at 0x18f6458ae10>,\n",
       " <matplotlib.lines.Line2D at 0x18f6458af60>,\n",
       " <matplotlib.lines.Line2D at 0x18f645910f0>,\n",
       " <matplotlib.lines.Line2D at 0x18f64591240>,\n",
       " <matplotlib.lines.Line2D at 0x18f64591390>,\n",
       " <matplotlib.lines.Line2D at 0x18f645914e0>,\n",
       " <matplotlib.lines.Line2D at 0x18f64591630>,\n",
       " <matplotlib.lines.Line2D at 0x18f64591780>,\n",
       " <matplotlib.lines.Line2D at 0x18f645918d0>,\n",
       " <matplotlib.lines.Line2D at 0x18f64591a20>,\n",
       " <matplotlib.lines.Line2D at 0x18f64591b70>,\n",
       " <matplotlib.lines.Line2D at 0x18f64591cc0>,\n",
       " <matplotlib.lines.Line2D at 0x18f64591e10>,\n",
       " <matplotlib.lines.Line2D at 0x18f64591f60>,\n",
       " <matplotlib.lines.Line2D at 0x18f645950f0>,\n",
       " <matplotlib.lines.Line2D at 0x18f64595240>,\n",
       " <matplotlib.lines.Line2D at 0x18f64595390>,\n",
       " <matplotlib.lines.Line2D at 0x18f645954e0>,\n",
       " <matplotlib.lines.Line2D at 0x18f64595630>,\n",
       " <matplotlib.lines.Line2D at 0x18f64595780>,\n",
       " <matplotlib.lines.Line2D at 0x18f645958d0>,\n",
       " <matplotlib.lines.Line2D at 0x18f64595a20>,\n",
       " <matplotlib.lines.Line2D at 0x18f64595b70>,\n",
       " <matplotlib.lines.Line2D at 0x18f64595cc0>,\n",
       " <matplotlib.lines.Line2D at 0x18f64595e10>,\n",
       " <matplotlib.lines.Line2D at 0x18f64595f60>,\n",
       " <matplotlib.lines.Line2D at 0x18f6459b0f0>,\n",
       " <matplotlib.lines.Line2D at 0x18f6459b240>,\n",
       " <matplotlib.lines.Line2D at 0x18f6459b390>,\n",
       " <matplotlib.lines.Line2D at 0x18f6459b4e0>,\n",
       " <matplotlib.lines.Line2D at 0x18f6459b630>,\n",
       " <matplotlib.lines.Line2D at 0x18f6459b780>,\n",
       " <matplotlib.lines.Line2D at 0x18f6459b8d0>,\n",
       " <matplotlib.lines.Line2D at 0x18f6459ba20>,\n",
       " <matplotlib.lines.Line2D at 0x18f6459bb70>,\n",
       " <matplotlib.lines.Line2D at 0x18f6459bcc0>,\n",
       " <matplotlib.lines.Line2D at 0x18f6459be10>,\n",
       " <matplotlib.lines.Line2D at 0x18f6459bf60>,\n",
       " <matplotlib.lines.Line2D at 0x18f6459e0f0>,\n",
       " <matplotlib.lines.Line2D at 0x18f6459e240>,\n",
       " <matplotlib.lines.Line2D at 0x18f6459e390>,\n",
       " <matplotlib.lines.Line2D at 0x18f6459e4e0>,\n",
       " <matplotlib.lines.Line2D at 0x18f6459e630>,\n",
       " <matplotlib.lines.Line2D at 0x18f6459e780>,\n",
       " <matplotlib.lines.Line2D at 0x18f6459e8d0>,\n",
       " <matplotlib.lines.Line2D at 0x18f6459ea20>,\n",
       " <matplotlib.lines.Line2D at 0x18f6459eb70>,\n",
       " <matplotlib.lines.Line2D at 0x18f6459ecc0>,\n",
       " <matplotlib.lines.Line2D at 0x18f6459ee10>,\n",
       " <matplotlib.lines.Line2D at 0x18f6459ef60>,\n",
       " <matplotlib.lines.Line2D at 0x18f645a50f0>,\n",
       " <matplotlib.lines.Line2D at 0x18f645a5240>,\n",
       " <matplotlib.lines.Line2D at 0x18f645a5390>,\n",
       " <matplotlib.lines.Line2D at 0x18f645a54e0>,\n",
       " <matplotlib.lines.Line2D at 0x18f645a5630>,\n",
       " <matplotlib.lines.Line2D at 0x18f645a5780>,\n",
       " <matplotlib.lines.Line2D at 0x18f645a58d0>,\n",
       " <matplotlib.lines.Line2D at 0x18f645a5a20>,\n",
       " <matplotlib.lines.Line2D at 0x18f645a5b70>,\n",
       " <matplotlib.lines.Line2D at 0x18f645a5cc0>,\n",
       " <matplotlib.lines.Line2D at 0x18f645a5e10>,\n",
       " <matplotlib.lines.Line2D at 0x18f645a5f60>,\n",
       " <matplotlib.lines.Line2D at 0x18f645a90f0>,\n",
       " <matplotlib.lines.Line2D at 0x18f645a9240>,\n",
       " <matplotlib.lines.Line2D at 0x18f645a9390>,\n",
       " <matplotlib.lines.Line2D at 0x18f645a94e0>,\n",
       " <matplotlib.lines.Line2D at 0x18f645a9630>,\n",
       " <matplotlib.lines.Line2D at 0x18f645a9780>,\n",
       " <matplotlib.lines.Line2D at 0x18f645a98d0>,\n",
       " <matplotlib.lines.Line2D at 0x18f645a9a20>,\n",
       " <matplotlib.lines.Line2D at 0x18f645a9b70>,\n",
       " <matplotlib.lines.Line2D at 0x18f645a9cc0>,\n",
       " <matplotlib.lines.Line2D at 0x18f645a9e10>,\n",
       " <matplotlib.lines.Line2D at 0x18f645a9f60>,\n",
       " <matplotlib.lines.Line2D at 0x18f645af0f0>,\n",
       " <matplotlib.lines.Line2D at 0x18f645af240>,\n",
       " <matplotlib.lines.Line2D at 0x18f645af390>,\n",
       " <matplotlib.lines.Line2D at 0x18f645af4e0>,\n",
       " <matplotlib.lines.Line2D at 0x18f645af630>,\n",
       " <matplotlib.lines.Line2D at 0x18f645af780>,\n",
       " <matplotlib.lines.Line2D at 0x18f645af8d0>,\n",
       " <matplotlib.lines.Line2D at 0x18f645afa20>,\n",
       " <matplotlib.lines.Line2D at 0x18f645afb70>,\n",
       " <matplotlib.lines.Line2D at 0x18f645afcc0>,\n",
       " <matplotlib.lines.Line2D at 0x18f645afe10>,\n",
       " <matplotlib.lines.Line2D at 0x18f645aff60>,\n",
       " <matplotlib.lines.Line2D at 0x18f645b30f0>,\n",
       " <matplotlib.lines.Line2D at 0x18f645b3240>,\n",
       " <matplotlib.lines.Line2D at 0x18f645b3390>,\n",
       " <matplotlib.lines.Line2D at 0x18f645b34e0>,\n",
       " <matplotlib.lines.Line2D at 0x18f645b3630>,\n",
       " <matplotlib.lines.Line2D at 0x18f645b3780>,\n",
       " <matplotlib.lines.Line2D at 0x18f645b38d0>,\n",
       " <matplotlib.lines.Line2D at 0x18f645b3a20>,\n",
       " <matplotlib.lines.Line2D at 0x18f645b3b70>,\n",
       " <matplotlib.lines.Line2D at 0x18f645b3cc0>,\n",
       " <matplotlib.lines.Line2D at 0x18f645b3e10>,\n",
       " <matplotlib.lines.Line2D at 0x18f645b3f60>,\n",
       " <matplotlib.lines.Line2D at 0x18f645ba0f0>,\n",
       " <matplotlib.lines.Line2D at 0x18f645ba240>,\n",
       " <matplotlib.lines.Line2D at 0x18f645ba390>,\n",
       " <matplotlib.lines.Line2D at 0x18f645ba4e0>,\n",
       " <matplotlib.lines.Line2D at 0x18f645ba630>,\n",
       " <matplotlib.lines.Line2D at 0x18f645ba780>,\n",
       " <matplotlib.lines.Line2D at 0x18f645ba8d0>,\n",
       " <matplotlib.lines.Line2D at 0x18f645baa20>,\n",
       " <matplotlib.lines.Line2D at 0x18f645bab70>,\n",
       " <matplotlib.lines.Line2D at 0x18f645bacc0>,\n",
       " <matplotlib.lines.Line2D at 0x18f645bae10>,\n",
       " <matplotlib.lines.Line2D at 0x18f645baf60>,\n",
       " <matplotlib.lines.Line2D at 0x18f645be0f0>,\n",
       " <matplotlib.lines.Line2D at 0x18f645be240>,\n",
       " <matplotlib.lines.Line2D at 0x18f645be390>,\n",
       " <matplotlib.lines.Line2D at 0x18f645be4e0>,\n",
       " <matplotlib.lines.Line2D at 0x18f645be630>,\n",
       " <matplotlib.lines.Line2D at 0x18f645be780>,\n",
       " <matplotlib.lines.Line2D at 0x18f645be8d0>,\n",
       " <matplotlib.lines.Line2D at 0x18f645bea20>,\n",
       " <matplotlib.lines.Line2D at 0x18f645beb70>,\n",
       " <matplotlib.lines.Line2D at 0x18f645becc0>,\n",
       " <matplotlib.lines.Line2D at 0x18f645bee10>,\n",
       " <matplotlib.lines.Line2D at 0x18f645bef60>,\n",
       " <matplotlib.lines.Line2D at 0x18f645c40f0>,\n",
       " <matplotlib.lines.Line2D at 0x18f645c4240>,\n",
       " <matplotlib.lines.Line2D at 0x18f645c4390>,\n",
       " <matplotlib.lines.Line2D at 0x18f645c44e0>,\n",
       " <matplotlib.lines.Line2D at 0x18f645c4630>,\n",
       " <matplotlib.lines.Line2D at 0x18f645c4780>,\n",
       " <matplotlib.lines.Line2D at 0x18f645c48d0>,\n",
       " <matplotlib.lines.Line2D at 0x18f645c4a20>,\n",
       " <matplotlib.lines.Line2D at 0x18f645c4b70>,\n",
       " <matplotlib.lines.Line2D at 0x18f645c4cc0>,\n",
       " <matplotlib.lines.Line2D at 0x18f645c4e10>,\n",
       " <matplotlib.lines.Line2D at 0x18f645c4f60>,\n",
       " <matplotlib.lines.Line2D at 0x18f645c80f0>,\n",
       " <matplotlib.lines.Line2D at 0x18f645c8240>,\n",
       " <matplotlib.lines.Line2D at 0x18f645c8390>,\n",
       " <matplotlib.lines.Line2D at 0x18f645c84e0>,\n",
       " <matplotlib.lines.Line2D at 0x18f645c8630>,\n",
       " <matplotlib.lines.Line2D at 0x18f645c8780>,\n",
       " <matplotlib.lines.Line2D at 0x18f645c88d0>,\n",
       " <matplotlib.lines.Line2D at 0x18f645c8a20>,\n",
       " <matplotlib.lines.Line2D at 0x18f645c8b70>,\n",
       " <matplotlib.lines.Line2D at 0x18f645c8cc0>,\n",
       " <matplotlib.lines.Line2D at 0x18f645c8e10>,\n",
       " <matplotlib.lines.Line2D at 0x18f645c8f60>,\n",
       " <matplotlib.lines.Line2D at 0x18f645cd0f0>,\n",
       " <matplotlib.lines.Line2D at 0x18f645cd240>,\n",
       " <matplotlib.lines.Line2D at 0x18f645cd390>,\n",
       " <matplotlib.lines.Line2D at 0x18f645cd4e0>,\n",
       " <matplotlib.lines.Line2D at 0x18f645cd630>,\n",
       " <matplotlib.lines.Line2D at 0x18f645cd780>,\n",
       " <matplotlib.lines.Line2D at 0x18f645cd8d0>,\n",
       " <matplotlib.lines.Line2D at 0x18f645cda20>,\n",
       " <matplotlib.lines.Line2D at 0x18f645cdb70>,\n",
       " <matplotlib.lines.Line2D at 0x18f645cdcc0>,\n",
       " <matplotlib.lines.Line2D at 0x18f645cde10>,\n",
       " <matplotlib.lines.Line2D at 0x18f645cdf60>,\n",
       " <matplotlib.lines.Line2D at 0x18f645d20f0>,\n",
       " <matplotlib.lines.Line2D at 0x18f645d2240>,\n",
       " <matplotlib.lines.Line2D at 0x18f645d2390>,\n",
       " <matplotlib.lines.Line2D at 0x18f645d24e0>,\n",
       " <matplotlib.lines.Line2D at 0x18f645d2630>,\n",
       " <matplotlib.lines.Line2D at 0x18f645d2780>,\n",
       " <matplotlib.lines.Line2D at 0x18f645d28d0>,\n",
       " <matplotlib.lines.Line2D at 0x18f645d2a20>,\n",
       " <matplotlib.lines.Line2D at 0x18f645d2b70>,\n",
       " <matplotlib.lines.Line2D at 0x18f645d2cc0>,\n",
       " <matplotlib.lines.Line2D at 0x18f645d2e10>,\n",
       " <matplotlib.lines.Line2D at 0x18f645d2f60>,\n",
       " <matplotlib.lines.Line2D at 0x18f645d80f0>,\n",
       " <matplotlib.lines.Line2D at 0x18f645d8240>,\n",
       " <matplotlib.lines.Line2D at 0x18f645d8390>,\n",
       " <matplotlib.lines.Line2D at 0x18f645d84e0>,\n",
       " <matplotlib.lines.Line2D at 0x18f645d8630>,\n",
       " <matplotlib.lines.Line2D at 0x18f645d8780>,\n",
       " <matplotlib.lines.Line2D at 0x18f645d88d0>,\n",
       " <matplotlib.lines.Line2D at 0x18f645d8a20>,\n",
       " <matplotlib.lines.Line2D at 0x18f645d8b70>,\n",
       " <matplotlib.lines.Line2D at 0x18f645d8cc0>,\n",
       " <matplotlib.lines.Line2D at 0x18f645d8e10>,\n",
       " <matplotlib.lines.Line2D at 0x18f645d8f60>,\n",
       " <matplotlib.lines.Line2D at 0x18f645dd0f0>,\n",
       " <matplotlib.lines.Line2D at 0x18f645dd240>,\n",
       " <matplotlib.lines.Line2D at 0x18f645dd390>,\n",
       " <matplotlib.lines.Line2D at 0x18f645dd4e0>,\n",
       " <matplotlib.lines.Line2D at 0x18f645dd630>,\n",
       " <matplotlib.lines.Line2D at 0x18f645dd780>,\n",
       " <matplotlib.lines.Line2D at 0x18f645dd8d0>,\n",
       " <matplotlib.lines.Line2D at 0x18f645dda20>,\n",
       " <matplotlib.lines.Line2D at 0x18f645ddb70>,\n",
       " <matplotlib.lines.Line2D at 0x18f645ddcc0>,\n",
       " <matplotlib.lines.Line2D at 0x18f645dde10>,\n",
       " <matplotlib.lines.Line2D at 0x18f645ddf60>,\n",
       " <matplotlib.lines.Line2D at 0x18f645e20f0>,\n",
       " <matplotlib.lines.Line2D at 0x18f645e2240>,\n",
       " <matplotlib.lines.Line2D at 0x18f645e2390>,\n",
       " <matplotlib.lines.Line2D at 0x18f645e24e0>,\n",
       " <matplotlib.lines.Line2D at 0x18f645e2630>,\n",
       " <matplotlib.lines.Line2D at 0x18f645e2780>,\n",
       " <matplotlib.lines.Line2D at 0x18f645e28d0>,\n",
       " <matplotlib.lines.Line2D at 0x18f645e2a20>,\n",
       " <matplotlib.lines.Line2D at 0x18f645e2b70>,\n",
       " <matplotlib.lines.Line2D at 0x18f645e2cc0>,\n",
       " <matplotlib.lines.Line2D at 0x18f645e2e10>,\n",
       " <matplotlib.lines.Line2D at 0x18f645e2f60>,\n",
       " <matplotlib.lines.Line2D at 0x18f645e70f0>,\n",
       " <matplotlib.lines.Line2D at 0x18f645e7240>,\n",
       " <matplotlib.lines.Line2D at 0x18f645e7390>,\n",
       " <matplotlib.lines.Line2D at 0x18f645e74e0>,\n",
       " <matplotlib.lines.Line2D at 0x18f645e7630>,\n",
       " <matplotlib.lines.Line2D at 0x18f645e7780>,\n",
       " <matplotlib.lines.Line2D at 0x18f645e78d0>,\n",
       " <matplotlib.lines.Line2D at 0x18f645e7a20>,\n",
       " <matplotlib.lines.Line2D at 0x18f645e7b70>,\n",
       " <matplotlib.lines.Line2D at 0x18f645e7cc0>,\n",
       " <matplotlib.lines.Line2D at 0x18f645e7e10>,\n",
       " <matplotlib.lines.Line2D at 0x18f645e7f60>,\n",
       " <matplotlib.lines.Line2D at 0x18f645ed0f0>,\n",
       " <matplotlib.lines.Line2D at 0x18f645ed240>,\n",
       " <matplotlib.lines.Line2D at 0x18f645ed390>,\n",
       " <matplotlib.lines.Line2D at 0x18f645ed4e0>,\n",
       " <matplotlib.lines.Line2D at 0x18f645ed630>,\n",
       " <matplotlib.lines.Line2D at 0x18f645ed780>,\n",
       " <matplotlib.lines.Line2D at 0x18f645ed8d0>,\n",
       " <matplotlib.lines.Line2D at 0x18f645eda20>,\n",
       " <matplotlib.lines.Line2D at 0x18f645edb70>,\n",
       " <matplotlib.lines.Line2D at 0x18f645edcc0>,\n",
       " <matplotlib.lines.Line2D at 0x18f645ede10>,\n",
       " <matplotlib.lines.Line2D at 0x18f645edf60>,\n",
       " <matplotlib.lines.Line2D at 0x18f645f20f0>,\n",
       " <matplotlib.lines.Line2D at 0x18f645f2240>,\n",
       " <matplotlib.lines.Line2D at 0x18f645f2390>,\n",
       " <matplotlib.lines.Line2D at 0x18f645f24e0>,\n",
       " <matplotlib.lines.Line2D at 0x18f645f2630>,\n",
       " <matplotlib.lines.Line2D at 0x18f645f2780>,\n",
       " <matplotlib.lines.Line2D at 0x18f645f28d0>,\n",
       " <matplotlib.lines.Line2D at 0x18f645f2a20>,\n",
       " <matplotlib.lines.Line2D at 0x18f645f2b70>,\n",
       " <matplotlib.lines.Line2D at 0x18f645f2cc0>,\n",
       " <matplotlib.lines.Line2D at 0x18f645f2e10>,\n",
       " <matplotlib.lines.Line2D at 0x18f645f2f60>,\n",
       " <matplotlib.lines.Line2D at 0x18f645f60f0>,\n",
       " <matplotlib.lines.Line2D at 0x18f645f6240>,\n",
       " <matplotlib.lines.Line2D at 0x18f645f6390>,\n",
       " <matplotlib.lines.Line2D at 0x18f645f64e0>,\n",
       " <matplotlib.lines.Line2D at 0x18f645f6630>,\n",
       " <matplotlib.lines.Line2D at 0x18f645f6780>,\n",
       " <matplotlib.lines.Line2D at 0x18f645f68d0>,\n",
       " <matplotlib.lines.Line2D at 0x18f645f6a20>,\n",
       " <matplotlib.lines.Line2D at 0x18f645f6b70>,\n",
       " <matplotlib.lines.Line2D at 0x18f645f6cc0>,\n",
       " <matplotlib.lines.Line2D at 0x18f645f6e10>,\n",
       " <matplotlib.lines.Line2D at 0x18f645f6f60>,\n",
       " <matplotlib.lines.Line2D at 0x18f645fc0f0>,\n",
       " <matplotlib.lines.Line2D at 0x18f645fc240>,\n",
       " <matplotlib.lines.Line2D at 0x18f645fc390>,\n",
       " <matplotlib.lines.Line2D at 0x18f645fc4e0>,\n",
       " <matplotlib.lines.Line2D at 0x18f645fc630>,\n",
       " <matplotlib.lines.Line2D at 0x18f645fc780>,\n",
       " <matplotlib.lines.Line2D at 0x18f645fc8d0>,\n",
       " <matplotlib.lines.Line2D at 0x18f645fca20>,\n",
       " <matplotlib.lines.Line2D at 0x18f645fcb70>,\n",
       " <matplotlib.lines.Line2D at 0x18f645fccc0>,\n",
       " <matplotlib.lines.Line2D at 0x18f645fce10>,\n",
       " <matplotlib.lines.Line2D at 0x18f645fcf60>,\n",
       " <matplotlib.lines.Line2D at 0x18f646010f0>,\n",
       " <matplotlib.lines.Line2D at 0x18f64601240>,\n",
       " <matplotlib.lines.Line2D at 0x18f64601390>,\n",
       " <matplotlib.lines.Line2D at 0x18f646014e0>,\n",
       " <matplotlib.lines.Line2D at 0x18f64601630>,\n",
       " <matplotlib.lines.Line2D at 0x18f64601780>,\n",
       " <matplotlib.lines.Line2D at 0x18f646018d0>,\n",
       " <matplotlib.lines.Line2D at 0x18f64601a20>,\n",
       " <matplotlib.lines.Line2D at 0x18f64601b70>,\n",
       " <matplotlib.lines.Line2D at 0x18f64601cc0>,\n",
       " <matplotlib.lines.Line2D at 0x18f64601e10>,\n",
       " <matplotlib.lines.Line2D at 0x18f64601f60>,\n",
       " <matplotlib.lines.Line2D at 0x18f646060f0>,\n",
       " <matplotlib.lines.Line2D at 0x18f64606240>,\n",
       " <matplotlib.lines.Line2D at 0x18f64606390>,\n",
       " <matplotlib.lines.Line2D at 0x18f646064e0>,\n",
       " <matplotlib.lines.Line2D at 0x18f64606630>,\n",
       " <matplotlib.lines.Line2D at 0x18f64606780>,\n",
       " <matplotlib.lines.Line2D at 0x18f646068d0>,\n",
       " <matplotlib.lines.Line2D at 0x18f64606a20>,\n",
       " <matplotlib.lines.Line2D at 0x18f64606b70>,\n",
       " <matplotlib.lines.Line2D at 0x18f64606cc0>,\n",
       " <matplotlib.lines.Line2D at 0x18f64606e10>,\n",
       " <matplotlib.lines.Line2D at 0x18f64606f60>,\n",
       " <matplotlib.lines.Line2D at 0x18f6460a0f0>,\n",
       " <matplotlib.lines.Line2D at 0x18f6460a240>,\n",
       " <matplotlib.lines.Line2D at 0x18f6460a390>,\n",
       " <matplotlib.lines.Line2D at 0x18f6460a4e0>,\n",
       " <matplotlib.lines.Line2D at 0x18f6460a630>,\n",
       " <matplotlib.lines.Line2D at 0x18f6460a780>,\n",
       " <matplotlib.lines.Line2D at 0x18f6460a8d0>,\n",
       " <matplotlib.lines.Line2D at 0x18f6460aa20>,\n",
       " <matplotlib.lines.Line2D at 0x18f6460ab70>,\n",
       " <matplotlib.lines.Line2D at 0x18f6460acc0>,\n",
       " <matplotlib.lines.Line2D at 0x18f6460ae10>,\n",
       " <matplotlib.lines.Line2D at 0x18f6460af60>,\n",
       " <matplotlib.lines.Line2D at 0x18f646110f0>,\n",
       " <matplotlib.lines.Line2D at 0x18f64611240>,\n",
       " <matplotlib.lines.Line2D at 0x18f64611390>,\n",
       " <matplotlib.lines.Line2D at 0x18f646114e0>,\n",
       " <matplotlib.lines.Line2D at 0x18f64611630>,\n",
       " <matplotlib.lines.Line2D at 0x18f64611780>,\n",
       " <matplotlib.lines.Line2D at 0x18f646118d0>,\n",
       " <matplotlib.lines.Line2D at 0x18f64611a20>,\n",
       " <matplotlib.lines.Line2D at 0x18f64611b70>,\n",
       " <matplotlib.lines.Line2D at 0x18f64611cc0>,\n",
       " <matplotlib.lines.Line2D at 0x18f64611e10>,\n",
       " <matplotlib.lines.Line2D at 0x18f64611f60>,\n",
       " <matplotlib.lines.Line2D at 0x18f646160f0>,\n",
       " <matplotlib.lines.Line2D at 0x18f64616240>,\n",
       " <matplotlib.lines.Line2D at 0x18f64616390>,\n",
       " <matplotlib.lines.Line2D at 0x18f646164e0>,\n",
       " <matplotlib.lines.Line2D at 0x18f64616630>,\n",
       " <matplotlib.lines.Line2D at 0x18f64616780>,\n",
       " <matplotlib.lines.Line2D at 0x18f646168d0>,\n",
       " <matplotlib.lines.Line2D at 0x18f64616a20>,\n",
       " <matplotlib.lines.Line2D at 0x18f64616b70>,\n",
       " <matplotlib.lines.Line2D at 0x18f64616cc0>,\n",
       " <matplotlib.lines.Line2D at 0x18f64616e10>,\n",
       " <matplotlib.lines.Line2D at 0x18f64616f60>,\n",
       " <matplotlib.lines.Line2D at 0x18f6461b0f0>,\n",
       " <matplotlib.lines.Line2D at 0x18f6461b240>,\n",
       " <matplotlib.lines.Line2D at 0x18f6461b390>,\n",
       " <matplotlib.lines.Line2D at 0x18f6461b4e0>,\n",
       " <matplotlib.lines.Line2D at 0x18f6461b630>,\n",
       " <matplotlib.lines.Line2D at 0x18f6461b780>,\n",
       " <matplotlib.lines.Line2D at 0x18f6461b8d0>,\n",
       " <matplotlib.lines.Line2D at 0x18f6461ba20>,\n",
       " <matplotlib.lines.Line2D at 0x18f6461bb70>,\n",
       " <matplotlib.lines.Line2D at 0x18f6461bcc0>,\n",
       " <matplotlib.lines.Line2D at 0x18f6461be10>,\n",
       " <matplotlib.lines.Line2D at 0x18f6461bf60>,\n",
       " <matplotlib.lines.Line2D at 0x18f646200f0>,\n",
       " <matplotlib.lines.Line2D at 0x18f64620240>,\n",
       " <matplotlib.lines.Line2D at 0x18f64620390>,\n",
       " <matplotlib.lines.Line2D at 0x18f646204e0>,\n",
       " <matplotlib.lines.Line2D at 0x18f64620630>,\n",
       " <matplotlib.lines.Line2D at 0x18f64620780>,\n",
       " <matplotlib.lines.Line2D at 0x18f646208d0>,\n",
       " <matplotlib.lines.Line2D at 0x18f64620a20>,\n",
       " <matplotlib.lines.Line2D at 0x18f64620b70>,\n",
       " <matplotlib.lines.Line2D at 0x18f64620cc0>,\n",
       " <matplotlib.lines.Line2D at 0x18f64620e10>,\n",
       " <matplotlib.lines.Line2D at 0x18f64620f60>,\n",
       " <matplotlib.lines.Line2D at 0x18f646250f0>,\n",
       " <matplotlib.lines.Line2D at 0x18f64625240>,\n",
       " <matplotlib.lines.Line2D at 0x18f64625390>,\n",
       " <matplotlib.lines.Line2D at 0x18f646254e0>,\n",
       " <matplotlib.lines.Line2D at 0x18f64625630>,\n",
       " <matplotlib.lines.Line2D at 0x18f64625780>,\n",
       " <matplotlib.lines.Line2D at 0x18f646258d0>,\n",
       " <matplotlib.lines.Line2D at 0x18f64625a20>,\n",
       " <matplotlib.lines.Line2D at 0x18f64625b70>,\n",
       " <matplotlib.lines.Line2D at 0x18f64625cc0>,\n",
       " <matplotlib.lines.Line2D at 0x18f64625e10>,\n",
       " <matplotlib.lines.Line2D at 0x18f64625f60>,\n",
       " <matplotlib.lines.Line2D at 0x18f6462a0f0>,\n",
       " <matplotlib.lines.Line2D at 0x18f6462a240>,\n",
       " <matplotlib.lines.Line2D at 0x18f6462a390>,\n",
       " <matplotlib.lines.Line2D at 0x18f6462a4e0>,\n",
       " <matplotlib.lines.Line2D at 0x18f6462a630>,\n",
       " <matplotlib.lines.Line2D at 0x18f6462a780>,\n",
       " <matplotlib.lines.Line2D at 0x18f6462a8d0>,\n",
       " <matplotlib.lines.Line2D at 0x18f6462aa20>,\n",
       " <matplotlib.lines.Line2D at 0x18f6462ab70>,\n",
       " <matplotlib.lines.Line2D at 0x18f6462acc0>,\n",
       " <matplotlib.lines.Line2D at 0x18f6462ae10>,\n",
       " <matplotlib.lines.Line2D at 0x18f6462af60>,\n",
       " <matplotlib.lines.Line2D at 0x18f6462f0f0>,\n",
       " <matplotlib.lines.Line2D at 0x18f6462f240>,\n",
       " <matplotlib.lines.Line2D at 0x18f6462f390>,\n",
       " <matplotlib.lines.Line2D at 0x18f6462f4e0>,\n",
       " <matplotlib.lines.Line2D at 0x18f6462f630>,\n",
       " <matplotlib.lines.Line2D at 0x18f6462f780>,\n",
       " <matplotlib.lines.Line2D at 0x18f6462f8d0>,\n",
       " <matplotlib.lines.Line2D at 0x18f6462fa20>,\n",
       " <matplotlib.lines.Line2D at 0x18f6462fb70>,\n",
       " <matplotlib.lines.Line2D at 0x18f6462fcc0>,\n",
       " <matplotlib.lines.Line2D at 0x18f6462fe10>,\n",
       " <matplotlib.lines.Line2D at 0x18f6462ff60>,\n",
       " <matplotlib.lines.Line2D at 0x18f646340f0>,\n",
       " <matplotlib.lines.Line2D at 0x18f64634240>,\n",
       " <matplotlib.lines.Line2D at 0x18f64634390>,\n",
       " <matplotlib.lines.Line2D at 0x18f646344e0>,\n",
       " <matplotlib.lines.Line2D at 0x18f64634630>,\n",
       " <matplotlib.lines.Line2D at 0x18f64634780>,\n",
       " <matplotlib.lines.Line2D at 0x18f646348d0>,\n",
       " <matplotlib.lines.Line2D at 0x18f64634a20>,\n",
       " <matplotlib.lines.Line2D at 0x18f64634b70>,\n",
       " <matplotlib.lines.Line2D at 0x18f64634cc0>,\n",
       " <matplotlib.lines.Line2D at 0x18f64634e10>,\n",
       " <matplotlib.lines.Line2D at 0x18f64634f60>,\n",
       " <matplotlib.lines.Line2D at 0x18f6463a0f0>,\n",
       " <matplotlib.lines.Line2D at 0x18f6463a240>,\n",
       " <matplotlib.lines.Line2D at 0x18f6463a390>,\n",
       " <matplotlib.lines.Line2D at 0x18f6463a4e0>,\n",
       " <matplotlib.lines.Line2D at 0x18f6463a630>,\n",
       " <matplotlib.lines.Line2D at 0x18f6463a780>,\n",
       " <matplotlib.lines.Line2D at 0x18f6463a8d0>,\n",
       " <matplotlib.lines.Line2D at 0x18f6463aa20>,\n",
       " <matplotlib.lines.Line2D at 0x18f6463ab70>,\n",
       " <matplotlib.lines.Line2D at 0x18f6463acc0>,\n",
       " ...]"
      ]
     },
     "execution_count": 14,
     "metadata": {},
     "output_type": "execute_result"
    },
    {
     "name": "stdout",
     "output_type": "stream",
     "text": [
      "Error in callback <function install_repl_displayhook.<locals>.post_execute at 0x0000018F4AD44D08> (for post_execute):\n"
     ]
    },
    {
     "ename": "KeyboardInterrupt",
     "evalue": "",
     "output_type": "error",
     "traceback": [
      "\u001b[1;31m---------------------------------------------------------------------------\u001b[0m",
      "\u001b[1;31mKeyboardInterrupt\u001b[0m                         Traceback (most recent call last)",
      "\u001b[1;32m~\\AppData\\Local\\conda\\conda\\envs\\opt\\lib\\site-packages\\matplotlib\\pyplot.py\u001b[0m in \u001b[0;36mpost_execute\u001b[1;34m()\u001b[0m\n\u001b[0;32m    107\u001b[0m             \u001b[1;32mdef\u001b[0m \u001b[0mpost_execute\u001b[0m\u001b[1;33m(\u001b[0m\u001b[1;33m)\u001b[0m\u001b[1;33m:\u001b[0m\u001b[1;33m\u001b[0m\u001b[1;33m\u001b[0m\u001b[0m\n\u001b[0;32m    108\u001b[0m                 \u001b[1;32mif\u001b[0m \u001b[0mmatplotlib\u001b[0m\u001b[1;33m.\u001b[0m\u001b[0mis_interactive\u001b[0m\u001b[1;33m(\u001b[0m\u001b[1;33m)\u001b[0m\u001b[1;33m:\u001b[0m\u001b[1;33m\u001b[0m\u001b[1;33m\u001b[0m\u001b[0m\n\u001b[1;32m--> 109\u001b[1;33m                     \u001b[0mdraw_all\u001b[0m\u001b[1;33m(\u001b[0m\u001b[1;33m)\u001b[0m\u001b[1;33m\u001b[0m\u001b[1;33m\u001b[0m\u001b[0m\n\u001b[0m\u001b[0;32m    110\u001b[0m \u001b[1;33m\u001b[0m\u001b[0m\n\u001b[0;32m    111\u001b[0m             \u001b[1;31m# IPython >= 2\u001b[0m\u001b[1;33m\u001b[0m\u001b[1;33m\u001b[0m\u001b[1;33m\u001b[0m\u001b[0m\n",
      "\u001b[1;32m~\\AppData\\Local\\conda\\conda\\envs\\opt\\lib\\site-packages\\matplotlib\\_pylab_helpers.py\u001b[0m in \u001b[0;36mdraw_all\u001b[1;34m(cls, force)\u001b[0m\n\u001b[0;32m    130\u001b[0m         \u001b[1;32mfor\u001b[0m \u001b[0mf_mgr\u001b[0m \u001b[1;32min\u001b[0m \u001b[0mcls\u001b[0m\u001b[1;33m.\u001b[0m\u001b[0mget_all_fig_managers\u001b[0m\u001b[1;33m(\u001b[0m\u001b[1;33m)\u001b[0m\u001b[1;33m:\u001b[0m\u001b[1;33m\u001b[0m\u001b[1;33m\u001b[0m\u001b[0m\n\u001b[0;32m    131\u001b[0m             \u001b[1;32mif\u001b[0m \u001b[0mforce\u001b[0m \u001b[1;32mor\u001b[0m \u001b[0mf_mgr\u001b[0m\u001b[1;33m.\u001b[0m\u001b[0mcanvas\u001b[0m\u001b[1;33m.\u001b[0m\u001b[0mfigure\u001b[0m\u001b[1;33m.\u001b[0m\u001b[0mstale\u001b[0m\u001b[1;33m:\u001b[0m\u001b[1;33m\u001b[0m\u001b[1;33m\u001b[0m\u001b[0m\n\u001b[1;32m--> 132\u001b[1;33m                 \u001b[0mf_mgr\u001b[0m\u001b[1;33m.\u001b[0m\u001b[0mcanvas\u001b[0m\u001b[1;33m.\u001b[0m\u001b[0mdraw_idle\u001b[0m\u001b[1;33m(\u001b[0m\u001b[1;33m)\u001b[0m\u001b[1;33m\u001b[0m\u001b[1;33m\u001b[0m\u001b[0m\n\u001b[0m\u001b[0;32m    133\u001b[0m \u001b[1;33m\u001b[0m\u001b[0m\n\u001b[0;32m    134\u001b[0m \u001b[0matexit\u001b[0m\u001b[1;33m.\u001b[0m\u001b[0mregister\u001b[0m\u001b[1;33m(\u001b[0m\u001b[0mGcf\u001b[0m\u001b[1;33m.\u001b[0m\u001b[0mdestroy_all\u001b[0m\u001b[1;33m)\u001b[0m\u001b[1;33m\u001b[0m\u001b[1;33m\u001b[0m\u001b[0m\n",
      "\u001b[1;32m~\\AppData\\Local\\conda\\conda\\envs\\opt\\lib\\site-packages\\matplotlib\\backend_bases.py\u001b[0m in \u001b[0;36mdraw_idle\u001b[1;34m(self, *args, **kwargs)\u001b[0m\n\u001b[0;32m   1897\u001b[0m         \u001b[1;32mif\u001b[0m \u001b[1;32mnot\u001b[0m \u001b[0mself\u001b[0m\u001b[1;33m.\u001b[0m\u001b[0m_is_idle_drawing\u001b[0m\u001b[1;33m:\u001b[0m\u001b[1;33m\u001b[0m\u001b[1;33m\u001b[0m\u001b[0m\n\u001b[0;32m   1898\u001b[0m             \u001b[1;32mwith\u001b[0m \u001b[0mself\u001b[0m\u001b[1;33m.\u001b[0m\u001b[0m_idle_draw_cntx\u001b[0m\u001b[1;33m(\u001b[0m\u001b[1;33m)\u001b[0m\u001b[1;33m:\u001b[0m\u001b[1;33m\u001b[0m\u001b[1;33m\u001b[0m\u001b[0m\n\u001b[1;32m-> 1899\u001b[1;33m                 \u001b[0mself\u001b[0m\u001b[1;33m.\u001b[0m\u001b[0mdraw\u001b[0m\u001b[1;33m(\u001b[0m\u001b[1;33m*\u001b[0m\u001b[0margs\u001b[0m\u001b[1;33m,\u001b[0m \u001b[1;33m**\u001b[0m\u001b[0mkwargs\u001b[0m\u001b[1;33m)\u001b[0m\u001b[1;33m\u001b[0m\u001b[1;33m\u001b[0m\u001b[0m\n\u001b[0m\u001b[0;32m   1900\u001b[0m \u001b[1;33m\u001b[0m\u001b[0m\n\u001b[0;32m   1901\u001b[0m     \u001b[1;32mdef\u001b[0m \u001b[0mdraw_cursor\u001b[0m\u001b[1;33m(\u001b[0m\u001b[0mself\u001b[0m\u001b[1;33m,\u001b[0m \u001b[0mevent\u001b[0m\u001b[1;33m)\u001b[0m\u001b[1;33m:\u001b[0m\u001b[1;33m\u001b[0m\u001b[1;33m\u001b[0m\u001b[0m\n",
      "\u001b[1;32m~\\AppData\\Local\\conda\\conda\\envs\\opt\\lib\\site-packages\\matplotlib\\backends\\backend_agg.py\u001b[0m in \u001b[0;36mdraw\u001b[1;34m(self)\u001b[0m\n\u001b[0;32m    400\u001b[0m         \u001b[0mtoolbar\u001b[0m \u001b[1;33m=\u001b[0m \u001b[0mself\u001b[0m\u001b[1;33m.\u001b[0m\u001b[0mtoolbar\u001b[0m\u001b[1;33m\u001b[0m\u001b[1;33m\u001b[0m\u001b[0m\n\u001b[0;32m    401\u001b[0m         \u001b[1;32mtry\u001b[0m\u001b[1;33m:\u001b[0m\u001b[1;33m\u001b[0m\u001b[1;33m\u001b[0m\u001b[0m\n\u001b[1;32m--> 402\u001b[1;33m             \u001b[0mself\u001b[0m\u001b[1;33m.\u001b[0m\u001b[0mfigure\u001b[0m\u001b[1;33m.\u001b[0m\u001b[0mdraw\u001b[0m\u001b[1;33m(\u001b[0m\u001b[0mself\u001b[0m\u001b[1;33m.\u001b[0m\u001b[0mrenderer\u001b[0m\u001b[1;33m)\u001b[0m\u001b[1;33m\u001b[0m\u001b[1;33m\u001b[0m\u001b[0m\n\u001b[0m\u001b[0;32m    403\u001b[0m             \u001b[1;31m# A GUI class may be need to update a window using this draw, so\u001b[0m\u001b[1;33m\u001b[0m\u001b[1;33m\u001b[0m\u001b[1;33m\u001b[0m\u001b[0m\n\u001b[0;32m    404\u001b[0m             \u001b[1;31m# don't forget to call the superclass.\u001b[0m\u001b[1;33m\u001b[0m\u001b[1;33m\u001b[0m\u001b[1;33m\u001b[0m\u001b[0m\n",
      "\u001b[1;32m~\\AppData\\Local\\conda\\conda\\envs\\opt\\lib\\site-packages\\matplotlib\\artist.py\u001b[0m in \u001b[0;36mdraw_wrapper\u001b[1;34m(artist, renderer, *args, **kwargs)\u001b[0m\n\u001b[0;32m     48\u001b[0m                 \u001b[0mrenderer\u001b[0m\u001b[1;33m.\u001b[0m\u001b[0mstart_filter\u001b[0m\u001b[1;33m(\u001b[0m\u001b[1;33m)\u001b[0m\u001b[1;33m\u001b[0m\u001b[1;33m\u001b[0m\u001b[0m\n\u001b[0;32m     49\u001b[0m \u001b[1;33m\u001b[0m\u001b[0m\n\u001b[1;32m---> 50\u001b[1;33m             \u001b[1;32mreturn\u001b[0m \u001b[0mdraw\u001b[0m\u001b[1;33m(\u001b[0m\u001b[0martist\u001b[0m\u001b[1;33m,\u001b[0m \u001b[0mrenderer\u001b[0m\u001b[1;33m,\u001b[0m \u001b[1;33m*\u001b[0m\u001b[0margs\u001b[0m\u001b[1;33m,\u001b[0m \u001b[1;33m**\u001b[0m\u001b[0mkwargs\u001b[0m\u001b[1;33m)\u001b[0m\u001b[1;33m\u001b[0m\u001b[1;33m\u001b[0m\u001b[0m\n\u001b[0m\u001b[0;32m     51\u001b[0m         \u001b[1;32mfinally\u001b[0m\u001b[1;33m:\u001b[0m\u001b[1;33m\u001b[0m\u001b[1;33m\u001b[0m\u001b[0m\n\u001b[0;32m     52\u001b[0m             \u001b[1;32mif\u001b[0m \u001b[0martist\u001b[0m\u001b[1;33m.\u001b[0m\u001b[0mget_agg_filter\u001b[0m\u001b[1;33m(\u001b[0m\u001b[1;33m)\u001b[0m \u001b[1;32mis\u001b[0m \u001b[1;32mnot\u001b[0m \u001b[1;32mNone\u001b[0m\u001b[1;33m:\u001b[0m\u001b[1;33m\u001b[0m\u001b[1;33m\u001b[0m\u001b[0m\n",
      "\u001b[1;32m~\\AppData\\Local\\conda\\conda\\envs\\opt\\lib\\site-packages\\matplotlib\\figure.py\u001b[0m in \u001b[0;36mdraw\u001b[1;34m(self, renderer)\u001b[0m\n\u001b[0;32m   1647\u001b[0m \u001b[1;33m\u001b[0m\u001b[0m\n\u001b[0;32m   1648\u001b[0m             mimage._draw_list_compositing_images(\n\u001b[1;32m-> 1649\u001b[1;33m                 renderer, self, artists, self.suppressComposite)\n\u001b[0m\u001b[0;32m   1650\u001b[0m \u001b[1;33m\u001b[0m\u001b[0m\n\u001b[0;32m   1651\u001b[0m             \u001b[0mrenderer\u001b[0m\u001b[1;33m.\u001b[0m\u001b[0mclose_group\u001b[0m\u001b[1;33m(\u001b[0m\u001b[1;34m'figure'\u001b[0m\u001b[1;33m)\u001b[0m\u001b[1;33m\u001b[0m\u001b[1;33m\u001b[0m\u001b[0m\n",
      "\u001b[1;32m~\\AppData\\Local\\conda\\conda\\envs\\opt\\lib\\site-packages\\matplotlib\\image.py\u001b[0m in \u001b[0;36m_draw_list_compositing_images\u001b[1;34m(renderer, parent, artists, suppress_composite)\u001b[0m\n\u001b[0;32m    136\u001b[0m     \u001b[1;32mif\u001b[0m \u001b[0mnot_composite\u001b[0m \u001b[1;32mor\u001b[0m \u001b[1;32mnot\u001b[0m \u001b[0mhas_images\u001b[0m\u001b[1;33m:\u001b[0m\u001b[1;33m\u001b[0m\u001b[1;33m\u001b[0m\u001b[0m\n\u001b[0;32m    137\u001b[0m         \u001b[1;32mfor\u001b[0m \u001b[0ma\u001b[0m \u001b[1;32min\u001b[0m \u001b[0martists\u001b[0m\u001b[1;33m:\u001b[0m\u001b[1;33m\u001b[0m\u001b[1;33m\u001b[0m\u001b[0m\n\u001b[1;32m--> 138\u001b[1;33m             \u001b[0ma\u001b[0m\u001b[1;33m.\u001b[0m\u001b[0mdraw\u001b[0m\u001b[1;33m(\u001b[0m\u001b[0mrenderer\u001b[0m\u001b[1;33m)\u001b[0m\u001b[1;33m\u001b[0m\u001b[1;33m\u001b[0m\u001b[0m\n\u001b[0m\u001b[0;32m    139\u001b[0m     \u001b[1;32melse\u001b[0m\u001b[1;33m:\u001b[0m\u001b[1;33m\u001b[0m\u001b[1;33m\u001b[0m\u001b[0m\n\u001b[0;32m    140\u001b[0m         \u001b[1;31m# Composite any adjacent images together\u001b[0m\u001b[1;33m\u001b[0m\u001b[1;33m\u001b[0m\u001b[1;33m\u001b[0m\u001b[0m\n",
      "\u001b[1;32m~\\AppData\\Local\\conda\\conda\\envs\\opt\\lib\\site-packages\\matplotlib\\artist.py\u001b[0m in \u001b[0;36mdraw_wrapper\u001b[1;34m(artist, renderer, *args, **kwargs)\u001b[0m\n\u001b[0;32m     48\u001b[0m                 \u001b[0mrenderer\u001b[0m\u001b[1;33m.\u001b[0m\u001b[0mstart_filter\u001b[0m\u001b[1;33m(\u001b[0m\u001b[1;33m)\u001b[0m\u001b[1;33m\u001b[0m\u001b[1;33m\u001b[0m\u001b[0m\n\u001b[0;32m     49\u001b[0m \u001b[1;33m\u001b[0m\u001b[0m\n\u001b[1;32m---> 50\u001b[1;33m             \u001b[1;32mreturn\u001b[0m \u001b[0mdraw\u001b[0m\u001b[1;33m(\u001b[0m\u001b[0martist\u001b[0m\u001b[1;33m,\u001b[0m \u001b[0mrenderer\u001b[0m\u001b[1;33m,\u001b[0m \u001b[1;33m*\u001b[0m\u001b[0margs\u001b[0m\u001b[1;33m,\u001b[0m \u001b[1;33m**\u001b[0m\u001b[0mkwargs\u001b[0m\u001b[1;33m)\u001b[0m\u001b[1;33m\u001b[0m\u001b[1;33m\u001b[0m\u001b[0m\n\u001b[0m\u001b[0;32m     51\u001b[0m         \u001b[1;32mfinally\u001b[0m\u001b[1;33m:\u001b[0m\u001b[1;33m\u001b[0m\u001b[1;33m\u001b[0m\u001b[0m\n\u001b[0;32m     52\u001b[0m             \u001b[1;32mif\u001b[0m \u001b[0martist\u001b[0m\u001b[1;33m.\u001b[0m\u001b[0mget_agg_filter\u001b[0m\u001b[1;33m(\u001b[0m\u001b[1;33m)\u001b[0m \u001b[1;32mis\u001b[0m \u001b[1;32mnot\u001b[0m \u001b[1;32mNone\u001b[0m\u001b[1;33m:\u001b[0m\u001b[1;33m\u001b[0m\u001b[1;33m\u001b[0m\u001b[0m\n",
      "\u001b[1;32m~\\AppData\\Local\\conda\\conda\\envs\\opt\\lib\\site-packages\\matplotlib\\axes\\_base.py\u001b[0m in \u001b[0;36mdraw\u001b[1;34m(self, renderer, inframe)\u001b[0m\n\u001b[0;32m   2626\u001b[0m             \u001b[0mrenderer\u001b[0m\u001b[1;33m.\u001b[0m\u001b[0mstop_rasterizing\u001b[0m\u001b[1;33m(\u001b[0m\u001b[1;33m)\u001b[0m\u001b[1;33m\u001b[0m\u001b[1;33m\u001b[0m\u001b[0m\n\u001b[0;32m   2627\u001b[0m \u001b[1;33m\u001b[0m\u001b[0m\n\u001b[1;32m-> 2628\u001b[1;33m         \u001b[0mmimage\u001b[0m\u001b[1;33m.\u001b[0m\u001b[0m_draw_list_compositing_images\u001b[0m\u001b[1;33m(\u001b[0m\u001b[0mrenderer\u001b[0m\u001b[1;33m,\u001b[0m \u001b[0mself\u001b[0m\u001b[1;33m,\u001b[0m \u001b[0martists\u001b[0m\u001b[1;33m)\u001b[0m\u001b[1;33m\u001b[0m\u001b[1;33m\u001b[0m\u001b[0m\n\u001b[0m\u001b[0;32m   2629\u001b[0m \u001b[1;33m\u001b[0m\u001b[0m\n\u001b[0;32m   2630\u001b[0m         \u001b[0mrenderer\u001b[0m\u001b[1;33m.\u001b[0m\u001b[0mclose_group\u001b[0m\u001b[1;33m(\u001b[0m\u001b[1;34m'axes'\u001b[0m\u001b[1;33m)\u001b[0m\u001b[1;33m\u001b[0m\u001b[1;33m\u001b[0m\u001b[0m\n",
      "\u001b[1;32m~\\AppData\\Local\\conda\\conda\\envs\\opt\\lib\\site-packages\\matplotlib\\image.py\u001b[0m in \u001b[0;36m_draw_list_compositing_images\u001b[1;34m(renderer, parent, artists, suppress_composite)\u001b[0m\n\u001b[0;32m    136\u001b[0m     \u001b[1;32mif\u001b[0m \u001b[0mnot_composite\u001b[0m \u001b[1;32mor\u001b[0m \u001b[1;32mnot\u001b[0m \u001b[0mhas_images\u001b[0m\u001b[1;33m:\u001b[0m\u001b[1;33m\u001b[0m\u001b[1;33m\u001b[0m\u001b[0m\n\u001b[0;32m    137\u001b[0m         \u001b[1;32mfor\u001b[0m \u001b[0ma\u001b[0m \u001b[1;32min\u001b[0m \u001b[0martists\u001b[0m\u001b[1;33m:\u001b[0m\u001b[1;33m\u001b[0m\u001b[1;33m\u001b[0m\u001b[0m\n\u001b[1;32m--> 138\u001b[1;33m             \u001b[0ma\u001b[0m\u001b[1;33m.\u001b[0m\u001b[0mdraw\u001b[0m\u001b[1;33m(\u001b[0m\u001b[0mrenderer\u001b[0m\u001b[1;33m)\u001b[0m\u001b[1;33m\u001b[0m\u001b[1;33m\u001b[0m\u001b[0m\n\u001b[0m\u001b[0;32m    139\u001b[0m     \u001b[1;32melse\u001b[0m\u001b[1;33m:\u001b[0m\u001b[1;33m\u001b[0m\u001b[1;33m\u001b[0m\u001b[0m\n\u001b[0;32m    140\u001b[0m         \u001b[1;31m# Composite any adjacent images together\u001b[0m\u001b[1;33m\u001b[0m\u001b[1;33m\u001b[0m\u001b[1;33m\u001b[0m\u001b[0m\n",
      "\u001b[1;32m~\\AppData\\Local\\conda\\conda\\envs\\opt\\lib\\site-packages\\matplotlib\\artist.py\u001b[0m in \u001b[0;36mdraw_wrapper\u001b[1;34m(artist, renderer, *args, **kwargs)\u001b[0m\n\u001b[0;32m     48\u001b[0m                 \u001b[0mrenderer\u001b[0m\u001b[1;33m.\u001b[0m\u001b[0mstart_filter\u001b[0m\u001b[1;33m(\u001b[0m\u001b[1;33m)\u001b[0m\u001b[1;33m\u001b[0m\u001b[1;33m\u001b[0m\u001b[0m\n\u001b[0;32m     49\u001b[0m \u001b[1;33m\u001b[0m\u001b[0m\n\u001b[1;32m---> 50\u001b[1;33m             \u001b[1;32mreturn\u001b[0m \u001b[0mdraw\u001b[0m\u001b[1;33m(\u001b[0m\u001b[0martist\u001b[0m\u001b[1;33m,\u001b[0m \u001b[0mrenderer\u001b[0m\u001b[1;33m,\u001b[0m \u001b[1;33m*\u001b[0m\u001b[0margs\u001b[0m\u001b[1;33m,\u001b[0m \u001b[1;33m**\u001b[0m\u001b[0mkwargs\u001b[0m\u001b[1;33m)\u001b[0m\u001b[1;33m\u001b[0m\u001b[1;33m\u001b[0m\u001b[0m\n\u001b[0m\u001b[0;32m     51\u001b[0m         \u001b[1;32mfinally\u001b[0m\u001b[1;33m:\u001b[0m\u001b[1;33m\u001b[0m\u001b[1;33m\u001b[0m\u001b[0m\n\u001b[0;32m     52\u001b[0m             \u001b[1;32mif\u001b[0m \u001b[0martist\u001b[0m\u001b[1;33m.\u001b[0m\u001b[0mget_agg_filter\u001b[0m\u001b[1;33m(\u001b[0m\u001b[1;33m)\u001b[0m \u001b[1;32mis\u001b[0m \u001b[1;32mnot\u001b[0m \u001b[1;32mNone\u001b[0m\u001b[1;33m:\u001b[0m\u001b[1;33m\u001b[0m\u001b[1;33m\u001b[0m\u001b[0m\n",
      "\u001b[1;32m~\\AppData\\Local\\conda\\conda\\envs\\opt\\lib\\site-packages\\matplotlib\\lines.py\u001b[0m in \u001b[0;36mdraw\u001b[1;34m(self, renderer)\u001b[0m\n\u001b[0;32m    769\u001b[0m \u001b[1;33m\u001b[0m\u001b[0m\n\u001b[0;32m    770\u001b[0m                 \u001b[0mgc\u001b[0m\u001b[1;33m.\u001b[0m\u001b[0mset_dashes\u001b[0m\u001b[1;33m(\u001b[0m\u001b[0mself\u001b[0m\u001b[1;33m.\u001b[0m\u001b[0m_dashOffset\u001b[0m\u001b[1;33m,\u001b[0m \u001b[0mself\u001b[0m\u001b[1;33m.\u001b[0m\u001b[0m_dashSeq\u001b[0m\u001b[1;33m)\u001b[0m\u001b[1;33m\u001b[0m\u001b[1;33m\u001b[0m\u001b[0m\n\u001b[1;32m--> 771\u001b[1;33m                 \u001b[0mrenderer\u001b[0m\u001b[1;33m.\u001b[0m\u001b[0mdraw_path\u001b[0m\u001b[1;33m(\u001b[0m\u001b[0mgc\u001b[0m\u001b[1;33m,\u001b[0m \u001b[0mtpath\u001b[0m\u001b[1;33m,\u001b[0m \u001b[0maffine\u001b[0m\u001b[1;33m.\u001b[0m\u001b[0mfrozen\u001b[0m\u001b[1;33m(\u001b[0m\u001b[1;33m)\u001b[0m\u001b[1;33m)\u001b[0m\u001b[1;33m\u001b[0m\u001b[1;33m\u001b[0m\u001b[0m\n\u001b[0m\u001b[0;32m    772\u001b[0m                 \u001b[0mgc\u001b[0m\u001b[1;33m.\u001b[0m\u001b[0mrestore\u001b[0m\u001b[1;33m(\u001b[0m\u001b[1;33m)\u001b[0m\u001b[1;33m\u001b[0m\u001b[1;33m\u001b[0m\u001b[0m\n\u001b[0;32m    773\u001b[0m \u001b[1;33m\u001b[0m\u001b[0m\n",
      "\u001b[1;32m~\\AppData\\Local\\conda\\conda\\envs\\opt\\lib\\site-packages\\matplotlib\\backends\\backend_agg.py\u001b[0m in \u001b[0;36mdraw_path\u001b[1;34m(self, gc, path, transform, rgbFace)\u001b[0m\n\u001b[0;32m    147\u001b[0m         \u001b[1;32melse\u001b[0m\u001b[1;33m:\u001b[0m\u001b[1;33m\u001b[0m\u001b[1;33m\u001b[0m\u001b[0m\n\u001b[0;32m    148\u001b[0m             \u001b[1;32mtry\u001b[0m\u001b[1;33m:\u001b[0m\u001b[1;33m\u001b[0m\u001b[1;33m\u001b[0m\u001b[0m\n\u001b[1;32m--> 149\u001b[1;33m                 \u001b[0mself\u001b[0m\u001b[1;33m.\u001b[0m\u001b[0m_renderer\u001b[0m\u001b[1;33m.\u001b[0m\u001b[0mdraw_path\u001b[0m\u001b[1;33m(\u001b[0m\u001b[0mgc\u001b[0m\u001b[1;33m,\u001b[0m \u001b[0mpath\u001b[0m\u001b[1;33m,\u001b[0m \u001b[0mtransform\u001b[0m\u001b[1;33m,\u001b[0m \u001b[0mrgbFace\u001b[0m\u001b[1;33m)\u001b[0m\u001b[1;33m\u001b[0m\u001b[1;33m\u001b[0m\u001b[0m\n\u001b[0m\u001b[0;32m    150\u001b[0m             \u001b[1;32mexcept\u001b[0m \u001b[0mOverflowError\u001b[0m\u001b[1;33m:\u001b[0m\u001b[1;33m\u001b[0m\u001b[1;33m\u001b[0m\u001b[0m\n\u001b[0;32m    151\u001b[0m                 raise OverflowError(\"Exceeded cell block limit (set \"\n",
      "\u001b[1;31mKeyboardInterrupt\u001b[0m: "
     ]
    },
    {
     "data": {
      "image/png": "[encoded data removed]",
      "text/plain": [
       "<Figure size 432x288 with 1 Axes>"
      ]
     },
     "metadata": {
      "needs_background": "light"
     },
     "output_type": "display_data"
    }
   ],
   "source": [
    "n = 2500\n",
    "m = 250\n",
    "fs = 8192              \n",
    "# sampling frequency \n",
    "t = np.arange(n) / fs\n",
    "y = ( np.sin(2*np.pi*521*t) + np.sin(2*np.pi*1233*t) ) /2.0\n",
    "\n",
    "D = scipy.fftpack.dct(np.eye(n), norm='ortho').transpose()\n",
    "k = sorted(random.sample(range(n), m)) # Pick m random points for the reconstruction\n",
    "A = D[k, :]\n",
    "b = y[k]\n",
    "\n",
    "plt.figure(figsize=(10.24, 2.56))      # change aspect ratio of plot \n",
    "plt.plot(t[k], b, 'ko', markersize=1)  # plot data to use to reconstruct\n",
    "plt.show()\n",
    "plt.plot(D,t)"
   ]
  },
  {
   "cell_type": "markdown",
   "metadata": {},
   "source": [
    "#### L2 Norm"
   ]
  },
  {
   "cell_type": "code",
   "execution_count": 3,
   "metadata": {},
   "outputs": [
    {
     "ename": "NameError",
     "evalue": "name 'cvx' is not defined",
     "output_type": "error",
     "traceback": [
      "\u001b[1;31m---------------------------------------------------------------------------\u001b[0m",
      "\u001b[1;31mNameError\u001b[0m                                 Traceback (most recent call last)",
      "\u001b[1;32m<ipython-input-3-7ecd3b74a6bb>\u001b[0m in \u001b[0;36m<module>\u001b[1;34m\u001b[0m\n\u001b[1;32m----> 1\u001b[1;33m \u001b[0mvx\u001b[0m \u001b[1;33m=\u001b[0m \u001b[0mcvx\u001b[0m\u001b[1;33m.\u001b[0m\u001b[0mVariable\u001b[0m\u001b[1;33m(\u001b[0m\u001b[0mn\u001b[0m\u001b[1;33m)\u001b[0m\u001b[1;33m\u001b[0m\u001b[1;33m\u001b[0m\u001b[0m\n\u001b[0m\u001b[0;32m      2\u001b[0m \u001b[0mobjective\u001b[0m \u001b[1;33m=\u001b[0m \u001b[0mcvx\u001b[0m\u001b[1;33m.\u001b[0m\u001b[0mMinimize\u001b[0m\u001b[1;33m(\u001b[0m\u001b[0mcvx\u001b[0m\u001b[1;33m.\u001b[0m\u001b[0mnorm\u001b[0m\u001b[1;33m(\u001b[0m\u001b[0mvx\u001b[0m\u001b[1;33m,\u001b[0m \u001b[1;36m2\u001b[0m\u001b[1;33m)\u001b[0m\u001b[1;33m)\u001b[0m\u001b[1;33m\u001b[0m\u001b[1;33m\u001b[0m\u001b[0m\n\u001b[0;32m      3\u001b[0m \u001b[0mconstraints\u001b[0m \u001b[1;33m=\u001b[0m \u001b[1;33m[\u001b[0m\u001b[0mA\u001b[0m\u001b[1;33m*\u001b[0m\u001b[0mvx\u001b[0m \u001b[1;33m==\u001b[0m \u001b[0mb\u001b[0m\u001b[1;33m]\u001b[0m\u001b[1;33m\u001b[0m\u001b[1;33m\u001b[0m\u001b[0m\n\u001b[0;32m      4\u001b[0m \u001b[0mprob\u001b[0m \u001b[1;33m=\u001b[0m \u001b[0mcvx\u001b[0m\u001b[1;33m.\u001b[0m\u001b[0mProblem\u001b[0m\u001b[1;33m(\u001b[0m\u001b[0mobjective\u001b[0m\u001b[1;33m,\u001b[0m \u001b[0mconstraints\u001b[0m\u001b[1;33m)\u001b[0m\u001b[1;33m\u001b[0m\u001b[1;33m\u001b[0m\u001b[0m\n\u001b[0;32m      5\u001b[0m \u001b[0mresult\u001b[0m \u001b[1;33m=\u001b[0m \u001b[0mprob\u001b[0m\u001b[1;33m.\u001b[0m\u001b[0msolve\u001b[0m\u001b[1;33m(\u001b[0m\u001b[0mverbose\u001b[0m\u001b[1;33m=\u001b[0m\u001b[1;32mTrue\u001b[0m\u001b[1;33m)\u001b[0m\u001b[1;33m\u001b[0m\u001b[1;33m\u001b[0m\u001b[0m\n",
      "\u001b[1;31mNameError\u001b[0m: name 'cvx' is not defined"
     ]
    }
   ],
   "source": [
    "vx = cvx.Variable(n)\n",
    "objective = cvx.Minimize(cvx.norm(vx, 2))\n",
    "constraints = [A*vx == b]\n",
    "prob = cvx.Problem(objective, constraints)\n",
    "result = prob.solve(verbose=True)"
   ]
  },
  {
   "cell_type": "code",
   "execution_count": 39,
   "metadata": {},
   "outputs": [],
   "source": [
    "x = np.array(vx.value)\n",
    "x = np.squeeze(x)\n",
    "sig = scipy.fftpack.idct(x, norm='ortho', axis=0)"
   ]
  },
  {
   "cell_type": "code",
   "execution_count": 40,
   "metadata": {},
   "outputs": [
    {
     "data": {
      "text/plain": [
       "(0, 0.05)"
      ]
     },
     "execution_count": 40,
     "metadata": {},
     "output_type": "execute_result"
    },
    {
     "data": {
      "image/png": "[encoded data removed]",
      "text/plain": [
       "<Figure size 432x288 with 1 Axes>"
      ]
     },
     "metadata": {},
     "output_type": "display_data"
    }
   ],
   "source": [
    "plt.plot(t, sig)\n",
    "plt.plot(t[k], b, 'ko', markersize=3, color='red')  # plot data to use to reconstruct\n",
    "plt.xlim((0,0.05))"
   ]
  },
  {
   "cell_type": "markdown",
   "metadata": {},
   "source": [
    "#### L1 Norm"
   ]
  },
  {
   "cell_type": "code",
   "execution_count": 6,
   "metadata": {},
   "outputs": [
    {
     "name": "stderr",
     "output_type": "stream",
     "text": [
      "C:\\Users\\daa50\\AppData\\Local\\conda\\conda\\envs\\opt\\lib\\site-packages\\cvxpy\\problems\\problem.py:781: RuntimeWarning: overflow encountered in long_scalars\n",
      "  if self.max_big_small_squared < big*small**2:\n",
      "C:\\Users\\daa50\\AppData\\Local\\conda\\conda\\envs\\opt\\lib\\site-packages\\cvxpy\\problems\\problem.py:782: RuntimeWarning: overflow encountered in long_scalars\n",
      "  self.max_big_small_squared = big*small**2\n"
     ]
    },
    {
     "name": "stdout",
     "output_type": "stream",
     "text": [
      "-----------------------------------------------------------------\n",
      "           OSQP v0.5.0  -  Operator Splitting QP Solver\n",
      "              (c) Bartolomeo Stellato,  Goran Banjac\n",
      "        University of Oxford  -  Stanford University 2018\n",
      "-----------------------------------------------------------------\n",
      "problem:  variables n = 5000, constraints m = 5250\n",
      "          nnz(P) + nnz(A) = 634948\n",
      "settings: linear system solver = qdldl,\n",
      "          eps_abs = 1.0e-04, eps_rel = 1.0e-04,\n",
      "          eps_prim_inf = 1.0e-04, eps_dual_inf = 1.0e-04,\n",
      "          rho = 1.00e-01 (adaptive),\n",
      "          sigma = 1.00e-06, alpha = 1.60, max_iter = 10000\n",
      "          check_termination: on (interval 25),\n",
      "          scaling: on, scaled_termination: off\n",
      "          warm start: on, polish: on\n",
      "\n",
      "objective    pri res    dua res    rho        time\n",
      "   1  -2.0000e+04   8.00e+00   1.42e+05   1.00e-01   2.37e-01s\n",
      " 200   1.0527e+02   1.29e-02   3.39e-03   1.00e-01   6.08e-01s\n",
      " 400   1.0557e+02   4.89e-03   1.10e-03   1.00e-01   9.79e-01s\n",
      " 600   1.0570e+02   2.53e-03   5.50e-04   1.00e-01   1.35e+00s\n",
      " 800   1.0582e+02   1.59e-03   4.38e-04   1.00e-01   1.73e+00s\n",
      "1000   1.0582e+02   9.70e-04   2.39e-04   1.00e-01   2.09e+00s\n",
      "1100   1.0583e+02   7.44e-04   1.94e-04   1.00e-01   2.27e+00s\n",
      "\n",
      "status:               solved\n",
      "solution polish:      unsuccessful\n",
      "number of iterations: 1100\n",
      "optimal objective:    105.8312\n",
      "run time:             2.45e+00s\n",
      "optimal rho estimate: 3.20e-02\n",
      "\n"
     ]
    }
   ],
   "source": [
    "vx = cvx.Variable(n)\n",
    "objective = cvx.Minimize(cvx.norm(vx, 1))\n",
    "constraints = [A*vx == b]\n",
    "prob = cvx.Problem(objective, constraints)\n",
    "result = prob.solve(verbose=True)"
   ]
  },
  {
   "cell_type": "code",
   "execution_count": 7,
   "metadata": {},
   "outputs": [],
   "source": [
    "x = np.array(vx.value)\n",
    "x = np.squeeze(x)\n",
    "sig = scipy.fftpack.idct(x, norm='ortho', axis=0)"
   ]
  },
  {
   "cell_type": "code",
   "execution_count": 18,
   "metadata": {},
   "outputs": [
    {
     "data": {
      "text/plain": [
       "(0, 0.05)"
      ]
     },
     "execution_count": 18,
     "metadata": {},
     "output_type": "execute_result"
    },
    {
     "data": {
      "image/png": "[encoded data removed]",
      "text/plain": [
       "<Figure size 432x288 with 1 Axes>"
      ]
     },
     "metadata": {
      "needs_background": "light"
     },
     "output_type": "display_data"
    }
   ],
   "source": [
    "plt.plot(t, sig)\n",
    "plt.plot(t[k], b, 'ko', markersize=3, color='red')  # plot data to use to reconstruct\n",
    "plt.xlim((0,0.05))"
   ]
  },
  {
   "cell_type": "code",
   "execution_count": 22,
   "metadata": {},
   "outputs": [
    {
     "data": {
      "text/plain": [
       "[<matplotlib.lines.Line2D at 0x18f67912da0>]"
      ]
     },
     "execution_count": 22,
     "metadata": {},
     "output_type": "execute_result"
    },
    {
     "data": {
      "image/png": "[encoded data removed]",
      "text/plain": [
       "<Figure size 432x288 with 1 Axes>"
      ]
     },
     "metadata": {
      "needs_background": "light"
     },
     "output_type": "display_data"
    }
   ],
   "source": [
    "freq = np.fft.fftfreq(2500)\n",
    "D = np.fft.fft(x)\n",
    "plt.plot(freq, D.real**2+D.imag**2)"
   ]
  },
  {
   "cell_type": "code",
   "execution_count": null,
   "metadata": {},
   "outputs": [],
   "source": []
  }
 ],
 "metadata": {
  "kernelspec": {
   "display_name": "Python 3",
   "language": "python",
   "name": "python3"
  },
  "language_info": {
   "codemirror_mode": {
    "name": "ipython",
    "version": 3
   },
   "file_extension": ".py",
   "mimetype": "text/x-python",
   "name": "python",
   "nbconvert_exporter": "python",
   "pygments_lexer": "ipython3",
   "version": "3.7.3"
  }
 },
 "nbformat": 4,
 "nbformat_minor": 2
}
