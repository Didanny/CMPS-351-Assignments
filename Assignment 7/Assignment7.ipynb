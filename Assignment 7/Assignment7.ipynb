{
 "cells": [
  {
   "cell_type": "markdown",
   "metadata": {},
   "source": [
    "Danny Abraham\n",
    "<center><h1>CMPS 351</h1></center>\n",
    "<center><h2>Assignment 7</h2></center>"
   ]
  },
  {
   "cell_type": "code",
   "execution_count": 1,
   "metadata": {},
   "outputs": [],
   "source": [
    "import numpy as np\n",
    "from numpy import linalg as la\n",
    "from scipy.optimize import linprog as lp\n",
    "import matplotlib.pyplot as plt\n",
    "import scipy.fftpack\n",
    "import random\n",
    "import cvxpy as cvx"
   ]
  },
  {
   "cell_type": "markdown",
   "metadata": {},
   "source": [
    "## LP Solution\n",
    "---"
   ]
  },
  {
   "cell_type": "markdown",
   "metadata": {},
   "source": [
    "#### Lagrangian\n",
    "\n",
    "<img src='1_lagrangian.png'>\n",
    "\n",
    "#### Primal Problem\n",
    "\n",
    "<img src='1_primal.png'>\n",
    "\n",
    "#### Primal Problem Matrix Notation\n",
    "\n",
    "<img src='1_primal2.png'>\n",
    "\n",
    "#### Dual Problem\n",
    "\n",
    "<img src='1_dual.png'>"
   ]
  },
  {
   "cell_type": "markdown",
   "metadata": {},
   "source": [
    "#### KKT Conditions"
   ]
  },
  {
   "cell_type": "code",
   "execution_count": 120,
   "metadata": {},
   "outputs": [],
   "source": [
    "def kkt(x, l):\n",
    "    kkt = []\n",
    "    kkt.append(-x[0] <= -2)\n",
    "    kkt.append(-x[0] - 2*x[1] <= -5)\n",
    "    kkt.append(-2*x[0] -5*x[1] <= -8)\n",
    "    kkt.append((l >= 0).all())\n",
    "    kkt.append(l[0]*(-x[0] + 2) == 0)\n",
    "    kkt.append(l[1]*(-x[0] - 2*x[1] + 5) == 0)\n",
    "    kkt.append(l[2]*(-2*x[0] -5*x[1] + 8) == 0)\n",
    "    return kkt"
   ]
  },
  {
   "cell_type": "code",
   "execution_count": 124,
   "metadata": {},
   "outputs": [
    {
     "data": {
      "text/plain": [
       "[True, True, True, True, True, True, True]"
      ]
     },
     "execution_count": 124,
     "metadata": {},
     "output_type": "execute_result"
    }
   ],
   "source": [
    "x = np.array([2, 1.5])\n",
    "l = np.array([1, 4, 0])\n",
    "kkt(x, l)"
   ]
  },
  {
   "cell_type": "code",
   "execution_count": 129,
   "metadata": {},
   "outputs": [
    {
     "name": "stdout",
     "output_type": "stream",
     "text": [
      "0.0\n"
     ]
    }
   ],
   "source": [
    "p = np.array([5, 8])\n",
    "b = np.array([-2, -5, -8])\n",
    "\n",
    "duality_gap = p@x + b@l\n",
    "print(duality_gap)"
   ]
  },
  {
   "cell_type": "markdown",
   "metadata": {},
   "source": [
    "The duality gap is equal to zero, both problems have the same optimal value"
   ]
  },
  {
   "cell_type": "markdown",
   "metadata": {},
   "source": [
    "#### Perturbation\n",
    "\n",
    "Considering a perturbation of the right hand side of the first constraint to -1.9. We are given l\\[0\\] as 1. Therefor we expect a change of +0.1 in the constraint to cause a change of -0.1 in the optimal value which will be 21.9 \n",
    "\n",
    "Considering a perturbation of the right hand side of the third constraint to -8.1. We are given l\\[1\\] as 0. Therefor we expect a change of +0.1 in the constraint to cause a no change in the optimal value which will still be 22.0 "
   ]
  },
  {
   "cell_type": "markdown",
   "metadata": {},
   "source": [
    "## Contact Problem in 1D\n",
    "---"
   ]
  },
  {
   "cell_type": "code",
   "execution_count": 7,
   "metadata": {},
   "outputs": [],
   "source": [
    "k = np.array([1, 10, 2])\n",
    "l = 1\n",
    "w = 0.2"
   ]
  },
  {
   "cell_type": "code",
   "execution_count": 8,
   "metadata": {},
   "outputs": [],
   "source": [
    "def f_obj(x):\n",
    "    return 0.5*k[0]*(x[0]**2) + 0.5*k[1]*((x[1] - x[0])**2) + 0.5*k[2]*((l - x[1])**2)"
   ]
  },
  {
   "cell_type": "code",
   "execution_count": 9,
   "metadata": {},
   "outputs": [],
   "source": [
    "x = cvx.Variable(2)"
   ]
  },
  {
   "cell_type": "code",
   "execution_count": 10,
   "metadata": {},
   "outputs": [],
   "source": [
    "def constraints_(x):\n",
    "    c = []\n",
    "    c.append(x[0] >= 0.5*w)\n",
    "    c.append(x[1] - x[0] >= w)\n",
    "    c.append(l - x[1] >= 0.5*w)\n",
    "    return c"
   ]
  },
  {
   "cell_type": "code",
   "execution_count": 11,
   "metadata": {},
   "outputs": [
    {
     "data": {
      "text/plain": [
       "0.4133333333333331"
      ]
     },
     "execution_count": 11,
     "metadata": {},
     "output_type": "execute_result"
    }
   ],
   "source": [
    "constraints = constraints_(x)\n",
    "obj = cvx.Minimize(f_obj(x))\n",
    "prob = cvx.Problem(obj, constraints)\n",
    "prob.solve()"
   ]
  },
  {
   "cell_type": "code",
   "execution_count": 12,
   "metadata": {},
   "outputs": [
    {
     "data": {
      "text/plain": [
       "array([0.53333333, 0.73333333])"
      ]
     },
     "execution_count": 12,
     "metadata": {},
     "output_type": "execute_result"
    }
   ],
   "source": [
    "x.value"
   ]
  },
  {
   "cell_type": "code",
   "execution_count": 13,
   "metadata": {},
   "outputs": [
    {
     "name": "stdout",
     "output_type": "stream",
     "text": [
      "0.0\n",
      "1.4666666666666655\n",
      "0.0\n"
     ]
    }
   ],
   "source": [
    "for c in constraints:\n",
    "    print(c.dual_value)"
   ]
  },
  {
   "cell_type": "markdown",
   "metadata": {},
   "source": [
    "These multipliers represent the sesitivity of the objective function to a change in the width of the blocks"
   ]
  },
  {
   "cell_type": "code",
   "execution_count": 14,
   "metadata": {},
   "outputs": [],
   "source": [
    "c = np.array([2, 4])"
   ]
  },
  {
   "cell_type": "code",
   "execution_count": 15,
   "metadata": {},
   "outputs": [],
   "source": [
    "def f_obj_deform(x, w_):\n",
    "    return 0.5*k[0]*(x[0]**2) + 0.5*k[1]*((x[1] - x[0])**2) + 0.5*k[2]*((l - x[1])**2) \\\n",
    "            + (1/2*c[0])*((w_[0] + w_[1] - w)**2) \\\n",
    "            + (1/2*c[1])*((w_[2] + w_[3] - w)**2)"
   ]
  },
  {
   "cell_type": "code",
   "execution_count": 16,
   "metadata": {},
   "outputs": [],
   "source": [
    "x = cvx.Variable(2)\n",
    "w_ = cvx.Variable(4)"
   ]
  },
  {
   "cell_type": "code",
   "execution_count": 17,
   "metadata": {},
   "outputs": [],
   "source": [
    "def constraints_(x, w_):\n",
    "    c = []\n",
    "    c.append(x[0] >= w_[0])\n",
    "    c.append(x[1] - x[0] >= w_[1] + w_[2])\n",
    "    c.append(l - x[1] >= w_[3])\n",
    "    c.append(w_[0] <= 0.1)\n",
    "    c.append(w_[1] <= 0.1)\n",
    "    c.append(w_[2] <= 0.1)\n",
    "    c.append(w_[3] <= 0.1)\n",
    "    c.append(w_[0] >= 0)\n",
    "    c.append(w_[1] >= 0)\n",
    "    c.append(w_[2] >= 0)\n",
    "    c.append(w_[3] >= 0)\n",
    "    return c"
   ]
  },
  {
   "cell_type": "code",
   "execution_count": 18,
   "metadata": {},
   "outputs": [
    {
     "data": {
      "text/plain": [
       "0.32370370370370366"
      ]
     },
     "execution_count": 18,
     "metadata": {},
     "output_type": "execute_result"
    }
   ],
   "source": [
    "constraints = constraints_(x, w_)\n",
    "obj = cvx.Minimize(f_obj_deform(x, w_))\n",
    "prob = cvx.Problem(obj, constraints)\n",
    "prob.solve()"
   ]
  },
  {
   "cell_type": "code",
   "execution_count": 19,
   "metadata": {},
   "outputs": [
    {
     "data": {
      "text/plain": [
       "array([0.61481481, 0.69259259])"
      ]
     },
     "execution_count": 19,
     "metadata": {},
     "output_type": "execute_result"
    }
   ],
   "source": [
    "x.value"
   ]
  },
  {
   "cell_type": "code",
   "execution_count": 20,
   "metadata": {},
   "outputs": [
    {
     "data": {
      "text/plain": [
       "array([0.1       , 0.01851852, 0.05925926, 0.1       ])"
      ]
     },
     "execution_count": 20,
     "metadata": {},
     "output_type": "execute_result"
    }
   ],
   "source": [
    "w_.value"
   ]
  },
  {
   "cell_type": "code",
   "execution_count": 21,
   "metadata": {},
   "outputs": [
    {
     "name": "stdout",
     "output_type": "stream",
     "text": [
      "0.0\n",
      "0.1629629629629629\n",
      "0.0\n",
      "0.1629629629629629\n",
      "0.0\n",
      "0.0\n",
      "0.1629629629629629\n",
      "0.0\n",
      "0.0\n",
      "0.0\n",
      "0.0\n"
     ]
    }
   ],
   "source": [
    "for c in constraints:\n",
    "    print(c.dual_value)"
   ]
  },
  {
   "cell_type": "markdown",
   "metadata": {},
   "source": [
    "## Image Reconstruction Revisited\n",
    "---"
   ]
  },
  {
   "cell_type": "code",
   "execution_count": 2,
   "metadata": {},
   "outputs": [
    {
     "data": {
      "image/png": "[encoded data removed]",
      "text/plain": [
       "<Figure size 432x288 with 2 Axes>"
      ]
     },
     "metadata": {},
     "output_type": "display_data"
    }
   ],
   "source": [
    "# Read a sample image\n",
    "U0 = plt.imread('bwicon.png')\n",
    "m, n = U0.shape\n",
    "\n",
    "# Create 50% mask of known pixels and use it to obscure the original\n",
    "np.random.seed(7592)                 # seed the randonm number generator (for repeatability)\n",
    "unknown = np.random.rand(m,n) < 0.5\n",
    "U1 = U0*(1-unknown) + 0.5 *unknown\n",
    "\n",
    "\n",
    "\n",
    "# Display images\n",
    "plt.figure(1)\n",
    "plt.subplot(1, 2, 1)\n",
    "plt.imshow(U0, cmap='gray')\n",
    "plt.title('Original image')\n",
    "plt.subplot(1, 2, 2)\n",
    "plt.imshow(U1, cmap='gray')\n",
    "plt.title('Obscured image')\n",
    "plt.show()"
   ]
  },
  {
   "cell_type": "code",
   "execution_count": 3,
   "metadata": {},
   "outputs": [],
   "source": [
    "ux, uy = U1.shape"
   ]
  },
  {
   "cell_type": "code",
   "execution_count": 4,
   "metadata": {},
   "outputs": [],
   "source": [
    "def L1_norm(u):\n",
    "    s = 0\n",
    "    for i in range(1, ux):\n",
    "        for j in range(1, uy):\n",
    "            s += abs(u[i][j] - u[i-1][j]) + abs((u[i][j] - u[i][j-1]))\n",
    "    return s"
   ]
  },
  {
   "cell_type": "code",
   "execution_count": 5,
   "metadata": {},
   "outputs": [],
   "source": [
    "B = np.zeros([ux*uy, ux*uy])\n",
    "for i in range(uy, ux*uy):\n",
    "    if i%uy != 0:\n",
    "        B[i][i] = 1\n",
    "        B[i][i-1] = -1 "
   ]
  },
  {
   "cell_type": "code",
   "execution_count": 6,
   "metadata": {},
   "outputs": [],
   "source": [
    "C = np.zeros([ux*uy, ux*uy])\n",
    "for i in range(uy, ux*uy):\n",
    "    if i%uy != 0:\n",
    "        C[i][i] = 1\n",
    "        C[i][i-uy] = -1 "
   ]
  },
  {
   "cell_type": "code",
   "execution_count": 7,
   "metadata": {},
   "outputs": [],
   "source": [
    "x = U1.flatten()"
   ]
  },
  {
   "cell_type": "code",
   "execution_count": 8,
   "metadata": {},
   "outputs": [],
   "source": [
    "B_ub = np.zeros(4*ux*uy)\n",
    "A_ub = np.zeros([4*ux*uy, 3*ux*uy])\n",
    "\n",
    "A_ub[0:ux*uy, 0:ux*uy] = B\n",
    "A_ub[ux*uy:2*ux*uy, 0:ux*uy] = -B\n",
    "A_ub[0:ux*uy, ux*uy:2*ux*uy] = -np.identity(ux*uy)\n",
    "A_ub[ux*uy:2*ux*uy, ux*uy:2*ux*uy] = -np.identity(ux*uy)\n",
    "\n",
    "A_ub[2*ux*uy:3*ux*uy, 0:ux*uy] = C\n",
    "A_ub[3*ux*uy:4*ux*uy, 0:ux*uy] = -C\n",
    "A_ub[2*ux*uy:3*ux*uy, 2*ux*uy:3*ux*uy] = -np.identity(ux*uy)\n",
    "A_ub[3*ux*uy:4*ux*uy, 2*ux*uy:3*ux*uy] = -np.identity(ux*uy)"
   ]
  },
  {
   "cell_type": "code",
   "execution_count": 9,
   "metadata": {},
   "outputs": [],
   "source": [
    "A_eq = np.zeros([ux*uy,3*ux*uy])\n",
    "B_eq = np.zeros([ux*uy])\n",
    "unknown2 = unknown.flatten()\n",
    "x = U1.flatten()\n",
    "for i in range(ux*uy):\n",
    "    if not unknown2[i]:\n",
    "        A_eq[i][i] = 1\n",
    "        B_eq[i] = x[i]"
   ]
  },
  {
   "cell_type": "code",
   "execution_count": 10,
   "metadata": {},
   "outputs": [],
   "source": [
    "obj = np.zeros(3*ux*uy)\n",
    "obj[ux*uy:] = np.ones(2*ux*uy)"
   ]
  },
  {
   "cell_type": "code",
   "execution_count": 12,
   "metadata": {},
   "outputs": [
    {
     "name": "stdout",
     "output_type": "stream",
     "text": [
      "Primal Feasibility  Dual Feasibility    Duality Gap         Step             Path Parameter      Objective          \n",
      "1.0                 1.0                 1.0                 -                1.0                 6018.0              \n",
      "0.6375661631591     0.6375661631591     0.6375661631591     0.3758205487603  0.6375661631591     3425.658411165      \n",
      "0.2727436078755     0.2727436078755     0.2727436078755     0.5836467223876  0.2727436078755     1629.29439874       \n",
      "0.1054429048606     0.1054429048606     0.1054429048606     0.6312325037131  0.1054429048606     994.0502499014      \n",
      "0.01791546604316    0.01791546604317    0.01791546604317    0.8391015706486  0.01791546604317    710.1659140639      \n",
      "3.634504843227e-05  3.634504843231e-05  3.634504843226e-05  0.9997322587388  3.634504843236e-05  656.117741571       \n",
      "1.818497659929e-09  1.818497680763e-09  1.818497711278e-09  0.9999499658404  1.818497699082e-09  656.0000058909      \n",
      "Optimization terminated successfully.\n",
      "         Current function value: 656.000006  \n",
      "         Iterations: 6\n"
     ]
    }
   ],
   "source": [
    "res = lp(obj, A_eq=A_eq, b_eq=B_eq, A_ub=A_ub, b_ub=B_ub, options={\"disp\": True}, method='interior-point')"
   ]
  },
  {
   "cell_type": "code",
   "execution_count": 13,
   "metadata": {},
   "outputs": [
    {
     "name": "stdout",
     "output_type": "stream",
     "text": [
      "     con: array([0., 0., 0., ..., 0., 0., 0.])\n",
      "     fun: 656.0000058908898\n",
      " message: 'Optimization terminated successfully.'\n",
      "     nit: 6\n",
      "   slack: array([5.74883491e-10, 5.74883491e-10, 5.74883491e-10, ...,\n",
      "       1.21679381e-09, 1.19136634e-09, 1.11164683e-09])\n",
      "  status: 0\n",
      " success: True\n",
      "       x: array([4.74686056e-01, 1.00000000e+00, 1.00000000e+00, ...,\n",
      "       1.14668589e-09, 1.14231159e-09, 1.13962290e-09])\n"
     ]
    }
   ],
   "source": [
    "print(res)"
   ]
  },
  {
   "cell_type": "code",
   "execution_count": 14,
   "metadata": {},
   "outputs": [],
   "source": [
    "x = res.x[:ux*uy]\n",
    "x = x.reshape([ux,uy])"
   ]
  },
  {
   "cell_type": "code",
   "execution_count": 15,
   "metadata": {},
   "outputs": [
    {
     "data": {
      "text/plain": [
       "<matplotlib.image.AxesImage at 0x24a397fe358>"
      ]
     },
     "execution_count": 15,
     "metadata": {},
     "output_type": "execute_result"
    },
    {
     "data": {
      "image/png": "[encoded data removed]",
      "text/plain": [
       "<Figure size 432x288 with 1 Axes>"
      ]
     },
     "metadata": {},
     "output_type": "display_data"
    }
   ],
   "source": [
    "plt.imshow(x, cmap='gray')"
   ]
  },
  {
   "cell_type": "markdown",
   "metadata": {},
   "source": [
    "## Compressed Sensing\n",
    "---"
   ]
  },
  {
   "cell_type": "code",
   "execution_count": 25,
   "metadata": {},
   "outputs": [
    {
     "data": {
      "image/png": "[encoded data removed]",
      "text/plain": [
       "<Figure size 737.28x184.32 with 1 Axes>"
      ]
     },
     "metadata": {},
     "output_type": "display_data"
    }
   ],
   "source": [
    "n = 2500\n",
    "m = 250\n",
    "fs = 8192                              # sampling frequency \n",
    "t = np.arange(n) / fs\n",
    "y = ( np.sin(2*np.pi*521*t) + np.sin(2*np.pi*1233*t) ) /2.0\n",
    "\n",
    "D = scipy.fftpack.dct(np.eye(n), norm='ortho').transpose()\n",
    "k = sorted(random.sample(range(n), m)) # Pick m random points for the reconstruction\n",
    "A = D[k, :]\n",
    "b = y[k]\n",
    "\n",
    "plt.figure(figsize=(10.24, 2.56))      # change aspect ratio of plot \n",
    "plt.plot(t[k], b, 'ko', markersize=1)  # plot data to use to reconstruct\n",
    "plt.show()"
   ]
  },
  {
   "cell_type": "markdown",
   "metadata": {},
   "source": [
    "#### L2 Norm"
   ]
  },
  {
   "cell_type": "code",
   "execution_count": 38,
   "metadata": {},
   "outputs": [
    {
     "name": "stderr",
     "output_type": "stream",
     "text": [
      "C:\\Users\\Danny\\Anaconda3\\lib\\site-packages\\cvxpy\\problems\\problem.py:781: RuntimeWarning: overflow encountered in long_scalars\n",
      "  if self.max_big_small_squared < big*small**2:\n"
     ]
    },
    {
     "name": "stdout",
     "output_type": "stream",
     "text": [
      "\n",
      "ECOS 2.0.4 - (C) embotech GmbH, Zurich Switzerland, 2012-15. Web: www.embotech.com/ECOS\n",
      "\n",
      "It     pcost       dcost      gap   pres   dres    k/t    mu     step   sigma     IR    |   BT\n",
      " 0  +0.000e+00  -0.000e+00  +1e+03  2e-01  2e-06  1e+00  7e+02    ---    ---    1  1  - |  -  - \n",
      " 1  +7.772e-03  +8.045e-02  +2e+01  4e-03  3e-08  9e-02  1e+01  0.9849  1e-04   3  2  2 |  0  0\n",
      " 2  +4.133e+00  +4.299e+00  +4e+00  6e-04  4e-09  2e-01  2e+00  0.8491  2e-02   4  5  5 |  0  0\n",
      " 3  +7.658e+00  +7.679e+00  +1e-01  2e-05  6e-11  2e-02  6e-02  0.9890  9e-03   4  6  6 |  0  0\n",
      " 4  +7.767e+00  +7.767e+00  +1e-03  3e-07  9e-13  2e-04  7e-04  0.9890  1e-04   4  4  4 |  0  0\n",
      " 5  +7.768e+00  +7.768e+00  +1e-05  5e-09  2e-14  3e-06  8e-06  0.9890  1e-04   4  3  3 |  0  0\n",
      " 6  +7.768e+00  +7.768e+00  +1e-07  2e-10  2e-16  3e-08  9e-08  0.9890  1e-04   4  3  3 |  0  0\n",
      " 7  +7.768e+00  +7.768e+00  +2e-09  3e-11  1e-17  3e-10  9e-10  0.9890  1e-04   4  2  2 |  0  0\n",
      "\n",
      "OPTIMAL (within feastol=3.1e-11, reltol=2.0e-10, abstol=1.6e-09).\n",
      "Runtime: 4.468852 seconds.\n",
      "\n"
     ]
    }
   ],
   "source": [
    "vx = cvx.Variable(n)\n",
    "objective = cvx.Minimize(cvx.norm(vx, 2))\n",
    "constraints = [A*vx == b]\n",
    "prob = cvx.Problem(objective, constraints)\n",
    "result = prob.solve(verbose=True)"
   ]
  },
  {
   "cell_type": "code",
   "execution_count": 39,
   "metadata": {},
   "outputs": [],
   "source": [
    "x = np.array(vx.value)\n",
    "x = np.squeeze(x)\n",
    "sig = scipy.fftpack.idct(x, norm='ortho', axis=0)"
   ]
  },
  {
   "cell_type": "code",
   "execution_count": 40,
   "metadata": {},
   "outputs": [
    {
     "data": {
      "text/plain": [
       "(0, 0.05)"
      ]
     },
     "execution_count": 40,
     "metadata": {},
     "output_type": "execute_result"
    },
    {
     "data": {
      "image/png": "[encoded data removed]",
      "text/plain": [
       "<Figure size 432x288 with 1 Axes>"
      ]
     },
     "metadata": {},
     "output_type": "display_data"
    }
   ],
   "source": [
    "plt.plot(t, sig)\n",
    "plt.plot(t[k], b, 'ko', markersize=3, color='red')  # plot data to use to reconstruct\n",
    "plt.xlim((0,0.05))"
   ]
  },
  {
   "cell_type": "markdown",
   "metadata": {},
   "source": [
    "#### L1 Norm"
   ]
  },
  {
   "cell_type": "code",
   "execution_count": 41,
   "metadata": {},
   "outputs": [
    {
     "name": "stderr",
     "output_type": "stream",
     "text": [
      "C:\\Users\\Danny\\Anaconda3\\lib\\site-packages\\cvxpy\\problems\\problem.py:781: RuntimeWarning: overflow encountered in long_scalars\n",
      "  if self.max_big_small_squared < big*small**2:\n",
      "C:\\Users\\Danny\\Anaconda3\\lib\\site-packages\\cvxpy\\problems\\problem.py:782: RuntimeWarning: overflow encountered in long_scalars\n",
      "  self.max_big_small_squared = big*small**2\n"
     ]
    },
    {
     "name": "stdout",
     "output_type": "stream",
     "text": [
      "-----------------------------------------------------------------\n",
      "           OSQP v0.5.0  -  Operator Splitting QP Solver\n",
      "              (c) Bartolomeo Stellato,  Goran Banjac\n",
      "        University of Oxford  -  Stanford University 2018\n",
      "-----------------------------------------------------------------\n",
      "problem:  variables n = 5000, constraints m = 5250\n",
      "          nnz(P) + nnz(A) = 634948\n",
      "settings: linear system solver = qdldl,\n",
      "          eps_abs = 1.0e-04, eps_rel = 1.0e-04,\n",
      "          eps_prim_inf = 1.0e-04, eps_dual_inf = 1.0e-04,\n",
      "          rho = 1.00e-01 (adaptive),\n",
      "          sigma = 1.00e-06, alpha = 1.60, max_iter = 10000\n",
      "          check_termination: on (interval 25),\n",
      "          scaling: on, scaled_termination: off\n",
      "          warm start: on, polish: on\n",
      "\n",
      "objective    pri res    dua res    rho        time\n",
      "   1  -2.0000e+04   8.00e+00   1.39e+05   1.00e-01   4.61e-01s\n",
      " 200   1.0758e+02   1.17e-02   4.31e-03   1.00e-01   1.28e+00s\n",
      " 400   1.0819e+02   4.08e-03   1.10e-03   1.00e-01   1.88e+00s\n",
      " 600   1.0834e+02   2.19e-03   5.39e-04   1.00e-01   2.44e+00s\n",
      " 800   1.0838e+02   1.14e-03   4.00e-04   1.00e-01   3.00e+00s\n",
      "1000   1.0839e+02   7.74e-04   2.10e-04   1.00e-01   3.54e+00s\n",
      "1025   1.0840e+02   8.46e-04   1.88e-04   1.00e-01   3.60e+00s\n",
      "\n",
      "status:               solved\n",
      "solution polish:      unsuccessful\n",
      "number of iterations: 1025\n",
      "optimal objective:    108.3985\n",
      "run time:             3.94e+00s\n",
      "optimal rho estimate: 3.58e-02\n",
      "\n"
     ]
    }
   ],
   "source": [
    "vx = cvx.Variable(n)\n",
    "objective = cvx.Minimize(cvx.norm(vx, 1))\n",
    "constraints = [A*vx == b]\n",
    "prob = cvx.Problem(objective, constraints)\n",
    "result = prob.solve(verbose=True)"
   ]
  },
  {
   "cell_type": "code",
   "execution_count": 42,
   "metadata": {},
   "outputs": [],
   "source": [
    "x = np.array(vx.value)\n",
    "x = np.squeeze(x)\n",
    "sig = scipy.fftpack.idct(x, norm='ortho', axis=0)"
   ]
  },
  {
   "cell_type": "code",
   "execution_count": 43,
   "metadata": {},
   "outputs": [
    {
     "data": {
      "text/plain": [
       "(0, 0.05)"
      ]
     },
     "execution_count": 43,
     "metadata": {},
     "output_type": "execute_result"
    },
    {
     "data": {
      "image/png": "[encoded data removed]",
      "text/plain": [
       "<Figure size 432x288 with 1 Axes>"
      ]
     },
     "metadata": {},
     "output_type": "display_data"
    }
   ],
   "source": [
    "plt.plot(t, sig)\n",
    "plt.plot(t[k], b, 'ko', markersize=3, color='red')  # plot data to use to reconstruct\n",
    "plt.xlim((0,0.05))"
   ]
  }
 ],
 "metadata": {
  "kernelspec": {
   "display_name": "Python 3",
   "language": "python",
   "name": "python3"
  },
  "language_info": {
   "codemirror_mode": {
    "name": "ipython",
    "version": 3
   },
   "file_extension": ".py",
   "mimetype": "text/x-python",
   "name": "python",
   "nbconvert_exporter": "python",
   "pygments_lexer": "ipython3",
   "version": "3.6.5"
  }
 },
 "nbformat": 4,
 "nbformat_minor": 2
}
